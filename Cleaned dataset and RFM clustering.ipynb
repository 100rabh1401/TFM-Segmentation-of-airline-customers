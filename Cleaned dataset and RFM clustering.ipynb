{
 "cells": [
  {
   "cell_type": "code",
   "execution_count": 1,
   "metadata": {
    "collapsed": true
   },
   "outputs": [],
   "source": [
    "import findspark"
   ]
  },
  {
   "cell_type": "code",
   "execution_count": 2,
   "metadata": {
    "collapsed": true
   },
   "outputs": [],
   "source": [
    "findspark.init()"
   ]
  },
  {
   "cell_type": "code",
   "execution_count": 3,
   "metadata": {
    "collapsed": false
   },
   "outputs": [],
   "source": [
    "import pyspark\n",
    "sc = pyspark.SparkContext()"
   ]
  },
  {
   "cell_type": "code",
   "execution_count": 4,
   "metadata": {
    "collapsed": false
   },
   "outputs": [
    {
     "data": {
      "text/plain": [
       "<pyspark.context.SparkContext at 0x10249f410>"
      ]
     },
     "execution_count": 4,
     "metadata": {},
     "output_type": "execute_result"
    }
   ],
   "source": [
    "sc"
   ]
  },
  {
   "cell_type": "code",
   "execution_count": 6,
   "metadata": {
    "collapsed": false
   },
   "outputs": [
    {
     "data": {
      "text/plain": [
       "u'/Users/Clarita/Desktop/tfm'"
      ]
     },
     "execution_count": 6,
     "metadata": {},
     "output_type": "execute_result"
    }
   ],
   "source": [
    "pwd"
   ]
  },
  {
   "cell_type": "code",
   "execution_count": 5,
   "metadata": {
    "collapsed": true
   },
   "outputs": [],
   "source": [
    "from pyspark.sql import SQLContext\n",
    "from pyspark.sql.types import *"
   ]
  },
  {
   "cell_type": "code",
   "execution_count": 6,
   "metadata": {
    "collapsed": true
   },
   "outputs": [],
   "source": [
    "sqlContext = SQLContext(sc)"
   ]
  },
  {
   "cell_type": "markdown",
   "metadata": {},
   "source": [
    "# Exploring and analysing the dataset"
   ]
  },
  {
   "cell_type": "code",
   "execution_count": 7,
   "metadata": {
    "collapsed": true
   },
   "outputs": [],
   "source": [
    "df = sqlContext.read.csv('marketing_pax.csv', header=True, sep='^', inferSchema=True)"
   ]
  },
  {
   "cell_type": "code",
   "execution_count": 13,
   "metadata": {
    "collapsed": true
   },
   "outputs": [
    {
     "data": {
      "text/plain": [
       "[('rloc', 'string'),\n",
       " ('full_name', 'string'),\n",
       " ('gender', 'string'),\n",
       " ('age', 'int'),\n",
       " ('date_of_birth', 'timestamp'),\n",
       " ('document_type', 'string'),\n",
       " ('document_number', 'string'),\n",
       " ('document_country', 'string'),\n",
       " ('nationality', 'string'),\n",
       " ('fqtv_data', 'string'),\n",
       " ('general_status', 'string'),\n",
       " ('boarding_status', 'string'),\n",
       " ('acceptance_status', 'string'),\n",
       " ('bag_status', 'string'),\n",
       " ('customer_accepted', 'string'),\n",
       " ('checkin_location', 'string'),\n",
       " ('boarded_in_all_legs_flag', 'boolean'),\n",
       " ('cabin_code', 'string'),\n",
       " ('booking_class_code', 'string'),\n",
       " ('airline_code', 'string'),\n",
       " ('flight_number', 'string'),\n",
       " ('departure_date_leg', 'timestamp'),\n",
       " ('quality_index', 'double'),\n",
       " ('creation_date', 'timestamp'),\n",
       " ('advance_purchase', 'int'),\n",
       " ('creator_office_id', 'string'),\n",
       " ('creator_iata_number', 'int'),\n",
       " ('creator_gds_code', 'string'),\n",
       " ('creator_city_code', 'string'),\n",
       " ('creator_lat', 'double'),\n",
       " ('creator_lon', 'double'),\n",
       " ('creator_country_code', 'string'),\n",
       " ('creator_continent_name', 'string'),\n",
       " ('creator_channel_code', 'string'),\n",
       " ('booking_status_code', 'string'),\n",
       " ('cabin_code_seg', 'string'),\n",
       " ('booking_class_code_seg', 'string'),\n",
       " ('pos_office_id', 'string'),\n",
       " ('pos_iata_number', 'int'),\n",
       " ('pos_gds_code', 'string'),\n",
       " ('pos_city_code', 'string'),\n",
       " ('pos_lat', 'double'),\n",
       " ('pos_lon', 'double'),\n",
       " ('pos_country_code', 'string'),\n",
       " ('pos_continent_code', 'string'),\n",
       " ('pos_channel_code', 'string'),\n",
       " ('board_point', 'string'),\n",
       " ('board_lat', 'double'),\n",
       " ('board_lon', 'double'),\n",
       " ('board_country_code', 'string'),\n",
       " ('board_continent_code', 'string'),\n",
       " ('off_point', 'string'),\n",
       " ('off_lat', 'double'),\n",
       " ('off_lon', 'double'),\n",
       " ('off_country_code', 'string'),\n",
       " ('off_continent_code', 'string'),\n",
       " ('distance_seg', 'double'),\n",
       " ('route', 'string'),\n",
       " ('network', 'string'),\n",
       " ('airline_code_seg', 'string'),\n",
       " ('flight_number_seg', 'string'),\n",
       " ('flight_type', 'string'),\n",
       " ('revenue_amount_seg', 'double'),\n",
       " ('emd_count', 'int'),\n",
       " ('emd_amount', 'double'),\n",
       " ('fuel_surcharge_amount_seg', 'double')]"
      ]
     },
     "execution_count": 13,
     "metadata": {},
     "output_type": "execute_result"
    }
   ],
   "source": [
    "df.dtypes"
   ]
  },
  {
   "cell_type": "code",
   "execution_count": 15,
   "metadata": {
    "collapsed": false
   },
   "outputs": [
    {
     "data": {
      "text/plain": [
       "9546302"
      ]
     },
     "execution_count": 15,
     "metadata": {},
     "output_type": "execute_result"
    }
   ],
   "source": [
    "df.count()"
   ]
  },
  {
   "cell_type": "code",
   "execution_count": 16,
   "metadata": {
    "collapsed": true
   },
   "outputs": [
    {
     "data": {
      "text/plain": [
       "Row(rloc=u'60Z666', full_name=u'/MUZASDQUE', gender=u'F', age=None, date_of_birth=None, document_type=None, document_number=None, document_country=None, nationality=None, fqtv_data=u'016037921MK/BXGE/', general_status=u'FD', boarding_status=u'CL', acceptance_status=u'FI', bag_status=u'IG', customer_accepted=u'CAC', checkin_location=u'W', boarded_in_all_legs_flag=True, cabin_code=u'Y', booking_class_code=u'W', airline_code=u'XX', flight_number=u'2075', departure_date_leg=datetime.datetime(2013, 6, 23, 0, 0), quality_index=0.5, creation_date=datetime.datetime(2015, 5, 3, 0, 0), advance_purchase=49, creator_office_id=u'LEUXXMM42', creator_iata_number=56495383, creator_gds_code=u'XX', creator_city_code=u'LEU', creator_lat=42.338611, creator_lon=1.409167, creator_country_code=u'ES', creator_continent_name=u'Europe', creator_channel_code=u'E', booking_status_code=u'HK', cabin_code_seg=u'Y', booking_class_code_seg=u'W', pos_office_id=u'LEUXXMM42', pos_iata_number=56495383, pos_gds_code=u'M5', pos_city_code=u'LEU', pos_lat=42.338611, pos_lon=1.409167, pos_country_code=u'ES', pos_continent_code=u'Europe', pos_channel_code=u'E', board_point=u'MRV', board_lat=44.21028, board_lon=43.13528, board_country_code=u'RU', board_continent_code=u'Europe', off_point=u'BRU', off_lat=50.85045, off_lon=4.34878, off_country_code=u'BE', off_continent_code=u'Europe', distance_seg=2967.076044145874, route=u'BRU-MRV', network=u'Europe', airline_code_seg=u'XX', flight_number_seg=u'2075', flight_type=u'I', revenue_amount_seg=0.0, emd_count=None, emd_amount=None, fuel_surcharge_amount_seg=42.0)"
      ]
     },
     "execution_count": 16,
     "metadata": {},
     "output_type": "execute_result"
    }
   ],
   "source": [
    "df.head()"
   ]
  },
  {
   "cell_type": "code",
   "execution_count": 9,
   "metadata": {
    "collapsed": true
   },
   "outputs": [
    {
     "name": "stdout",
     "output_type": "stream",
     "text": [
      "root\n",
      " |-- rloc: string (nullable = true)\n",
      " |-- full_name: string (nullable = true)\n",
      " |-- gender: string (nullable = true)\n",
      " |-- age: integer (nullable = true)\n",
      " |-- date_of_birth: timestamp (nullable = true)\n",
      " |-- document_type: string (nullable = true)\n",
      " |-- document_number: string (nullable = true)\n",
      " |-- document_country: string (nullable = true)\n",
      " |-- nationality: string (nullable = true)\n",
      " |-- fqtv_data: string (nullable = true)\n",
      " |-- general_status: string (nullable = true)\n",
      " |-- boarding_status: string (nullable = true)\n",
      " |-- acceptance_status: string (nullable = true)\n",
      " |-- bag_status: string (nullable = true)\n",
      " |-- customer_accepted: string (nullable = true)\n",
      " |-- checkin_location: string (nullable = true)\n",
      " |-- boarded_in_all_legs_flag: boolean (nullable = true)\n",
      " |-- cabin_code: string (nullable = true)\n",
      " |-- booking_class_code: string (nullable = true)\n",
      " |-- airline_code: string (nullable = true)\n",
      " |-- flight_number: string (nullable = true)\n",
      " |-- departure_date_leg: timestamp (nullable = true)\n",
      " |-- quality_index: double (nullable = true)\n",
      " |-- creation_date: timestamp (nullable = true)\n",
      " |-- advance_purchase: integer (nullable = true)\n",
      " |-- creator_office_id: string (nullable = true)\n",
      " |-- creator_iata_number: integer (nullable = true)\n",
      " |-- creator_gds_code: string (nullable = true)\n",
      " |-- creator_city_code: string (nullable = true)\n",
      " |-- creator_lat: double (nullable = true)\n",
      " |-- creator_lon: double (nullable = true)\n",
      " |-- creator_country_code: string (nullable = true)\n",
      " |-- creator_continent_name: string (nullable = true)\n",
      " |-- creator_channel_code: string (nullable = true)\n",
      " |-- booking_status_code: string (nullable = true)\n",
      " |-- cabin_code_seg: string (nullable = true)\n",
      " |-- booking_class_code_seg: string (nullable = true)\n",
      " |-- pos_office_id: string (nullable = true)\n",
      " |-- pos_iata_number: integer (nullable = true)\n",
      " |-- pos_gds_code: string (nullable = true)\n",
      " |-- pos_city_code: string (nullable = true)\n",
      " |-- pos_lat: double (nullable = true)\n",
      " |-- pos_lon: double (nullable = true)\n",
      " |-- pos_country_code: string (nullable = true)\n",
      " |-- pos_continent_code: string (nullable = true)\n",
      " |-- pos_channel_code: string (nullable = true)\n",
      " |-- board_point: string (nullable = true)\n",
      " |-- board_lat: double (nullable = true)\n",
      " |-- board_lon: double (nullable = true)\n",
      " |-- board_country_code: string (nullable = true)\n",
      " |-- board_continent_code: string (nullable = true)\n",
      " |-- off_point: string (nullable = true)\n",
      " |-- off_lat: double (nullable = true)\n",
      " |-- off_lon: double (nullable = true)\n",
      " |-- off_country_code: string (nullable = true)\n",
      " |-- off_continent_code: string (nullable = true)\n",
      " |-- distance_seg: double (nullable = true)\n",
      " |-- route: string (nullable = true)\n",
      " |-- network: string (nullable = true)\n",
      " |-- airline_code_seg: string (nullable = true)\n",
      " |-- flight_number_seg: string (nullable = true)\n",
      " |-- flight_type: string (nullable = true)\n",
      " |-- revenue_amount_seg: double (nullable = true)\n",
      " |-- emd_count: integer (nullable = true)\n",
      " |-- emd_amount: double (nullable = true)\n",
      " |-- fuel_surcharge_amount_seg: double (nullable = true)\n",
      "\n"
     ]
    }
   ],
   "source": [
    "df.printSchema()"
   ]
  },
  {
   "cell_type": "code",
   "execution_count": 14,
   "metadata": {
    "collapsed": true
   },
   "outputs": [
    {
     "name": "stdout",
     "output_type": "stream",
     "text": [
      "+------+-------------+------+----+-------------+-------------+---------------+----------------+-----------+-----------------+--------------+---------------+-----------------+----------+-----------------+----------------+------------------------+----------+------------------+------------+-------------+--------------------+-------------+--------------------+----------------+-----------------+-------------------+----------------+-----------------+-----------+-----------+--------------------+----------------------+--------------------+-------------------+--------------+----------------------+-------------+---------------+------------+-------------+---------+--------+----------------+------------------+----------------+-----------+---------+---------+------------------+--------------------+---------+--------+--------+----------------+------------------+-----------------+-------+-------+----------------+-----------------+-----------+------------------+---------+----------+-------------------------+\n",
      "|  rloc|    full_name|gender| age|date_of_birth|document_type|document_number|document_country|nationality|        fqtv_data|general_status|boarding_status|acceptance_status|bag_status|customer_accepted|checkin_location|boarded_in_all_legs_flag|cabin_code|booking_class_code|airline_code|flight_number|  departure_date_leg|quality_index|       creation_date|advance_purchase|creator_office_id|creator_iata_number|creator_gds_code|creator_city_code|creator_lat|creator_lon|creator_country_code|creator_continent_name|creator_channel_code|booking_status_code|cabin_code_seg|booking_class_code_seg|pos_office_id|pos_iata_number|pos_gds_code|pos_city_code|  pos_lat| pos_lon|pos_country_code|pos_continent_code|pos_channel_code|board_point|board_lat|board_lon|board_country_code|board_continent_code|off_point| off_lat| off_lon|off_country_code|off_continent_code|     distance_seg|  route|network|airline_code_seg|flight_number_seg|flight_type|revenue_amount_seg|emd_count|emd_amount|fuel_surcharge_amount_seg|\n",
      "+------+-------------+------+----+-------------+-------------+---------------+----------------+-----------+-----------------+--------------+---------------+-----------------+----------+-----------------+----------------+------------------------+----------+------------------+------------+-------------+--------------------+-------------+--------------------+----------------+-----------------+-------------------+----------------+-----------------+-----------+-----------+--------------------+----------------------+--------------------+-------------------+--------------+----------------------+-------------+---------------+------------+-------------+---------+--------+----------------+------------------+----------------+-----------+---------+---------+------------------+--------------------+---------+--------+--------+----------------+------------------+-----------------+-------+-------+----------------+-----------------+-----------+------------------+---------+----------+-------------------------+\n",
      "|60Z666|   /MUZASDQUE|     F|null|         null|         null|           null|            null|       null|016037921MK/BXGE/|            FD|             CL|               FI|        IG|              CAC|               W|                    true|         Y|                 W|          XX|         2075|2013-06-23 00:00:...|          0.5|2015-05-03 00:00:...|              49|        LEUXXMM42|           56495383|              XX|              LEU|  42.338611|   1.409167|                  ES|                Europe|                   E|                 HK|             Y|                     W|    LEUXXMM42|       56495383|          M5|          LEU|42.338611|1.409167|              ES|            Europe|               E|        MRV| 44.21028| 43.13528|                RU|              Europe|      BRU|50.85045| 4.34878|              BE|            Europe|2967.076044145874|BRU-MRV| Europe|              XX|             2075|          I|               0.0|     null|      null|                     42.0|\n",
      "|612666|Z/MZFFUFGDGZQ|     M|null|         null|         null|           null|            null|       null|014452709MK/BXGE/|            FD|             CL|               FI|        IG|              CAC|            null|                    true|         Y|                 O|          XX|         9160|2014-04-01 00:00:...|          0.5|2016-03-23 00:00:...|               6|        LEUXXMM42|           56495383|              XX|              LEU|  42.338611|   1.409167|                  ES|                Europe|                   E|                 HK|             Y|                     O|    LEUXXMM42|       56495383|          44|          LEU|42.338611|1.409167|              ES|            Europe|               E|        BRU| 50.85045|  4.34878|                BE|              Europe|      LNZ|48.30639|14.28611|              AT|            Europe|769.5353415995593|BRU-LNZ| Europe|              XX|             9160|          I|             74.99|     null|      null|                    39.12|\n",
      "+------+-------------+------+----+-------------+-------------+---------------+----------------+-----------+-----------------+--------------+---------------+-----------------+----------+-----------------+----------------+------------------------+----------+------------------+------------+-------------+--------------------+-------------+--------------------+----------------+-----------------+-------------------+----------------+-----------------+-----------+-----------+--------------------+----------------------+--------------------+-------------------+--------------+----------------------+-------------+---------------+------------+-------------+---------+--------+----------------+------------------+----------------+-----------+---------+---------+------------------+--------------------+---------+--------+--------+----------------+------------------+-----------------+-------+-------+----------------+-----------------+-----------+------------------+---------+----------+-------------------------+\n",
      "only showing top 2 rows\n",
      "\n"
     ]
    }
   ],
   "source": [
    "df.show(2, truncate=True)"
   ]
  },
  {
   "cell_type": "code",
   "execution_count": 17,
   "metadata": {
    "collapsed": true
   },
   "outputs": [
    {
     "data": {
      "text/plain": [
       "(66,\n",
       " ['rloc',\n",
       "  'full_name',\n",
       "  'gender',\n",
       "  'age',\n",
       "  'date_of_birth',\n",
       "  'document_type',\n",
       "  'document_number',\n",
       "  'document_country',\n",
       "  'nationality',\n",
       "  'fqtv_data',\n",
       "  'general_status',\n",
       "  'boarding_status',\n",
       "  'acceptance_status',\n",
       "  'bag_status',\n",
       "  'customer_accepted',\n",
       "  'checkin_location',\n",
       "  'boarded_in_all_legs_flag',\n",
       "  'cabin_code',\n",
       "  'booking_class_code',\n",
       "  'airline_code',\n",
       "  'flight_number',\n",
       "  'departure_date_leg',\n",
       "  'quality_index',\n",
       "  'creation_date',\n",
       "  'advance_purchase',\n",
       "  'creator_office_id',\n",
       "  'creator_iata_number',\n",
       "  'creator_gds_code',\n",
       "  'creator_city_code',\n",
       "  'creator_lat',\n",
       "  'creator_lon',\n",
       "  'creator_country_code',\n",
       "  'creator_continent_name',\n",
       "  'creator_channel_code',\n",
       "  'booking_status_code',\n",
       "  'cabin_code_seg',\n",
       "  'booking_class_code_seg',\n",
       "  'pos_office_id',\n",
       "  'pos_iata_number',\n",
       "  'pos_gds_code',\n",
       "  'pos_city_code',\n",
       "  'pos_lat',\n",
       "  'pos_lon',\n",
       "  'pos_country_code',\n",
       "  'pos_continent_code',\n",
       "  'pos_channel_code',\n",
       "  'board_point',\n",
       "  'board_lat',\n",
       "  'board_lon',\n",
       "  'board_country_code',\n",
       "  'board_continent_code',\n",
       "  'off_point',\n",
       "  'off_lat',\n",
       "  'off_lon',\n",
       "  'off_country_code',\n",
       "  'off_continent_code',\n",
       "  'distance_seg',\n",
       "  'route',\n",
       "  'network',\n",
       "  'airline_code_seg',\n",
       "  'flight_number_seg',\n",
       "  'flight_type',\n",
       "  'revenue_amount_seg',\n",
       "  'emd_count',\n",
       "  'emd_amount',\n",
       "  'fuel_surcharge_amount_seg'])"
      ]
     },
     "execution_count": 17,
     "metadata": {},
     "output_type": "execute_result"
    }
   ],
   "source": [
    "len(df.columns), df.columns"
   ]
  },
  {
   "cell_type": "code",
   "execution_count": 12,
   "metadata": {
    "collapsed": false,
    "scrolled": true
   },
   "outputs": [
    {
     "name": "stdout",
     "output_type": "stream",
     "text": [
      "+------+----+\n",
      "|gender| age|\n",
      "+------+----+\n",
      "|     F|null|\n",
      "|     M|null|\n",
      "|     M|  33|\n",
      "|     F|  40|\n",
      "|     F|null|\n",
      "+------+----+\n",
      "only showing top 5 rows\n",
      "\n"
     ]
    }
   ],
   "source": [
    "df.select('gender', 'age').show(5)"
   ]
  },
  {
   "cell_type": "code",
   "execution_count": 18,
   "metadata": {
    "collapsed": false
   },
   "outputs": [
    {
     "name": "stdout",
     "output_type": "stream",
     "text": [
      "+------+\n",
      "|  rloc|\n",
      "+------+\n",
      "|60Z666|\n",
      "|612666|\n",
      "|818666|\n",
      "|827666|\n",
      "|8PD666|\n",
      "+------+\n",
      "only showing top 5 rows\n",
      "\n"
     ]
    }
   ],
   "source": [
    "df.select('rloc').show(5)"
   ]
  },
  {
   "cell_type": "code",
   "execution_count": 13,
   "metadata": {
    "collapsed": false
   },
   "outputs": [
    {
     "name": "stdout",
     "output_type": "stream",
     "text": [
      "+---------------+\n",
      "|Document_number|\n",
      "+---------------+\n",
      "|           null|\n",
      "|           null|\n",
      "|      39939WV44|\n",
      "|       5719T651|\n",
      "|           null|\n",
      "+---------------+\n",
      "only showing top 5 rows\n",
      "\n"
     ]
    }
   ],
   "source": [
    "df.select('Document_number').show(5)"
   ]
  },
  {
   "cell_type": "code",
   "execution_count": 10,
   "metadata": {
    "collapsed": false
   },
   "outputs": [],
   "source": [
    "import pandas as pd\n",
    "import requests"
   ]
  },
  {
   "cell_type": "code",
   "execution_count": 23,
   "metadata": {
    "collapsed": false
   },
   "outputs": [
    {
     "name": "stdout",
     "output_type": "stream",
     "text": [
      "+------+-----+\n",
      "|  rloc|count|\n",
      "+------+-----+\n",
      "|MW0669|    2|\n",
      "|DKA66P|    4|\n",
      "|MIJ66V|    2|\n",
      "|ARB66H|    4|\n",
      "|9KS66J|    2|\n",
      "|NFB66J|    8|\n",
      "|ZJD66K|    8|\n",
      "|JFB676|    4|\n",
      "|JWJ670|    4|\n",
      "|KW3670|    6|\n",
      "+------+-----+\n",
      "only showing top 10 rows\n",
      "\n"
     ]
    }
   ],
   "source": [
    "df.groupBy('rloc').count().show(10)"
   ]
  },
  {
   "cell_type": "code",
   "execution_count": 8,
   "metadata": {
    "collapsed": true
   },
   "outputs": [],
   "source": [
    "from pyspark.sql import *\n",
    "from pyspark.sql.functions import *"
   ]
  },
  {
   "cell_type": "code",
   "execution_count": 28,
   "metadata": {
    "collapsed": false
   },
   "outputs": [
    {
     "name": "stdout",
     "output_type": "stream",
     "text": [
      "+--------------------+\n",
      "|count(DISTINCT rloc)|\n",
      "+--------------------+\n",
      "|             2605835|\n",
      "+--------------------+\n",
      "\n"
     ]
    }
   ],
   "source": [
    "df.agg(countDistinct(df.rloc)).show()"
   ]
  },
  {
   "cell_type": "code",
   "execution_count": 13,
   "metadata": {
    "collapsed": false
   },
   "outputs": [
    {
     "data": {
      "text/plain": [
       "2636677"
      ]
     },
     "execution_count": 13,
     "metadata": {},
     "output_type": "execute_result"
    }
   ],
   "source": [
    "#contamos el número de billetes existente (hay muchos null)\n",
    "df.filter(df.document_number.isNotNull()).count()"
   ]
  },
  {
   "cell_type": "markdown",
   "metadata": {},
   "source": [
    "# Cleansing and preparing the dataset"
   ]
  },
  {
   "cell_type": "code",
   "execution_count": 9,
   "metadata": {
    "collapsed": true
   },
   "outputs": [],
   "source": [
    "#creamos el dataframe vuelos\n",
    "df.createOrReplaceTempView(\"vuelos\")"
   ]
  },
  {
   "cell_type": "code",
   "execution_count": 10,
   "metadata": {
    "collapsed": false
   },
   "outputs": [],
   "source": [
    "#contamos el número de billetes existente (hay muchos null)\n",
    "sqlDF = sqlContext.sql(\"SELECT COUNT(document_number) FROM vuelos WHERE document_number IS NOT NULL\")"
   ]
  },
  {
   "cell_type": "code",
   "execution_count": 34,
   "metadata": {
    "collapsed": false
   },
   "outputs": [
    {
     "name": "stdout",
     "output_type": "stream",
     "text": [
      "+----------------------+\n",
      "|count(document_number)|\n",
      "+----------------------+\n",
      "|               2636677|\n",
      "+----------------------+\n",
      "\n"
     ]
    }
   ],
   "source": [
    "sqlDF.show()"
   ]
  },
  {
   "cell_type": "code",
   "execution_count": 11,
   "metadata": {
    "collapsed": true
   },
   "outputs": [],
   "source": [
    "sqlDF = sqlContext.sql(\"SELECT COUNT(*), COUNT(DISTINCT rloc) FROM vuelos\")"
   ]
  },
  {
   "cell_type": "code",
   "execution_count": 36,
   "metadata": {
    "collapsed": false
   },
   "outputs": [
    {
     "name": "stdout",
     "output_type": "stream",
     "text": [
      "+--------+--------------------+\n",
      "|count(1)|count(DISTINCT rloc)|\n",
      "+--------+--------------------+\n",
      "| 9546302|             2605835|\n",
      "+--------+--------------------+\n",
      "\n"
     ]
    }
   ],
   "source": [
    "sqlDF.show()"
   ]
  },
  {
   "cell_type": "code",
   "execution_count": 12,
   "metadata": {
    "collapsed": true
   },
   "outputs": [],
   "source": [
    "#departure_date_leg count\n",
    "sqlDF = sqlContext.sql(\"SELECT COUNT(departure_date_leg) FROM vuelos\")"
   ]
  },
  {
   "cell_type": "code",
   "execution_count": 38,
   "metadata": {
    "collapsed": false
   },
   "outputs": [
    {
     "name": "stdout",
     "output_type": "stream",
     "text": [
      "+-------------------------+\n",
      "|count(departure_date_leg)|\n",
      "+-------------------------+\n",
      "|                  9546300|\n",
      "+-------------------------+\n",
      "\n"
     ]
    }
   ],
   "source": [
    "sqlDF.show()"
   ]
  },
  {
   "cell_type": "code",
   "execution_count": 13,
   "metadata": {
    "collapsed": false
   },
   "outputs": [],
   "source": [
    "df.createOrReplaceTempView(\"fechas_salida_vuelos\")"
   ]
  },
  {
   "cell_type": "code",
   "execution_count": 14,
   "metadata": {
    "collapsed": false
   },
   "outputs": [],
   "source": [
    "#departure_date_leg count\n",
    "\n",
    "sqlDF = sqlContext.sql(sqlQuery=\"select departure_date_leg, count(*)\\\n",
    "from vuelos group by departure_date_leg order by 1\")"
   ]
  },
  {
   "cell_type": "code",
   "execution_count": 92,
   "metadata": {
    "collapsed": true
   },
   "outputs": [
    {
     "name": "stdout",
     "output_type": "stream",
     "text": [
      "+--------------------+--------+\n",
      "|  departure_date_leg|count(1)|\n",
      "+--------------------+--------+\n",
      "|2014-07-14 00:00:...|       1|\n",
      "|2014-06-04 00:00:...|       1|\n",
      "|2014-05-02 00:00:...|       1|\n",
      "|2014-04-30 00:00:...|       2|\n",
      "|2014-04-29 00:00:...|       1|\n",
      "|2014-04-26 00:00:...|       6|\n",
      "|2014-04-14 00:00:...|       7|\n",
      "|2014-04-13 00:00:...|       1|\n",
      "|2014-04-12 00:00:...|       4|\n",
      "|2014-04-11 00:00:...|       3|\n",
      "|2014-04-10 00:00:...|       3|\n",
      "|2014-04-09 00:00:...|      28|\n",
      "|2014-04-08 00:00:...|    9273|\n",
      "|2014-04-07 00:00:...|   12259|\n",
      "|2014-04-06 00:00:...|   14274|\n",
      "|2014-04-05 00:00:...|   13120|\n",
      "|2014-04-04 00:00:...|   20702|\n",
      "|2014-04-03 00:00:...|   19973|\n",
      "|2014-04-02 00:00:...|   17897|\n",
      "|2014-04-01 00:00:...|   16563|\n",
      "|2014-03-31 00:00:...|   19681|\n",
      "|2014-03-30 00:00:...|   20607|\n",
      "|2014-03-29 00:00:...|   18637|\n",
      "|2014-03-28 00:00:...|   23506|\n",
      "|2014-03-27 00:00:...|   22086|\n",
      "|2014-03-26 00:00:...|   19947|\n",
      "|2014-03-25 00:00:...|   18963|\n",
      "|2014-03-24 00:00:...|   21594|\n",
      "|2014-03-23 00:00:...|   21193|\n",
      "|2014-03-22 00:00:...|   20174|\n",
      "|2014-03-21 00:00:...|   24563|\n",
      "|2014-03-20 00:00:...|   22819|\n",
      "|2014-03-19 00:00:...|   20728|\n",
      "|2014-03-18 00:00:...|   19215|\n",
      "|2014-03-17 00:00:...|   21845|\n",
      "|2014-03-16 00:00:...|   21312|\n",
      "|2014-03-15 00:00:...|   19800|\n",
      "|2014-03-14 00:00:...|   25050|\n",
      "|2014-03-13 00:00:...|   22222|\n",
      "|2014-03-12 00:00:...|   20236|\n",
      "|2014-03-11 00:00:...|   18877|\n",
      "|2014-03-10 00:00:...|   22102|\n",
      "|2014-03-09 00:00:...|   21742|\n",
      "|2014-03-08 00:00:...|   20659|\n",
      "|2014-03-07 00:00:...|   24400|\n",
      "|2014-03-06 00:00:...|   21237|\n",
      "|2014-03-05 00:00:...|   19613|\n",
      "|2014-03-04 00:00:...|   17233|\n",
      "|2014-03-03 00:00:...|   21044|\n",
      "|2014-03-02 00:00:...|   21023|\n",
      "|2014-03-01 00:00:...|   20747|\n",
      "|2014-02-28 00:00:...|   25293|\n",
      "|2014-02-27 00:00:...|   22003|\n",
      "|2014-02-26 00:00:...|   18957|\n",
      "|2014-02-25 00:00:...|   17596|\n",
      "|2014-02-24 00:00:...|   21418|\n",
      "|2014-02-23 00:00:...|   21989|\n",
      "|2014-02-22 00:00:...|   22263|\n",
      "|2014-02-21 00:00:...|   24954|\n",
      "|2014-02-20 00:00:...|   21594|\n",
      "|2014-02-19 00:00:...|   19436|\n",
      "|2014-02-18 00:00:...|   16892|\n",
      "|2014-02-17 00:00:...|   20436|\n",
      "|2014-02-16 00:00:...|   21702|\n",
      "|2014-02-15 00:00:...|   20043|\n",
      "|2014-02-14 00:00:...|   23740|\n",
      "|2014-02-13 00:00:...|   21609|\n",
      "|2014-02-12 00:00:...|   20191|\n",
      "|2014-02-11 00:00:...|   17536|\n",
      "|2014-02-10 00:00:...|   19986|\n",
      "|2014-02-09 00:00:...|   19410|\n",
      "|2014-02-08 00:00:...|   17022|\n",
      "|2014-02-07 00:00:...|   22842|\n",
      "|2014-02-06 00:00:...|   20211|\n",
      "|2014-02-05 00:00:...|   19296|\n",
      "|2014-02-04 00:00:...|   17891|\n",
      "|2014-02-03 00:00:...|   18775|\n",
      "|2014-02-02 00:00:...|   18174|\n",
      "|2014-02-01 00:00:...|   15826|\n",
      "|2014-01-31 00:00:...|   21025|\n",
      "|2014-01-30 00:00:...|   19390|\n",
      "|2014-01-29 00:00:...|   18669|\n",
      "|2014-01-28 00:00:...|   16417|\n",
      "|2014-01-27 00:00:...|   17277|\n",
      "|2014-01-26 00:00:...|   17521|\n",
      "|2014-01-25 00:00:...|   16151|\n",
      "|2014-01-24 00:00:...|   21777|\n",
      "|2014-01-23 00:00:...|   18927|\n",
      "|2014-01-22 00:00:...|   17261|\n",
      "|2014-01-21 00:00:...|   15768|\n",
      "|2014-01-20 00:00:...|   17260|\n",
      "|2014-01-19 00:00:...|   17638|\n",
      "|2014-01-18 00:00:...|   15129|\n",
      "|2014-01-17 00:00:...|   20677|\n",
      "|2014-01-16 00:00:...|   19530|\n",
      "|2014-01-15 00:00:...|   18782|\n",
      "|2014-01-14 00:00:...|   16345|\n",
      "|2014-01-13 00:00:...|   17667|\n",
      "|2014-01-12 00:00:...|   16497|\n",
      "|2014-01-11 00:00:...|   15040|\n",
      "|2014-01-10 00:00:...|   19421|\n",
      "|2014-01-09 00:00:...|   17833|\n",
      "|2014-01-08 00:00:...|   18055|\n",
      "|2014-01-07 00:00:...|   18906|\n",
      "|2014-01-06 00:00:...|   18795|\n",
      "|2014-01-05 00:00:...|   18438|\n",
      "|2014-01-04 00:00:...|   18774|\n",
      "|2014-01-03 00:00:...|   20792|\n",
      "|2014-01-02 00:00:...|   18630|\n",
      "|2014-01-01 00:00:...|   14741|\n",
      "|2013-12-31 00:00:...|   10419|\n",
      "|2013-12-30 00:00:...|   20311|\n",
      "|2013-12-29 00:00:...|   19899|\n",
      "|2013-12-28 00:00:...|   19679|\n",
      "|2013-12-27 00:00:...|   22229|\n",
      "|2013-12-26 00:00:...|   19154|\n",
      "|2013-12-25 00:00:...|    2710|\n",
      "|2013-12-24 00:00:...|    4182|\n",
      "|2013-12-23 00:00:...|   19115|\n",
      "|2013-12-22 00:00:...|   20288|\n",
      "|2013-12-21 00:00:...|   19673|\n",
      "|2013-12-20 00:00:...|   24371|\n",
      "|2013-12-19 00:00:...|   21890|\n",
      "|2013-12-18 00:00:...|   19953|\n",
      "|2013-12-17 00:00:...|   17333|\n",
      "|2013-12-16 00:00:...|   20313|\n",
      "|2013-12-15 00:00:...|   17133|\n",
      "|2013-12-14 00:00:...|   15864|\n",
      "|2013-12-13 00:00:...|   21857|\n",
      "|2013-12-12 00:00:...|   21199|\n",
      "|2013-12-11 00:00:...|   19870|\n",
      "|2013-12-10 00:00:...|   19118|\n",
      "|2013-12-09 00:00:...|   23537|\n",
      "|2013-12-08 00:00:...|   19413|\n",
      "|2013-12-07 00:00:...|   15673|\n",
      "|2013-12-06 00:00:...|   20050|\n",
      "|2013-12-05 00:00:...|   22243|\n",
      "|2013-12-04 00:00:...|   19817|\n",
      "|2013-12-03 00:00:...|   17264|\n",
      "|2013-12-02 00:00:...|   20155|\n",
      "|2013-12-01 00:00:...|   18457|\n",
      "|2013-11-30 00:00:...|   14911|\n",
      "|2013-11-29 00:00:...|   22447|\n",
      "|2013-11-28 00:00:...|   20420|\n",
      "|2013-11-27 00:00:...|   18921|\n",
      "|2013-11-26 00:00:...|   17003|\n",
      "|2013-11-25 00:00:...|   19403|\n",
      "|2013-11-24 00:00:...|   18044|\n",
      "|2013-11-23 00:00:...|   14336|\n",
      "|2013-11-22 00:00:...|   21008|\n",
      "+--------------------+--------+\n",
      "only showing top 150 rows\n",
      "\n"
     ]
    }
   ],
   "source": [
    "sqlDF.orderBy(desc(\"departure_date_leg\")).show(150)\n",
    "#selecciono hasta el 01/01/2014 "
   ]
  },
  {
   "cell_type": "code",
   "execution_count": 83,
   "metadata": {
    "collapsed": true
   },
   "outputs": [
    {
     "name": "stdout",
     "output_type": "stream",
     "text": [
      "+--------------------+--------+\n",
      "|  departure_date_leg|count(1)|\n",
      "+--------------------+--------+\n",
      "|                null|       2|\n",
      "|2012-06-27 00:00:...|       1|\n",
      "|2012-07-05 00:00:...|       2|\n",
      "|2012-07-12 00:00:...|       2|\n",
      "|2012-07-14 00:00:...|       2|\n",
      "|2012-07-15 00:00:...|       2|\n",
      "|2012-07-19 00:00:...|       1|\n",
      "|2012-07-22 00:00:...|       1|\n",
      "|2012-07-23 00:00:...|       2|\n",
      "|2012-08-01 00:00:...|       4|\n",
      "|2012-08-03 00:00:...|       1|\n",
      "|2012-08-06 00:00:...|      32|\n",
      "|2012-08-09 00:00:...|       1|\n",
      "|2012-08-16 00:00:...|       5|\n",
      "|2012-08-20 00:00:...|       4|\n",
      "|2012-08-23 00:00:...|       1|\n",
      "|2012-08-24 00:00:...|       1|\n",
      "|2012-08-30 00:00:...|       2|\n",
      "|2012-09-03 00:00:...|       1|\n",
      "|2012-09-04 00:00:...|       4|\n",
      "|2012-09-10 00:00:...|       2|\n",
      "|2012-09-12 00:00:...|       1|\n",
      "|2012-09-15 00:00:...|       2|\n",
      "|2012-09-16 00:00:...|       2|\n",
      "|2012-09-18 00:00:...|       2|\n",
      "|2012-09-19 00:00:...|       1|\n",
      "|2012-09-20 00:00:...|       3|\n",
      "|2012-09-30 00:00:...|       2|\n",
      "|2012-10-06 00:00:...|       2|\n",
      "|2012-10-30 00:00:...|       2|\n",
      "|2012-10-31 00:00:...|       2|\n",
      "|2012-11-02 00:00:...|       2|\n",
      "|2012-11-03 00:00:...|       2|\n",
      "|2012-11-04 00:00:...|       1|\n",
      "|2012-11-06 00:00:...|       2|\n",
      "|2012-11-08 00:00:...|       2|\n",
      "|2012-11-14 00:00:...|       5|\n",
      "|2012-11-16 00:00:...|       2|\n",
      "|2012-11-18 00:00:...|       2|\n",
      "|2012-11-20 00:00:...|       4|\n",
      "|2012-11-21 00:00:...|       1|\n",
      "|2012-11-23 00:00:...|       2|\n",
      "|2012-11-25 00:00:...|       2|\n",
      "|2012-11-29 00:00:...|       2|\n",
      "|2012-11-30 00:00:...|       2|\n",
      "|2012-12-03 00:00:...|       2|\n",
      "|2012-12-04 00:00:...|      13|\n",
      "|2012-12-05 00:00:...|       1|\n",
      "|2012-12-07 00:00:...|       1|\n",
      "|2012-12-08 00:00:...|       1|\n",
      "|2012-12-09 00:00:...|       2|\n",
      "|2012-12-10 00:00:...|       3|\n",
      "|2012-12-11 00:00:...|       5|\n",
      "|2012-12-13 00:00:...|       8|\n",
      "|2012-12-14 00:00:...|       6|\n",
      "|2012-12-15 00:00:...|      12|\n",
      "|2012-12-16 00:00:...|       1|\n",
      "|2012-12-17 00:00:...|       7|\n",
      "|2012-12-18 00:00:...|       7|\n",
      "|2012-12-19 00:00:...|      32|\n",
      "|2012-12-20 00:00:...|      15|\n",
      "|2012-12-21 00:00:...|       6|\n",
      "|2012-12-22 00:00:...|       5|\n",
      "|2012-12-23 00:00:...|       1|\n",
      "|2012-12-24 00:00:...|       1|\n",
      "|2012-12-25 00:00:...|       1|\n",
      "|2012-12-26 00:00:...|      19|\n",
      "|2012-12-27 00:00:...|      23|\n",
      "|2012-12-28 00:00:...|      11|\n",
      "|2012-12-29 00:00:...|      30|\n",
      "|2012-12-30 00:00:...|    3622|\n",
      "|2012-12-31 00:00:...|    4451|\n",
      "|2013-01-01 00:00:...|   14033|\n",
      "|2013-01-02 00:00:...|   19776|\n",
      "|2013-01-03 00:00:...|   19195|\n",
      "|2013-01-04 00:00:...|   19890|\n",
      "|2013-01-05 00:00:...|   17158|\n",
      "|2013-01-06 00:00:...|   17824|\n",
      "|2013-01-07 00:00:...|   19867|\n",
      "|2013-01-08 00:00:...|   17037|\n",
      "|2013-01-09 00:00:...|   15962|\n",
      "|2013-01-10 00:00:...|   17566|\n",
      "|2013-01-11 00:00:...|   18278|\n",
      "|2013-01-12 00:00:...|   15338|\n",
      "|2013-01-13 00:00:...|   16741|\n",
      "|2013-01-14 00:00:...|   17221|\n",
      "|2013-01-15 00:00:...|   16083|\n",
      "|2013-01-16 00:00:...|   17617|\n",
      "|2013-01-17 00:00:...|   18738|\n",
      "|2013-01-18 00:00:...|   19551|\n",
      "|2013-01-19 00:00:...|   16189|\n",
      "|2013-01-20 00:00:...|   17719|\n",
      "|2013-01-21 00:00:...|   18913|\n",
      "|2013-01-22 00:00:...|   16756|\n",
      "|2013-01-23 00:00:...|   17593|\n",
      "|2013-01-24 00:00:...|   19210|\n",
      "|2013-01-25 00:00:...|   20886|\n",
      "|2013-01-26 00:00:...|   17667|\n",
      "|2013-01-27 00:00:...|   18648|\n",
      "|2013-01-28 00:00:...|   19375|\n",
      "+--------------------+--------+\n",
      "only showing top 100 rows\n",
      "\n"
     ]
    }
   ],
   "source": [
    "sqlDF.orderBy(asc(\"departure_date_leg\")).show(100)\n",
    "#veo que a partir del 01/01/2013 hay más volumen de datos"
   ]
  },
  {
   "cell_type": "code",
   "execution_count": 22,
   "metadata": {
    "collapsed": false
   },
   "outputs": [
    {
     "name": "stdout",
     "output_type": "stream",
     "text": [
      "+------------------------------+\n",
      "|last(departure_date_leg, true)|\n",
      "+------------------------------+\n",
      "|          2014-07-14 00:00:...|\n",
      "+------------------------------+\n",
      "\n"
     ]
    }
   ],
   "source": [
    "sqlDF.select(last('departure_date_leg', ignorenulls=True)).show()"
   ]
  },
  {
   "cell_type": "code",
   "execution_count": 82,
   "metadata": {
    "collapsed": false
   },
   "outputs": [
    {
     "name": "stdout",
     "output_type": "stream",
     "text": [
      "+-------------------------------+\n",
      "|first(departure_date_leg, true)|\n",
      "+-------------------------------+\n",
      "|           2012-06-27 00:00:...|\n",
      "+-------------------------------+\n",
      "\n"
     ]
    }
   ],
   "source": [
    "sqlDF.select(first('departure_date_leg', ignorenulls=True)).show()"
   ]
  },
  {
   "cell_type": "code",
   "execution_count": 15,
   "metadata": {
    "collapsed": true
   },
   "outputs": [],
   "source": [
    "fechas_vuelos = df.groupBy(df['departure_date_leg']).count().toPandas().sort_values(by='count', ascending=False)"
   ]
  },
  {
   "cell_type": "code",
   "execution_count": null,
   "metadata": {
    "collapsed": true
   },
   "outputs": [],
   "source": [
    "vuelos_por_fecha = pd.DataFrame(fechas_vuelos)"
   ]
  },
  {
   "cell_type": "code",
   "execution_count": 23,
   "metadata": {
    "collapsed": false
   },
   "outputs": [],
   "source": [
    "vuelos_por_fecha.sort_values('count')"
   ]
  },
  {
   "cell_type": "code",
   "execution_count": null,
   "metadata": {
    "collapsed": true
   },
   "outputs": [],
   "source": [
    "#vemos dónde empieza a haber un volumen de datos más homogéneo\n",
    "vuelos_por_fecha.nsmallest(100, 'count')"
   ]
  },
  {
   "cell_type": "code",
   "execution_count": null,
   "metadata": {
    "collapsed": true
   },
   "outputs": [],
   "source": [
    "vuelos_por_fecha.nlargest(150, 'count')"
   ]
  },
  {
   "cell_type": "code",
   "execution_count": 16,
   "metadata": {
    "collapsed": false
   },
   "outputs": [],
   "source": [
    "#acotamos los datos al rango de fechas con un volumen homogéneo: 365 días\n",
    "sqlDF2 = sqlContext.sql(sqlQuery=\"select * from vuelos where departure_date_leg between '2013-01-01' and '2014-01-01'\\\n",
    "and document_number is not null \\\n",
    "and booking_status_code='HK'\\\n",
    "and quality_index = 1\")"
   ]
  },
  {
   "cell_type": "code",
   "execution_count": 17,
   "metadata": {
    "collapsed": false
   },
   "outputs": [],
   "source": [
    "sqlDF2.registerTempTable(\"vuelos_clientes\")"
   ]
  },
  {
   "cell_type": "code",
   "execution_count": 111,
   "metadata": {
    "collapsed": false
   },
   "outputs": [
    {
     "data": {
      "text/plain": [
       "526851"
      ]
     },
     "execution_count": 111,
     "metadata": {},
     "output_type": "execute_result"
    }
   ],
   "source": [
    "sqlDF2.count()"
   ]
  },
  {
   "cell_type": "code",
   "execution_count": 113,
   "metadata": {
    "collapsed": false
   },
   "outputs": [
    {
     "name": "stdout",
     "output_type": "stream",
     "text": [
      "+-------------------------------+\n",
      "|count(DISTINCT document_number)|\n",
      "+-------------------------------+\n",
      "|                         175817|\n",
      "+-------------------------------+\n",
      "\n"
     ]
    }
   ],
   "source": [
    "sqlDF2.agg(countDistinct(sqlDF2.document_number)).show()"
   ]
  },
  {
   "cell_type": "code",
   "execution_count": 114,
   "metadata": {
    "collapsed": false
   },
   "outputs": [
    {
     "name": "stdout",
     "output_type": "stream",
     "text": [
      "+---------------+-----+\n",
      "|document_number|count|\n",
      "+---------------+-----+\n",
      "|      66289BS28|    2|\n",
      "|      708061476|    4|\n",
      "|      20571FT30|    3|\n",
      "|       69155025|    2|\n",
      "|      991926414|    2|\n",
      "|       78642406|    4|\n",
      "|      97657BL93|   15|\n",
      "|       41748915|    3|\n",
      "|      31068BM21|    2|\n",
      "|      15064BY96|    2|\n",
      "+---------------+-----+\n",
      "only showing top 10 rows\n",
      "\n"
     ]
    }
   ],
   "source": [
    "sqlDF2.groupBy('document_number').count().show(10)"
   ]
  },
  {
   "cell_type": "code",
   "execution_count": 18,
   "metadata": {
    "collapsed": true
   },
   "outputs": [],
   "source": [
    "#documentos únicos\n",
    "sqlDF3 = sqlContext.sql(sqlQuery=\"select document_number, count(*) \\\n",
    "from (select document_number, gender, date_of_birth, nationality, count(*) as count \\\n",
    "from vuelos_clientes group by document_number, gender, date_of_birth, nationality) as a group by document_number \\\n",
    "having count(*)=1\")\n"
   ]
  },
  {
   "cell_type": "code",
   "execution_count": 117,
   "metadata": {
    "collapsed": false
   },
   "outputs": [
    {
     "name": "stdout",
     "output_type": "stream",
     "text": [
      "+---------------+-----+\n",
      "|document_number|count|\n",
      "+---------------+-----+\n",
      "|       78642406|    1|\n",
      "|       2828Y769|    1|\n",
      "|      XP325ZZ17|    1|\n",
      "|      33772PI56|    1|\n",
      "|      02376W459|    1|\n",
      "|      29318BV96|    1|\n",
      "|      9115254OW|    1|\n",
      "|      770625469|    1|\n",
      "|      71263FW84|    1|\n",
      "|      08869BO31|    1|\n",
      "+---------------+-----+\n",
      "only showing top 10 rows\n",
      "\n"
     ]
    }
   ],
   "source": [
    "#vemos que ya no hay documentos duplicados\n",
    "sqlDF3.groupBy('document_number').count().show(10)"
   ]
  },
  {
   "cell_type": "code",
   "execution_count": 118,
   "metadata": {
    "collapsed": false,
    "scrolled": true
   },
   "outputs": [
    {
     "data": {
      "text/plain": [
       "175333"
      ]
     },
     "execution_count": 118,
     "metadata": {},
     "output_type": "execute_result"
    }
   ],
   "source": [
    "sqlDF3.count()"
   ]
  },
  {
   "cell_type": "code",
   "execution_count": 19,
   "metadata": {
    "collapsed": true
   },
   "outputs": [],
   "source": [
    "sqlDF3.registerTempTable(\"documentos_unicos\")"
   ]
  },
  {
   "cell_type": "code",
   "execution_count": 20,
   "metadata": {
    "collapsed": false
   },
   "outputs": [],
   "source": [
    "sqlDF4 = sqlContext.sql(sqlQuery = \"select a.* from vuelos_clientes \\\n",
    "as a inner join documentos_unicos as b on a.document_number = b.document_number\")"
   ]
  },
  {
   "cell_type": "code",
   "execution_count": 21,
   "metadata": {
    "collapsed": true
   },
   "outputs": [],
   "source": [
    "sqlDF4.registerTempTable(\"clientes_unicos\")"
   ]
  },
  {
   "cell_type": "code",
   "execution_count": 22,
   "metadata": {
    "collapsed": true
   },
   "outputs": [
    {
     "ename": "KeyboardInterrupt",
     "evalue": "",
     "output_type": "error",
     "traceback": [
      "\u001b[0;31m---------------------------------------------------------------------------\u001b[0m",
      "\u001b[0;31mKeyboardInterrupt\u001b[0m                         Traceback (most recent call last)",
      "\u001b[0;32m<ipython-input-22-09ca3f03265e>\u001b[0m in \u001b[0;36m<module>\u001b[0;34m()\u001b[0m\n\u001b[0;32m----> 1\u001b[0;31m \u001b[0mclientes_unicos\u001b[0m \u001b[0;34m=\u001b[0m \u001b[0msqlDF4\u001b[0m\u001b[0;34m.\u001b[0m\u001b[0mtoPandas\u001b[0m\u001b[0;34m(\u001b[0m\u001b[0;34m)\u001b[0m\u001b[0;34m\u001b[0m\u001b[0m\n\u001b[0m",
      "\u001b[0;32m/Users/Clarita/spark-2.1.0-bin-hadoop2.7/python/pyspark/sql/dataframe.pyc\u001b[0m in \u001b[0;36mtoPandas\u001b[0;34m(self)\u001b[0m\n\u001b[1;32m   1574\u001b[0m         \"\"\"\n\u001b[1;32m   1575\u001b[0m         \u001b[0;32mimport\u001b[0m \u001b[0mpandas\u001b[0m \u001b[0;32mas\u001b[0m \u001b[0mpd\u001b[0m\u001b[0;34m\u001b[0m\u001b[0m\n\u001b[0;32m-> 1576\u001b[0;31m         \u001b[0;32mreturn\u001b[0m \u001b[0mpd\u001b[0m\u001b[0;34m.\u001b[0m\u001b[0mDataFrame\u001b[0m\u001b[0;34m.\u001b[0m\u001b[0mfrom_records\u001b[0m\u001b[0;34m(\u001b[0m\u001b[0mself\u001b[0m\u001b[0;34m.\u001b[0m\u001b[0mcollect\u001b[0m\u001b[0;34m(\u001b[0m\u001b[0;34m)\u001b[0m\u001b[0;34m,\u001b[0m \u001b[0mcolumns\u001b[0m\u001b[0;34m=\u001b[0m\u001b[0mself\u001b[0m\u001b[0;34m.\u001b[0m\u001b[0mcolumns\u001b[0m\u001b[0;34m)\u001b[0m\u001b[0;34m\u001b[0m\u001b[0m\n\u001b[0m\u001b[1;32m   1577\u001b[0m \u001b[0;34m\u001b[0m\u001b[0m\n\u001b[1;32m   1578\u001b[0m     \u001b[0;31m##########################################################################################\u001b[0m\u001b[0;34m\u001b[0m\u001b[0;34m\u001b[0m\u001b[0m\n",
      "\u001b[0;32m/Users/Clarita/spark-2.1.0-bin-hadoop2.7/python/pyspark/sql/dataframe.pyc\u001b[0m in \u001b[0;36mcollect\u001b[0;34m(self)\u001b[0m\n\u001b[1;32m    389\u001b[0m         \"\"\"\n\u001b[1;32m    390\u001b[0m         \u001b[0;32mwith\u001b[0m \u001b[0mSCCallSiteSync\u001b[0m\u001b[0;34m(\u001b[0m\u001b[0mself\u001b[0m\u001b[0;34m.\u001b[0m\u001b[0m_sc\u001b[0m\u001b[0;34m)\u001b[0m \u001b[0;32mas\u001b[0m \u001b[0mcss\u001b[0m\u001b[0;34m:\u001b[0m\u001b[0;34m\u001b[0m\u001b[0m\n\u001b[0;32m--> 391\u001b[0;31m             \u001b[0mport\u001b[0m \u001b[0;34m=\u001b[0m \u001b[0mself\u001b[0m\u001b[0;34m.\u001b[0m\u001b[0m_jdf\u001b[0m\u001b[0;34m.\u001b[0m\u001b[0mcollectToPython\u001b[0m\u001b[0;34m(\u001b[0m\u001b[0;34m)\u001b[0m\u001b[0;34m\u001b[0m\u001b[0m\n\u001b[0m\u001b[1;32m    392\u001b[0m         \u001b[0;32mreturn\u001b[0m \u001b[0mlist\u001b[0m\u001b[0;34m(\u001b[0m\u001b[0m_load_from_socket\u001b[0m\u001b[0;34m(\u001b[0m\u001b[0mport\u001b[0m\u001b[0;34m,\u001b[0m \u001b[0mBatchedSerializer\u001b[0m\u001b[0;34m(\u001b[0m\u001b[0mPickleSerializer\u001b[0m\u001b[0;34m(\u001b[0m\u001b[0;34m)\u001b[0m\u001b[0;34m)\u001b[0m\u001b[0;34m)\u001b[0m\u001b[0;34m)\u001b[0m\u001b[0;34m\u001b[0m\u001b[0m\n\u001b[1;32m    393\u001b[0m \u001b[0;34m\u001b[0m\u001b[0m\n",
      "\u001b[0;32m/Users/Clarita/spark-2.1.0-bin-hadoop2.7/python/lib/py4j-0.10.4-src.zip/py4j/java_gateway.py\u001b[0m in \u001b[0;36m__call__\u001b[0;34m(self, *args)\u001b[0m\n\u001b[1;32m   1129\u001b[0m             \u001b[0mproto\u001b[0m\u001b[0;34m.\u001b[0m\u001b[0mEND_COMMAND_PART\u001b[0m\u001b[0;34m\u001b[0m\u001b[0m\n\u001b[1;32m   1130\u001b[0m \u001b[0;34m\u001b[0m\u001b[0m\n\u001b[0;32m-> 1131\u001b[0;31m         \u001b[0manswer\u001b[0m \u001b[0;34m=\u001b[0m \u001b[0mself\u001b[0m\u001b[0;34m.\u001b[0m\u001b[0mgateway_client\u001b[0m\u001b[0;34m.\u001b[0m\u001b[0msend_command\u001b[0m\u001b[0;34m(\u001b[0m\u001b[0mcommand\u001b[0m\u001b[0;34m)\u001b[0m\u001b[0;34m\u001b[0m\u001b[0m\n\u001b[0m\u001b[1;32m   1132\u001b[0m         return_value = get_return_value(\n\u001b[1;32m   1133\u001b[0m             answer, self.gateway_client, self.target_id, self.name)\n",
      "\u001b[0;32m/Users/Clarita/spark-2.1.0-bin-hadoop2.7/python/lib/py4j-0.10.4-src.zip/py4j/java_gateway.py\u001b[0m in \u001b[0;36msend_command\u001b[0;34m(self, command, retry, binary)\u001b[0m\n\u001b[1;32m    881\u001b[0m         \u001b[0mconnection\u001b[0m \u001b[0;34m=\u001b[0m \u001b[0mself\u001b[0m\u001b[0;34m.\u001b[0m\u001b[0m_get_connection\u001b[0m\u001b[0;34m(\u001b[0m\u001b[0;34m)\u001b[0m\u001b[0;34m\u001b[0m\u001b[0m\n\u001b[1;32m    882\u001b[0m         \u001b[0;32mtry\u001b[0m\u001b[0;34m:\u001b[0m\u001b[0;34m\u001b[0m\u001b[0m\n\u001b[0;32m--> 883\u001b[0;31m             \u001b[0mresponse\u001b[0m \u001b[0;34m=\u001b[0m \u001b[0mconnection\u001b[0m\u001b[0;34m.\u001b[0m\u001b[0msend_command\u001b[0m\u001b[0;34m(\u001b[0m\u001b[0mcommand\u001b[0m\u001b[0;34m)\u001b[0m\u001b[0;34m\u001b[0m\u001b[0m\n\u001b[0m\u001b[1;32m    884\u001b[0m             \u001b[0;32mif\u001b[0m \u001b[0mbinary\u001b[0m\u001b[0;34m:\u001b[0m\u001b[0;34m\u001b[0m\u001b[0m\n\u001b[1;32m    885\u001b[0m                 \u001b[0;32mreturn\u001b[0m \u001b[0mresponse\u001b[0m\u001b[0;34m,\u001b[0m \u001b[0mself\u001b[0m\u001b[0;34m.\u001b[0m\u001b[0m_create_connection_guard\u001b[0m\u001b[0;34m(\u001b[0m\u001b[0mconnection\u001b[0m\u001b[0;34m)\u001b[0m\u001b[0;34m\u001b[0m\u001b[0m\n",
      "\u001b[0;32m/Users/Clarita/spark-2.1.0-bin-hadoop2.7/python/lib/py4j-0.10.4-src.zip/py4j/java_gateway.py\u001b[0m in \u001b[0;36msend_command\u001b[0;34m(self, command)\u001b[0m\n\u001b[1;32m   1026\u001b[0m \u001b[0;34m\u001b[0m\u001b[0m\n\u001b[1;32m   1027\u001b[0m         \u001b[0;32mtry\u001b[0m\u001b[0;34m:\u001b[0m\u001b[0;34m\u001b[0m\u001b[0m\n\u001b[0;32m-> 1028\u001b[0;31m             \u001b[0manswer\u001b[0m \u001b[0;34m=\u001b[0m \u001b[0msmart_decode\u001b[0m\u001b[0;34m(\u001b[0m\u001b[0mself\u001b[0m\u001b[0;34m.\u001b[0m\u001b[0mstream\u001b[0m\u001b[0;34m.\u001b[0m\u001b[0mreadline\u001b[0m\u001b[0;34m(\u001b[0m\u001b[0;34m)\u001b[0m\u001b[0;34m[\u001b[0m\u001b[0;34m:\u001b[0m\u001b[0;34m-\u001b[0m\u001b[0;36m1\u001b[0m\u001b[0;34m]\u001b[0m\u001b[0;34m)\u001b[0m\u001b[0;34m\u001b[0m\u001b[0m\n\u001b[0m\u001b[1;32m   1029\u001b[0m             \u001b[0mlogger\u001b[0m\u001b[0;34m.\u001b[0m\u001b[0mdebug\u001b[0m\u001b[0;34m(\u001b[0m\u001b[0;34m\"Answer received: {0}\"\u001b[0m\u001b[0;34m.\u001b[0m\u001b[0mformat\u001b[0m\u001b[0;34m(\u001b[0m\u001b[0manswer\u001b[0m\u001b[0;34m)\u001b[0m\u001b[0;34m)\u001b[0m\u001b[0;34m\u001b[0m\u001b[0m\n\u001b[1;32m   1030\u001b[0m             \u001b[0;32mif\u001b[0m \u001b[0manswer\u001b[0m\u001b[0;34m.\u001b[0m\u001b[0mstartswith\u001b[0m\u001b[0;34m(\u001b[0m\u001b[0mproto\u001b[0m\u001b[0;34m.\u001b[0m\u001b[0mRETURN_MESSAGE\u001b[0m\u001b[0;34m)\u001b[0m\u001b[0;34m:\u001b[0m\u001b[0;34m\u001b[0m\u001b[0m\n",
      "\u001b[0;32m//anaconda/lib/python2.7/socket.pyc\u001b[0m in \u001b[0;36mreadline\u001b[0;34m(self, size)\u001b[0m\n\u001b[1;32m    449\u001b[0m             \u001b[0;32mwhile\u001b[0m \u001b[0mTrue\u001b[0m\u001b[0;34m:\u001b[0m\u001b[0;34m\u001b[0m\u001b[0m\n\u001b[1;32m    450\u001b[0m                 \u001b[0;32mtry\u001b[0m\u001b[0;34m:\u001b[0m\u001b[0;34m\u001b[0m\u001b[0m\n\u001b[0;32m--> 451\u001b[0;31m                     \u001b[0mdata\u001b[0m \u001b[0;34m=\u001b[0m \u001b[0mself\u001b[0m\u001b[0;34m.\u001b[0m\u001b[0m_sock\u001b[0m\u001b[0;34m.\u001b[0m\u001b[0mrecv\u001b[0m\u001b[0;34m(\u001b[0m\u001b[0mself\u001b[0m\u001b[0;34m.\u001b[0m\u001b[0m_rbufsize\u001b[0m\u001b[0;34m)\u001b[0m\u001b[0;34m\u001b[0m\u001b[0m\n\u001b[0m\u001b[1;32m    452\u001b[0m                 \u001b[0;32mexcept\u001b[0m \u001b[0merror\u001b[0m\u001b[0;34m,\u001b[0m \u001b[0me\u001b[0m\u001b[0;34m:\u001b[0m\u001b[0;34m\u001b[0m\u001b[0m\n\u001b[1;32m    453\u001b[0m                     \u001b[0;32mif\u001b[0m \u001b[0me\u001b[0m\u001b[0;34m.\u001b[0m\u001b[0margs\u001b[0m\u001b[0;34m[\u001b[0m\u001b[0;36m0\u001b[0m\u001b[0;34m]\u001b[0m \u001b[0;34m==\u001b[0m \u001b[0mEINTR\u001b[0m\u001b[0;34m:\u001b[0m\u001b[0;34m\u001b[0m\u001b[0m\n",
      "\u001b[0;31mKeyboardInterrupt\u001b[0m: "
     ]
    }
   ],
   "source": [
    "clientes_unicos = sqlDF4.toPandas()"
   ]
  },
  {
   "cell_type": "code",
   "execution_count": 187,
   "metadata": {
    "collapsed": true
   },
   "outputs": [],
   "source": [
    "clientes_unicos.to_csv('clientes_unicos.csv', sep=',')"
   ]
  },
  {
   "cell_type": "code",
   "execution_count": 124,
   "metadata": {
    "collapsed": false
   },
   "outputs": [
    {
     "data": {
      "text/plain": [
       "523541"
      ]
     },
     "execution_count": 124,
     "metadata": {},
     "output_type": "execute_result"
    }
   ],
   "source": [
    "sqlDF4.count()"
   ]
  },
  {
   "cell_type": "code",
   "execution_count": 125,
   "metadata": {
    "collapsed": false
   },
   "outputs": [
    {
     "name": "stdout",
     "output_type": "stream",
     "text": [
      "+-------------------------------+\n",
      "|count(DISTINCT document_number)|\n",
      "+-------------------------------+\n",
      "|                         175333|\n",
      "+-------------------------------+\n",
      "\n"
     ]
    }
   ],
   "source": [
    "sqlDF4.agg(countDistinct(sqlDF4.document_number)).show()"
   ]
  },
  {
   "cell_type": "code",
   "execution_count": 126,
   "metadata": {
    "collapsed": false
   },
   "outputs": [
    {
     "name": "stdout",
     "output_type": "stream",
     "text": [
      "+---------------+-----+\n",
      "|document_number|count|\n",
      "+---------------+-----+\n",
      "|      000744336|    2|\n",
      "|      00152Y444|    2|\n",
      "|      002946569|    4|\n",
      "|      00453BS41|    1|\n",
      "|      00517BF34|    2|\n",
      "|      00714BO74|    2|\n",
      "|      00908BD78|    2|\n",
      "|      01060BK97|    2|\n",
      "|      013178711|    4|\n",
      "|      01651Y243|    4|\n",
      "+---------------+-----+\n",
      "only showing top 10 rows\n",
      "\n"
     ]
    }
   ],
   "source": [
    "sqlDF4.groupBy('document_number').count().show(10)"
   ]
  },
  {
   "cell_type": "markdown",
   "metadata": {},
   "source": [
    "## Preparing the dataframe for the clustering"
   ]
  },
  {
   "cell_type": "code",
   "execution_count": 23,
   "metadata": {
    "collapsed": false
   },
   "outputs": [],
   "source": [
    "#creamos las columnas que nos interesan\n",
    "sqlDF6 = sqlContext.sql(sqlQuery=\"select document_number,\\\n",
    "count(distinct(concat(document_number, ',', rloc))) as frecuency, \\\n",
    "datediff(to_date('2014-01-01 00:00:00'), to_date(max(departure_date_leg))) as recency, \\\n",
    "sum(revenue_amount_seg) as money \\\n",
    "from clientes_unicos group by document_number\")"
   ]
  },
  {
   "cell_type": "code",
   "execution_count": 24,
   "metadata": {
    "collapsed": false
   },
   "outputs": [],
   "source": [
    "sqlDF6.registerTempTable('rfm_doc_unicos')"
   ]
  },
  {
   "cell_type": "code",
   "execution_count": 282,
   "metadata": {
    "collapsed": true
   },
   "outputs": [
    {
     "name": "stdout",
     "output_type": "stream",
     "text": [
      "+---------+-------+------+---------------+\n",
      "|frecuency|recency| money|document_number|\n",
      "+---------+-------+------+---------------+\n",
      "|        1|     28|221.26|      000744336|\n",
      "|        1|    171| 205.0|      00152Y444|\n",
      "|        1|    282|291.68|      002946569|\n",
      "|        1|     22|250.51|      00453BS41|\n",
      "|        1|     32| 313.0|      00517BF34|\n",
      "+---------+-------+------+---------------+\n",
      "only showing top 5 rows\n",
      "\n"
     ]
    }
   ],
   "source": [
    "sqlDF6.select('frecuency', 'recency', 'money', 'document_number').show(5)"
   ]
  },
  {
   "cell_type": "code",
   "execution_count": 25,
   "metadata": {
    "collapsed": false
   },
   "outputs": [],
   "source": [
    "from pyspark.sql import HiveContext"
   ]
  },
  {
   "cell_type": "code",
   "execution_count": 26,
   "metadata": {
    "collapsed": true
   },
   "outputs": [],
   "source": [
    "sqlContext = HiveContext(sc)"
   ]
  },
  {
   "cell_type": "code",
   "execution_count": 27,
   "metadata": {
    "collapsed": true
   },
   "outputs": [],
   "source": [
    "hive_context = HiveContext(sc)"
   ]
  },
  {
   "cell_type": "markdown",
   "metadata": {},
   "source": [
    "# RFM"
   ]
  },
  {
   "cell_type": "markdown",
   "metadata": {},
   "source": [
    "#### After creating the dataframe with the neccesary columns, we are going to perform an analysis on the data obtained, in order to cluster the potential clients and study their behaviour"
   ]
  },
  {
   "cell_type": "code",
   "execution_count": 28,
   "metadata": {
    "collapsed": true
   },
   "outputs": [],
   "source": [
    "from pyspark.ml.clustering import KMeans"
   ]
  },
  {
   "cell_type": "code",
   "execution_count": 29,
   "metadata": {
    "collapsed": false
   },
   "outputs": [],
   "source": [
    "dataset_rfm = hive_context.table('rfm_doc_unicos')"
   ]
  },
  {
   "cell_type": "code",
   "execution_count": 257,
   "metadata": {
    "collapsed": true
   },
   "outputs": [
    {
     "name": "stdout",
     "output_type": "stream",
     "text": [
      "+---------------+---------+------------------+-------+\n",
      "|document_number|frecuency|             money|recency|\n",
      "+---------------+---------+------------------+-------+\n",
      "|      000744336|        1|            221.26|     28|\n",
      "|      00152Y444|        1|             205.0|    171|\n",
      "|      002946569|        1|            291.68|    282|\n",
      "|      00453BS41|        1|            250.51|     22|\n",
      "|      00517BF34|        1|             313.0|     32|\n",
      "|      00714BO74|        1|             313.0|     32|\n",
      "|      00908BD78|        1|             266.0|    197|\n",
      "|      01060BK97|        1|               0.0|     35|\n",
      "|      013178711|        1|151.03999999999996|    328|\n",
      "|      01651Y243|        1|504.15999999999997|    113|\n",
      "|      017118282|        1|             248.3|    307|\n",
      "|       01795150|        1|             121.0|     99|\n",
      "|      02054BY00|        1|               0.0|     49|\n",
      "|      02240BO12|        1|              82.5|     52|\n",
      "|      02376W459|        1|              2.96|     26|\n",
      "|      0249756MF|        1|            559.78|    157|\n",
      "|      02577FT46|        2|1179.5900000000001|    205|\n",
      "|      02681BT96|        1|             207.3|     45|\n",
      "|      02822Y600|        1|            269.44|    178|\n",
      "|      02900FT67|        1|            432.14|     79|\n",
      "+---------------+---------+------------------+-------+\n",
      "only showing top 20 rows\n",
      "\n"
     ]
    }
   ],
   "source": [
    "dataset_rfm.show()"
   ]
  },
  {
   "cell_type": "code",
   "execution_count": 288,
   "metadata": {
    "collapsed": false
   },
   "outputs": [
    {
     "data": {
      "text/plain": [
       "pyspark.sql.dataframe.DataFrame"
      ]
     },
     "execution_count": 288,
     "metadata": {},
     "output_type": "execute_result"
    }
   ],
   "source": [
    "type(dataset_rfm)"
   ]
  },
  {
   "cell_type": "code",
   "execution_count": 30,
   "metadata": {
    "collapsed": true
   },
   "outputs": [],
   "source": [
    "cols = dataset_rfm.columns"
   ]
  },
  {
   "cell_type": "code",
   "execution_count": 31,
   "metadata": {
    "collapsed": true
   },
   "outputs": [],
   "source": [
    "from pyspark.sql.types import DoubleType"
   ]
  },
  {
   "cell_type": "code",
   "execution_count": 32,
   "metadata": {
    "collapsed": false
   },
   "outputs": [
    {
     "data": {
      "text/plain": [
       "Column<CAST(frecuency AS INT) AS `frecuencies`>"
      ]
     },
     "execution_count": 32,
     "metadata": {},
     "output_type": "execute_result"
    }
   ],
   "source": [
    "dataset_rfm.frecuency.cast(\"integer\").alias('frecuencies')"
   ]
  },
  {
   "cell_type": "code",
   "execution_count": 292,
   "metadata": {
    "collapsed": false
   },
   "outputs": [
    {
     "data": {
      "text/plain": [
       "[('document_number', 'string'),\n",
       " ('frecuency', 'bigint'),\n",
       " ('money', 'double'),\n",
       " ('recency', 'int')]"
      ]
     },
     "execution_count": 292,
     "metadata": {},
     "output_type": "execute_result"
    }
   ],
   "source": [
    "dataset_rfm.dtypes"
   ]
  },
  {
   "cell_type": "code",
   "execution_count": 250,
   "metadata": {
    "collapsed": true
   },
   "outputs": [
    {
     "ename": "KeyboardInterrupt",
     "evalue": "",
     "output_type": "error",
     "traceback": [
      "\u001b[0;31m---------------------------------------------------------------------------\u001b[0m",
      "\u001b[0;31mKeyboardInterrupt\u001b[0m                         Traceback (most recent call last)",
      "\u001b[0;32m<ipython-input-250-bd90f57d1856>\u001b[0m in \u001b[0;36m<module>\u001b[0;34m()\u001b[0m\n\u001b[0;32m----> 1\u001b[0;31m \u001b[0mdataset_rfm\u001b[0m\u001b[0;34m.\u001b[0m\u001b[0mhead\u001b[0m\u001b[0;34m(\u001b[0m\u001b[0;34m)\u001b[0m\u001b[0;34m\u001b[0m\u001b[0m\n\u001b[0m",
      "\u001b[0;32m/Users/Clarita/spark-2.1.0-bin-hadoop2.7/python/pyspark/sql/dataframe.pyc\u001b[0m in \u001b[0;36mhead\u001b[0;34m(self, n)\u001b[0m\n\u001b[1;32m    912\u001b[0m         \"\"\"\n\u001b[1;32m    913\u001b[0m         \u001b[0;32mif\u001b[0m \u001b[0mn\u001b[0m \u001b[0;32mis\u001b[0m \u001b[0mNone\u001b[0m\u001b[0;34m:\u001b[0m\u001b[0;34m\u001b[0m\u001b[0m\n\u001b[0;32m--> 914\u001b[0;31m             \u001b[0mrs\u001b[0m \u001b[0;34m=\u001b[0m \u001b[0mself\u001b[0m\u001b[0;34m.\u001b[0m\u001b[0mhead\u001b[0m\u001b[0;34m(\u001b[0m\u001b[0;36m1\u001b[0m\u001b[0;34m)\u001b[0m\u001b[0;34m\u001b[0m\u001b[0m\n\u001b[0m\u001b[1;32m    915\u001b[0m             \u001b[0;32mreturn\u001b[0m \u001b[0mrs\u001b[0m\u001b[0;34m[\u001b[0m\u001b[0;36m0\u001b[0m\u001b[0;34m]\u001b[0m \u001b[0;32mif\u001b[0m \u001b[0mrs\u001b[0m \u001b[0;32melse\u001b[0m \u001b[0mNone\u001b[0m\u001b[0;34m\u001b[0m\u001b[0m\n\u001b[1;32m    916\u001b[0m         \u001b[0;32mreturn\u001b[0m \u001b[0mself\u001b[0m\u001b[0;34m.\u001b[0m\u001b[0mtake\u001b[0m\u001b[0;34m(\u001b[0m\u001b[0mn\u001b[0m\u001b[0;34m)\u001b[0m\u001b[0;34m\u001b[0m\u001b[0m\n",
      "\u001b[0;32m/Users/Clarita/spark-2.1.0-bin-hadoop2.7/python/pyspark/sql/dataframe.pyc\u001b[0m in \u001b[0;36mhead\u001b[0;34m(self, n)\u001b[0m\n\u001b[1;32m    914\u001b[0m             \u001b[0mrs\u001b[0m \u001b[0;34m=\u001b[0m \u001b[0mself\u001b[0m\u001b[0;34m.\u001b[0m\u001b[0mhead\u001b[0m\u001b[0;34m(\u001b[0m\u001b[0;36m1\u001b[0m\u001b[0;34m)\u001b[0m\u001b[0;34m\u001b[0m\u001b[0m\n\u001b[1;32m    915\u001b[0m             \u001b[0;32mreturn\u001b[0m \u001b[0mrs\u001b[0m\u001b[0;34m[\u001b[0m\u001b[0;36m0\u001b[0m\u001b[0;34m]\u001b[0m \u001b[0;32mif\u001b[0m \u001b[0mrs\u001b[0m \u001b[0;32melse\u001b[0m \u001b[0mNone\u001b[0m\u001b[0;34m\u001b[0m\u001b[0m\n\u001b[0;32m--> 916\u001b[0;31m         \u001b[0;32mreturn\u001b[0m \u001b[0mself\u001b[0m\u001b[0;34m.\u001b[0m\u001b[0mtake\u001b[0m\u001b[0;34m(\u001b[0m\u001b[0mn\u001b[0m\u001b[0;34m)\u001b[0m\u001b[0;34m\u001b[0m\u001b[0m\n\u001b[0m\u001b[1;32m    917\u001b[0m \u001b[0;34m\u001b[0m\u001b[0m\n\u001b[1;32m    918\u001b[0m     \u001b[0;34m@\u001b[0m\u001b[0mignore_unicode_prefix\u001b[0m\u001b[0;34m\u001b[0m\u001b[0m\n",
      "\u001b[0;32m/Users/Clarita/spark-2.1.0-bin-hadoop2.7/python/pyspark/sql/dataframe.pyc\u001b[0m in \u001b[0;36mtake\u001b[0;34m(self, num)\u001b[0m\n\u001b[1;32m    427\u001b[0m         \u001b[0;34m[\u001b[0m\u001b[0mRow\u001b[0m\u001b[0;34m(\u001b[0m\u001b[0mage\u001b[0m\u001b[0;34m=\u001b[0m\u001b[0;36m2\u001b[0m\u001b[0;34m,\u001b[0m \u001b[0mname\u001b[0m\u001b[0;34m=\u001b[0m\u001b[0;34mu'Alice'\u001b[0m\u001b[0;34m)\u001b[0m\u001b[0;34m,\u001b[0m \u001b[0mRow\u001b[0m\u001b[0;34m(\u001b[0m\u001b[0mage\u001b[0m\u001b[0;34m=\u001b[0m\u001b[0;36m5\u001b[0m\u001b[0;34m,\u001b[0m \u001b[0mname\u001b[0m\u001b[0;34m=\u001b[0m\u001b[0;34mu'Bob'\u001b[0m\u001b[0;34m)\u001b[0m\u001b[0;34m]\u001b[0m\u001b[0;34m\u001b[0m\u001b[0m\n\u001b[1;32m    428\u001b[0m         \"\"\"\n\u001b[0;32m--> 429\u001b[0;31m         \u001b[0;32mreturn\u001b[0m \u001b[0mself\u001b[0m\u001b[0;34m.\u001b[0m\u001b[0mlimit\u001b[0m\u001b[0;34m(\u001b[0m\u001b[0mnum\u001b[0m\u001b[0;34m)\u001b[0m\u001b[0;34m.\u001b[0m\u001b[0mcollect\u001b[0m\u001b[0;34m(\u001b[0m\u001b[0;34m)\u001b[0m\u001b[0;34m\u001b[0m\u001b[0m\n\u001b[0m\u001b[1;32m    430\u001b[0m \u001b[0;34m\u001b[0m\u001b[0m\n\u001b[1;32m    431\u001b[0m     \u001b[0;34m@\u001b[0m\u001b[0msince\u001b[0m\u001b[0;34m(\u001b[0m\u001b[0;36m1.3\u001b[0m\u001b[0;34m)\u001b[0m\u001b[0;34m\u001b[0m\u001b[0m\n",
      "\u001b[0;32m/Users/Clarita/spark-2.1.0-bin-hadoop2.7/python/pyspark/sql/dataframe.pyc\u001b[0m in \u001b[0;36mcollect\u001b[0;34m(self)\u001b[0m\n\u001b[1;32m    389\u001b[0m         \"\"\"\n\u001b[1;32m    390\u001b[0m         \u001b[0;32mwith\u001b[0m \u001b[0mSCCallSiteSync\u001b[0m\u001b[0;34m(\u001b[0m\u001b[0mself\u001b[0m\u001b[0;34m.\u001b[0m\u001b[0m_sc\u001b[0m\u001b[0;34m)\u001b[0m \u001b[0;32mas\u001b[0m \u001b[0mcss\u001b[0m\u001b[0;34m:\u001b[0m\u001b[0;34m\u001b[0m\u001b[0m\n\u001b[0;32m--> 391\u001b[0;31m             \u001b[0mport\u001b[0m \u001b[0;34m=\u001b[0m \u001b[0mself\u001b[0m\u001b[0;34m.\u001b[0m\u001b[0m_jdf\u001b[0m\u001b[0;34m.\u001b[0m\u001b[0mcollectToPython\u001b[0m\u001b[0;34m(\u001b[0m\u001b[0;34m)\u001b[0m\u001b[0;34m\u001b[0m\u001b[0m\n\u001b[0m\u001b[1;32m    392\u001b[0m         \u001b[0;32mreturn\u001b[0m \u001b[0mlist\u001b[0m\u001b[0;34m(\u001b[0m\u001b[0m_load_from_socket\u001b[0m\u001b[0;34m(\u001b[0m\u001b[0mport\u001b[0m\u001b[0;34m,\u001b[0m \u001b[0mBatchedSerializer\u001b[0m\u001b[0;34m(\u001b[0m\u001b[0mPickleSerializer\u001b[0m\u001b[0;34m(\u001b[0m\u001b[0;34m)\u001b[0m\u001b[0;34m)\u001b[0m\u001b[0;34m)\u001b[0m\u001b[0;34m)\u001b[0m\u001b[0;34m\u001b[0m\u001b[0m\n\u001b[1;32m    393\u001b[0m \u001b[0;34m\u001b[0m\u001b[0m\n",
      "\u001b[0;32m/Users/Clarita/spark-2.1.0-bin-hadoop2.7/python/lib/py4j-0.10.4-src.zip/py4j/java_gateway.py\u001b[0m in \u001b[0;36m__call__\u001b[0;34m(self, *args)\u001b[0m\n\u001b[1;32m   1129\u001b[0m             \u001b[0mproto\u001b[0m\u001b[0;34m.\u001b[0m\u001b[0mEND_COMMAND_PART\u001b[0m\u001b[0;34m\u001b[0m\u001b[0m\n\u001b[1;32m   1130\u001b[0m \u001b[0;34m\u001b[0m\u001b[0m\n\u001b[0;32m-> 1131\u001b[0;31m         \u001b[0manswer\u001b[0m \u001b[0;34m=\u001b[0m \u001b[0mself\u001b[0m\u001b[0;34m.\u001b[0m\u001b[0mgateway_client\u001b[0m\u001b[0;34m.\u001b[0m\u001b[0msend_command\u001b[0m\u001b[0;34m(\u001b[0m\u001b[0mcommand\u001b[0m\u001b[0;34m)\u001b[0m\u001b[0;34m\u001b[0m\u001b[0m\n\u001b[0m\u001b[1;32m   1132\u001b[0m         return_value = get_return_value(\n\u001b[1;32m   1133\u001b[0m             answer, self.gateway_client, self.target_id, self.name)\n",
      "\u001b[0;32m/Users/Clarita/spark-2.1.0-bin-hadoop2.7/python/lib/py4j-0.10.4-src.zip/py4j/java_gateway.py\u001b[0m in \u001b[0;36msend_command\u001b[0;34m(self, command, retry, binary)\u001b[0m\n\u001b[1;32m    881\u001b[0m         \u001b[0mconnection\u001b[0m \u001b[0;34m=\u001b[0m \u001b[0mself\u001b[0m\u001b[0;34m.\u001b[0m\u001b[0m_get_connection\u001b[0m\u001b[0;34m(\u001b[0m\u001b[0;34m)\u001b[0m\u001b[0;34m\u001b[0m\u001b[0m\n\u001b[1;32m    882\u001b[0m         \u001b[0;32mtry\u001b[0m\u001b[0;34m:\u001b[0m\u001b[0;34m\u001b[0m\u001b[0m\n\u001b[0;32m--> 883\u001b[0;31m             \u001b[0mresponse\u001b[0m \u001b[0;34m=\u001b[0m \u001b[0mconnection\u001b[0m\u001b[0;34m.\u001b[0m\u001b[0msend_command\u001b[0m\u001b[0;34m(\u001b[0m\u001b[0mcommand\u001b[0m\u001b[0;34m)\u001b[0m\u001b[0;34m\u001b[0m\u001b[0m\n\u001b[0m\u001b[1;32m    884\u001b[0m             \u001b[0;32mif\u001b[0m \u001b[0mbinary\u001b[0m\u001b[0;34m:\u001b[0m\u001b[0;34m\u001b[0m\u001b[0m\n\u001b[1;32m    885\u001b[0m                 \u001b[0;32mreturn\u001b[0m \u001b[0mresponse\u001b[0m\u001b[0;34m,\u001b[0m \u001b[0mself\u001b[0m\u001b[0;34m.\u001b[0m\u001b[0m_create_connection_guard\u001b[0m\u001b[0;34m(\u001b[0m\u001b[0mconnection\u001b[0m\u001b[0;34m)\u001b[0m\u001b[0;34m\u001b[0m\u001b[0m\n",
      "\u001b[0;32m/Users/Clarita/spark-2.1.0-bin-hadoop2.7/python/lib/py4j-0.10.4-src.zip/py4j/java_gateway.py\u001b[0m in \u001b[0;36msend_command\u001b[0;34m(self, command)\u001b[0m\n\u001b[1;32m   1026\u001b[0m \u001b[0;34m\u001b[0m\u001b[0m\n\u001b[1;32m   1027\u001b[0m         \u001b[0;32mtry\u001b[0m\u001b[0;34m:\u001b[0m\u001b[0;34m\u001b[0m\u001b[0m\n\u001b[0;32m-> 1028\u001b[0;31m             \u001b[0manswer\u001b[0m \u001b[0;34m=\u001b[0m \u001b[0msmart_decode\u001b[0m\u001b[0;34m(\u001b[0m\u001b[0mself\u001b[0m\u001b[0;34m.\u001b[0m\u001b[0mstream\u001b[0m\u001b[0;34m.\u001b[0m\u001b[0mreadline\u001b[0m\u001b[0;34m(\u001b[0m\u001b[0;34m)\u001b[0m\u001b[0;34m[\u001b[0m\u001b[0;34m:\u001b[0m\u001b[0;34m-\u001b[0m\u001b[0;36m1\u001b[0m\u001b[0;34m]\u001b[0m\u001b[0;34m)\u001b[0m\u001b[0;34m\u001b[0m\u001b[0m\n\u001b[0m\u001b[1;32m   1029\u001b[0m             \u001b[0mlogger\u001b[0m\u001b[0;34m.\u001b[0m\u001b[0mdebug\u001b[0m\u001b[0;34m(\u001b[0m\u001b[0;34m\"Answer received: {0}\"\u001b[0m\u001b[0;34m.\u001b[0m\u001b[0mformat\u001b[0m\u001b[0;34m(\u001b[0m\u001b[0manswer\u001b[0m\u001b[0;34m)\u001b[0m\u001b[0;34m)\u001b[0m\u001b[0;34m\u001b[0m\u001b[0m\n\u001b[1;32m   1030\u001b[0m             \u001b[0;32mif\u001b[0m \u001b[0manswer\u001b[0m\u001b[0;34m.\u001b[0m\u001b[0mstartswith\u001b[0m\u001b[0;34m(\u001b[0m\u001b[0mproto\u001b[0m\u001b[0;34m.\u001b[0m\u001b[0mRETURN_MESSAGE\u001b[0m\u001b[0;34m)\u001b[0m\u001b[0;34m:\u001b[0m\u001b[0;34m\u001b[0m\u001b[0m\n",
      "\u001b[0;32m//anaconda/lib/python2.7/socket.pyc\u001b[0m in \u001b[0;36mreadline\u001b[0;34m(self, size)\u001b[0m\n\u001b[1;32m    449\u001b[0m             \u001b[0;32mwhile\u001b[0m \u001b[0mTrue\u001b[0m\u001b[0;34m:\u001b[0m\u001b[0;34m\u001b[0m\u001b[0m\n\u001b[1;32m    450\u001b[0m                 \u001b[0;32mtry\u001b[0m\u001b[0;34m:\u001b[0m\u001b[0;34m\u001b[0m\u001b[0m\n\u001b[0;32m--> 451\u001b[0;31m                     \u001b[0mdata\u001b[0m \u001b[0;34m=\u001b[0m \u001b[0mself\u001b[0m\u001b[0;34m.\u001b[0m\u001b[0m_sock\u001b[0m\u001b[0;34m.\u001b[0m\u001b[0mrecv\u001b[0m\u001b[0;34m(\u001b[0m\u001b[0mself\u001b[0m\u001b[0;34m.\u001b[0m\u001b[0m_rbufsize\u001b[0m\u001b[0;34m)\u001b[0m\u001b[0;34m\u001b[0m\u001b[0m\n\u001b[0m\u001b[1;32m    452\u001b[0m                 \u001b[0;32mexcept\u001b[0m \u001b[0merror\u001b[0m\u001b[0;34m,\u001b[0m \u001b[0me\u001b[0m\u001b[0;34m:\u001b[0m\u001b[0;34m\u001b[0m\u001b[0m\n\u001b[1;32m    453\u001b[0m                     \u001b[0;32mif\u001b[0m \u001b[0me\u001b[0m\u001b[0;34m.\u001b[0m\u001b[0margs\u001b[0m\u001b[0;34m[\u001b[0m\u001b[0;36m0\u001b[0m\u001b[0;34m]\u001b[0m \u001b[0;34m==\u001b[0m \u001b[0mEINTR\u001b[0m\u001b[0;34m:\u001b[0m\u001b[0;34m\u001b[0m\u001b[0m\n",
      "\u001b[0;31mKeyboardInterrupt\u001b[0m: "
     ]
    }
   ],
   "source": [
    "dataset_rfm.head()"
   ]
  },
  {
   "cell_type": "code",
   "execution_count": 271,
   "metadata": {
    "collapsed": false
   },
   "outputs": [
    {
     "data": {
      "text/plain": [
       "175333"
      ]
     },
     "execution_count": 271,
     "metadata": {},
     "output_type": "execute_result"
    }
   ],
   "source": [
    "dataset_rfm.count()"
   ]
  },
  {
   "cell_type": "code",
   "execution_count": 33,
   "metadata": {
    "collapsed": true
   },
   "outputs": [],
   "source": [
    "import pandas as pd\n",
    "import numpy as np"
   ]
  },
  {
   "cell_type": "code",
   "execution_count": 34,
   "metadata": {
    "collapsed": true
   },
   "outputs": [],
   "source": [
    "numericCols = ['frecuency', 'recency', 'money']"
   ]
  },
  {
   "cell_type": "code",
   "execution_count": 35,
   "metadata": {
    "collapsed": false
   },
   "outputs": [],
   "source": [
    "rfm = dataset_rfm[numericCols]"
   ]
  },
  {
   "cell_type": "code",
   "execution_count": 296,
   "metadata": {
    "collapsed": false
   },
   "outputs": [
    {
     "data": {
      "text/plain": [
       "[('frecuency', 'bigint'), ('recency', 'int'), ('money', 'double')]"
      ]
     },
     "execution_count": 296,
     "metadata": {},
     "output_type": "execute_result"
    }
   ],
   "source": [
    "rfm.dtypes"
   ]
  },
  {
   "cell_type": "code",
   "execution_count": 58,
   "metadata": {
    "collapsed": true
   },
   "outputs": [],
   "source": [
    "##rfm_final = rfm.withColumn('avgmoney', rfm.money / rfm.frecuency)"
   ]
  },
  {
   "cell_type": "code",
   "execution_count": 36,
   "metadata": {
    "collapsed": false
   },
   "outputs": [
    {
     "data": {
      "text/plain": [
       "DataFrame[frecuency: bigint, recency: int, money: double]"
      ]
     },
     "execution_count": 36,
     "metadata": {},
     "output_type": "execute_result"
    }
   ],
   "source": [
    "rfm.fillna(0)"
   ]
  },
  {
   "cell_type": "code",
   "execution_count": 254,
   "metadata": {
    "collapsed": true
   },
   "outputs": [
    {
     "ename": "KeyboardInterrupt",
     "evalue": "",
     "output_type": "error",
     "traceback": [
      "\u001b[0;31m---------------------------------------------------------------------------\u001b[0m",
      "\u001b[0;31mKeyboardInterrupt\u001b[0m                         Traceback (most recent call last)",
      "\u001b[0;32m<ipython-input-254-a6a2b3dc55b8>\u001b[0m in \u001b[0;36m<module>\u001b[0;34m()\u001b[0m\n\u001b[0;32m----> 1\u001b[0;31m \u001b[0mrfm\u001b[0m\u001b[0;34m.\u001b[0m\u001b[0mdescribe\u001b[0m\u001b[0;34m(\u001b[0m\u001b[0;34m)\u001b[0m\u001b[0;34m.\u001b[0m\u001b[0mshow\u001b[0m\u001b[0;34m(\u001b[0m\u001b[0;34m)\u001b[0m\u001b[0;34m\u001b[0m\u001b[0m\n\u001b[0m",
      "\u001b[0;32m/Users/Clarita/spark-2.1.0-bin-hadoop2.7/python/pyspark/sql/dataframe.pyc\u001b[0m in \u001b[0;36mdescribe\u001b[0;34m(self, *cols)\u001b[0m\n\u001b[1;32m    891\u001b[0m         \u001b[0;32mif\u001b[0m \u001b[0mlen\u001b[0m\u001b[0;34m(\u001b[0m\u001b[0mcols\u001b[0m\u001b[0;34m)\u001b[0m \u001b[0;34m==\u001b[0m \u001b[0;36m1\u001b[0m \u001b[0;32mand\u001b[0m \u001b[0misinstance\u001b[0m\u001b[0;34m(\u001b[0m\u001b[0mcols\u001b[0m\u001b[0;34m[\u001b[0m\u001b[0;36m0\u001b[0m\u001b[0;34m]\u001b[0m\u001b[0;34m,\u001b[0m \u001b[0mlist\u001b[0m\u001b[0;34m)\u001b[0m\u001b[0;34m:\u001b[0m\u001b[0;34m\u001b[0m\u001b[0m\n\u001b[1;32m    892\u001b[0m             \u001b[0mcols\u001b[0m \u001b[0;34m=\u001b[0m \u001b[0mcols\u001b[0m\u001b[0;34m[\u001b[0m\u001b[0;36m0\u001b[0m\u001b[0;34m]\u001b[0m\u001b[0;34m\u001b[0m\u001b[0m\n\u001b[0;32m--> 893\u001b[0;31m         \u001b[0mjdf\u001b[0m \u001b[0;34m=\u001b[0m \u001b[0mself\u001b[0m\u001b[0;34m.\u001b[0m\u001b[0m_jdf\u001b[0m\u001b[0;34m.\u001b[0m\u001b[0mdescribe\u001b[0m\u001b[0;34m(\u001b[0m\u001b[0mself\u001b[0m\u001b[0;34m.\u001b[0m\u001b[0m_jseq\u001b[0m\u001b[0;34m(\u001b[0m\u001b[0mcols\u001b[0m\u001b[0;34m)\u001b[0m\u001b[0;34m)\u001b[0m\u001b[0;34m\u001b[0m\u001b[0m\n\u001b[0m\u001b[1;32m    894\u001b[0m         \u001b[0;32mreturn\u001b[0m \u001b[0mDataFrame\u001b[0m\u001b[0;34m(\u001b[0m\u001b[0mjdf\u001b[0m\u001b[0;34m,\u001b[0m \u001b[0mself\u001b[0m\u001b[0;34m.\u001b[0m\u001b[0msql_ctx\u001b[0m\u001b[0;34m)\u001b[0m\u001b[0;34m\u001b[0m\u001b[0m\n\u001b[1;32m    895\u001b[0m \u001b[0;34m\u001b[0m\u001b[0m\n",
      "\u001b[0;32m/Users/Clarita/spark-2.1.0-bin-hadoop2.7/python/lib/py4j-0.10.4-src.zip/py4j/java_gateway.py\u001b[0m in \u001b[0;36m__call__\u001b[0;34m(self, *args)\u001b[0m\n\u001b[1;32m   1129\u001b[0m             \u001b[0mproto\u001b[0m\u001b[0;34m.\u001b[0m\u001b[0mEND_COMMAND_PART\u001b[0m\u001b[0;34m\u001b[0m\u001b[0m\n\u001b[1;32m   1130\u001b[0m \u001b[0;34m\u001b[0m\u001b[0m\n\u001b[0;32m-> 1131\u001b[0;31m         \u001b[0manswer\u001b[0m \u001b[0;34m=\u001b[0m \u001b[0mself\u001b[0m\u001b[0;34m.\u001b[0m\u001b[0mgateway_client\u001b[0m\u001b[0;34m.\u001b[0m\u001b[0msend_command\u001b[0m\u001b[0;34m(\u001b[0m\u001b[0mcommand\u001b[0m\u001b[0;34m)\u001b[0m\u001b[0;34m\u001b[0m\u001b[0m\n\u001b[0m\u001b[1;32m   1132\u001b[0m         return_value = get_return_value(\n\u001b[1;32m   1133\u001b[0m             answer, self.gateway_client, self.target_id, self.name)\n",
      "\u001b[0;32m/Users/Clarita/spark-2.1.0-bin-hadoop2.7/python/lib/py4j-0.10.4-src.zip/py4j/java_gateway.py\u001b[0m in \u001b[0;36msend_command\u001b[0;34m(self, command, retry, binary)\u001b[0m\n\u001b[1;32m    881\u001b[0m         \u001b[0mconnection\u001b[0m \u001b[0;34m=\u001b[0m \u001b[0mself\u001b[0m\u001b[0;34m.\u001b[0m\u001b[0m_get_connection\u001b[0m\u001b[0;34m(\u001b[0m\u001b[0;34m)\u001b[0m\u001b[0;34m\u001b[0m\u001b[0m\n\u001b[1;32m    882\u001b[0m         \u001b[0;32mtry\u001b[0m\u001b[0;34m:\u001b[0m\u001b[0;34m\u001b[0m\u001b[0m\n\u001b[0;32m--> 883\u001b[0;31m             \u001b[0mresponse\u001b[0m \u001b[0;34m=\u001b[0m \u001b[0mconnection\u001b[0m\u001b[0;34m.\u001b[0m\u001b[0msend_command\u001b[0m\u001b[0;34m(\u001b[0m\u001b[0mcommand\u001b[0m\u001b[0;34m)\u001b[0m\u001b[0;34m\u001b[0m\u001b[0m\n\u001b[0m\u001b[1;32m    884\u001b[0m             \u001b[0;32mif\u001b[0m \u001b[0mbinary\u001b[0m\u001b[0;34m:\u001b[0m\u001b[0;34m\u001b[0m\u001b[0m\n\u001b[1;32m    885\u001b[0m                 \u001b[0;32mreturn\u001b[0m \u001b[0mresponse\u001b[0m\u001b[0;34m,\u001b[0m \u001b[0mself\u001b[0m\u001b[0;34m.\u001b[0m\u001b[0m_create_connection_guard\u001b[0m\u001b[0;34m(\u001b[0m\u001b[0mconnection\u001b[0m\u001b[0;34m)\u001b[0m\u001b[0;34m\u001b[0m\u001b[0m\n",
      "\u001b[0;32m/Users/Clarita/spark-2.1.0-bin-hadoop2.7/python/lib/py4j-0.10.4-src.zip/py4j/java_gateway.py\u001b[0m in \u001b[0;36msend_command\u001b[0;34m(self, command)\u001b[0m\n\u001b[1;32m   1026\u001b[0m \u001b[0;34m\u001b[0m\u001b[0m\n\u001b[1;32m   1027\u001b[0m         \u001b[0;32mtry\u001b[0m\u001b[0;34m:\u001b[0m\u001b[0;34m\u001b[0m\u001b[0m\n\u001b[0;32m-> 1028\u001b[0;31m             \u001b[0manswer\u001b[0m \u001b[0;34m=\u001b[0m \u001b[0msmart_decode\u001b[0m\u001b[0;34m(\u001b[0m\u001b[0mself\u001b[0m\u001b[0;34m.\u001b[0m\u001b[0mstream\u001b[0m\u001b[0;34m.\u001b[0m\u001b[0mreadline\u001b[0m\u001b[0;34m(\u001b[0m\u001b[0;34m)\u001b[0m\u001b[0;34m[\u001b[0m\u001b[0;34m:\u001b[0m\u001b[0;34m-\u001b[0m\u001b[0;36m1\u001b[0m\u001b[0;34m]\u001b[0m\u001b[0;34m)\u001b[0m\u001b[0;34m\u001b[0m\u001b[0m\n\u001b[0m\u001b[1;32m   1029\u001b[0m             \u001b[0mlogger\u001b[0m\u001b[0;34m.\u001b[0m\u001b[0mdebug\u001b[0m\u001b[0;34m(\u001b[0m\u001b[0;34m\"Answer received: {0}\"\u001b[0m\u001b[0;34m.\u001b[0m\u001b[0mformat\u001b[0m\u001b[0;34m(\u001b[0m\u001b[0manswer\u001b[0m\u001b[0;34m)\u001b[0m\u001b[0;34m)\u001b[0m\u001b[0;34m\u001b[0m\u001b[0m\n\u001b[1;32m   1030\u001b[0m             \u001b[0;32mif\u001b[0m \u001b[0manswer\u001b[0m\u001b[0;34m.\u001b[0m\u001b[0mstartswith\u001b[0m\u001b[0;34m(\u001b[0m\u001b[0mproto\u001b[0m\u001b[0;34m.\u001b[0m\u001b[0mRETURN_MESSAGE\u001b[0m\u001b[0;34m)\u001b[0m\u001b[0;34m:\u001b[0m\u001b[0;34m\u001b[0m\u001b[0m\n",
      "\u001b[0;32m//anaconda/lib/python2.7/socket.pyc\u001b[0m in \u001b[0;36mreadline\u001b[0;34m(self, size)\u001b[0m\n\u001b[1;32m    449\u001b[0m             \u001b[0;32mwhile\u001b[0m \u001b[0mTrue\u001b[0m\u001b[0;34m:\u001b[0m\u001b[0;34m\u001b[0m\u001b[0m\n\u001b[1;32m    450\u001b[0m                 \u001b[0;32mtry\u001b[0m\u001b[0;34m:\u001b[0m\u001b[0;34m\u001b[0m\u001b[0m\n\u001b[0;32m--> 451\u001b[0;31m                     \u001b[0mdata\u001b[0m \u001b[0;34m=\u001b[0m \u001b[0mself\u001b[0m\u001b[0;34m.\u001b[0m\u001b[0m_sock\u001b[0m\u001b[0;34m.\u001b[0m\u001b[0mrecv\u001b[0m\u001b[0;34m(\u001b[0m\u001b[0mself\u001b[0m\u001b[0;34m.\u001b[0m\u001b[0m_rbufsize\u001b[0m\u001b[0;34m)\u001b[0m\u001b[0;34m\u001b[0m\u001b[0m\n\u001b[0m\u001b[1;32m    452\u001b[0m                 \u001b[0;32mexcept\u001b[0m \u001b[0merror\u001b[0m\u001b[0;34m,\u001b[0m \u001b[0me\u001b[0m\u001b[0;34m:\u001b[0m\u001b[0;34m\u001b[0m\u001b[0m\n\u001b[1;32m    453\u001b[0m                     \u001b[0;32mif\u001b[0m \u001b[0me\u001b[0m\u001b[0;34m.\u001b[0m\u001b[0margs\u001b[0m\u001b[0;34m[\u001b[0m\u001b[0;36m0\u001b[0m\u001b[0;34m]\u001b[0m \u001b[0;34m==\u001b[0m \u001b[0mEINTR\u001b[0m\u001b[0;34m:\u001b[0m\u001b[0;34m\u001b[0m\u001b[0m\n",
      "\u001b[0;31mKeyboardInterrupt\u001b[0m: "
     ]
    }
   ],
   "source": [
    "rfm.describe().show()"
   ]
  },
  {
   "cell_type": "code",
   "execution_count": 296,
   "metadata": {
    "collapsed": false
   },
   "outputs": [
    {
     "data": {
      "text/plain": [
       "[Row(max(money)=38767.9)]"
      ]
     },
     "execution_count": 296,
     "metadata": {},
     "output_type": "execute_result"
    }
   ],
   "source": [
    "rfm.groupby().('money').collect()"
   ]
  },
  {
   "cell_type": "code",
   "execution_count": 297,
   "metadata": {
    "collapsed": false
   },
   "outputs": [
    {
     "data": {
      "text/plain": [
       "1216"
      ]
     },
     "execution_count": 297,
     "metadata": {},
     "output_type": "execute_result"
    }
   ],
   "source": [
    "rfm.filter(rfm_final.money > 5000).count()"
   ]
  },
  {
   "cell_type": "code",
   "execution_count": 67,
   "metadata": {
    "collapsed": true
   },
   "outputs": [
    {
     "ename": "AnalysisException",
     "evalue": "u'Detected cartesian product for INNER join between logical plans\\nAggregate [document_number#6], [count(distinct concat(document_number#6, ,, rloc#0)) AS frecuency#448L, datediff(16071, to_date(cast(max(departure_date_leg#21) as date))) AS recency#450, sum(revenue_amount_seg#62) AS money#449, (sum(revenue_amount_seg#62) / cast(count(distinct concat(document_number#6, ,, rloc#0)) as double)) AS money_avg#1300]\\n+- Project [rloc#0, document_number#6, departure_date_leg#21, revenue_amount_seg#62]\\n   +- Join Inner, (document_number#6 = document_number#317)\\n      :- Project [rloc#0, document_number#6, departure_date_leg#21, revenue_amount_seg#62]\\n      :  +- Filter (((isnotnull(departure_date_leg#21) && isnotnull(quality_index#22)) && isnotnull(booking_status_code#34)) && ((((cast(departure_date_leg#21 as string) >= 2013-01-01) && (cast(departure_date_leg#21 as string) <= 2014-01-01)) && isnotnull(document_number#6)) && ((booking_status_code#34 = HK) && (quality_index#22 = 1.0))))\\n      :     +- Relation[rloc#0,full_name#1,gender#2,age#3,date_of_birth#4,document_type#5,document_number#6,document_country#7,nationality#8,fqtv_data#9,general_status#10,boarding_status#11,acceptance_status#12,bag_status#13,customer_accepted#14,checkin_location#15,boarded_in_all_legs_flag#16,cabin_code#17,booking_class_code#18,airline_code#19,flight_number#20,departure_date_leg#21,quality_index#22,creation_date#23,... 42 more fields] csv\\n      +- Project [document_number#317]\\n         +- Filter (count(1)#305L = 1)\\n            +- Aggregate [document_number#317], [document_number#317, count(1) AS count(1)#305L]\\n               +- Aggregate [document_number#317, gender#313, date_of_birth#315, nationality#319], [document_number#317]\\n                  +- Project [gender#313, date_of_birth#315, document_number#317, nationality#319]\\n                     +- Filter (((isnotnull(quality_index#333) && isnotnull(booking_status_code#345)) && isnotnull(departure_date_leg#332)) && ((((cast(departure_date_leg#332 as string) >= 2013-01-01) && (cast(departure_date_leg#332 as string) <= 2014-01-01)) && isnotnull(document_number#317)) && ((booking_status_code#345 = HK) && (quality_index#333 = 1.0))))\\n                        +- Relation[rloc#311,full_name#312,gender#313,age#314,date_of_birth#315,document_type#316,document_number#317,document_country#318,nationality#319,fqtv_data#320,general_status#321,boarding_status#322,acceptance_status#323,bag_status#324,customer_accepted#325,checkin_location#326,boarded_in_all_legs_flag#327,cabin_code#328,booking_class_code#329,airline_code#330,flight_number#331,departure_date_leg#332,quality_index#333,creation_date#334,... 42 more fields] csv\\nand\\nBroadcastHint\\n+- Aggregate [stddev_pop(cast(frecuency#448L as double)) AS frecuency_stddev#1320, stddev_pop(cast(recency#450 as double)) AS recency_stddev#1330, stddev_pop(money#449) AS money_stddev#1340, stddev_pop(money_avg#1300) AS money_avg_stddev#1350, avg(frecuency#448L) AS frecuency_avg#1352, avg(cast(recency#450 as bigint)) AS recency_avg#1354, avg(money#449) AS money_avg#1356, avg(money_avg#1300) AS money_avg_avg#1358]\\n   +- Aggregate [document_number#6], [count(distinct concat(document_number#6, ,, rloc#0)) AS frecuency#448L, datediff(16071, to_date(cast(max(departure_date_leg#21) as date))) AS recency#450, sum(revenue_amount_seg#62) AS money#449, (sum(revenue_amount_seg#62) / cast(count(distinct concat(document_number#6, ,, rloc#0)) as double)) AS money_avg#1300]\\n      +- Project [rloc#0, document_number#6, departure_date_leg#21, revenue_amount_seg#62]\\n         +- Join Inner, (document_number#6 = document_number#317)\\n            :- Project [rloc#0, document_number#6, departure_date_leg#21, revenue_amount_seg#62]\\n            :  +- Filter (((isnotnull(departure_date_leg#21) && isnotnull(quality_index#22)) && isnotnull(booking_status_code#34)) && ((((cast(departure_date_leg#21 as string) >= 2013-01-01) && (cast(departure_date_leg#21 as string) <= 2014-01-01)) && isnotnull(document_number#6)) && ((booking_status_code#34 = HK) && (quality_index#22 = 1.0))))\\n            :     +- Relation[rloc#0,full_name#1,gender#2,age#3,date_of_birth#4,document_type#5,document_number#6,document_country#7,nationality#8,fqtv_data#9,general_status#10,boarding_status#11,acceptance_status#12,bag_status#13,customer_accepted#14,checkin_location#15,boarded_in_all_legs_flag#16,cabin_code#17,booking_class_code#18,airline_code#19,flight_number#20,departure_date_leg#21,quality_index#22,creation_date#23,... 42 more fields] csv\\n            +- Project [document_number#317]\\n               +- Filter (count(1)#305L = 1)\\n                  +- Aggregate [document_number#317], [document_number#317, count(1) AS count(1)#305L]\\n                     +- Aggregate [document_number#317, gender#313, date_of_birth#315, nationality#319], [document_number#317]\\n                        +- Project [gender#313, date_of_birth#315, document_number#317, nationality#319]\\n                           +- Filter (((isnotnull(quality_index#333) && isnotnull(booking_status_code#345)) && isnotnull(departure_date_leg#332)) && ((((cast(departure_date_leg#332 as string) >= 2013-01-01) && (cast(departure_date_leg#332 as string) <= 2014-01-01)) && isnotnull(document_number#317)) && ((booking_status_code#345 = HK) && (quality_index#333 = 1.0))))\\n                              +- Relation[rloc#311,full_name#312,gender#313,age#314,date_of_birth#315,document_type#316,document_number#317,document_country#318,nationality#319,fqtv_data#320,general_status#321,boarding_status#322,acceptance_status#323,bag_status#324,customer_accepted#325,checkin_location#326,boarded_in_all_legs_flag#327,cabin_code#328,booking_class_code#329,airline_code#330,flight_number#331,departure_date_leg#332,quality_index#333,creation_date#334,... 42 more fields] csv\\nJoin condition is missing or trivial.\\nUse the CROSS JOIN syntax to allow cartesian products between these relations.;'",
     "output_type": "error",
     "traceback": [
      "\u001b[0;31m---------------------------------------------------------------------------\u001b[0m",
      "\u001b[0;31mAnalysisException\u001b[0m                         Traceback (most recent call last)",
      "\u001b[0;32m<ipython-input-67-2ef9f16642a5>\u001b[0m in \u001b[0;36m<module>\u001b[0;34m()\u001b[0m\n\u001b[0;32m----> 1\u001b[0;31m \u001b[0mrfm_final\u001b[0m\u001b[0;34m.\u001b[0m\u001b[0morderBy\u001b[0m\u001b[0;34m(\u001b[0m\u001b[0mrfm_final\u001b[0m\u001b[0;34m.\u001b[0m\u001b[0mmoney\u001b[0m\u001b[0;34m.\u001b[0m\u001b[0mdesc\u001b[0m\u001b[0;34m(\u001b[0m\u001b[0;34m)\u001b[0m\u001b[0;34m)\u001b[0m\u001b[0;34m.\u001b[0m\u001b[0mshow\u001b[0m\u001b[0;34m(\u001b[0m\u001b[0;36m10\u001b[0m\u001b[0;34m)\u001b[0m\u001b[0;34m\u001b[0m\u001b[0m\n\u001b[0m",
      "\u001b[0;32m/Users/Clarita/spark-2.1.0-bin-hadoop2.7/python/pyspark/sql/dataframe.pyc\u001b[0m in \u001b[0;36mshow\u001b[0;34m(self, n, truncate)\u001b[0m\n\u001b[1;32m    316\u001b[0m         \"\"\"\n\u001b[1;32m    317\u001b[0m         \u001b[0;32mif\u001b[0m \u001b[0misinstance\u001b[0m\u001b[0;34m(\u001b[0m\u001b[0mtruncate\u001b[0m\u001b[0;34m,\u001b[0m \u001b[0mbool\u001b[0m\u001b[0;34m)\u001b[0m \u001b[0;32mand\u001b[0m \u001b[0mtruncate\u001b[0m\u001b[0;34m:\u001b[0m\u001b[0;34m\u001b[0m\u001b[0m\n\u001b[0;32m--> 318\u001b[0;31m             \u001b[0;32mprint\u001b[0m\u001b[0;34m(\u001b[0m\u001b[0mself\u001b[0m\u001b[0;34m.\u001b[0m\u001b[0m_jdf\u001b[0m\u001b[0;34m.\u001b[0m\u001b[0mshowString\u001b[0m\u001b[0;34m(\u001b[0m\u001b[0mn\u001b[0m\u001b[0;34m,\u001b[0m \u001b[0;36m20\u001b[0m\u001b[0;34m)\u001b[0m\u001b[0;34m)\u001b[0m\u001b[0;34m\u001b[0m\u001b[0m\n\u001b[0m\u001b[1;32m    319\u001b[0m         \u001b[0;32melse\u001b[0m\u001b[0;34m:\u001b[0m\u001b[0;34m\u001b[0m\u001b[0m\n\u001b[1;32m    320\u001b[0m             \u001b[0;32mprint\u001b[0m\u001b[0;34m(\u001b[0m\u001b[0mself\u001b[0m\u001b[0;34m.\u001b[0m\u001b[0m_jdf\u001b[0m\u001b[0;34m.\u001b[0m\u001b[0mshowString\u001b[0m\u001b[0;34m(\u001b[0m\u001b[0mn\u001b[0m\u001b[0;34m,\u001b[0m \u001b[0mint\u001b[0m\u001b[0;34m(\u001b[0m\u001b[0mtruncate\u001b[0m\u001b[0;34m)\u001b[0m\u001b[0;34m)\u001b[0m\u001b[0;34m)\u001b[0m\u001b[0;34m\u001b[0m\u001b[0m\n",
      "\u001b[0;32m/Users/Clarita/spark-2.1.0-bin-hadoop2.7/python/lib/py4j-0.10.4-src.zip/py4j/java_gateway.py\u001b[0m in \u001b[0;36m__call__\u001b[0;34m(self, *args)\u001b[0m\n\u001b[1;32m   1131\u001b[0m         \u001b[0manswer\u001b[0m \u001b[0;34m=\u001b[0m \u001b[0mself\u001b[0m\u001b[0;34m.\u001b[0m\u001b[0mgateway_client\u001b[0m\u001b[0;34m.\u001b[0m\u001b[0msend_command\u001b[0m\u001b[0;34m(\u001b[0m\u001b[0mcommand\u001b[0m\u001b[0;34m)\u001b[0m\u001b[0;34m\u001b[0m\u001b[0m\n\u001b[1;32m   1132\u001b[0m         return_value = get_return_value(\n\u001b[0;32m-> 1133\u001b[0;31m             answer, self.gateway_client, self.target_id, self.name)\n\u001b[0m\u001b[1;32m   1134\u001b[0m \u001b[0;34m\u001b[0m\u001b[0m\n\u001b[1;32m   1135\u001b[0m         \u001b[0;32mfor\u001b[0m \u001b[0mtemp_arg\u001b[0m \u001b[0;32min\u001b[0m \u001b[0mtemp_args\u001b[0m\u001b[0;34m:\u001b[0m\u001b[0;34m\u001b[0m\u001b[0m\n",
      "\u001b[0;32m/Users/Clarita/spark-2.1.0-bin-hadoop2.7/python/pyspark/sql/utils.pyc\u001b[0m in \u001b[0;36mdeco\u001b[0;34m(*a, **kw)\u001b[0m\n\u001b[1;32m     67\u001b[0m                                              e.java_exception.getStackTrace()))\n\u001b[1;32m     68\u001b[0m             \u001b[0;32mif\u001b[0m \u001b[0ms\u001b[0m\u001b[0;34m.\u001b[0m\u001b[0mstartswith\u001b[0m\u001b[0;34m(\u001b[0m\u001b[0;34m'org.apache.spark.sql.AnalysisException: '\u001b[0m\u001b[0;34m)\u001b[0m\u001b[0;34m:\u001b[0m\u001b[0;34m\u001b[0m\u001b[0m\n\u001b[0;32m---> 69\u001b[0;31m                 \u001b[0;32mraise\u001b[0m \u001b[0mAnalysisException\u001b[0m\u001b[0;34m(\u001b[0m\u001b[0ms\u001b[0m\u001b[0;34m.\u001b[0m\u001b[0msplit\u001b[0m\u001b[0;34m(\u001b[0m\u001b[0;34m': '\u001b[0m\u001b[0;34m,\u001b[0m \u001b[0;36m1\u001b[0m\u001b[0;34m)\u001b[0m\u001b[0;34m[\u001b[0m\u001b[0;36m1\u001b[0m\u001b[0;34m]\u001b[0m\u001b[0;34m,\u001b[0m \u001b[0mstackTrace\u001b[0m\u001b[0;34m)\u001b[0m\u001b[0;34m\u001b[0m\u001b[0m\n\u001b[0m\u001b[1;32m     70\u001b[0m             \u001b[0;32mif\u001b[0m \u001b[0ms\u001b[0m\u001b[0;34m.\u001b[0m\u001b[0mstartswith\u001b[0m\u001b[0;34m(\u001b[0m\u001b[0;34m'org.apache.spark.sql.catalyst.analysis'\u001b[0m\u001b[0;34m)\u001b[0m\u001b[0;34m:\u001b[0m\u001b[0;34m\u001b[0m\u001b[0m\n\u001b[1;32m     71\u001b[0m                 \u001b[0;32mraise\u001b[0m \u001b[0mAnalysisException\u001b[0m\u001b[0;34m(\u001b[0m\u001b[0ms\u001b[0m\u001b[0;34m.\u001b[0m\u001b[0msplit\u001b[0m\u001b[0;34m(\u001b[0m\u001b[0;34m': '\u001b[0m\u001b[0;34m,\u001b[0m \u001b[0;36m1\u001b[0m\u001b[0;34m)\u001b[0m\u001b[0;34m[\u001b[0m\u001b[0;36m1\u001b[0m\u001b[0;34m]\u001b[0m\u001b[0;34m,\u001b[0m \u001b[0mstackTrace\u001b[0m\u001b[0;34m)\u001b[0m\u001b[0;34m\u001b[0m\u001b[0m\n",
      "\u001b[0;31mAnalysisException\u001b[0m: u'Detected cartesian product for INNER join between logical plans\\nAggregate [document_number#6], [count(distinct concat(document_number#6, ,, rloc#0)) AS frecuency#448L, datediff(16071, to_date(cast(max(departure_date_leg#21) as date))) AS recency#450, sum(revenue_amount_seg#62) AS money#449, (sum(revenue_amount_seg#62) / cast(count(distinct concat(document_number#6, ,, rloc#0)) as double)) AS money_avg#1300]\\n+- Project [rloc#0, document_number#6, departure_date_leg#21, revenue_amount_seg#62]\\n   +- Join Inner, (document_number#6 = document_number#317)\\n      :- Project [rloc#0, document_number#6, departure_date_leg#21, revenue_amount_seg#62]\\n      :  +- Filter (((isnotnull(departure_date_leg#21) && isnotnull(quality_index#22)) && isnotnull(booking_status_code#34)) && ((((cast(departure_date_leg#21 as string) >= 2013-01-01) && (cast(departure_date_leg#21 as string) <= 2014-01-01)) && isnotnull(document_number#6)) && ((booking_status_code#34 = HK) && (quality_index#22 = 1.0))))\\n      :     +- Relation[rloc#0,full_name#1,gender#2,age#3,date_of_birth#4,document_type#5,document_number#6,document_country#7,nationality#8,fqtv_data#9,general_status#10,boarding_status#11,acceptance_status#12,bag_status#13,customer_accepted#14,checkin_location#15,boarded_in_all_legs_flag#16,cabin_code#17,booking_class_code#18,airline_code#19,flight_number#20,departure_date_leg#21,quality_index#22,creation_date#23,... 42 more fields] csv\\n      +- Project [document_number#317]\\n         +- Filter (count(1)#305L = 1)\\n            +- Aggregate [document_number#317], [document_number#317, count(1) AS count(1)#305L]\\n               +- Aggregate [document_number#317, gender#313, date_of_birth#315, nationality#319], [document_number#317]\\n                  +- Project [gender#313, date_of_birth#315, document_number#317, nationality#319]\\n                     +- Filter (((isnotnull(quality_index#333) && isnotnull(booking_status_code#345)) && isnotnull(departure_date_leg#332)) && ((((cast(departure_date_leg#332 as string) >= 2013-01-01) && (cast(departure_date_leg#332 as string) <= 2014-01-01)) && isnotnull(document_number#317)) && ((booking_status_code#345 = HK) && (quality_index#333 = 1.0))))\\n                        +- Relation[rloc#311,full_name#312,gender#313,age#314,date_of_birth#315,document_type#316,document_number#317,document_country#318,nationality#319,fqtv_data#320,general_status#321,boarding_status#322,acceptance_status#323,bag_status#324,customer_accepted#325,checkin_location#326,boarded_in_all_legs_flag#327,cabin_code#328,booking_class_code#329,airline_code#330,flight_number#331,departure_date_leg#332,quality_index#333,creation_date#334,... 42 more fields] csv\\nand\\nBroadcastHint\\n+- Aggregate [stddev_pop(cast(frecuency#448L as double)) AS frecuency_stddev#1320, stddev_pop(cast(recency#450 as double)) AS recency_stddev#1330, stddev_pop(money#449) AS money_stddev#1340, stddev_pop(money_avg#1300) AS money_avg_stddev#1350, avg(frecuency#448L) AS frecuency_avg#1352, avg(cast(recency#450 as bigint)) AS recency_avg#1354, avg(money#449) AS money_avg#1356, avg(money_avg#1300) AS money_avg_avg#1358]\\n   +- Aggregate [document_number#6], [count(distinct concat(document_number#6, ,, rloc#0)) AS frecuency#448L, datediff(16071, to_date(cast(max(departure_date_leg#21) as date))) AS recency#450, sum(revenue_amount_seg#62) AS money#449, (sum(revenue_amount_seg#62) / cast(count(distinct concat(document_number#6, ,, rloc#0)) as double)) AS money_avg#1300]\\n      +- Project [rloc#0, document_number#6, departure_date_leg#21, revenue_amount_seg#62]\\n         +- Join Inner, (document_number#6 = document_number#317)\\n            :- Project [rloc#0, document_number#6, departure_date_leg#21, revenue_amount_seg#62]\\n            :  +- Filter (((isnotnull(departure_date_leg#21) && isnotnull(quality_index#22)) && isnotnull(booking_status_code#34)) && ((((cast(departure_date_leg#21 as string) >= 2013-01-01) && (cast(departure_date_leg#21 as string) <= 2014-01-01)) && isnotnull(document_number#6)) && ((booking_status_code#34 = HK) && (quality_index#22 = 1.0))))\\n            :     +- Relation[rloc#0,full_name#1,gender#2,age#3,date_of_birth#4,document_type#5,document_number#6,document_country#7,nationality#8,fqtv_data#9,general_status#10,boarding_status#11,acceptance_status#12,bag_status#13,customer_accepted#14,checkin_location#15,boarded_in_all_legs_flag#16,cabin_code#17,booking_class_code#18,airline_code#19,flight_number#20,departure_date_leg#21,quality_index#22,creation_date#23,... 42 more fields] csv\\n            +- Project [document_number#317]\\n               +- Filter (count(1)#305L = 1)\\n                  +- Aggregate [document_number#317], [document_number#317, count(1) AS count(1)#305L]\\n                     +- Aggregate [document_number#317, gender#313, date_of_birth#315, nationality#319], [document_number#317]\\n                        +- Project [gender#313, date_of_birth#315, document_number#317, nationality#319]\\n                           +- Filter (((isnotnull(quality_index#333) && isnotnull(booking_status_code#345)) && isnotnull(departure_date_leg#332)) && ((((cast(departure_date_leg#332 as string) >= 2013-01-01) && (cast(departure_date_leg#332 as string) <= 2014-01-01)) && isnotnull(document_number#317)) && ((booking_status_code#345 = HK) && (quality_index#333 = 1.0))))\\n                              +- Relation[rloc#311,full_name#312,gender#313,age#314,date_of_birth#315,document_type#316,document_number#317,document_country#318,nationality#319,fqtv_data#320,general_status#321,boarding_status#322,acceptance_status#323,bag_status#324,customer_accepted#325,checkin_location#326,boarded_in_all_legs_flag#327,cabin_code#328,booking_class_code#329,airline_code#330,flight_number#331,departure_date_leg#332,quality_index#333,creation_date#334,... 42 more fields] csv\\nJoin condition is missing or trivial.\\nUse the CROSS JOIN syntax to allow cartesian products between these relations.;'"
     ]
    }
   ],
   "source": [
    "rfm.orderBy(rfm_final.money.desc()).show(10)"
   ]
  },
  {
   "cell_type": "code",
   "execution_count": 37,
   "metadata": {
    "collapsed": false
   },
   "outputs": [],
   "source": [
    "from pyspark.sql.functions import stddev_pop, avg, broadcast"
   ]
  },
  {
   "cell_type": "code",
   "execution_count": 38,
   "metadata": {
    "collapsed": true
   },
   "outputs": [],
   "source": [
    "cols = rfm.columns"
   ]
  },
  {
   "cell_type": "code",
   "execution_count": 39,
   "metadata": {
    "collapsed": false
   },
   "outputs": [],
   "source": [
    "stats = (rfm.groupBy().agg(*([stddev_pop(x).alias(x + '_stddev') for x in cols] + [avg(x).alias(x + '_avg') for x in cols])))\n",
    "\n",
    "\n"
   ]
  },
  {
   "cell_type": "code",
   "execution_count": 301,
   "metadata": {
    "collapsed": false
   },
   "outputs": [
    {
     "data": {
      "text/plain": [
       "[('frecuency', 'bigint'), ('recency', 'int'), ('money', 'double')]"
      ]
     },
     "execution_count": 301,
     "metadata": {},
     "output_type": "execute_result"
    }
   ],
   "source": [
    "rfm.dtypes"
   ]
  },
  {
   "cell_type": "code",
   "execution_count": 40,
   "metadata": {
    "collapsed": true
   },
   "outputs": [],
   "source": [
    "rfm = rfm.crossJoin(broadcast(stats))"
   ]
  },
  {
   "cell_type": "code",
   "execution_count": 303,
   "metadata": {
    "collapsed": false
   },
   "outputs": [
    {
     "data": {
      "text/plain": [
       "[('frecuency', 'bigint'),\n",
       " ('recency', 'int'),\n",
       " ('money', 'double'),\n",
       " ('frecuency_stddev', 'double'),\n",
       " ('recency_stddev', 'double'),\n",
       " ('money_stddev', 'double'),\n",
       " ('frecuency_avg', 'double'),\n",
       " ('recency_avg', 'double'),\n",
       " ('money_avg', 'double')]"
      ]
     },
     "execution_count": 303,
     "metadata": {},
     "output_type": "execute_result"
    }
   ],
   "source": [
    "rfm.dtypes"
   ]
  },
  {
   "cell_type": "code",
   "execution_count": 41,
   "metadata": {
    "collapsed": false
   },
   "outputs": [],
   "source": [
    "exprs = [(rfm[x] - rfm[x + '_avg']) / rfm[x + '_stddev'] for x in cols]"
   ]
  },
  {
   "cell_type": "code",
   "execution_count": 305,
   "metadata": {
    "collapsed": true
   },
   "outputs": [
    {
     "name": "stdout",
     "output_type": "stream",
     "text": [
      "+------------------------------------------------+------------------------------------------+------------------------------------+\n",
      "|((frecuency - frecuency_avg) / frecuency_stddev)|((recency - recency_avg) / recency_stddev)|((money - money_avg) / money_stddev)|\n",
      "+------------------------------------------------+------------------------------------------+------------------------------------+\n",
      "|                             -0.2808482537018044|                       -1.0054123881526456|                 -0.3402957172676322|\n",
      "|                             -0.2808482537018044|                       0.34255203380677673|                 -0.3576228125560959|\n",
      "|                             -0.2808482537018044|                        1.3888740676354192|                 -0.2652542627649498|\n",
      "|                             -0.2808482537018044|                       -1.0619703359271668|                -0.30912612703469466|\n",
      "|                             -0.2808482537018044|                       -0.9677070896362981|                  -0.242535094772942|\n",
      "|                             -0.2808482537018044|                       -0.9677070896362981|                  -0.242535094772942|\n",
      "|                             -0.2808482537018044|                        0.5876364741630353|                -0.29261956454894417|\n",
      "|                             -0.2808482537018044|                       -0.9394281157490375|                 -0.5760763509407862|\n",
      "|                             -0.2808482537018044|                        1.8224850005734152|                 -0.4151240463670125|\n",
      "|                             -0.2808482537018044|                       -0.2041747946802617|                -0.03882983429675959|\n",
      "|                             -0.2808482537018044|                         1.624532183362591|                -0.31148116274118326|\n",
      "|                             -0.2808482537018044|                       -0.3361433394874779|                 -0.4471354819429934|\n",
      "|                             -0.2808482537018044|                       -0.8074595709418213|                 -0.5760763509407862|\n",
      "|                             -0.2808482537018044|                       -0.7791805970545608|                 -0.4881621220786548|\n",
      "|                             -0.2808482537018044|                       -1.0242650374108193|                 -0.5729220949719146|\n",
      "|                             -0.2808482537018044|                       0.21058348899956056|                 0.02044034036156469|\n",
      "|                              1.0434301151207663|                        0.6630470711957303|                  0.6809266214650522|\n",
      "|                             -0.2808482537018044|                       -0.8451648694581688|                -0.35517187041812137|\n",
      "|                             -0.2808482537018044|                       0.40853630621038484|                -0.28895380761214745|\n",
      "|                             -0.2808482537018044|                       -0.5246698320692152|                -0.11557629202585906|\n",
      "+------------------------------------------------+------------------------------------------+------------------------------------+\n",
      "only showing top 20 rows\n",
      "\n"
     ]
    }
   ],
   "source": [
    "rfm.select(exprs).show()"
   ]
  },
  {
   "cell_type": "code",
   "execution_count": 106,
   "metadata": {
    "collapsed": true
   },
   "outputs": [
    {
     "name": "stdout",
     "output_type": "stream",
     "text": [
      "+---------+-------+------------------+------------------+------------------+-----------------+------------------+-----------------+-----------------+\n",
      "|frecuency|recency|             money|  frecuency_stddev|    recency_stddev|     money_stddev|     frecuency_avg|      recency_avg|        money_avg|\n",
      "+---------+-------+------------------+------------------+------------------+-----------------+------------------+-----------------+-----------------+\n",
      "|        1|     28|            221.26|0.7551282445918905|106.08588599996797|938.4146465002593|1.2120764488145415|134.6600639925171|540.5984852252573|\n",
      "|        1|    171|             205.0|0.7551282445918905|106.08588599996797|938.4146465002593|1.2120764488145415|134.6600639925171|540.5984852252573|\n",
      "|        1|    282|            291.68|0.7551282445918905|106.08588599996797|938.4146465002593|1.2120764488145415|134.6600639925171|540.5984852252573|\n",
      "|        1|     22|            250.51|0.7551282445918905|106.08588599996797|938.4146465002593|1.2120764488145415|134.6600639925171|540.5984852252573|\n",
      "|        1|     32|             313.0|0.7551282445918905|106.08588599996797|938.4146465002593|1.2120764488145415|134.6600639925171|540.5984852252573|\n",
      "|        1|     32|             313.0|0.7551282445918905|106.08588599996797|938.4146465002593|1.2120764488145415|134.6600639925171|540.5984852252573|\n",
      "|        1|    197|             266.0|0.7551282445918905|106.08588599996797|938.4146465002593|1.2120764488145415|134.6600639925171|540.5984852252573|\n",
      "|        1|     35|               0.0|0.7551282445918905|106.08588599996797|938.4146465002593|1.2120764488145415|134.6600639925171|540.5984852252573|\n",
      "|        1|    328|151.03999999999996|0.7551282445918905|106.08588599996797|938.4146465002593|1.2120764488145415|134.6600639925171|540.5984852252573|\n",
      "|        1|    113|504.15999999999997|0.7551282445918905|106.08588599996797|938.4146465002593|1.2120764488145415|134.6600639925171|540.5984852252573|\n",
      "|        1|    307|             248.3|0.7551282445918905|106.08588599996797|938.4146465002593|1.2120764488145415|134.6600639925171|540.5984852252573|\n",
      "|        1|     99|             121.0|0.7551282445918905|106.08588599996797|938.4146465002593|1.2120764488145415|134.6600639925171|540.5984852252573|\n",
      "|        1|     49|               0.0|0.7551282445918905|106.08588599996797|938.4146465002593|1.2120764488145415|134.6600639925171|540.5984852252573|\n",
      "|        1|     52|              82.5|0.7551282445918905|106.08588599996797|938.4146465002593|1.2120764488145415|134.6600639925171|540.5984852252573|\n",
      "|        1|     26|              2.96|0.7551282445918905|106.08588599996797|938.4146465002593|1.2120764488145415|134.6600639925171|540.5984852252573|\n",
      "|        1|    157|            559.78|0.7551282445918905|106.08588599996797|938.4146465002593|1.2120764488145415|134.6600639925171|540.5984852252573|\n",
      "|        2|    205|1179.5900000000001|0.7551282445918905|106.08588599996797|938.4146465002593|1.2120764488145415|134.6600639925171|540.5984852252573|\n",
      "|        1|     45|             207.3|0.7551282445918905|106.08588599996797|938.4146465002593|1.2120764488145415|134.6600639925171|540.5984852252573|\n",
      "|        1|    178|            269.44|0.7551282445918905|106.08588599996797|938.4146465002593|1.2120764488145415|134.6600639925171|540.5984852252573|\n",
      "|        1|     79|            432.14|0.7551282445918905|106.08588599996797|938.4146465002593|1.2120764488145415|134.6600639925171|540.5984852252573|\n",
      "+---------+-------+------------------+------------------+------------------+-----------------+------------------+-----------------+-----------------+\n",
      "only showing top 20 rows\n",
      "\n"
     ]
    }
   ],
   "source": [
    "rfm.show()"
   ]
  },
  {
   "cell_type": "code",
   "execution_count": 239,
   "metadata": {
    "collapsed": false
   },
   "outputs": [
    {
     "data": {
      "text/plain": [
       "pyspark.sql.dataframe.DataFrame"
      ]
     },
     "execution_count": 239,
     "metadata": {},
     "output_type": "execute_result"
    }
   ],
   "source": [
    "type(rfm)"
   ]
  },
  {
   "cell_type": "code",
   "execution_count": 42,
   "metadata": {
    "collapsed": false
   },
   "outputs": [],
   "source": [
    "rfm_final = rfm.toPandas()"
   ]
  },
  {
   "cell_type": "code",
   "execution_count": 307,
   "metadata": {
    "collapsed": false
   },
   "outputs": [
    {
     "data": {
      "text/html": [
       "<div>\n",
       "<table border=\"1\" class=\"dataframe\">\n",
       "  <thead>\n",
       "    <tr style=\"text-align: right;\">\n",
       "      <th></th>\n",
       "      <th>frecuency</th>\n",
       "      <th>recency</th>\n",
       "      <th>money</th>\n",
       "      <th>frecuency_stddev</th>\n",
       "      <th>recency_stddev</th>\n",
       "      <th>money_stddev</th>\n",
       "      <th>frecuency_avg</th>\n",
       "      <th>recency_avg</th>\n",
       "      <th>money_avg</th>\n",
       "    </tr>\n",
       "  </thead>\n",
       "  <tbody>\n",
       "    <tr>\n",
       "      <th>0</th>\n",
       "      <td>1</td>\n",
       "      <td>28</td>\n",
       "      <td>221.26</td>\n",
       "      <td>0.755128</td>\n",
       "      <td>106.085886</td>\n",
       "      <td>938.414647</td>\n",
       "      <td>1.212076</td>\n",
       "      <td>134.660064</td>\n",
       "      <td>540.598485</td>\n",
       "    </tr>\n",
       "    <tr>\n",
       "      <th>1</th>\n",
       "      <td>1</td>\n",
       "      <td>171</td>\n",
       "      <td>205.00</td>\n",
       "      <td>0.755128</td>\n",
       "      <td>106.085886</td>\n",
       "      <td>938.414647</td>\n",
       "      <td>1.212076</td>\n",
       "      <td>134.660064</td>\n",
       "      <td>540.598485</td>\n",
       "    </tr>\n",
       "  </tbody>\n",
       "</table>\n",
       "</div>"
      ],
      "text/plain": [
       "   frecuency  recency   money  frecuency_stddev  recency_stddev  money_stddev  \\\n",
       "0          1       28  221.26          0.755128      106.085886    938.414647   \n",
       "1          1      171  205.00          0.755128      106.085886    938.414647   \n",
       "\n",
       "   frecuency_avg  recency_avg   money_avg  \n",
       "0       1.212076   134.660064  540.598485  \n",
       "1       1.212076   134.660064  540.598485  "
      ]
     },
     "execution_count": 307,
     "metadata": {},
     "output_type": "execute_result"
    }
   ],
   "source": [
    "rfm_final.head(2)"
   ]
  },
  {
   "cell_type": "code",
   "execution_count": 43,
   "metadata": {
    "collapsed": false
   },
   "outputs": [],
   "source": [
    "rfm_final = rfm.select(exprs).toPandas()"
   ]
  },
  {
   "cell_type": "code",
   "execution_count": 311,
   "metadata": {
    "collapsed": false
   },
   "outputs": [
    {
     "data": {
      "text/html": [
       "<div>\n",
       "<table border=\"1\" class=\"dataframe\">\n",
       "  <thead>\n",
       "    <tr style=\"text-align: right;\">\n",
       "      <th></th>\n",
       "      <th>((frecuency - frecuency_avg) / frecuency_stddev)</th>\n",
       "      <th>((recency - recency_avg) / recency_stddev)</th>\n",
       "      <th>((money - money_avg) / money_stddev)</th>\n",
       "    </tr>\n",
       "  </thead>\n",
       "  <tbody>\n",
       "    <tr>\n",
       "      <th>0</th>\n",
       "      <td>-0.280848</td>\n",
       "      <td>-1.005412</td>\n",
       "      <td>-0.340296</td>\n",
       "    </tr>\n",
       "    <tr>\n",
       "      <th>1</th>\n",
       "      <td>-0.280848</td>\n",
       "      <td>0.342552</td>\n",
       "      <td>-0.357623</td>\n",
       "    </tr>\n",
       "  </tbody>\n",
       "</table>\n",
       "</div>"
      ],
      "text/plain": [
       "   ((frecuency - frecuency_avg) / frecuency_stddev)  \\\n",
       "0                                         -0.280848   \n",
       "1                                         -0.280848   \n",
       "\n",
       "   ((recency - recency_avg) / recency_stddev)  \\\n",
       "0                                   -1.005412   \n",
       "1                                    0.342552   \n",
       "\n",
       "   ((money - money_avg) / money_stddev)  \n",
       "0                             -0.340296  \n",
       "1                             -0.357623  "
      ]
     },
     "execution_count": 311,
     "metadata": {},
     "output_type": "execute_result"
    }
   ],
   "source": [
    "rfm_final.head(2)"
   ]
  },
  {
   "cell_type": "code",
   "execution_count": 45,
   "metadata": {
    "collapsed": false
   },
   "outputs": [],
   "source": [
    "rfm_final.columns = ['frecuency_scaled', 'recency_scaled', 'money_scaled']"
   ]
  },
  {
   "cell_type": "code",
   "execution_count": 375,
   "metadata": {
    "collapsed": false
   },
   "outputs": [
    {
     "data": {
      "text/html": [
       "<div>\n",
       "<table border=\"1\" class=\"dataframe\">\n",
       "  <thead>\n",
       "    <tr style=\"text-align: right;\">\n",
       "      <th></th>\n",
       "      <th>frecuency_scaled</th>\n",
       "      <th>recency_scaled</th>\n",
       "      <th>money_scaled</th>\n",
       "      <th>cluster</th>\n",
       "    </tr>\n",
       "  </thead>\n",
       "  <tbody>\n",
       "    <tr>\n",
       "      <th>0</th>\n",
       "      <td>-0.280848</td>\n",
       "      <td>-1.005412</td>\n",
       "      <td>-0.340296</td>\n",
       "      <td>0</td>\n",
       "    </tr>\n",
       "    <tr>\n",
       "      <th>1</th>\n",
       "      <td>-0.280848</td>\n",
       "      <td>0.342552</td>\n",
       "      <td>-0.357623</td>\n",
       "      <td>2</td>\n",
       "    </tr>\n",
       "  </tbody>\n",
       "</table>\n",
       "</div>"
      ],
      "text/plain": [
       "   frecuency_scaled  recency_scaled  money_scaled  cluster\n",
       "0         -0.280848       -1.005412     -0.340296        0\n",
       "1         -0.280848        0.342552     -0.357623        2"
      ]
     },
     "execution_count": 375,
     "metadata": {},
     "output_type": "execute_result"
    }
   ],
   "source": [
    "rfm_final.head(2)"
   ]
  },
  {
   "cell_type": "code",
   "execution_count": 46,
   "metadata": {
    "collapsed": true
   },
   "outputs": [],
   "source": [
    "from numpy import array\n",
    "from math import sqrt\n",
    "from pyspark.ml.clustering import KMeans, KMeansModel"
   ]
  },
  {
   "cell_type": "code",
   "execution_count": 47,
   "metadata": {
    "collapsed": true
   },
   "outputs": [],
   "source": [
    "import matplotlib.pyplot as plt\n",
    "from sklearn import datasets\n",
    "from sklearn.cluster import KMeans\n",
    "import sklearn.metrics as sm"
   ]
  },
  {
   "cell_type": "code",
   "execution_count": 48,
   "metadata": {
    "collapsed": false
   },
   "outputs": [],
   "source": [
    "kmeans = KMeans(n_clusters= 4)"
   ]
  },
  {
   "cell_type": "code",
   "execution_count": 49,
   "metadata": {
    "collapsed": true
   },
   "outputs": [],
   "source": [
    "clusters = kmeans.fit_predict(rfm_final)"
   ]
  },
  {
   "cell_type": "code",
   "execution_count": 50,
   "metadata": {
    "collapsed": true
   },
   "outputs": [],
   "source": [
    "rfm_final['cluster'] = clusters"
   ]
  },
  {
   "cell_type": "code",
   "execution_count": 411,
   "metadata": {
    "collapsed": false,
    "scrolled": true
   },
   "outputs": [
    {
     "data": {
      "text/html": [
       "<div>\n",
       "<table border=\"1\" class=\"dataframe\">\n",
       "  <thead>\n",
       "    <tr style=\"text-align: right;\">\n",
       "      <th></th>\n",
       "      <th>frecuency_scaled</th>\n",
       "      <th>recency_scaled</th>\n",
       "      <th>money_scaled</th>\n",
       "      <th>cluster</th>\n",
       "    </tr>\n",
       "  </thead>\n",
       "  <tbody>\n",
       "    <tr>\n",
       "      <th>0</th>\n",
       "      <td>-0.280848</td>\n",
       "      <td>-1.005412</td>\n",
       "      <td>-0.340296</td>\n",
       "      <td>1</td>\n",
       "    </tr>\n",
       "    <tr>\n",
       "      <th>1</th>\n",
       "      <td>-0.280848</td>\n",
       "      <td>0.342552</td>\n",
       "      <td>-0.357623</td>\n",
       "      <td>0</td>\n",
       "    </tr>\n",
       "    <tr>\n",
       "      <th>2</th>\n",
       "      <td>-0.280848</td>\n",
       "      <td>1.388874</td>\n",
       "      <td>-0.265254</td>\n",
       "      <td>0</td>\n",
       "    </tr>\n",
       "    <tr>\n",
       "      <th>3</th>\n",
       "      <td>-0.280848</td>\n",
       "      <td>-1.061970</td>\n",
       "      <td>-0.309126</td>\n",
       "      <td>1</td>\n",
       "    </tr>\n",
       "    <tr>\n",
       "      <th>4</th>\n",
       "      <td>-0.280848</td>\n",
       "      <td>-0.967707</td>\n",
       "      <td>-0.242535</td>\n",
       "      <td>1</td>\n",
       "    </tr>\n",
       "  </tbody>\n",
       "</table>\n",
       "</div>"
      ],
      "text/plain": [
       "   frecuency_scaled  recency_scaled  money_scaled  cluster\n",
       "0         -0.280848       -1.005412     -0.340296        1\n",
       "1         -0.280848        0.342552     -0.357623        0\n",
       "2         -0.280848        1.388874     -0.265254        0\n",
       "3         -0.280848       -1.061970     -0.309126        1\n",
       "4         -0.280848       -0.967707     -0.242535        1"
      ]
     },
     "execution_count": 411,
     "metadata": {},
     "output_type": "execute_result"
    }
   ],
   "source": [
    "rfm_final.head(5)"
   ]
  },
  {
   "cell_type": "code",
   "execution_count": 323,
   "metadata": {
    "collapsed": true
   },
   "outputs": [
    {
     "data": {
      "text/html": [
       "<div>\n",
       "<table border=\"1\" class=\"dataframe\">\n",
       "  <thead>\n",
       "    <tr style=\"text-align: right;\">\n",
       "      <th></th>\n",
       "      <th>frecuency</th>\n",
       "      <th>recency</th>\n",
       "      <th>money</th>\n",
       "      <th>frecuency_stddev</th>\n",
       "      <th>recency_stddev</th>\n",
       "      <th>money_stddev</th>\n",
       "      <th>frecuency_avg</th>\n",
       "      <th>recency_avg</th>\n",
       "      <th>money_avg</th>\n",
       "    </tr>\n",
       "  </thead>\n",
       "  <tbody>\n",
       "    <tr>\n",
       "      <th>0</th>\n",
       "      <td>1</td>\n",
       "      <td>28</td>\n",
       "      <td>221.26</td>\n",
       "      <td>0.755128</td>\n",
       "      <td>106.085886</td>\n",
       "      <td>938.414647</td>\n",
       "      <td>1.212076</td>\n",
       "      <td>134.660064</td>\n",
       "      <td>540.598485</td>\n",
       "    </tr>\n",
       "    <tr>\n",
       "      <th>1</th>\n",
       "      <td>1</td>\n",
       "      <td>171</td>\n",
       "      <td>205.00</td>\n",
       "      <td>0.755128</td>\n",
       "      <td>106.085886</td>\n",
       "      <td>938.414647</td>\n",
       "      <td>1.212076</td>\n",
       "      <td>134.660064</td>\n",
       "      <td>540.598485</td>\n",
       "    </tr>\n",
       "    <tr>\n",
       "      <th>2</th>\n",
       "      <td>1</td>\n",
       "      <td>282</td>\n",
       "      <td>291.68</td>\n",
       "      <td>0.755128</td>\n",
       "      <td>106.085886</td>\n",
       "      <td>938.414647</td>\n",
       "      <td>1.212076</td>\n",
       "      <td>134.660064</td>\n",
       "      <td>540.598485</td>\n",
       "    </tr>\n",
       "    <tr>\n",
       "      <th>3</th>\n",
       "      <td>1</td>\n",
       "      <td>22</td>\n",
       "      <td>250.51</td>\n",
       "      <td>0.755128</td>\n",
       "      <td>106.085886</td>\n",
       "      <td>938.414647</td>\n",
       "      <td>1.212076</td>\n",
       "      <td>134.660064</td>\n",
       "      <td>540.598485</td>\n",
       "    </tr>\n",
       "    <tr>\n",
       "      <th>4</th>\n",
       "      <td>1</td>\n",
       "      <td>32</td>\n",
       "      <td>313.00</td>\n",
       "      <td>0.755128</td>\n",
       "      <td>106.085886</td>\n",
       "      <td>938.414647</td>\n",
       "      <td>1.212076</td>\n",
       "      <td>134.660064</td>\n",
       "      <td>540.598485</td>\n",
       "    </tr>\n",
       "    <tr>\n",
       "      <th>5</th>\n",
       "      <td>1</td>\n",
       "      <td>32</td>\n",
       "      <td>313.00</td>\n",
       "      <td>0.755128</td>\n",
       "      <td>106.085886</td>\n",
       "      <td>938.414647</td>\n",
       "      <td>1.212076</td>\n",
       "      <td>134.660064</td>\n",
       "      <td>540.598485</td>\n",
       "    </tr>\n",
       "    <tr>\n",
       "      <th>6</th>\n",
       "      <td>1</td>\n",
       "      <td>197</td>\n",
       "      <td>266.00</td>\n",
       "      <td>0.755128</td>\n",
       "      <td>106.085886</td>\n",
       "      <td>938.414647</td>\n",
       "      <td>1.212076</td>\n",
       "      <td>134.660064</td>\n",
       "      <td>540.598485</td>\n",
       "    </tr>\n",
       "    <tr>\n",
       "      <th>7</th>\n",
       "      <td>1</td>\n",
       "      <td>35</td>\n",
       "      <td>0.00</td>\n",
       "      <td>0.755128</td>\n",
       "      <td>106.085886</td>\n",
       "      <td>938.414647</td>\n",
       "      <td>1.212076</td>\n",
       "      <td>134.660064</td>\n",
       "      <td>540.598485</td>\n",
       "    </tr>\n",
       "    <tr>\n",
       "      <th>8</th>\n",
       "      <td>1</td>\n",
       "      <td>328</td>\n",
       "      <td>151.04</td>\n",
       "      <td>0.755128</td>\n",
       "      <td>106.085886</td>\n",
       "      <td>938.414647</td>\n",
       "      <td>1.212076</td>\n",
       "      <td>134.660064</td>\n",
       "      <td>540.598485</td>\n",
       "    </tr>\n",
       "    <tr>\n",
       "      <th>9</th>\n",
       "      <td>1</td>\n",
       "      <td>113</td>\n",
       "      <td>504.16</td>\n",
       "      <td>0.755128</td>\n",
       "      <td>106.085886</td>\n",
       "      <td>938.414647</td>\n",
       "      <td>1.212076</td>\n",
       "      <td>134.660064</td>\n",
       "      <td>540.598485</td>\n",
       "    </tr>\n",
       "    <tr>\n",
       "      <th>10</th>\n",
       "      <td>1</td>\n",
       "      <td>307</td>\n",
       "      <td>248.30</td>\n",
       "      <td>0.755128</td>\n",
       "      <td>106.085886</td>\n",
       "      <td>938.414647</td>\n",
       "      <td>1.212076</td>\n",
       "      <td>134.660064</td>\n",
       "      <td>540.598485</td>\n",
       "    </tr>\n",
       "    <tr>\n",
       "      <th>11</th>\n",
       "      <td>1</td>\n",
       "      <td>99</td>\n",
       "      <td>121.00</td>\n",
       "      <td>0.755128</td>\n",
       "      <td>106.085886</td>\n",
       "      <td>938.414647</td>\n",
       "      <td>1.212076</td>\n",
       "      <td>134.660064</td>\n",
       "      <td>540.598485</td>\n",
       "    </tr>\n",
       "    <tr>\n",
       "      <th>12</th>\n",
       "      <td>1</td>\n",
       "      <td>49</td>\n",
       "      <td>0.00</td>\n",
       "      <td>0.755128</td>\n",
       "      <td>106.085886</td>\n",
       "      <td>938.414647</td>\n",
       "      <td>1.212076</td>\n",
       "      <td>134.660064</td>\n",
       "      <td>540.598485</td>\n",
       "    </tr>\n",
       "    <tr>\n",
       "      <th>13</th>\n",
       "      <td>1</td>\n",
       "      <td>52</td>\n",
       "      <td>82.50</td>\n",
       "      <td>0.755128</td>\n",
       "      <td>106.085886</td>\n",
       "      <td>938.414647</td>\n",
       "      <td>1.212076</td>\n",
       "      <td>134.660064</td>\n",
       "      <td>540.598485</td>\n",
       "    </tr>\n",
       "    <tr>\n",
       "      <th>14</th>\n",
       "      <td>1</td>\n",
       "      <td>26</td>\n",
       "      <td>2.96</td>\n",
       "      <td>0.755128</td>\n",
       "      <td>106.085886</td>\n",
       "      <td>938.414647</td>\n",
       "      <td>1.212076</td>\n",
       "      <td>134.660064</td>\n",
       "      <td>540.598485</td>\n",
       "    </tr>\n",
       "    <tr>\n",
       "      <th>15</th>\n",
       "      <td>1</td>\n",
       "      <td>157</td>\n",
       "      <td>559.78</td>\n",
       "      <td>0.755128</td>\n",
       "      <td>106.085886</td>\n",
       "      <td>938.414647</td>\n",
       "      <td>1.212076</td>\n",
       "      <td>134.660064</td>\n",
       "      <td>540.598485</td>\n",
       "    </tr>\n",
       "    <tr>\n",
       "      <th>16</th>\n",
       "      <td>2</td>\n",
       "      <td>205</td>\n",
       "      <td>1179.59</td>\n",
       "      <td>0.755128</td>\n",
       "      <td>106.085886</td>\n",
       "      <td>938.414647</td>\n",
       "      <td>1.212076</td>\n",
       "      <td>134.660064</td>\n",
       "      <td>540.598485</td>\n",
       "    </tr>\n",
       "    <tr>\n",
       "      <th>17</th>\n",
       "      <td>1</td>\n",
       "      <td>45</td>\n",
       "      <td>207.30</td>\n",
       "      <td>0.755128</td>\n",
       "      <td>106.085886</td>\n",
       "      <td>938.414647</td>\n",
       "      <td>1.212076</td>\n",
       "      <td>134.660064</td>\n",
       "      <td>540.598485</td>\n",
       "    </tr>\n",
       "    <tr>\n",
       "      <th>18</th>\n",
       "      <td>1</td>\n",
       "      <td>178</td>\n",
       "      <td>269.44</td>\n",
       "      <td>0.755128</td>\n",
       "      <td>106.085886</td>\n",
       "      <td>938.414647</td>\n",
       "      <td>1.212076</td>\n",
       "      <td>134.660064</td>\n",
       "      <td>540.598485</td>\n",
       "    </tr>\n",
       "    <tr>\n",
       "      <th>19</th>\n",
       "      <td>1</td>\n",
       "      <td>79</td>\n",
       "      <td>432.14</td>\n",
       "      <td>0.755128</td>\n",
       "      <td>106.085886</td>\n",
       "      <td>938.414647</td>\n",
       "      <td>1.212076</td>\n",
       "      <td>134.660064</td>\n",
       "      <td>540.598485</td>\n",
       "    </tr>\n",
       "    <tr>\n",
       "      <th>20</th>\n",
       "      <td>1</td>\n",
       "      <td>150</td>\n",
       "      <td>444.40</td>\n",
       "      <td>0.755128</td>\n",
       "      <td>106.085886</td>\n",
       "      <td>938.414647</td>\n",
       "      <td>1.212076</td>\n",
       "      <td>134.660064</td>\n",
       "      <td>540.598485</td>\n",
       "    </tr>\n",
       "    <tr>\n",
       "      <th>21</th>\n",
       "      <td>1</td>\n",
       "      <td>204</td>\n",
       "      <td>0.00</td>\n",
       "      <td>0.755128</td>\n",
       "      <td>106.085886</td>\n",
       "      <td>938.414647</td>\n",
       "      <td>1.212076</td>\n",
       "      <td>134.660064</td>\n",
       "      <td>540.598485</td>\n",
       "    </tr>\n",
       "    <tr>\n",
       "      <th>22</th>\n",
       "      <td>1</td>\n",
       "      <td>255</td>\n",
       "      <td>180.00</td>\n",
       "      <td>0.755128</td>\n",
       "      <td>106.085886</td>\n",
       "      <td>938.414647</td>\n",
       "      <td>1.212076</td>\n",
       "      <td>134.660064</td>\n",
       "      <td>540.598485</td>\n",
       "    </tr>\n",
       "    <tr>\n",
       "      <th>23</th>\n",
       "      <td>2</td>\n",
       "      <td>59</td>\n",
       "      <td>190.56</td>\n",
       "      <td>0.755128</td>\n",
       "      <td>106.085886</td>\n",
       "      <td>938.414647</td>\n",
       "      <td>1.212076</td>\n",
       "      <td>134.660064</td>\n",
       "      <td>540.598485</td>\n",
       "    </tr>\n",
       "    <tr>\n",
       "      <th>24</th>\n",
       "      <td>2</td>\n",
       "      <td>26</td>\n",
       "      <td>759.00</td>\n",
       "      <td>0.755128</td>\n",
       "      <td>106.085886</td>\n",
       "      <td>938.414647</td>\n",
       "      <td>1.212076</td>\n",
       "      <td>134.660064</td>\n",
       "      <td>540.598485</td>\n",
       "    </tr>\n",
       "    <tr>\n",
       "      <th>25</th>\n",
       "      <td>1</td>\n",
       "      <td>141</td>\n",
       "      <td>1596.81</td>\n",
       "      <td>0.755128</td>\n",
       "      <td>106.085886</td>\n",
       "      <td>938.414647</td>\n",
       "      <td>1.212076</td>\n",
       "      <td>134.660064</td>\n",
       "      <td>540.598485</td>\n",
       "    </tr>\n",
       "    <tr>\n",
       "      <th>26</th>\n",
       "      <td>1</td>\n",
       "      <td>262</td>\n",
       "      <td>0.00</td>\n",
       "      <td>0.755128</td>\n",
       "      <td>106.085886</td>\n",
       "      <td>938.414647</td>\n",
       "      <td>1.212076</td>\n",
       "      <td>134.660064</td>\n",
       "      <td>540.598485</td>\n",
       "    </tr>\n",
       "    <tr>\n",
       "      <th>27</th>\n",
       "      <td>1</td>\n",
       "      <td>106</td>\n",
       "      <td>1819.62</td>\n",
       "      <td>0.755128</td>\n",
       "      <td>106.085886</td>\n",
       "      <td>938.414647</td>\n",
       "      <td>1.212076</td>\n",
       "      <td>134.660064</td>\n",
       "      <td>540.598485</td>\n",
       "    </tr>\n",
       "    <tr>\n",
       "      <th>28</th>\n",
       "      <td>1</td>\n",
       "      <td>175</td>\n",
       "      <td>140.00</td>\n",
       "      <td>0.755128</td>\n",
       "      <td>106.085886</td>\n",
       "      <td>938.414647</td>\n",
       "      <td>1.212076</td>\n",
       "      <td>134.660064</td>\n",
       "      <td>540.598485</td>\n",
       "    </tr>\n",
       "    <tr>\n",
       "      <th>29</th>\n",
       "      <td>1</td>\n",
       "      <td>18</td>\n",
       "      <td>158.00</td>\n",
       "      <td>0.755128</td>\n",
       "      <td>106.085886</td>\n",
       "      <td>938.414647</td>\n",
       "      <td>1.212076</td>\n",
       "      <td>134.660064</td>\n",
       "      <td>540.598485</td>\n",
       "    </tr>\n",
       "    <tr>\n",
       "      <th>...</th>\n",
       "      <td>...</td>\n",
       "      <td>...</td>\n",
       "      <td>...</td>\n",
       "      <td>...</td>\n",
       "      <td>...</td>\n",
       "      <td>...</td>\n",
       "      <td>...</td>\n",
       "      <td>...</td>\n",
       "      <td>...</td>\n",
       "    </tr>\n",
       "    <tr>\n",
       "      <th>175303</th>\n",
       "      <td>1</td>\n",
       "      <td>209</td>\n",
       "      <td>1457.71</td>\n",
       "      <td>0.755128</td>\n",
       "      <td>106.085886</td>\n",
       "      <td>938.414647</td>\n",
       "      <td>1.212076</td>\n",
       "      <td>134.660064</td>\n",
       "      <td>540.598485</td>\n",
       "    </tr>\n",
       "    <tr>\n",
       "      <th>175304</th>\n",
       "      <td>1</td>\n",
       "      <td>143</td>\n",
       "      <td>0.00</td>\n",
       "      <td>0.755128</td>\n",
       "      <td>106.085886</td>\n",
       "      <td>938.414647</td>\n",
       "      <td>1.212076</td>\n",
       "      <td>134.660064</td>\n",
       "      <td>540.598485</td>\n",
       "    </tr>\n",
       "    <tr>\n",
       "      <th>175305</th>\n",
       "      <td>1</td>\n",
       "      <td>89</td>\n",
       "      <td>477.72</td>\n",
       "      <td>0.755128</td>\n",
       "      <td>106.085886</td>\n",
       "      <td>938.414647</td>\n",
       "      <td>1.212076</td>\n",
       "      <td>134.660064</td>\n",
       "      <td>540.598485</td>\n",
       "    </tr>\n",
       "    <tr>\n",
       "      <th>175306</th>\n",
       "      <td>1</td>\n",
       "      <td>3</td>\n",
       "      <td>470.00</td>\n",
       "      <td>0.755128</td>\n",
       "      <td>106.085886</td>\n",
       "      <td>938.414647</td>\n",
       "      <td>1.212076</td>\n",
       "      <td>134.660064</td>\n",
       "      <td>540.598485</td>\n",
       "    </tr>\n",
       "    <tr>\n",
       "      <th>175307</th>\n",
       "      <td>6</td>\n",
       "      <td>17</td>\n",
       "      <td>3948.99</td>\n",
       "      <td>0.755128</td>\n",
       "      <td>106.085886</td>\n",
       "      <td>938.414647</td>\n",
       "      <td>1.212076</td>\n",
       "      <td>134.660064</td>\n",
       "      <td>540.598485</td>\n",
       "    </tr>\n",
       "    <tr>\n",
       "      <th>175308</th>\n",
       "      <td>1</td>\n",
       "      <td>173</td>\n",
       "      <td>518.93</td>\n",
       "      <td>0.755128</td>\n",
       "      <td>106.085886</td>\n",
       "      <td>938.414647</td>\n",
       "      <td>1.212076</td>\n",
       "      <td>134.660064</td>\n",
       "      <td>540.598485</td>\n",
       "    </tr>\n",
       "    <tr>\n",
       "      <th>175309</th>\n",
       "      <td>1</td>\n",
       "      <td>15</td>\n",
       "      <td>305.00</td>\n",
       "      <td>0.755128</td>\n",
       "      <td>106.085886</td>\n",
       "      <td>938.414647</td>\n",
       "      <td>1.212076</td>\n",
       "      <td>134.660064</td>\n",
       "      <td>540.598485</td>\n",
       "    </tr>\n",
       "    <tr>\n",
       "      <th>175310</th>\n",
       "      <td>1</td>\n",
       "      <td>354</td>\n",
       "      <td>672.55</td>\n",
       "      <td>0.755128</td>\n",
       "      <td>106.085886</td>\n",
       "      <td>938.414647</td>\n",
       "      <td>1.212076</td>\n",
       "      <td>134.660064</td>\n",
       "      <td>540.598485</td>\n",
       "    </tr>\n",
       "    <tr>\n",
       "      <th>175311</th>\n",
       "      <td>1</td>\n",
       "      <td>28</td>\n",
       "      <td>640.00</td>\n",
       "      <td>0.755128</td>\n",
       "      <td>106.085886</td>\n",
       "      <td>938.414647</td>\n",
       "      <td>1.212076</td>\n",
       "      <td>134.660064</td>\n",
       "      <td>540.598485</td>\n",
       "    </tr>\n",
       "    <tr>\n",
       "      <th>175312</th>\n",
       "      <td>1</td>\n",
       "      <td>54</td>\n",
       "      <td>0.00</td>\n",
       "      <td>0.755128</td>\n",
       "      <td>106.085886</td>\n",
       "      <td>938.414647</td>\n",
       "      <td>1.212076</td>\n",
       "      <td>134.660064</td>\n",
       "      <td>540.598485</td>\n",
       "    </tr>\n",
       "    <tr>\n",
       "      <th>175313</th>\n",
       "      <td>1</td>\n",
       "      <td>9</td>\n",
       "      <td>70.00</td>\n",
       "      <td>0.755128</td>\n",
       "      <td>106.085886</td>\n",
       "      <td>938.414647</td>\n",
       "      <td>1.212076</td>\n",
       "      <td>134.660064</td>\n",
       "      <td>540.598485</td>\n",
       "    </tr>\n",
       "    <tr>\n",
       "      <th>175314</th>\n",
       "      <td>1</td>\n",
       "      <td>202</td>\n",
       "      <td>0.00</td>\n",
       "      <td>0.755128</td>\n",
       "      <td>106.085886</td>\n",
       "      <td>938.414647</td>\n",
       "      <td>1.212076</td>\n",
       "      <td>134.660064</td>\n",
       "      <td>540.598485</td>\n",
       "    </tr>\n",
       "    <tr>\n",
       "      <th>175315</th>\n",
       "      <td>1</td>\n",
       "      <td>39</td>\n",
       "      <td>410.88</td>\n",
       "      <td>0.755128</td>\n",
       "      <td>106.085886</td>\n",
       "      <td>938.414647</td>\n",
       "      <td>1.212076</td>\n",
       "      <td>134.660064</td>\n",
       "      <td>540.598485</td>\n",
       "    </tr>\n",
       "    <tr>\n",
       "      <th>175316</th>\n",
       "      <td>1</td>\n",
       "      <td>8</td>\n",
       "      <td>220.00</td>\n",
       "      <td>0.755128</td>\n",
       "      <td>106.085886</td>\n",
       "      <td>938.414647</td>\n",
       "      <td>1.212076</td>\n",
       "      <td>134.660064</td>\n",
       "      <td>540.598485</td>\n",
       "    </tr>\n",
       "    <tr>\n",
       "      <th>175317</th>\n",
       "      <td>1</td>\n",
       "      <td>174</td>\n",
       "      <td>0.00</td>\n",
       "      <td>0.755128</td>\n",
       "      <td>106.085886</td>\n",
       "      <td>938.414647</td>\n",
       "      <td>1.212076</td>\n",
       "      <td>134.660064</td>\n",
       "      <td>540.598485</td>\n",
       "    </tr>\n",
       "    <tr>\n",
       "      <th>175318</th>\n",
       "      <td>1</td>\n",
       "      <td>300</td>\n",
       "      <td>0.00</td>\n",
       "      <td>0.755128</td>\n",
       "      <td>106.085886</td>\n",
       "      <td>938.414647</td>\n",
       "      <td>1.212076</td>\n",
       "      <td>134.660064</td>\n",
       "      <td>540.598485</td>\n",
       "    </tr>\n",
       "    <tr>\n",
       "      <th>175319</th>\n",
       "      <td>1</td>\n",
       "      <td>266</td>\n",
       "      <td>0.00</td>\n",
       "      <td>0.755128</td>\n",
       "      <td>106.085886</td>\n",
       "      <td>938.414647</td>\n",
       "      <td>1.212076</td>\n",
       "      <td>134.660064</td>\n",
       "      <td>540.598485</td>\n",
       "    </tr>\n",
       "    <tr>\n",
       "      <th>175320</th>\n",
       "      <td>1</td>\n",
       "      <td>109</td>\n",
       "      <td>300.00</td>\n",
       "      <td>0.755128</td>\n",
       "      <td>106.085886</td>\n",
       "      <td>938.414647</td>\n",
       "      <td>1.212076</td>\n",
       "      <td>134.660064</td>\n",
       "      <td>540.598485</td>\n",
       "    </tr>\n",
       "    <tr>\n",
       "      <th>175321</th>\n",
       "      <td>1</td>\n",
       "      <td>52</td>\n",
       "      <td>2192.23</td>\n",
       "      <td>0.755128</td>\n",
       "      <td>106.085886</td>\n",
       "      <td>938.414647</td>\n",
       "      <td>1.212076</td>\n",
       "      <td>134.660064</td>\n",
       "      <td>540.598485</td>\n",
       "    </tr>\n",
       "    <tr>\n",
       "      <th>175322</th>\n",
       "      <td>1</td>\n",
       "      <td>112</td>\n",
       "      <td>359.00</td>\n",
       "      <td>0.755128</td>\n",
       "      <td>106.085886</td>\n",
       "      <td>938.414647</td>\n",
       "      <td>1.212076</td>\n",
       "      <td>134.660064</td>\n",
       "      <td>540.598485</td>\n",
       "    </tr>\n",
       "    <tr>\n",
       "      <th>175323</th>\n",
       "      <td>1</td>\n",
       "      <td>308</td>\n",
       "      <td>1110.65</td>\n",
       "      <td>0.755128</td>\n",
       "      <td>106.085886</td>\n",
       "      <td>938.414647</td>\n",
       "      <td>1.212076</td>\n",
       "      <td>134.660064</td>\n",
       "      <td>540.598485</td>\n",
       "    </tr>\n",
       "    <tr>\n",
       "      <th>175324</th>\n",
       "      <td>1</td>\n",
       "      <td>26</td>\n",
       "      <td>3535.00</td>\n",
       "      <td>0.755128</td>\n",
       "      <td>106.085886</td>\n",
       "      <td>938.414647</td>\n",
       "      <td>1.212076</td>\n",
       "      <td>134.660064</td>\n",
       "      <td>540.598485</td>\n",
       "    </tr>\n",
       "    <tr>\n",
       "      <th>175325</th>\n",
       "      <td>1</td>\n",
       "      <td>259</td>\n",
       "      <td>297.30</td>\n",
       "      <td>0.755128</td>\n",
       "      <td>106.085886</td>\n",
       "      <td>938.414647</td>\n",
       "      <td>1.212076</td>\n",
       "      <td>134.660064</td>\n",
       "      <td>540.598485</td>\n",
       "    </tr>\n",
       "    <tr>\n",
       "      <th>175326</th>\n",
       "      <td>4</td>\n",
       "      <td>77</td>\n",
       "      <td>3401.27</td>\n",
       "      <td>0.755128</td>\n",
       "      <td>106.085886</td>\n",
       "      <td>938.414647</td>\n",
       "      <td>1.212076</td>\n",
       "      <td>134.660064</td>\n",
       "      <td>540.598485</td>\n",
       "    </tr>\n",
       "    <tr>\n",
       "      <th>175327</th>\n",
       "      <td>2</td>\n",
       "      <td>161</td>\n",
       "      <td>1553.71</td>\n",
       "      <td>0.755128</td>\n",
       "      <td>106.085886</td>\n",
       "      <td>938.414647</td>\n",
       "      <td>1.212076</td>\n",
       "      <td>134.660064</td>\n",
       "      <td>540.598485</td>\n",
       "    </tr>\n",
       "    <tr>\n",
       "      <th>175328</th>\n",
       "      <td>1</td>\n",
       "      <td>52</td>\n",
       "      <td>1963.04</td>\n",
       "      <td>0.755128</td>\n",
       "      <td>106.085886</td>\n",
       "      <td>938.414647</td>\n",
       "      <td>1.212076</td>\n",
       "      <td>134.660064</td>\n",
       "      <td>540.598485</td>\n",
       "    </tr>\n",
       "    <tr>\n",
       "      <th>175329</th>\n",
       "      <td>1</td>\n",
       "      <td>146</td>\n",
       "      <td>520.04</td>\n",
       "      <td>0.755128</td>\n",
       "      <td>106.085886</td>\n",
       "      <td>938.414647</td>\n",
       "      <td>1.212076</td>\n",
       "      <td>134.660064</td>\n",
       "      <td>540.598485</td>\n",
       "    </tr>\n",
       "    <tr>\n",
       "      <th>175330</th>\n",
       "      <td>1</td>\n",
       "      <td>362</td>\n",
       "      <td>0.00</td>\n",
       "      <td>0.755128</td>\n",
       "      <td>106.085886</td>\n",
       "      <td>938.414647</td>\n",
       "      <td>1.212076</td>\n",
       "      <td>134.660064</td>\n",
       "      <td>540.598485</td>\n",
       "    </tr>\n",
       "    <tr>\n",
       "      <th>175331</th>\n",
       "      <td>1</td>\n",
       "      <td>144</td>\n",
       "      <td>235.32</td>\n",
       "      <td>0.755128</td>\n",
       "      <td>106.085886</td>\n",
       "      <td>938.414647</td>\n",
       "      <td>1.212076</td>\n",
       "      <td>134.660064</td>\n",
       "      <td>540.598485</td>\n",
       "    </tr>\n",
       "    <tr>\n",
       "      <th>175332</th>\n",
       "      <td>1</td>\n",
       "      <td>114</td>\n",
       "      <td>165.00</td>\n",
       "      <td>0.755128</td>\n",
       "      <td>106.085886</td>\n",
       "      <td>938.414647</td>\n",
       "      <td>1.212076</td>\n",
       "      <td>134.660064</td>\n",
       "      <td>540.598485</td>\n",
       "    </tr>\n",
       "  </tbody>\n",
       "</table>\n",
       "<p>175333 rows × 9 columns</p>\n",
       "</div>"
      ],
      "text/plain": [
       "        frecuency  recency    money  frecuency_stddev  recency_stddev  \\\n",
       "0               1       28   221.26          0.755128      106.085886   \n",
       "1               1      171   205.00          0.755128      106.085886   \n",
       "2               1      282   291.68          0.755128      106.085886   \n",
       "3               1       22   250.51          0.755128      106.085886   \n",
       "4               1       32   313.00          0.755128      106.085886   \n",
       "5               1       32   313.00          0.755128      106.085886   \n",
       "6               1      197   266.00          0.755128      106.085886   \n",
       "7               1       35     0.00          0.755128      106.085886   \n",
       "8               1      328   151.04          0.755128      106.085886   \n",
       "9               1      113   504.16          0.755128      106.085886   \n",
       "10              1      307   248.30          0.755128      106.085886   \n",
       "11              1       99   121.00          0.755128      106.085886   \n",
       "12              1       49     0.00          0.755128      106.085886   \n",
       "13              1       52    82.50          0.755128      106.085886   \n",
       "14              1       26     2.96          0.755128      106.085886   \n",
       "15              1      157   559.78          0.755128      106.085886   \n",
       "16              2      205  1179.59          0.755128      106.085886   \n",
       "17              1       45   207.30          0.755128      106.085886   \n",
       "18              1      178   269.44          0.755128      106.085886   \n",
       "19              1       79   432.14          0.755128      106.085886   \n",
       "20              1      150   444.40          0.755128      106.085886   \n",
       "21              1      204     0.00          0.755128      106.085886   \n",
       "22              1      255   180.00          0.755128      106.085886   \n",
       "23              2       59   190.56          0.755128      106.085886   \n",
       "24              2       26   759.00          0.755128      106.085886   \n",
       "25              1      141  1596.81          0.755128      106.085886   \n",
       "26              1      262     0.00          0.755128      106.085886   \n",
       "27              1      106  1819.62          0.755128      106.085886   \n",
       "28              1      175   140.00          0.755128      106.085886   \n",
       "29              1       18   158.00          0.755128      106.085886   \n",
       "...           ...      ...      ...               ...             ...   \n",
       "175303          1      209  1457.71          0.755128      106.085886   \n",
       "175304          1      143     0.00          0.755128      106.085886   \n",
       "175305          1       89   477.72          0.755128      106.085886   \n",
       "175306          1        3   470.00          0.755128      106.085886   \n",
       "175307          6       17  3948.99          0.755128      106.085886   \n",
       "175308          1      173   518.93          0.755128      106.085886   \n",
       "175309          1       15   305.00          0.755128      106.085886   \n",
       "175310          1      354   672.55          0.755128      106.085886   \n",
       "175311          1       28   640.00          0.755128      106.085886   \n",
       "175312          1       54     0.00          0.755128      106.085886   \n",
       "175313          1        9    70.00          0.755128      106.085886   \n",
       "175314          1      202     0.00          0.755128      106.085886   \n",
       "175315          1       39   410.88          0.755128      106.085886   \n",
       "175316          1        8   220.00          0.755128      106.085886   \n",
       "175317          1      174     0.00          0.755128      106.085886   \n",
       "175318          1      300     0.00          0.755128      106.085886   \n",
       "175319          1      266     0.00          0.755128      106.085886   \n",
       "175320          1      109   300.00          0.755128      106.085886   \n",
       "175321          1       52  2192.23          0.755128      106.085886   \n",
       "175322          1      112   359.00          0.755128      106.085886   \n",
       "175323          1      308  1110.65          0.755128      106.085886   \n",
       "175324          1       26  3535.00          0.755128      106.085886   \n",
       "175325          1      259   297.30          0.755128      106.085886   \n",
       "175326          4       77  3401.27          0.755128      106.085886   \n",
       "175327          2      161  1553.71          0.755128      106.085886   \n",
       "175328          1       52  1963.04          0.755128      106.085886   \n",
       "175329          1      146   520.04          0.755128      106.085886   \n",
       "175330          1      362     0.00          0.755128      106.085886   \n",
       "175331          1      144   235.32          0.755128      106.085886   \n",
       "175332          1      114   165.00          0.755128      106.085886   \n",
       "\n",
       "        money_stddev  frecuency_avg  recency_avg   money_avg  \n",
       "0         938.414647       1.212076   134.660064  540.598485  \n",
       "1         938.414647       1.212076   134.660064  540.598485  \n",
       "2         938.414647       1.212076   134.660064  540.598485  \n",
       "3         938.414647       1.212076   134.660064  540.598485  \n",
       "4         938.414647       1.212076   134.660064  540.598485  \n",
       "5         938.414647       1.212076   134.660064  540.598485  \n",
       "6         938.414647       1.212076   134.660064  540.598485  \n",
       "7         938.414647       1.212076   134.660064  540.598485  \n",
       "8         938.414647       1.212076   134.660064  540.598485  \n",
       "9         938.414647       1.212076   134.660064  540.598485  \n",
       "10        938.414647       1.212076   134.660064  540.598485  \n",
       "11        938.414647       1.212076   134.660064  540.598485  \n",
       "12        938.414647       1.212076   134.660064  540.598485  \n",
       "13        938.414647       1.212076   134.660064  540.598485  \n",
       "14        938.414647       1.212076   134.660064  540.598485  \n",
       "15        938.414647       1.212076   134.660064  540.598485  \n",
       "16        938.414647       1.212076   134.660064  540.598485  \n",
       "17        938.414647       1.212076   134.660064  540.598485  \n",
       "18        938.414647       1.212076   134.660064  540.598485  \n",
       "19        938.414647       1.212076   134.660064  540.598485  \n",
       "20        938.414647       1.212076   134.660064  540.598485  \n",
       "21        938.414647       1.212076   134.660064  540.598485  \n",
       "22        938.414647       1.212076   134.660064  540.598485  \n",
       "23        938.414647       1.212076   134.660064  540.598485  \n",
       "24        938.414647       1.212076   134.660064  540.598485  \n",
       "25        938.414647       1.212076   134.660064  540.598485  \n",
       "26        938.414647       1.212076   134.660064  540.598485  \n",
       "27        938.414647       1.212076   134.660064  540.598485  \n",
       "28        938.414647       1.212076   134.660064  540.598485  \n",
       "29        938.414647       1.212076   134.660064  540.598485  \n",
       "...              ...            ...          ...         ...  \n",
       "175303    938.414647       1.212076   134.660064  540.598485  \n",
       "175304    938.414647       1.212076   134.660064  540.598485  \n",
       "175305    938.414647       1.212076   134.660064  540.598485  \n",
       "175306    938.414647       1.212076   134.660064  540.598485  \n",
       "175307    938.414647       1.212076   134.660064  540.598485  \n",
       "175308    938.414647       1.212076   134.660064  540.598485  \n",
       "175309    938.414647       1.212076   134.660064  540.598485  \n",
       "175310    938.414647       1.212076   134.660064  540.598485  \n",
       "175311    938.414647       1.212076   134.660064  540.598485  \n",
       "175312    938.414647       1.212076   134.660064  540.598485  \n",
       "175313    938.414647       1.212076   134.660064  540.598485  \n",
       "175314    938.414647       1.212076   134.660064  540.598485  \n",
       "175315    938.414647       1.212076   134.660064  540.598485  \n",
       "175316    938.414647       1.212076   134.660064  540.598485  \n",
       "175317    938.414647       1.212076   134.660064  540.598485  \n",
       "175318    938.414647       1.212076   134.660064  540.598485  \n",
       "175319    938.414647       1.212076   134.660064  540.598485  \n",
       "175320    938.414647       1.212076   134.660064  540.598485  \n",
       "175321    938.414647       1.212076   134.660064  540.598485  \n",
       "175322    938.414647       1.212076   134.660064  540.598485  \n",
       "175323    938.414647       1.212076   134.660064  540.598485  \n",
       "175324    938.414647       1.212076   134.660064  540.598485  \n",
       "175325    938.414647       1.212076   134.660064  540.598485  \n",
       "175326    938.414647       1.212076   134.660064  540.598485  \n",
       "175327    938.414647       1.212076   134.660064  540.598485  \n",
       "175328    938.414647       1.212076   134.660064  540.598485  \n",
       "175329    938.414647       1.212076   134.660064  540.598485  \n",
       "175330    938.414647       1.212076   134.660064  540.598485  \n",
       "175331    938.414647       1.212076   134.660064  540.598485  \n",
       "175332    938.414647       1.212076   134.660064  540.598485  \n",
       "\n",
       "[175333 rows x 9 columns]"
      ]
     },
     "execution_count": 323,
     "metadata": {},
     "output_type": "execute_result"
    }
   ],
   "source": [
    "rfm.toPandas()"
   ]
  },
  {
   "cell_type": "code",
   "execution_count": 51,
   "metadata": {
    "collapsed": false
   },
   "outputs": [],
   "source": [
    "dataset_rfm = dataset_rfm.toPandas()"
   ]
  },
  {
   "cell_type": "code",
   "execution_count": 52,
   "metadata": {
    "collapsed": false,
    "scrolled": true
   },
   "outputs": [],
   "source": [
    "dataset_rfm['cluster'] = rfm_final['cluster']"
   ]
  },
  {
   "cell_type": "code",
   "execution_count": 53,
   "metadata": {
    "collapsed": false
   },
   "outputs": [
    {
     "data": {
      "text/html": [
       "<div>\n",
       "<table border=\"1\" class=\"dataframe\">\n",
       "  <thead>\n",
       "    <tr style=\"text-align: right;\">\n",
       "      <th></th>\n",
       "      <th>document_number</th>\n",
       "      <th>frecuency</th>\n",
       "      <th>recency</th>\n",
       "      <th>money</th>\n",
       "      <th>cluster</th>\n",
       "    </tr>\n",
       "  </thead>\n",
       "  <tbody>\n",
       "    <tr>\n",
       "      <th>0</th>\n",
       "      <td>000744336</td>\n",
       "      <td>1</td>\n",
       "      <td>28</td>\n",
       "      <td>221.26</td>\n",
       "      <td>1</td>\n",
       "    </tr>\n",
       "    <tr>\n",
       "      <th>1</th>\n",
       "      <td>00152Y444</td>\n",
       "      <td>1</td>\n",
       "      <td>171</td>\n",
       "      <td>205.00</td>\n",
       "      <td>0</td>\n",
       "    </tr>\n",
       "  </tbody>\n",
       "</table>\n",
       "</div>"
      ],
      "text/plain": [
       "  document_number  frecuency  recency   money  cluster\n",
       "0       000744336          1       28  221.26        1\n",
       "1       00152Y444          1      171  205.00        0"
      ]
     },
     "execution_count": 53,
     "metadata": {},
     "output_type": "execute_result"
    }
   ],
   "source": [
    "dataset_rfm.head(2)"
   ]
  },
  {
   "cell_type": "code",
   "execution_count": 56,
   "metadata": {
    "collapsed": true
   },
   "outputs": [
    {
     "data": {
      "text/html": [
       "<div>\n",
       "<table border=\"1\" class=\"dataframe\">\n",
       "  <thead>\n",
       "    <tr style=\"text-align: right;\">\n",
       "      <th></th>\n",
       "      <th>document_number</th>\n",
       "      <th>frecuency</th>\n",
       "      <th>recency</th>\n",
       "      <th>money</th>\n",
       "      <th>cluster</th>\n",
       "    </tr>\n",
       "  </thead>\n",
       "  <tbody>\n",
       "    <tr>\n",
       "      <th>14820</th>\n",
       "      <td>78525BT23</td>\n",
       "      <td>1</td>\n",
       "      <td>1</td>\n",
       "      <td>467.50</td>\n",
       "      <td>1</td>\n",
       "    </tr>\n",
       "    <tr>\n",
       "      <th>5066</th>\n",
       "      <td>54803Y311</td>\n",
       "      <td>1</td>\n",
       "      <td>1</td>\n",
       "      <td>206.49</td>\n",
       "      <td>1</td>\n",
       "    </tr>\n",
       "    <tr>\n",
       "      <th>105030</th>\n",
       "      <td>21680BI86</td>\n",
       "      <td>2</td>\n",
       "      <td>1</td>\n",
       "      <td>1305.91</td>\n",
       "      <td>1</td>\n",
       "    </tr>\n",
       "    <tr>\n",
       "      <th>26881</th>\n",
       "      <td>62748BO48</td>\n",
       "      <td>1</td>\n",
       "      <td>1</td>\n",
       "      <td>0.00</td>\n",
       "      <td>1</td>\n",
       "    </tr>\n",
       "    <tr>\n",
       "      <th>72658</th>\n",
       "      <td>0300H549</td>\n",
       "      <td>1</td>\n",
       "      <td>1</td>\n",
       "      <td>244.50</td>\n",
       "      <td>1</td>\n",
       "    </tr>\n",
       "    <tr>\n",
       "      <th>126695</th>\n",
       "      <td>67116635</td>\n",
       "      <td>1</td>\n",
       "      <td>1</td>\n",
       "      <td>214.00</td>\n",
       "      <td>1</td>\n",
       "    </tr>\n",
       "    <tr>\n",
       "      <th>86583</th>\n",
       "      <td>99361FW43</td>\n",
       "      <td>1</td>\n",
       "      <td>1</td>\n",
       "      <td>0.00</td>\n",
       "      <td>1</td>\n",
       "    </tr>\n",
       "    <tr>\n",
       "      <th>31135</th>\n",
       "      <td>46222BK89</td>\n",
       "      <td>1</td>\n",
       "      <td>1</td>\n",
       "      <td>0.00</td>\n",
       "      <td>1</td>\n",
       "    </tr>\n",
       "    <tr>\n",
       "      <th>120387</th>\n",
       "      <td>55042KM90</td>\n",
       "      <td>1</td>\n",
       "      <td>1</td>\n",
       "      <td>120.00</td>\n",
       "      <td>1</td>\n",
       "    </tr>\n",
       "    <tr>\n",
       "      <th>72738</th>\n",
       "      <td>1204Q741</td>\n",
       "      <td>1</td>\n",
       "      <td>1</td>\n",
       "      <td>1157.76</td>\n",
       "      <td>1</td>\n",
       "    </tr>\n",
       "    <tr>\n",
       "      <th>120375</th>\n",
       "      <td>53643BW48</td>\n",
       "      <td>1</td>\n",
       "      <td>1</td>\n",
       "      <td>121.00</td>\n",
       "      <td>1</td>\n",
       "    </tr>\n",
       "    <tr>\n",
       "      <th>98294</th>\n",
       "      <td>53031WN46</td>\n",
       "      <td>1</td>\n",
       "      <td>1</td>\n",
       "      <td>234.50</td>\n",
       "      <td>1</td>\n",
       "    </tr>\n",
       "    <tr>\n",
       "      <th>47930</th>\n",
       "      <td>76355BT86</td>\n",
       "      <td>2</td>\n",
       "      <td>1</td>\n",
       "      <td>955.00</td>\n",
       "      <td>1</td>\n",
       "    </tr>\n",
       "    <tr>\n",
       "      <th>115716</th>\n",
       "      <td>36202BY53</td>\n",
       "      <td>1</td>\n",
       "      <td>1</td>\n",
       "      <td>560.00</td>\n",
       "      <td>1</td>\n",
       "    </tr>\n",
       "    <tr>\n",
       "      <th>47972</th>\n",
       "      <td>80885008</td>\n",
       "      <td>1</td>\n",
       "      <td>1</td>\n",
       "      <td>187.00</td>\n",
       "      <td>1</td>\n",
       "    </tr>\n",
       "    <tr>\n",
       "      <th>144872</th>\n",
       "      <td>45384BS09</td>\n",
       "      <td>1</td>\n",
       "      <td>1</td>\n",
       "      <td>735.00</td>\n",
       "      <td>1</td>\n",
       "    </tr>\n",
       "    <tr>\n",
       "      <th>22165</th>\n",
       "      <td>23836273</td>\n",
       "      <td>1</td>\n",
       "      <td>1</td>\n",
       "      <td>2486.34</td>\n",
       "      <td>3</td>\n",
       "    </tr>\n",
       "    <tr>\n",
       "      <th>31997</th>\n",
       "      <td>40370Y483</td>\n",
       "      <td>1</td>\n",
       "      <td>1</td>\n",
       "      <td>307.54</td>\n",
       "      <td>1</td>\n",
       "    </tr>\n",
       "    <tr>\n",
       "      <th>139154</th>\n",
       "      <td>83650BM67</td>\n",
       "      <td>1</td>\n",
       "      <td>1</td>\n",
       "      <td>305.00</td>\n",
       "      <td>1</td>\n",
       "    </tr>\n",
       "    <tr>\n",
       "      <th>72640</th>\n",
       "      <td>008B2ZDBO</td>\n",
       "      <td>1</td>\n",
       "      <td>1</td>\n",
       "      <td>390.67</td>\n",
       "      <td>1</td>\n",
       "    </tr>\n",
       "    <tr>\n",
       "      <th>56879</th>\n",
       "      <td>07384BW96</td>\n",
       "      <td>1</td>\n",
       "      <td>1</td>\n",
       "      <td>179.00</td>\n",
       "      <td>1</td>\n",
       "    </tr>\n",
       "    <tr>\n",
       "      <th>115631</th>\n",
       "      <td>26200BI25</td>\n",
       "      <td>1</td>\n",
       "      <td>1</td>\n",
       "      <td>535.00</td>\n",
       "      <td>1</td>\n",
       "    </tr>\n",
       "    <tr>\n",
       "      <th>102349</th>\n",
       "      <td>25755BK70</td>\n",
       "      <td>1</td>\n",
       "      <td>1</td>\n",
       "      <td>0.00</td>\n",
       "      <td>1</td>\n",
       "    </tr>\n",
       "    <tr>\n",
       "      <th>92990</th>\n",
       "      <td>46358BK89</td>\n",
       "      <td>1</td>\n",
       "      <td>1</td>\n",
       "      <td>0.00</td>\n",
       "      <td>1</td>\n",
       "    </tr>\n",
       "    <tr>\n",
       "      <th>99501</th>\n",
       "      <td>95502WN48</td>\n",
       "      <td>1</td>\n",
       "      <td>1</td>\n",
       "      <td>125.00</td>\n",
       "      <td>1</td>\n",
       "    </tr>\n",
       "    <tr>\n",
       "      <th>18429</th>\n",
       "      <td>99921DV26</td>\n",
       "      <td>1</td>\n",
       "      <td>1</td>\n",
       "      <td>535.00</td>\n",
       "      <td>1</td>\n",
       "    </tr>\n",
       "    <tr>\n",
       "      <th>109492</th>\n",
       "      <td>35056BM91</td>\n",
       "      <td>1</td>\n",
       "      <td>1</td>\n",
       "      <td>423.00</td>\n",
       "      <td>1</td>\n",
       "    </tr>\n",
       "    <tr>\n",
       "      <th>109381</th>\n",
       "      <td>20272Y374</td>\n",
       "      <td>1</td>\n",
       "      <td>1</td>\n",
       "      <td>172.96</td>\n",
       "      <td>1</td>\n",
       "    </tr>\n",
       "    <tr>\n",
       "      <th>120481</th>\n",
       "      <td>64615BK74</td>\n",
       "      <td>1</td>\n",
       "      <td>1</td>\n",
       "      <td>932.00</td>\n",
       "      <td>1</td>\n",
       "    </tr>\n",
       "    <tr>\n",
       "      <th>161803</th>\n",
       "      <td>61489WN40</td>\n",
       "      <td>1</td>\n",
       "      <td>1</td>\n",
       "      <td>125.00</td>\n",
       "      <td>1</td>\n",
       "    </tr>\n",
       "    <tr>\n",
       "      <th>...</th>\n",
       "      <td>...</td>\n",
       "      <td>...</td>\n",
       "      <td>...</td>\n",
       "      <td>...</td>\n",
       "      <td>...</td>\n",
       "    </tr>\n",
       "    <tr>\n",
       "      <th>166993</th>\n",
       "      <td>622598397</td>\n",
       "      <td>1</td>\n",
       "      <td>365</td>\n",
       "      <td>384.97</td>\n",
       "      <td>0</td>\n",
       "    </tr>\n",
       "    <tr>\n",
       "      <th>154580</th>\n",
       "      <td>35915FS90</td>\n",
       "      <td>1</td>\n",
       "      <td>365</td>\n",
       "      <td>0.00</td>\n",
       "      <td>0</td>\n",
       "    </tr>\n",
       "    <tr>\n",
       "      <th>4477</th>\n",
       "      <td>92622BD30</td>\n",
       "      <td>1</td>\n",
       "      <td>365</td>\n",
       "      <td>194.94</td>\n",
       "      <td>0</td>\n",
       "    </tr>\n",
       "    <tr>\n",
       "      <th>26783</th>\n",
       "      <td>4958530</td>\n",
       "      <td>1</td>\n",
       "      <td>365</td>\n",
       "      <td>368.32</td>\n",
       "      <td>0</td>\n",
       "    </tr>\n",
       "    <tr>\n",
       "      <th>159519</th>\n",
       "      <td>01696192</td>\n",
       "      <td>1</td>\n",
       "      <td>365</td>\n",
       "      <td>495.74</td>\n",
       "      <td>0</td>\n",
       "    </tr>\n",
       "    <tr>\n",
       "      <th>78125</th>\n",
       "      <td>25573BJ15</td>\n",
       "      <td>1</td>\n",
       "      <td>365</td>\n",
       "      <td>72.00</td>\n",
       "      <td>0</td>\n",
       "    </tr>\n",
       "    <tr>\n",
       "      <th>109365</th>\n",
       "      <td>18825BV40</td>\n",
       "      <td>1</td>\n",
       "      <td>365</td>\n",
       "      <td>663.91</td>\n",
       "      <td>0</td>\n",
       "    </tr>\n",
       "    <tr>\n",
       "      <th>9646</th>\n",
       "      <td>869267467</td>\n",
       "      <td>1</td>\n",
       "      <td>365</td>\n",
       "      <td>397.29</td>\n",
       "      <td>0</td>\n",
       "    </tr>\n",
       "    <tr>\n",
       "      <th>151667</th>\n",
       "      <td>06640FT85</td>\n",
       "      <td>1</td>\n",
       "      <td>365</td>\n",
       "      <td>551.21</td>\n",
       "      <td>0</td>\n",
       "    </tr>\n",
       "    <tr>\n",
       "      <th>40711</th>\n",
       "      <td>3824Y176</td>\n",
       "      <td>1</td>\n",
       "      <td>365</td>\n",
       "      <td>0.00</td>\n",
       "      <td>0</td>\n",
       "    </tr>\n",
       "    <tr>\n",
       "      <th>126733</th>\n",
       "      <td>71203BM46</td>\n",
       "      <td>1</td>\n",
       "      <td>365</td>\n",
       "      <td>0.00</td>\n",
       "      <td>0</td>\n",
       "    </tr>\n",
       "    <tr>\n",
       "      <th>143620</th>\n",
       "      <td>9700R833</td>\n",
       "      <td>1</td>\n",
       "      <td>365</td>\n",
       "      <td>248.03</td>\n",
       "      <td>0</td>\n",
       "    </tr>\n",
       "    <tr>\n",
       "      <th>5663</th>\n",
       "      <td>21328BT13</td>\n",
       "      <td>1</td>\n",
       "      <td>365</td>\n",
       "      <td>478.00</td>\n",
       "      <td>0</td>\n",
       "    </tr>\n",
       "    <tr>\n",
       "      <th>78101</th>\n",
       "      <td>225458399</td>\n",
       "      <td>1</td>\n",
       "      <td>365</td>\n",
       "      <td>1163.04</td>\n",
       "      <td>0</td>\n",
       "    </tr>\n",
       "    <tr>\n",
       "      <th>2658</th>\n",
       "      <td>958106481</td>\n",
       "      <td>1</td>\n",
       "      <td>365</td>\n",
       "      <td>148.92</td>\n",
       "      <td>0</td>\n",
       "    </tr>\n",
       "    <tr>\n",
       "      <th>100896</th>\n",
       "      <td>558971958</td>\n",
       "      <td>1</td>\n",
       "      <td>365</td>\n",
       "      <td>320.03</td>\n",
       "      <td>0</td>\n",
       "    </tr>\n",
       "    <tr>\n",
       "      <th>129880</th>\n",
       "      <td>34667YE91</td>\n",
       "      <td>1</td>\n",
       "      <td>365</td>\n",
       "      <td>0.00</td>\n",
       "      <td>0</td>\n",
       "    </tr>\n",
       "    <tr>\n",
       "      <th>47644</th>\n",
       "      <td>43313FT40</td>\n",
       "      <td>1</td>\n",
       "      <td>365</td>\n",
       "      <td>0.00</td>\n",
       "      <td>0</td>\n",
       "    </tr>\n",
       "    <tr>\n",
       "      <th>13194</th>\n",
       "      <td>95305172</td>\n",
       "      <td>1</td>\n",
       "      <td>365</td>\n",
       "      <td>173.42</td>\n",
       "      <td>0</td>\n",
       "    </tr>\n",
       "    <tr>\n",
       "      <th>38575</th>\n",
       "      <td>90908BI72</td>\n",
       "      <td>1</td>\n",
       "      <td>365</td>\n",
       "      <td>229.00</td>\n",
       "      <td>0</td>\n",
       "    </tr>\n",
       "    <tr>\n",
       "      <th>93429</th>\n",
       "      <td>94567FW93</td>\n",
       "      <td>1</td>\n",
       "      <td>365</td>\n",
       "      <td>0.00</td>\n",
       "      <td>0</td>\n",
       "    </tr>\n",
       "    <tr>\n",
       "      <th>83784</th>\n",
       "      <td>8070Z933</td>\n",
       "      <td>1</td>\n",
       "      <td>365</td>\n",
       "      <td>0.00</td>\n",
       "      <td>0</td>\n",
       "    </tr>\n",
       "    <tr>\n",
       "      <th>47615</th>\n",
       "      <td>40166173</td>\n",
       "      <td>1</td>\n",
       "      <td>365</td>\n",
       "      <td>246.67</td>\n",
       "      <td>0</td>\n",
       "    </tr>\n",
       "    <tr>\n",
       "      <th>156203</th>\n",
       "      <td>2677Y984</td>\n",
       "      <td>1</td>\n",
       "      <td>365</td>\n",
       "      <td>921.41</td>\n",
       "      <td>0</td>\n",
       "    </tr>\n",
       "    <tr>\n",
       "      <th>23559</th>\n",
       "      <td>81941FW77</td>\n",
       "      <td>1</td>\n",
       "      <td>365</td>\n",
       "      <td>0.00</td>\n",
       "      <td>0</td>\n",
       "    </tr>\n",
       "    <tr>\n",
       "      <th>152014</th>\n",
       "      <td>443318026</td>\n",
       "      <td>1</td>\n",
       "      <td>365</td>\n",
       "      <td>427.90</td>\n",
       "      <td>0</td>\n",
       "    </tr>\n",
       "    <tr>\n",
       "      <th>53865</th>\n",
       "      <td>53835090</td>\n",
       "      <td>1</td>\n",
       "      <td>365</td>\n",
       "      <td>359.00</td>\n",
       "      <td>0</td>\n",
       "    </tr>\n",
       "    <tr>\n",
       "      <th>82887</th>\n",
       "      <td>8074V647</td>\n",
       "      <td>1</td>\n",
       "      <td>365</td>\n",
       "      <td>326.93</td>\n",
       "      <td>0</td>\n",
       "    </tr>\n",
       "    <tr>\n",
       "      <th>33772</th>\n",
       "      <td>45547FW11</td>\n",
       "      <td>1</td>\n",
       "      <td>365</td>\n",
       "      <td>576.19</td>\n",
       "      <td>0</td>\n",
       "    </tr>\n",
       "    <tr>\n",
       "      <th>33536</th>\n",
       "      <td>166064818</td>\n",
       "      <td>1</td>\n",
       "      <td>365</td>\n",
       "      <td>944.09</td>\n",
       "      <td>0</td>\n",
       "    </tr>\n",
       "  </tbody>\n",
       "</table>\n",
       "<p>175333 rows × 5 columns</p>\n",
       "</div>"
      ],
      "text/plain": [
       "       document_number  frecuency  recency    money  cluster\n",
       "14820        78525BT23          1        1   467.50        1\n",
       "5066         54803Y311          1        1   206.49        1\n",
       "105030       21680BI86          2        1  1305.91        1\n",
       "26881        62748BO48          1        1     0.00        1\n",
       "72658         0300H549          1        1   244.50        1\n",
       "126695        67116635          1        1   214.00        1\n",
       "86583        99361FW43          1        1     0.00        1\n",
       "31135        46222BK89          1        1     0.00        1\n",
       "120387       55042KM90          1        1   120.00        1\n",
       "72738         1204Q741          1        1  1157.76        1\n",
       "120375       53643BW48          1        1   121.00        1\n",
       "98294        53031WN46          1        1   234.50        1\n",
       "47930        76355BT86          2        1   955.00        1\n",
       "115716       36202BY53          1        1   560.00        1\n",
       "47972         80885008          1        1   187.00        1\n",
       "144872       45384BS09          1        1   735.00        1\n",
       "22165         23836273          1        1  2486.34        3\n",
       "31997        40370Y483          1        1   307.54        1\n",
       "139154       83650BM67          1        1   305.00        1\n",
       "72640        008B2ZDBO          1        1   390.67        1\n",
       "56879        07384BW96          1        1   179.00        1\n",
       "115631       26200BI25          1        1   535.00        1\n",
       "102349       25755BK70          1        1     0.00        1\n",
       "92990        46358BK89          1        1     0.00        1\n",
       "99501        95502WN48          1        1   125.00        1\n",
       "18429        99921DV26          1        1   535.00        1\n",
       "109492       35056BM91          1        1   423.00        1\n",
       "109381       20272Y374          1        1   172.96        1\n",
       "120481       64615BK74          1        1   932.00        1\n",
       "161803       61489WN40          1        1   125.00        1\n",
       "...                ...        ...      ...      ...      ...\n",
       "166993       622598397          1      365   384.97        0\n",
       "154580       35915FS90          1      365     0.00        0\n",
       "4477         92622BD30          1      365   194.94        0\n",
       "26783          4958530          1      365   368.32        0\n",
       "159519        01696192          1      365   495.74        0\n",
       "78125        25573BJ15          1      365    72.00        0\n",
       "109365       18825BV40          1      365   663.91        0\n",
       "9646         869267467          1      365   397.29        0\n",
       "151667       06640FT85          1      365   551.21        0\n",
       "40711         3824Y176          1      365     0.00        0\n",
       "126733       71203BM46          1      365     0.00        0\n",
       "143620        9700R833          1      365   248.03        0\n",
       "5663         21328BT13          1      365   478.00        0\n",
       "78101        225458399          1      365  1163.04        0\n",
       "2658         958106481          1      365   148.92        0\n",
       "100896       558971958          1      365   320.03        0\n",
       "129880       34667YE91          1      365     0.00        0\n",
       "47644        43313FT40          1      365     0.00        0\n",
       "13194         95305172          1      365   173.42        0\n",
       "38575        90908BI72          1      365   229.00        0\n",
       "93429        94567FW93          1      365     0.00        0\n",
       "83784         8070Z933          1      365     0.00        0\n",
       "47615         40166173          1      365   246.67        0\n",
       "156203        2677Y984          1      365   921.41        0\n",
       "23559        81941FW77          1      365     0.00        0\n",
       "152014       443318026          1      365   427.90        0\n",
       "53865         53835090          1      365   359.00        0\n",
       "82887         8074V647          1      365   326.93        0\n",
       "33772        45547FW11          1      365   576.19        0\n",
       "33536        166064818          1      365   944.09        0\n",
       "\n",
       "[175333 rows x 5 columns]"
      ]
     },
     "execution_count": 56,
     "metadata": {},
     "output_type": "execute_result"
    }
   ],
   "source": [
    "dataset_rfm.sort_values('recency', ascending=True)"
   ]
  },
  {
   "cell_type": "code",
   "execution_count": 395,
   "metadata": {
    "collapsed": true
   },
   "outputs": [],
   "source": [
    "%matplotlib inline"
   ]
  },
  {
   "cell_type": "code",
   "execution_count": 380,
   "metadata": {
    "collapsed": false
   },
   "outputs": [
    {
     "data": {
      "text/plain": [
       "True"
      ]
     },
     "execution_count": 380,
     "metadata": {},
     "output_type": "execute_result"
    }
   ],
   "source": [
    "plt.isinteractive()"
   ]
  },
  {
   "cell_type": "code",
   "execution_count": 381,
   "metadata": {
    "collapsed": true
   },
   "outputs": [
    {
     "name": "stderr",
     "output_type": "stream",
     "text": [
      "/anaconda/lib/python2.7/site-packages/ipykernel/__main__.py:1: MatplotlibDeprecationWarning: pyplot.hold is deprecated.\n",
      "    Future behavior will be consistent with the long-time default:\n",
      "    plot commands add elements without first clearing the\n",
      "    Axes and/or Figure.\n",
      "  if __name__ == '__main__':\n"
     ]
    },
    {
     "data": {
      "text/plain": [
       "True"
      ]
     },
     "execution_count": 381,
     "metadata": {},
     "output_type": "execute_result"
    },
    {
     "data": {
      "image/png": "[encoded data removed]",
      "text/plain": [
       "<matplotlib.figure.Figure at 0x11c7f4890>"
      ]
     },
     "metadata": {},
     "output_type": "display_data"
    }
   ],
   "source": [
    "plt.ishold()"
   ]
  },
  {
   "cell_type": "code",
   "execution_count": 414,
   "metadata": {
    "collapsed": false
   },
   "outputs": [
    {
     "data": {
      "image/png": "[encoded data removed]",
      "text/plain": [
       "<matplotlib.figure.Figure at 0x1f043ef50>"
      ]
     },
     "metadata": {},
     "output_type": "display_data"
    }
   ],
   "source": [
    "plt.figure(figsize=(8, 6), dpi=80)\n",
    "plt.scatter(dataset_rfm['recency'],dataset_rfm['money'],alpha = 0.5,c=dataset_rfm['cluster'],s=100)\n",
    "plt.xlabel('recency')\n",
    "plt.ylabel('money')\n",
    "plt.show()"
   ]
  },
  {
   "cell_type": "code",
   "execution_count": 415,
   "metadata": {
    "collapsed": false
   },
   "outputs": [
    {
     "data": {
      "image/png": "[encoded data removed]",
      "text/plain": [
       "<matplotlib.figure.Figure at 0x1aebc0990>"
      ]
     },
     "metadata": {},
     "output_type": "display_data"
    }
   ],
   "source": [
    "plt.figure(figsize=(8, 6), dpi=80)\n",
    "plt.scatter(dataset_rfm['frecuency'],dataset_rfm['money'],alpha = 0.5,c=dataset_rfm['cluster'],s=100)\n",
    "plt.xlabel('frecuency')\n",
    "plt.ylabel('money')\n",
    "plt.show()"
   ]
  },
  {
   "cell_type": "code",
   "execution_count": 416,
   "metadata": {
    "collapsed": false
   },
   "outputs": [
    {
     "data": {
      "image/png": "[encoded data removed]",
      "text/plain": [
       "<matplotlib.figure.Figure at 0x200df3850>"
      ]
     },
     "metadata": {},
     "output_type": "display_data"
    }
   ],
   "source": [
    "#vemos que el cluster morado tiene una frecuencia de compra de 3 o menos veces y han pasado como mínimo 5 meses \n",
    "#desde que realizó la última compra (clientes desvinculados)\n",
    "#cluster amarillo tiene frecuencia de compra mayor de 3 veces en el año estudiado y la recencia varía desde 0 mese hasta 10 meses\n",
    "#cluster azul frecuencia de entre 1 y 2 veces en el año y recencia de unos 5 meses (clientes vacacionales)\n",
    "plt.figure(figsize=(8, 6), dpi=80)\n",
    "plt.scatter(dataset_rfm['frecuency'],dataset_rfm['recency'],alpha = 0.5,c=dataset_rfm['cluster'],s=100)\n",
    "plt.xlabel('frecuency')\n",
    "plt.ylabel('recency')\n",
    "plt.show()"
   ]
  },
  {
   "cell_type": "code",
   "execution_count": null,
   "metadata": {
    "collapsed": true
   },
   "outputs": [],
   "source": [
    "dataset_rfm.to_csv('rfm_with_clusters.csv', sep = ',')"
   ]
  }
 ],
 "metadata": {
  "celltoolbar": "Raw Cell Format",
  "kernelspec": {
   "display_name": "Python 2",
   "language": "python",
   "name": "python2"
  },
  "language_info": {
   "codemirror_mode": {
    "name": "ipython",
    "version": 2
   },
   "file_extension": ".py",
   "mimetype": "text/x-python",
   "name": "python",
   "nbconvert_exporter": "python",
   "pygments_lexer": "ipython2",
   "version": "2.7.13"
  }
 },
 "nbformat": 4,
 "nbformat_minor": 2
}
