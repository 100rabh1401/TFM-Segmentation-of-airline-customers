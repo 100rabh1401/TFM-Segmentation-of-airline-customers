{
 "cells": [
  {
   "cell_type": "code",
   "execution_count": 1,
   "metadata": {
    "collapsed": true
   },
   "outputs": [],
   "source": [
    "import findspark"
   ]
  },
  {
   "cell_type": "code",
   "execution_count": 2,
   "metadata": {
    "collapsed": true
   },
   "outputs": [],
   "source": [
    "findspark.init()"
   ]
  },
  {
   "cell_type": "code",
   "execution_count": 3,
   "metadata": {
    "collapsed": false
   },
   "outputs": [],
   "source": [
    "import pyspark\n",
    "sc = pyspark.SparkContext()"
   ]
  },
  {
   "cell_type": "code",
   "execution_count": 4,
   "metadata": {
    "collapsed": false
   },
   "outputs": [
    {
     "data": {
      "text/plain": [
       "<pyspark.context.SparkContext at 0x107b572d0>"
      ]
     },
     "execution_count": 4,
     "metadata": {},
     "output_type": "execute_result"
    }
   ],
   "source": [
    "sc"
   ]
  },
  {
   "cell_type": "code",
   "execution_count": 5,
   "metadata": {
    "collapsed": true
   },
   "outputs": [],
   "source": [
    "from pyspark.sql import SQLContext\n",
    "from pyspark.sql.types import *"
   ]
  },
  {
   "cell_type": "code",
   "execution_count": 6,
   "metadata": {
    "collapsed": true
   },
   "outputs": [],
   "source": [
    "sqlContext = SQLContext(sc)"
   ]
  },
  {
   "cell_type": "markdown",
   "metadata": {},
   "source": [
    "# Exploring and analysing the dataset"
   ]
  },
  {
   "cell_type": "code",
   "execution_count": 7,
   "metadata": {
    "collapsed": true
   },
   "outputs": [],
   "source": [
    "df = sqlContext.read.csv('marketing_pax.csv', header=True, sep='^', inferSchema=True)"
   ]
  },
  {
   "cell_type": "code",
   "execution_count": 8,
   "metadata": {
    "collapsed": false
   },
   "outputs": [
    {
     "data": {
      "text/plain": [
       "9546302"
      ]
     },
     "execution_count": 8,
     "metadata": {},
     "output_type": "execute_result"
    }
   ],
   "source": [
    "df.count()"
   ]
  },
  {
   "cell_type": "code",
   "execution_count": 9,
   "metadata": {
    "collapsed": false
   },
   "outputs": [
    {
     "name": "stdout",
     "output_type": "stream",
     "text": [
      "root\n",
      " |-- rloc: string (nullable = true)\n",
      " |-- full_name: string (nullable = true)\n",
      " |-- gender: string (nullable = true)\n",
      " |-- age: integer (nullable = true)\n",
      " |-- date_of_birth: timestamp (nullable = true)\n",
      " |-- document_type: string (nullable = true)\n",
      " |-- document_number: string (nullable = true)\n",
      " |-- document_country: string (nullable = true)\n",
      " |-- nationality: string (nullable = true)\n",
      " |-- fqtv_data: string (nullable = true)\n",
      " |-- general_status: string (nullable = true)\n",
      " |-- boarding_status: string (nullable = true)\n",
      " |-- acceptance_status: string (nullable = true)\n",
      " |-- bag_status: string (nullable = true)\n",
      " |-- customer_accepted: string (nullable = true)\n",
      " |-- checkin_location: string (nullable = true)\n",
      " |-- boarded_in_all_legs_flag: boolean (nullable = true)\n",
      " |-- cabin_code: string (nullable = true)\n",
      " |-- booking_class_code: string (nullable = true)\n",
      " |-- airline_code: string (nullable = true)\n",
      " |-- flight_number: string (nullable = true)\n",
      " |-- departure_date_leg: timestamp (nullable = true)\n",
      " |-- quality_index: double (nullable = true)\n",
      " |-- creation_date: timestamp (nullable = true)\n",
      " |-- advance_purchase: integer (nullable = true)\n",
      " |-- creator_office_id: string (nullable = true)\n",
      " |-- creator_iata_number: integer (nullable = true)\n",
      " |-- creator_gds_code: string (nullable = true)\n",
      " |-- creator_city_code: string (nullable = true)\n",
      " |-- creator_lat: double (nullable = true)\n",
      " |-- creator_lon: double (nullable = true)\n",
      " |-- creator_country_code: string (nullable = true)\n",
      " |-- creator_continent_name: string (nullable = true)\n",
      " |-- creator_channel_code: string (nullable = true)\n",
      " |-- booking_status_code: string (nullable = true)\n",
      " |-- cabin_code_seg: string (nullable = true)\n",
      " |-- booking_class_code_seg: string (nullable = true)\n",
      " |-- pos_office_id: string (nullable = true)\n",
      " |-- pos_iata_number: integer (nullable = true)\n",
      " |-- pos_gds_code: string (nullable = true)\n",
      " |-- pos_city_code: string (nullable = true)\n",
      " |-- pos_lat: double (nullable = true)\n",
      " |-- pos_lon: double (nullable = true)\n",
      " |-- pos_country_code: string (nullable = true)\n",
      " |-- pos_continent_code: string (nullable = true)\n",
      " |-- pos_channel_code: string (nullable = true)\n",
      " |-- board_point: string (nullable = true)\n",
      " |-- board_lat: double (nullable = true)\n",
      " |-- board_lon: double (nullable = true)\n",
      " |-- board_country_code: string (nullable = true)\n",
      " |-- board_continent_code: string (nullable = true)\n",
      " |-- off_point: string (nullable = true)\n",
      " |-- off_lat: double (nullable = true)\n",
      " |-- off_lon: double (nullable = true)\n",
      " |-- off_country_code: string (nullable = true)\n",
      " |-- off_continent_code: string (nullable = true)\n",
      " |-- distance_seg: double (nullable = true)\n",
      " |-- route: string (nullable = true)\n",
      " |-- network: string (nullable = true)\n",
      " |-- airline_code_seg: string (nullable = true)\n",
      " |-- flight_number_seg: string (nullable = true)\n",
      " |-- flight_type: string (nullable = true)\n",
      " |-- revenue_amount_seg: double (nullable = true)\n",
      " |-- emd_count: integer (nullable = true)\n",
      " |-- emd_amount: double (nullable = true)\n",
      " |-- fuel_surcharge_amount_seg: double (nullable = true)\n",
      "\n"
     ]
    }
   ],
   "source": [
    "df.printSchema()"
   ]
  },
  {
   "cell_type": "code",
   "execution_count": 10,
   "metadata": {
    "collapsed": false
   },
   "outputs": [
    {
     "data": {
      "text/plain": [
       "(66,\n",
       " ['rloc',\n",
       "  'full_name',\n",
       "  'gender',\n",
       "  'age',\n",
       "  'date_of_birth',\n",
       "  'document_type',\n",
       "  'document_number',\n",
       "  'document_country',\n",
       "  'nationality',\n",
       "  'fqtv_data',\n",
       "  'general_status',\n",
       "  'boarding_status',\n",
       "  'acceptance_status',\n",
       "  'bag_status',\n",
       "  'customer_accepted',\n",
       "  'checkin_location',\n",
       "  'boarded_in_all_legs_flag',\n",
       "  'cabin_code',\n",
       "  'booking_class_code',\n",
       "  'airline_code',\n",
       "  'flight_number',\n",
       "  'departure_date_leg',\n",
       "  'quality_index',\n",
       "  'creation_date',\n",
       "  'advance_purchase',\n",
       "  'creator_office_id',\n",
       "  'creator_iata_number',\n",
       "  'creator_gds_code',\n",
       "  'creator_city_code',\n",
       "  'creator_lat',\n",
       "  'creator_lon',\n",
       "  'creator_country_code',\n",
       "  'creator_continent_name',\n",
       "  'creator_channel_code',\n",
       "  'booking_status_code',\n",
       "  'cabin_code_seg',\n",
       "  'booking_class_code_seg',\n",
       "  'pos_office_id',\n",
       "  'pos_iata_number',\n",
       "  'pos_gds_code',\n",
       "  'pos_city_code',\n",
       "  'pos_lat',\n",
       "  'pos_lon',\n",
       "  'pos_country_code',\n",
       "  'pos_continent_code',\n",
       "  'pos_channel_code',\n",
       "  'board_point',\n",
       "  'board_lat',\n",
       "  'board_lon',\n",
       "  'board_country_code',\n",
       "  'board_continent_code',\n",
       "  'off_point',\n",
       "  'off_lat',\n",
       "  'off_lon',\n",
       "  'off_country_code',\n",
       "  'off_continent_code',\n",
       "  'distance_seg',\n",
       "  'route',\n",
       "  'network',\n",
       "  'airline_code_seg',\n",
       "  'flight_number_seg',\n",
       "  'flight_type',\n",
       "  'revenue_amount_seg',\n",
       "  'emd_count',\n",
       "  'emd_amount',\n",
       "  'fuel_surcharge_amount_seg'])"
      ]
     },
     "execution_count": 10,
     "metadata": {},
     "output_type": "execute_result"
    }
   ],
   "source": [
    "len(df.columns), df.columns"
   ]
  },
  {
   "cell_type": "code",
   "execution_count": 11,
   "metadata": {
    "collapsed": false,
    "scrolled": true
   },
   "outputs": [
    {
     "name": "stdout",
     "output_type": "stream",
     "text": [
      "+------+----+\n",
      "|gender| age|\n",
      "+------+----+\n",
      "|     F|null|\n",
      "|     M|null|\n",
      "|     M|  33|\n",
      "|     F|  40|\n",
      "|     F|null|\n",
      "+------+----+\n",
      "only showing top 5 rows\n",
      "\n"
     ]
    }
   ],
   "source": [
    "df.select('gender', 'age').show(5)"
   ]
  },
  {
   "cell_type": "code",
   "execution_count": 12,
   "metadata": {
    "collapsed": false
   },
   "outputs": [
    {
     "name": "stdout",
     "output_type": "stream",
     "text": [
      "+------+\n",
      "|  rloc|\n",
      "+------+\n",
      "|60Z666|\n",
      "|612666|\n",
      "|818666|\n",
      "|827666|\n",
      "|8PD666|\n",
      "+------+\n",
      "only showing top 5 rows\n",
      "\n"
     ]
    }
   ],
   "source": [
    "df.select('rloc').show(5)"
   ]
  },
  {
   "cell_type": "code",
   "execution_count": 13,
   "metadata": {
    "collapsed": false
   },
   "outputs": [
    {
     "name": "stdout",
     "output_type": "stream",
     "text": [
      "+---------------+\n",
      "|Document_number|\n",
      "+---------------+\n",
      "|           null|\n",
      "|           null|\n",
      "|      39939WV44|\n",
      "|       5719T651|\n",
      "|           null|\n",
      "+---------------+\n",
      "only showing top 5 rows\n",
      "\n"
     ]
    }
   ],
   "source": [
    "df.select('Document_number').show(5)"
   ]
  },
  {
   "cell_type": "code",
   "execution_count": 14,
   "metadata": {
    "collapsed": false
   },
   "outputs": [],
   "source": [
    "import pandas as pd\n",
    "import requests"
   ]
  },
  {
   "cell_type": "code",
   "execution_count": 15,
   "metadata": {
    "collapsed": false
   },
   "outputs": [
    {
     "name": "stdout",
     "output_type": "stream",
     "text": [
      "+------+-----+\n",
      "|  rloc|count|\n",
      "+------+-----+\n",
      "|MW0669|    2|\n",
      "|DKA66P|    4|\n",
      "|MIJ66V|    2|\n",
      "|ARB66H|    4|\n",
      "|9KS66J|    2|\n",
      "|NFB66J|    8|\n",
      "|ZJD66K|    8|\n",
      "|JFB676|    4|\n",
      "|JWJ670|    4|\n",
      "|KW3670|    6|\n",
      "+------+-----+\n",
      "only showing top 10 rows\n",
      "\n"
     ]
    }
   ],
   "source": [
    "df.groupBy('rloc').count().show(10)"
   ]
  },
  {
   "cell_type": "code",
   "execution_count": 16,
   "metadata": {
    "collapsed": true
   },
   "outputs": [],
   "source": [
    "from pyspark.sql import *\n",
    "from pyspark.sql.functions import *"
   ]
  },
  {
   "cell_type": "code",
   "execution_count": 17,
   "metadata": {
    "collapsed": false
   },
   "outputs": [
    {
     "name": "stdout",
     "output_type": "stream",
     "text": [
      "+--------------------+\n",
      "|count(DISTINCT rloc)|\n",
      "+--------------------+\n",
      "|             2605835|\n",
      "+--------------------+\n",
      "\n"
     ]
    }
   ],
   "source": [
    "df.agg(countDistinct(df.rloc)).show()"
   ]
  },
  {
   "cell_type": "code",
   "execution_count": 18,
   "metadata": {
    "collapsed": false
   },
   "outputs": [
    {
     "data": {
      "text/plain": [
       "2636677"
      ]
     },
     "execution_count": 18,
     "metadata": {},
     "output_type": "execute_result"
    }
   ],
   "source": [
    "#contamos el número de billetes existente (hay muchos null)\n",
    "df.filter(df.document_number.isNotNull()).count()"
   ]
  },
  {
   "cell_type": "markdown",
   "metadata": {},
   "source": [
    "# Cleansing and preparing the dataset"
   ]
  },
  {
   "cell_type": "code",
   "execution_count": 19,
   "metadata": {
    "collapsed": true
   },
   "outputs": [],
   "source": [
    "#creamos el dataframe vuelos\n",
    "df.createOrReplaceTempView(\"vuelos\")"
   ]
  },
  {
   "cell_type": "code",
   "execution_count": 20,
   "metadata": {
    "collapsed": false
   },
   "outputs": [],
   "source": [
    "#contamos el número de billetes existente (hay muchos null)\n",
    "sqlDF = sqlContext.sql(\"SELECT COUNT(document_number) FROM vuelos WHERE document_number IS NOT NULL\")"
   ]
  },
  {
   "cell_type": "code",
   "execution_count": 21,
   "metadata": {
    "collapsed": false
   },
   "outputs": [
    {
     "name": "stdout",
     "output_type": "stream",
     "text": [
      "+----------------------+\n",
      "|count(document_number)|\n",
      "+----------------------+\n",
      "|               2636677|\n",
      "+----------------------+\n",
      "\n"
     ]
    }
   ],
   "source": [
    "sqlDF.show()"
   ]
  },
  {
   "cell_type": "code",
   "execution_count": 22,
   "metadata": {
    "collapsed": true
   },
   "outputs": [],
   "source": [
    "sqlDF = sqlContext.sql(\"SELECT COUNT(*), COUNT(DISTINCT rloc) FROM vuelos\")"
   ]
  },
  {
   "cell_type": "code",
   "execution_count": 23,
   "metadata": {
    "collapsed": false
   },
   "outputs": [
    {
     "name": "stdout",
     "output_type": "stream",
     "text": [
      "+--------+--------------------+\n",
      "|count(1)|count(DISTINCT rloc)|\n",
      "+--------+--------------------+\n",
      "| 9546302|             2605835|\n",
      "+--------+--------------------+\n",
      "\n"
     ]
    }
   ],
   "source": [
    "sqlDF.show()"
   ]
  },
  {
   "cell_type": "code",
   "execution_count": 24,
   "metadata": {
    "collapsed": true
   },
   "outputs": [],
   "source": [
    "#departure_date_leg count\n",
    "sqlDF = sqlContext.sql(\"SELECT COUNT(departure_date_leg) FROM vuelos\")"
   ]
  },
  {
   "cell_type": "code",
   "execution_count": 25,
   "metadata": {
    "collapsed": false
   },
   "outputs": [
    {
     "name": "stdout",
     "output_type": "stream",
     "text": [
      "+-------------------------+\n",
      "|count(departure_date_leg)|\n",
      "+-------------------------+\n",
      "|                  9546300|\n",
      "+-------------------------+\n",
      "\n"
     ]
    }
   ],
   "source": [
    "sqlDF.show()"
   ]
  },
  {
   "cell_type": "code",
   "execution_count": 26,
   "metadata": {
    "collapsed": false
   },
   "outputs": [],
   "source": [
    "df.createOrReplaceTempView(\"fechas_salida_vuelos\")"
   ]
  },
  {
   "cell_type": "code",
   "execution_count": 27,
   "metadata": {
    "collapsed": false
   },
   "outputs": [],
   "source": [
    "#departure_date_leg count\n",
    "\n",
    "sqlDF = sqlContext.sql(sqlQuery=\"select departure_date_leg, count(*)\\\n",
    "from vuelos group by departure_date_leg order by 1\")"
   ]
  },
  {
   "cell_type": "code",
   "execution_count": 28,
   "metadata": {
    "collapsed": false
   },
   "outputs": [
    {
     "name": "stdout",
     "output_type": "stream",
     "text": [
      "+--------------------+--------+\n",
      "|  departure_date_leg|count(1)|\n",
      "+--------------------+--------+\n",
      "|2014-07-14 00:00:...|       1|\n",
      "|2014-06-04 00:00:...|       1|\n",
      "|2014-05-02 00:00:...|       1|\n",
      "|2014-04-30 00:00:...|       2|\n",
      "|2014-04-29 00:00:...|       1|\n",
      "|2014-04-26 00:00:...|       6|\n",
      "|2014-04-14 00:00:...|       7|\n",
      "|2014-04-13 00:00:...|       1|\n",
      "|2014-04-12 00:00:...|       4|\n",
      "|2014-04-11 00:00:...|       3|\n",
      "|2014-04-10 00:00:...|       3|\n",
      "|2014-04-09 00:00:...|      28|\n",
      "|2014-04-08 00:00:...|    9273|\n",
      "|2014-04-07 00:00:...|   12259|\n",
      "|2014-04-06 00:00:...|   14274|\n",
      "|2014-04-05 00:00:...|   13120|\n",
      "|2014-04-04 00:00:...|   20702|\n",
      "|2014-04-03 00:00:...|   19973|\n",
      "|2014-04-02 00:00:...|   17897|\n",
      "|2014-04-01 00:00:...|   16563|\n",
      "|2014-03-31 00:00:...|   19681|\n",
      "|2014-03-30 00:00:...|   20607|\n",
      "|2014-03-29 00:00:...|   18637|\n",
      "|2014-03-28 00:00:...|   23506|\n",
      "|2014-03-27 00:00:...|   22086|\n",
      "|2014-03-26 00:00:...|   19947|\n",
      "|2014-03-25 00:00:...|   18963|\n",
      "|2014-03-24 00:00:...|   21594|\n",
      "|2014-03-23 00:00:...|   21193|\n",
      "|2014-03-22 00:00:...|   20174|\n",
      "|2014-03-21 00:00:...|   24563|\n",
      "|2014-03-20 00:00:...|   22819|\n",
      "|2014-03-19 00:00:...|   20728|\n",
      "|2014-03-18 00:00:...|   19215|\n",
      "|2014-03-17 00:00:...|   21845|\n",
      "|2014-03-16 00:00:...|   21312|\n",
      "|2014-03-15 00:00:...|   19800|\n",
      "|2014-03-14 00:00:...|   25050|\n",
      "|2014-03-13 00:00:...|   22222|\n",
      "|2014-03-12 00:00:...|   20236|\n",
      "|2014-03-11 00:00:...|   18877|\n",
      "|2014-03-10 00:00:...|   22102|\n",
      "|2014-03-09 00:00:...|   21742|\n",
      "|2014-03-08 00:00:...|   20659|\n",
      "|2014-03-07 00:00:...|   24400|\n",
      "|2014-03-06 00:00:...|   21237|\n",
      "|2014-03-05 00:00:...|   19613|\n",
      "|2014-03-04 00:00:...|   17233|\n",
      "|2014-03-03 00:00:...|   21044|\n",
      "|2014-03-02 00:00:...|   21023|\n",
      "|2014-03-01 00:00:...|   20747|\n",
      "|2014-02-28 00:00:...|   25293|\n",
      "|2014-02-27 00:00:...|   22003|\n",
      "|2014-02-26 00:00:...|   18957|\n",
      "|2014-02-25 00:00:...|   17596|\n",
      "|2014-02-24 00:00:...|   21418|\n",
      "|2014-02-23 00:00:...|   21989|\n",
      "|2014-02-22 00:00:...|   22263|\n",
      "|2014-02-21 00:00:...|   24954|\n",
      "|2014-02-20 00:00:...|   21594|\n",
      "|2014-02-19 00:00:...|   19436|\n",
      "|2014-02-18 00:00:...|   16892|\n",
      "|2014-02-17 00:00:...|   20436|\n",
      "|2014-02-16 00:00:...|   21702|\n",
      "|2014-02-15 00:00:...|   20043|\n",
      "|2014-02-14 00:00:...|   23740|\n",
      "|2014-02-13 00:00:...|   21609|\n",
      "|2014-02-12 00:00:...|   20191|\n",
      "|2014-02-11 00:00:...|   17536|\n",
      "|2014-02-10 00:00:...|   19986|\n",
      "|2014-02-09 00:00:...|   19410|\n",
      "|2014-02-08 00:00:...|   17022|\n",
      "|2014-02-07 00:00:...|   22842|\n",
      "|2014-02-06 00:00:...|   20211|\n",
      "|2014-02-05 00:00:...|   19296|\n",
      "|2014-02-04 00:00:...|   17891|\n",
      "|2014-02-03 00:00:...|   18775|\n",
      "|2014-02-02 00:00:...|   18174|\n",
      "|2014-02-01 00:00:...|   15826|\n",
      "|2014-01-31 00:00:...|   21025|\n",
      "|2014-01-30 00:00:...|   19390|\n",
      "|2014-01-29 00:00:...|   18669|\n",
      "|2014-01-28 00:00:...|   16417|\n",
      "|2014-01-27 00:00:...|   17277|\n",
      "|2014-01-26 00:00:...|   17521|\n",
      "|2014-01-25 00:00:...|   16151|\n",
      "|2014-01-24 00:00:...|   21777|\n",
      "|2014-01-23 00:00:...|   18927|\n",
      "|2014-01-22 00:00:...|   17261|\n",
      "|2014-01-21 00:00:...|   15768|\n",
      "|2014-01-20 00:00:...|   17260|\n",
      "|2014-01-19 00:00:...|   17638|\n",
      "|2014-01-18 00:00:...|   15129|\n",
      "|2014-01-17 00:00:...|   20677|\n",
      "|2014-01-16 00:00:...|   19530|\n",
      "|2014-01-15 00:00:...|   18782|\n",
      "|2014-01-14 00:00:...|   16345|\n",
      "|2014-01-13 00:00:...|   17667|\n",
      "|2014-01-12 00:00:...|   16497|\n",
      "|2014-01-11 00:00:...|   15040|\n",
      "|2014-01-10 00:00:...|   19421|\n",
      "|2014-01-09 00:00:...|   17833|\n",
      "|2014-01-08 00:00:...|   18055|\n",
      "|2014-01-07 00:00:...|   18906|\n",
      "|2014-01-06 00:00:...|   18795|\n",
      "|2014-01-05 00:00:...|   18438|\n",
      "|2014-01-04 00:00:...|   18774|\n",
      "|2014-01-03 00:00:...|   20792|\n",
      "|2014-01-02 00:00:...|   18630|\n",
      "|2014-01-01 00:00:...|   14741|\n",
      "|2013-12-31 00:00:...|   10419|\n",
      "|2013-12-30 00:00:...|   20311|\n",
      "|2013-12-29 00:00:...|   19899|\n",
      "|2013-12-28 00:00:...|   19679|\n",
      "|2013-12-27 00:00:...|   22229|\n",
      "|2013-12-26 00:00:...|   19154|\n",
      "|2013-12-25 00:00:...|    2710|\n",
      "|2013-12-24 00:00:...|    4182|\n",
      "|2013-12-23 00:00:...|   19115|\n",
      "|2013-12-22 00:00:...|   20288|\n",
      "|2013-12-21 00:00:...|   19673|\n",
      "|2013-12-20 00:00:...|   24371|\n",
      "|2013-12-19 00:00:...|   21890|\n",
      "|2013-12-18 00:00:...|   19953|\n",
      "|2013-12-17 00:00:...|   17333|\n",
      "|2013-12-16 00:00:...|   20313|\n",
      "|2013-12-15 00:00:...|   17133|\n",
      "|2013-12-14 00:00:...|   15864|\n",
      "|2013-12-13 00:00:...|   21857|\n",
      "|2013-12-12 00:00:...|   21199|\n",
      "|2013-12-11 00:00:...|   19870|\n",
      "|2013-12-10 00:00:...|   19118|\n",
      "|2013-12-09 00:00:...|   23537|\n",
      "|2013-12-08 00:00:...|   19413|\n",
      "|2013-12-07 00:00:...|   15673|\n",
      "|2013-12-06 00:00:...|   20050|\n",
      "|2013-12-05 00:00:...|   22243|\n",
      "|2013-12-04 00:00:...|   19817|\n",
      "|2013-12-03 00:00:...|   17264|\n",
      "|2013-12-02 00:00:...|   20155|\n",
      "|2013-12-01 00:00:...|   18457|\n",
      "|2013-11-30 00:00:...|   14911|\n",
      "|2013-11-29 00:00:...|   22447|\n",
      "|2013-11-28 00:00:...|   20420|\n",
      "|2013-11-27 00:00:...|   18921|\n",
      "|2013-11-26 00:00:...|   17003|\n",
      "|2013-11-25 00:00:...|   19403|\n",
      "|2013-11-24 00:00:...|   18044|\n",
      "|2013-11-23 00:00:...|   14336|\n",
      "|2013-11-22 00:00:...|   21008|\n",
      "+--------------------+--------+\n",
      "only showing top 150 rows\n",
      "\n"
     ]
    }
   ],
   "source": [
    "sqlDF.orderBy(desc(\"departure_date_leg\")).show(150)\n",
    "#selecciono hasta el 01/01/2014 "
   ]
  },
  {
   "cell_type": "code",
   "execution_count": 29,
   "metadata": {
    "collapsed": false
   },
   "outputs": [
    {
     "name": "stdout",
     "output_type": "stream",
     "text": [
      "+--------------------+--------+\n",
      "|  departure_date_leg|count(1)|\n",
      "+--------------------+--------+\n",
      "|                null|       2|\n",
      "|2012-06-27 00:00:...|       1|\n",
      "|2012-07-05 00:00:...|       2|\n",
      "|2012-07-12 00:00:...|       2|\n",
      "|2012-07-14 00:00:...|       2|\n",
      "|2012-07-15 00:00:...|       2|\n",
      "|2012-07-19 00:00:...|       1|\n",
      "|2012-07-22 00:00:...|       1|\n",
      "|2012-07-23 00:00:...|       2|\n",
      "|2012-08-01 00:00:...|       4|\n",
      "|2012-08-03 00:00:...|       1|\n",
      "|2012-08-06 00:00:...|      32|\n",
      "|2012-08-09 00:00:...|       1|\n",
      "|2012-08-16 00:00:...|       5|\n",
      "|2012-08-20 00:00:...|       4|\n",
      "|2012-08-23 00:00:...|       1|\n",
      "|2012-08-24 00:00:...|       1|\n",
      "|2012-08-30 00:00:...|       2|\n",
      "|2012-09-03 00:00:...|       1|\n",
      "|2012-09-04 00:00:...|       4|\n",
      "|2012-09-10 00:00:...|       2|\n",
      "|2012-09-12 00:00:...|       1|\n",
      "|2012-09-15 00:00:...|       2|\n",
      "|2012-09-16 00:00:...|       2|\n",
      "|2012-09-18 00:00:...|       2|\n",
      "|2012-09-19 00:00:...|       1|\n",
      "|2012-09-20 00:00:...|       3|\n",
      "|2012-09-30 00:00:...|       2|\n",
      "|2012-10-06 00:00:...|       2|\n",
      "|2012-10-30 00:00:...|       2|\n",
      "|2012-10-31 00:00:...|       2|\n",
      "|2012-11-02 00:00:...|       2|\n",
      "|2012-11-03 00:00:...|       2|\n",
      "|2012-11-04 00:00:...|       1|\n",
      "|2012-11-06 00:00:...|       2|\n",
      "|2012-11-08 00:00:...|       2|\n",
      "|2012-11-14 00:00:...|       5|\n",
      "|2012-11-16 00:00:...|       2|\n",
      "|2012-11-18 00:00:...|       2|\n",
      "|2012-11-20 00:00:...|       4|\n",
      "|2012-11-21 00:00:...|       1|\n",
      "|2012-11-23 00:00:...|       2|\n",
      "|2012-11-25 00:00:...|       2|\n",
      "|2012-11-29 00:00:...|       2|\n",
      "|2012-11-30 00:00:...|       2|\n",
      "|2012-12-03 00:00:...|       2|\n",
      "|2012-12-04 00:00:...|      13|\n",
      "|2012-12-05 00:00:...|       1|\n",
      "|2012-12-07 00:00:...|       1|\n",
      "|2012-12-08 00:00:...|       1|\n",
      "|2012-12-09 00:00:...|       2|\n",
      "|2012-12-10 00:00:...|       3|\n",
      "|2012-12-11 00:00:...|       5|\n",
      "|2012-12-13 00:00:...|       8|\n",
      "|2012-12-14 00:00:...|       6|\n",
      "|2012-12-15 00:00:...|      12|\n",
      "|2012-12-16 00:00:...|       1|\n",
      "|2012-12-17 00:00:...|       7|\n",
      "|2012-12-18 00:00:...|       7|\n",
      "|2012-12-19 00:00:...|      32|\n",
      "|2012-12-20 00:00:...|      15|\n",
      "|2012-12-21 00:00:...|       6|\n",
      "|2012-12-22 00:00:...|       5|\n",
      "|2012-12-23 00:00:...|       1|\n",
      "|2012-12-24 00:00:...|       1|\n",
      "|2012-12-25 00:00:...|       1|\n",
      "|2012-12-26 00:00:...|      19|\n",
      "|2012-12-27 00:00:...|      23|\n",
      "|2012-12-28 00:00:...|      11|\n",
      "|2012-12-29 00:00:...|      30|\n",
      "|2012-12-30 00:00:...|    3622|\n",
      "|2012-12-31 00:00:...|    4451|\n",
      "|2013-01-01 00:00:...|   14033|\n",
      "|2013-01-02 00:00:...|   19776|\n",
      "|2013-01-03 00:00:...|   19195|\n",
      "|2013-01-04 00:00:...|   19890|\n",
      "|2013-01-05 00:00:...|   17158|\n",
      "|2013-01-06 00:00:...|   17824|\n",
      "|2013-01-07 00:00:...|   19867|\n",
      "|2013-01-08 00:00:...|   17037|\n",
      "|2013-01-09 00:00:...|   15962|\n",
      "|2013-01-10 00:00:...|   17566|\n",
      "|2013-01-11 00:00:...|   18278|\n",
      "|2013-01-12 00:00:...|   15338|\n",
      "|2013-01-13 00:00:...|   16741|\n",
      "|2013-01-14 00:00:...|   17221|\n",
      "|2013-01-15 00:00:...|   16083|\n",
      "|2013-01-16 00:00:...|   17617|\n",
      "|2013-01-17 00:00:...|   18738|\n",
      "|2013-01-18 00:00:...|   19551|\n",
      "|2013-01-19 00:00:...|   16189|\n",
      "|2013-01-20 00:00:...|   17719|\n",
      "|2013-01-21 00:00:...|   18913|\n",
      "|2013-01-22 00:00:...|   16756|\n",
      "|2013-01-23 00:00:...|   17593|\n",
      "|2013-01-24 00:00:...|   19210|\n",
      "|2013-01-25 00:00:...|   20886|\n",
      "|2013-01-26 00:00:...|   17667|\n",
      "|2013-01-27 00:00:...|   18648|\n",
      "|2013-01-28 00:00:...|   19375|\n",
      "+--------------------+--------+\n",
      "only showing top 100 rows\n",
      "\n"
     ]
    }
   ],
   "source": [
    "sqlDF.orderBy(asc(\"departure_date_leg\")).show(100)\n",
    "#veo que a partir del 01/01/2013 hay más volumen de datos"
   ]
  },
  {
   "cell_type": "code",
   "execution_count": 30,
   "metadata": {
    "collapsed": false
   },
   "outputs": [
    {
     "name": "stdout",
     "output_type": "stream",
     "text": [
      "+------------------------------+\n",
      "|last(departure_date_leg, true)|\n",
      "+------------------------------+\n",
      "|          2014-07-14 00:00:...|\n",
      "+------------------------------+\n",
      "\n"
     ]
    }
   ],
   "source": [
    "sqlDF.select(last('departure_date_leg', ignorenulls=True)).show()"
   ]
  },
  {
   "cell_type": "code",
   "execution_count": 31,
   "metadata": {
    "collapsed": false
   },
   "outputs": [
    {
     "name": "stdout",
     "output_type": "stream",
     "text": [
      "+-------------------------------+\n",
      "|first(departure_date_leg, true)|\n",
      "+-------------------------------+\n",
      "|           2012-06-27 00:00:...|\n",
      "+-------------------------------+\n",
      "\n"
     ]
    }
   ],
   "source": [
    "sqlDF.select(first('departure_date_leg', ignorenulls=True)).show()"
   ]
  },
  {
   "cell_type": "code",
   "execution_count": 32,
   "metadata": {
    "collapsed": true
   },
   "outputs": [],
   "source": [
    "fechas_vuelos = df.groupBy(df['departure_date_leg']).count().toPandas().sort_values(by='count', ascending=False)"
   ]
  },
  {
   "cell_type": "code",
   "execution_count": 33,
   "metadata": {
    "collapsed": true
   },
   "outputs": [],
   "source": [
    "vuelos_por_fecha = pd.DataFrame(fechas_vuelos)"
   ]
  },
  {
   "cell_type": "code",
   "execution_count": 34,
   "metadata": {
    "collapsed": false,
    "scrolled": false
   },
   "outputs": [
    {
     "data": {
      "text/html": [
       "<div>\n",
       "<table border=\"1\" class=\"dataframe\">\n",
       "  <thead>\n",
       "    <tr style=\"text-align: right;\">\n",
       "      <th></th>\n",
       "      <th>departure_date_leg</th>\n",
       "      <th>count</th>\n",
       "    </tr>\n",
       "  </thead>\n",
       "  <tbody>\n",
       "    <tr>\n",
       "      <th>239</th>\n",
       "      <td>2012-12-16</td>\n",
       "      <td>1</td>\n",
       "    </tr>\n",
       "    <tr>\n",
       "      <th>176</th>\n",
       "      <td>2012-07-22</td>\n",
       "      <td>1</td>\n",
       "    </tr>\n",
       "    <tr>\n",
       "      <th>57</th>\n",
       "      <td>2012-07-19</td>\n",
       "      <td>1</td>\n",
       "    </tr>\n",
       "    <tr>\n",
       "      <th>477</th>\n",
       "      <td>2014-04-29</td>\n",
       "      <td>1</td>\n",
       "    </tr>\n",
       "    <tr>\n",
       "      <th>6</th>\n",
       "      <td>2012-12-05</td>\n",
       "      <td>1</td>\n",
       "    </tr>\n",
       "    <tr>\n",
       "      <th>427</th>\n",
       "      <td>2014-07-14</td>\n",
       "      <td>1</td>\n",
       "    </tr>\n",
       "    <tr>\n",
       "      <th>542</th>\n",
       "      <td>2012-12-25</td>\n",
       "      <td>1</td>\n",
       "    </tr>\n",
       "    <tr>\n",
       "      <th>254</th>\n",
       "      <td>2014-05-02</td>\n",
       "      <td>1</td>\n",
       "    </tr>\n",
       "    <tr>\n",
       "      <th>404</th>\n",
       "      <td>2012-12-23</td>\n",
       "      <td>1</td>\n",
       "    </tr>\n",
       "    <tr>\n",
       "      <th>399</th>\n",
       "      <td>2012-11-04</td>\n",
       "      <td>1</td>\n",
       "    </tr>\n",
       "    <tr>\n",
       "      <th>393</th>\n",
       "      <td>2012-06-27</td>\n",
       "      <td>1</td>\n",
       "    </tr>\n",
       "    <tr>\n",
       "      <th>221</th>\n",
       "      <td>2012-08-24</td>\n",
       "      <td>1</td>\n",
       "    </tr>\n",
       "    <tr>\n",
       "      <th>174</th>\n",
       "      <td>2014-06-04</td>\n",
       "      <td>1</td>\n",
       "    </tr>\n",
       "    <tr>\n",
       "      <th>84</th>\n",
       "      <td>2012-09-03</td>\n",
       "      <td>1</td>\n",
       "    </tr>\n",
       "    <tr>\n",
       "      <th>168</th>\n",
       "      <td>2012-08-23</td>\n",
       "      <td>1</td>\n",
       "    </tr>\n",
       "    <tr>\n",
       "      <th>524</th>\n",
       "      <td>2012-09-12</td>\n",
       "      <td>1</td>\n",
       "    </tr>\n",
       "    <tr>\n",
       "      <th>187</th>\n",
       "      <td>2012-12-08</td>\n",
       "      <td>1</td>\n",
       "    </tr>\n",
       "    <tr>\n",
       "      <th>146</th>\n",
       "      <td>2012-08-03</td>\n",
       "      <td>1</td>\n",
       "    </tr>\n",
       "    <tr>\n",
       "      <th>48</th>\n",
       "      <td>2012-08-09</td>\n",
       "      <td>1</td>\n",
       "    </tr>\n",
       "    <tr>\n",
       "      <th>512</th>\n",
       "      <td>2012-12-07</td>\n",
       "      <td>1</td>\n",
       "    </tr>\n",
       "    <tr>\n",
       "      <th>73</th>\n",
       "      <td>2012-11-21</td>\n",
       "      <td>1</td>\n",
       "    </tr>\n",
       "    <tr>\n",
       "      <th>320</th>\n",
       "      <td>2012-09-19</td>\n",
       "      <td>1</td>\n",
       "    </tr>\n",
       "    <tr>\n",
       "      <th>336</th>\n",
       "      <td>2014-04-13</td>\n",
       "      <td>1</td>\n",
       "    </tr>\n",
       "    <tr>\n",
       "      <th>516</th>\n",
       "      <td>2012-12-24</td>\n",
       "      <td>1</td>\n",
       "    </tr>\n",
       "    <tr>\n",
       "      <th>86</th>\n",
       "      <td>2012-07-12</td>\n",
       "      <td>2</td>\n",
       "    </tr>\n",
       "    <tr>\n",
       "      <th>225</th>\n",
       "      <td>2012-09-15</td>\n",
       "      <td>2</td>\n",
       "    </tr>\n",
       "    <tr>\n",
       "      <th>14</th>\n",
       "      <td>2012-10-30</td>\n",
       "      <td>2</td>\n",
       "    </tr>\n",
       "    <tr>\n",
       "      <th>157</th>\n",
       "      <td>2012-07-05</td>\n",
       "      <td>2</td>\n",
       "    </tr>\n",
       "    <tr>\n",
       "      <th>521</th>\n",
       "      <td>2012-07-15</td>\n",
       "      <td>2</td>\n",
       "    </tr>\n",
       "    <tr>\n",
       "      <th>93</th>\n",
       "      <td>2012-11-08</td>\n",
       "      <td>2</td>\n",
       "    </tr>\n",
       "    <tr>\n",
       "      <th>...</th>\n",
       "      <td>...</td>\n",
       "      <td>...</td>\n",
       "    </tr>\n",
       "    <tr>\n",
       "      <th>170</th>\n",
       "      <td>2013-07-14</td>\n",
       "      <td>24468</td>\n",
       "    </tr>\n",
       "    <tr>\n",
       "      <th>186</th>\n",
       "      <td>2013-10-20</td>\n",
       "      <td>24483</td>\n",
       "    </tr>\n",
       "    <tr>\n",
       "      <th>179</th>\n",
       "      <td>2013-06-29</td>\n",
       "      <td>24489</td>\n",
       "    </tr>\n",
       "    <tr>\n",
       "      <th>474</th>\n",
       "      <td>2013-05-17</td>\n",
       "      <td>24496</td>\n",
       "    </tr>\n",
       "    <tr>\n",
       "      <th>151</th>\n",
       "      <td>2013-03-21</td>\n",
       "      <td>24524</td>\n",
       "    </tr>\n",
       "    <tr>\n",
       "      <th>531</th>\n",
       "      <td>2013-09-13</td>\n",
       "      <td>24548</td>\n",
       "    </tr>\n",
       "    <tr>\n",
       "      <th>387</th>\n",
       "      <td>2014-03-21</td>\n",
       "      <td>24563</td>\n",
       "    </tr>\n",
       "    <tr>\n",
       "      <th>90</th>\n",
       "      <td>2013-06-10</td>\n",
       "      <td>24616</td>\n",
       "    </tr>\n",
       "    <tr>\n",
       "      <th>544</th>\n",
       "      <td>2013-06-28</td>\n",
       "      <td>24651</td>\n",
       "    </tr>\n",
       "    <tr>\n",
       "      <th>506</th>\n",
       "      <td>2013-06-07</td>\n",
       "      <td>24680</td>\n",
       "    </tr>\n",
       "    <tr>\n",
       "      <th>244</th>\n",
       "      <td>2013-10-11</td>\n",
       "      <td>24737</td>\n",
       "    </tr>\n",
       "    <tr>\n",
       "      <th>169</th>\n",
       "      <td>2013-09-06</td>\n",
       "      <td>24753</td>\n",
       "    </tr>\n",
       "    <tr>\n",
       "      <th>205</th>\n",
       "      <td>2013-05-24</td>\n",
       "      <td>24869</td>\n",
       "    </tr>\n",
       "    <tr>\n",
       "      <th>340</th>\n",
       "      <td>2013-03-15</td>\n",
       "      <td>24875</td>\n",
       "    </tr>\n",
       "    <tr>\n",
       "      <th>398</th>\n",
       "      <td>2013-06-17</td>\n",
       "      <td>24917</td>\n",
       "    </tr>\n",
       "    <tr>\n",
       "      <th>291</th>\n",
       "      <td>2014-02-21</td>\n",
       "      <td>24954</td>\n",
       "    </tr>\n",
       "    <tr>\n",
       "      <th>367</th>\n",
       "      <td>2013-06-16</td>\n",
       "      <td>24963</td>\n",
       "    </tr>\n",
       "    <tr>\n",
       "      <th>494</th>\n",
       "      <td>2013-03-28</td>\n",
       "      <td>25004</td>\n",
       "    </tr>\n",
       "    <tr>\n",
       "      <th>227</th>\n",
       "      <td>2013-06-30</td>\n",
       "      <td>25010</td>\n",
       "    </tr>\n",
       "    <tr>\n",
       "      <th>418</th>\n",
       "      <td>2013-09-27</td>\n",
       "      <td>25032</td>\n",
       "    </tr>\n",
       "    <tr>\n",
       "      <th>502</th>\n",
       "      <td>2014-03-14</td>\n",
       "      <td>25050</td>\n",
       "    </tr>\n",
       "    <tr>\n",
       "      <th>175</th>\n",
       "      <td>2013-04-25</td>\n",
       "      <td>25123</td>\n",
       "    </tr>\n",
       "    <tr>\n",
       "      <th>36</th>\n",
       "      <td>2013-04-12</td>\n",
       "      <td>25237</td>\n",
       "    </tr>\n",
       "    <tr>\n",
       "      <th>208</th>\n",
       "      <td>2014-02-28</td>\n",
       "      <td>25293</td>\n",
       "    </tr>\n",
       "    <tr>\n",
       "      <th>455</th>\n",
       "      <td>2013-09-20</td>\n",
       "      <td>25385</td>\n",
       "    </tr>\n",
       "    <tr>\n",
       "      <th>359</th>\n",
       "      <td>2013-10-18</td>\n",
       "      <td>25483</td>\n",
       "    </tr>\n",
       "    <tr>\n",
       "      <th>222</th>\n",
       "      <td>2013-04-19</td>\n",
       "      <td>25497</td>\n",
       "    </tr>\n",
       "    <tr>\n",
       "      <th>319</th>\n",
       "      <td>2013-03-22</td>\n",
       "      <td>26259</td>\n",
       "    </tr>\n",
       "    <tr>\n",
       "      <th>376</th>\n",
       "      <td>2013-06-14</td>\n",
       "      <td>26382</td>\n",
       "    </tr>\n",
       "    <tr>\n",
       "      <th>253</th>\n",
       "      <td>2013-04-26</td>\n",
       "      <td>26695</td>\n",
       "    </tr>\n",
       "  </tbody>\n",
       "</table>\n",
       "<p>547 rows × 2 columns</p>\n",
       "</div>"
      ],
      "text/plain": [
       "    departure_date_leg  count\n",
       "239         2012-12-16      1\n",
       "176         2012-07-22      1\n",
       "57          2012-07-19      1\n",
       "477         2014-04-29      1\n",
       "6           2012-12-05      1\n",
       "427         2014-07-14      1\n",
       "542         2012-12-25      1\n",
       "254         2014-05-02      1\n",
       "404         2012-12-23      1\n",
       "399         2012-11-04      1\n",
       "393         2012-06-27      1\n",
       "221         2012-08-24      1\n",
       "174         2014-06-04      1\n",
       "84          2012-09-03      1\n",
       "168         2012-08-23      1\n",
       "524         2012-09-12      1\n",
       "187         2012-12-08      1\n",
       "146         2012-08-03      1\n",
       "48          2012-08-09      1\n",
       "512         2012-12-07      1\n",
       "73          2012-11-21      1\n",
       "320         2012-09-19      1\n",
       "336         2014-04-13      1\n",
       "516         2012-12-24      1\n",
       "86          2012-07-12      2\n",
       "225         2012-09-15      2\n",
       "14          2012-10-30      2\n",
       "157         2012-07-05      2\n",
       "521         2012-07-15      2\n",
       "93          2012-11-08      2\n",
       "..                 ...    ...\n",
       "170         2013-07-14  24468\n",
       "186         2013-10-20  24483\n",
       "179         2013-06-29  24489\n",
       "474         2013-05-17  24496\n",
       "151         2013-03-21  24524\n",
       "531         2013-09-13  24548\n",
       "387         2014-03-21  24563\n",
       "90          2013-06-10  24616\n",
       "544         2013-06-28  24651\n",
       "506         2013-06-07  24680\n",
       "244         2013-10-11  24737\n",
       "169         2013-09-06  24753\n",
       "205         2013-05-24  24869\n",
       "340         2013-03-15  24875\n",
       "398         2013-06-17  24917\n",
       "291         2014-02-21  24954\n",
       "367         2013-06-16  24963\n",
       "494         2013-03-28  25004\n",
       "227         2013-06-30  25010\n",
       "418         2013-09-27  25032\n",
       "502         2014-03-14  25050\n",
       "175         2013-04-25  25123\n",
       "36          2013-04-12  25237\n",
       "208         2014-02-28  25293\n",
       "455         2013-09-20  25385\n",
       "359         2013-10-18  25483\n",
       "222         2013-04-19  25497\n",
       "319         2013-03-22  26259\n",
       "376         2013-06-14  26382\n",
       "253         2013-04-26  26695\n",
       "\n",
       "[547 rows x 2 columns]"
      ]
     },
     "execution_count": 34,
     "metadata": {},
     "output_type": "execute_result"
    }
   ],
   "source": [
    "vuelos_por_fecha.sort_values('count')"
   ]
  },
  {
   "cell_type": "code",
   "execution_count": 35,
   "metadata": {
    "collapsed": false
   },
   "outputs": [
    {
     "data": {
      "text/html": [
       "<div>\n",
       "<table border=\"1\" class=\"dataframe\">\n",
       "  <thead>\n",
       "    <tr style=\"text-align: right;\">\n",
       "      <th></th>\n",
       "      <th>departure_date_leg</th>\n",
       "      <th>count</th>\n",
       "    </tr>\n",
       "  </thead>\n",
       "  <tbody>\n",
       "    <tr>\n",
       "      <th>176</th>\n",
       "      <td>2012-07-22</td>\n",
       "      <td>1</td>\n",
       "    </tr>\n",
       "    <tr>\n",
       "      <th>57</th>\n",
       "      <td>2012-07-19</td>\n",
       "      <td>1</td>\n",
       "    </tr>\n",
       "    <tr>\n",
       "      <th>477</th>\n",
       "      <td>2014-04-29</td>\n",
       "      <td>1</td>\n",
       "    </tr>\n",
       "    <tr>\n",
       "      <th>6</th>\n",
       "      <td>2012-12-05</td>\n",
       "      <td>1</td>\n",
       "    </tr>\n",
       "    <tr>\n",
       "      <th>427</th>\n",
       "      <td>2014-07-14</td>\n",
       "      <td>1</td>\n",
       "    </tr>\n",
       "    <tr>\n",
       "      <th>542</th>\n",
       "      <td>2012-12-25</td>\n",
       "      <td>1</td>\n",
       "    </tr>\n",
       "    <tr>\n",
       "      <th>254</th>\n",
       "      <td>2014-05-02</td>\n",
       "      <td>1</td>\n",
       "    </tr>\n",
       "    <tr>\n",
       "      <th>404</th>\n",
       "      <td>2012-12-23</td>\n",
       "      <td>1</td>\n",
       "    </tr>\n",
       "    <tr>\n",
       "      <th>399</th>\n",
       "      <td>2012-11-04</td>\n",
       "      <td>1</td>\n",
       "    </tr>\n",
       "    <tr>\n",
       "      <th>393</th>\n",
       "      <td>2012-06-27</td>\n",
       "      <td>1</td>\n",
       "    </tr>\n",
       "    <tr>\n",
       "      <th>221</th>\n",
       "      <td>2012-08-24</td>\n",
       "      <td>1</td>\n",
       "    </tr>\n",
       "    <tr>\n",
       "      <th>48</th>\n",
       "      <td>2012-08-09</td>\n",
       "      <td>1</td>\n",
       "    </tr>\n",
       "    <tr>\n",
       "      <th>84</th>\n",
       "      <td>2012-09-03</td>\n",
       "      <td>1</td>\n",
       "    </tr>\n",
       "    <tr>\n",
       "      <th>73</th>\n",
       "      <td>2012-11-21</td>\n",
       "      <td>1</td>\n",
       "    </tr>\n",
       "    <tr>\n",
       "      <th>516</th>\n",
       "      <td>2012-12-24</td>\n",
       "      <td>1</td>\n",
       "    </tr>\n",
       "    <tr>\n",
       "      <th>336</th>\n",
       "      <td>2014-04-13</td>\n",
       "      <td>1</td>\n",
       "    </tr>\n",
       "    <tr>\n",
       "      <th>512</th>\n",
       "      <td>2012-12-07</td>\n",
       "      <td>1</td>\n",
       "    </tr>\n",
       "    <tr>\n",
       "      <th>320</th>\n",
       "      <td>2012-09-19</td>\n",
       "      <td>1</td>\n",
       "    </tr>\n",
       "    <tr>\n",
       "      <th>146</th>\n",
       "      <td>2012-08-03</td>\n",
       "      <td>1</td>\n",
       "    </tr>\n",
       "    <tr>\n",
       "      <th>187</th>\n",
       "      <td>2012-12-08</td>\n",
       "      <td>1</td>\n",
       "    </tr>\n",
       "    <tr>\n",
       "      <th>524</th>\n",
       "      <td>2012-09-12</td>\n",
       "      <td>1</td>\n",
       "    </tr>\n",
       "    <tr>\n",
       "      <th>168</th>\n",
       "      <td>2012-08-23</td>\n",
       "      <td>1</td>\n",
       "    </tr>\n",
       "    <tr>\n",
       "      <th>174</th>\n",
       "      <td>2014-06-04</td>\n",
       "      <td>1</td>\n",
       "    </tr>\n",
       "    <tr>\n",
       "      <th>239</th>\n",
       "      <td>2012-12-16</td>\n",
       "      <td>1</td>\n",
       "    </tr>\n",
       "    <tr>\n",
       "      <th>176</th>\n",
       "      <td>2012-07-22</td>\n",
       "      <td>1</td>\n",
       "    </tr>\n",
       "    <tr>\n",
       "      <th>57</th>\n",
       "      <td>2012-07-19</td>\n",
       "      <td>1</td>\n",
       "    </tr>\n",
       "    <tr>\n",
       "      <th>477</th>\n",
       "      <td>2014-04-29</td>\n",
       "      <td>1</td>\n",
       "    </tr>\n",
       "    <tr>\n",
       "      <th>6</th>\n",
       "      <td>2012-12-05</td>\n",
       "      <td>1</td>\n",
       "    </tr>\n",
       "    <tr>\n",
       "      <th>427</th>\n",
       "      <td>2014-07-14</td>\n",
       "      <td>1</td>\n",
       "    </tr>\n",
       "    <tr>\n",
       "      <th>542</th>\n",
       "      <td>2012-12-25</td>\n",
       "      <td>1</td>\n",
       "    </tr>\n",
       "    <tr>\n",
       "      <th>...</th>\n",
       "      <td>...</td>\n",
       "      <td>...</td>\n",
       "    </tr>\n",
       "    <tr>\n",
       "      <th>278</th>\n",
       "      <td>2012-12-28</td>\n",
       "      <td>11</td>\n",
       "    </tr>\n",
       "    <tr>\n",
       "      <th>108</th>\n",
       "      <td>2012-12-15</td>\n",
       "      <td>12</td>\n",
       "    </tr>\n",
       "    <tr>\n",
       "      <th>273</th>\n",
       "      <td>2012-12-04</td>\n",
       "      <td>13</td>\n",
       "    </tr>\n",
       "    <tr>\n",
       "      <th>484</th>\n",
       "      <td>2012-12-20</td>\n",
       "      <td>15</td>\n",
       "    </tr>\n",
       "    <tr>\n",
       "      <th>61</th>\n",
       "      <td>2012-12-26</td>\n",
       "      <td>19</td>\n",
       "    </tr>\n",
       "    <tr>\n",
       "      <th>435</th>\n",
       "      <td>2012-12-27</td>\n",
       "      <td>23</td>\n",
       "    </tr>\n",
       "    <tr>\n",
       "      <th>47</th>\n",
       "      <td>2014-04-09</td>\n",
       "      <td>28</td>\n",
       "    </tr>\n",
       "    <tr>\n",
       "      <th>194</th>\n",
       "      <td>2012-12-29</td>\n",
       "      <td>30</td>\n",
       "    </tr>\n",
       "    <tr>\n",
       "      <th>224</th>\n",
       "      <td>2012-12-19</td>\n",
       "      <td>32</td>\n",
       "    </tr>\n",
       "    <tr>\n",
       "      <th>523</th>\n",
       "      <td>2012-08-06</td>\n",
       "      <td>32</td>\n",
       "    </tr>\n",
       "    <tr>\n",
       "      <th>224</th>\n",
       "      <td>2012-12-19</td>\n",
       "      <td>32</td>\n",
       "    </tr>\n",
       "    <tr>\n",
       "      <th>523</th>\n",
       "      <td>2012-08-06</td>\n",
       "      <td>32</td>\n",
       "    </tr>\n",
       "    <tr>\n",
       "      <th>265</th>\n",
       "      <td>2013-12-25</td>\n",
       "      <td>2710</td>\n",
       "    </tr>\n",
       "    <tr>\n",
       "      <th>26</th>\n",
       "      <td>2012-12-30</td>\n",
       "      <td>3622</td>\n",
       "    </tr>\n",
       "    <tr>\n",
       "      <th>216</th>\n",
       "      <td>2013-12-24</td>\n",
       "      <td>4182</td>\n",
       "    </tr>\n",
       "    <tr>\n",
       "      <th>148</th>\n",
       "      <td>2012-12-31</td>\n",
       "      <td>4451</td>\n",
       "    </tr>\n",
       "    <tr>\n",
       "      <th>137</th>\n",
       "      <td>2014-04-08</td>\n",
       "      <td>9273</td>\n",
       "    </tr>\n",
       "    <tr>\n",
       "      <th>31</th>\n",
       "      <td>2013-12-31</td>\n",
       "      <td>10419</td>\n",
       "    </tr>\n",
       "    <tr>\n",
       "      <th>190</th>\n",
       "      <td>2013-11-16</td>\n",
       "      <td>11156</td>\n",
       "    </tr>\n",
       "    <tr>\n",
       "      <th>258</th>\n",
       "      <td>2014-04-07</td>\n",
       "      <td>12259</td>\n",
       "    </tr>\n",
       "    <tr>\n",
       "      <th>8</th>\n",
       "      <td>2014-04-05</td>\n",
       "      <td>13120</td>\n",
       "    </tr>\n",
       "    <tr>\n",
       "      <th>338</th>\n",
       "      <td>2013-11-15</td>\n",
       "      <td>13926</td>\n",
       "    </tr>\n",
       "    <tr>\n",
       "      <th>518</th>\n",
       "      <td>2013-01-01</td>\n",
       "      <td>14033</td>\n",
       "    </tr>\n",
       "    <tr>\n",
       "      <th>35</th>\n",
       "      <td>2014-04-06</td>\n",
       "      <td>14274</td>\n",
       "    </tr>\n",
       "    <tr>\n",
       "      <th>92</th>\n",
       "      <td>2013-11-23</td>\n",
       "      <td>14336</td>\n",
       "    </tr>\n",
       "    <tr>\n",
       "      <th>528</th>\n",
       "      <td>2014-01-01</td>\n",
       "      <td>14741</td>\n",
       "    </tr>\n",
       "    <tr>\n",
       "      <th>374</th>\n",
       "      <td>2013-11-19</td>\n",
       "      <td>14819</td>\n",
       "    </tr>\n",
       "    <tr>\n",
       "      <th>153</th>\n",
       "      <td>2013-11-30</td>\n",
       "      <td>14911</td>\n",
       "    </tr>\n",
       "    <tr>\n",
       "      <th>301</th>\n",
       "      <td>2014-01-11</td>\n",
       "      <td>15040</td>\n",
       "    </tr>\n",
       "    <tr>\n",
       "      <th>492</th>\n",
       "      <td>2013-11-02</td>\n",
       "      <td>15128</td>\n",
       "    </tr>\n",
       "  </tbody>\n",
       "</table>\n",
       "<p>1466 rows × 2 columns</p>\n",
       "</div>"
      ],
      "text/plain": [
       "    departure_date_leg  count\n",
       "176         2012-07-22      1\n",
       "57          2012-07-19      1\n",
       "477         2014-04-29      1\n",
       "6           2012-12-05      1\n",
       "427         2014-07-14      1\n",
       "542         2012-12-25      1\n",
       "254         2014-05-02      1\n",
       "404         2012-12-23      1\n",
       "399         2012-11-04      1\n",
       "393         2012-06-27      1\n",
       "221         2012-08-24      1\n",
       "48          2012-08-09      1\n",
       "84          2012-09-03      1\n",
       "73          2012-11-21      1\n",
       "516         2012-12-24      1\n",
       "336         2014-04-13      1\n",
       "512         2012-12-07      1\n",
       "320         2012-09-19      1\n",
       "146         2012-08-03      1\n",
       "187         2012-12-08      1\n",
       "524         2012-09-12      1\n",
       "168         2012-08-23      1\n",
       "174         2014-06-04      1\n",
       "239         2012-12-16      1\n",
       "176         2012-07-22      1\n",
       "57          2012-07-19      1\n",
       "477         2014-04-29      1\n",
       "6           2012-12-05      1\n",
       "427         2014-07-14      1\n",
       "542         2012-12-25      1\n",
       "..                 ...    ...\n",
       "278         2012-12-28     11\n",
       "108         2012-12-15     12\n",
       "273         2012-12-04     13\n",
       "484         2012-12-20     15\n",
       "61          2012-12-26     19\n",
       "435         2012-12-27     23\n",
       "47          2014-04-09     28\n",
       "194         2012-12-29     30\n",
       "224         2012-12-19     32\n",
       "523         2012-08-06     32\n",
       "224         2012-12-19     32\n",
       "523         2012-08-06     32\n",
       "265         2013-12-25   2710\n",
       "26          2012-12-30   3622\n",
       "216         2013-12-24   4182\n",
       "148         2012-12-31   4451\n",
       "137         2014-04-08   9273\n",
       "31          2013-12-31  10419\n",
       "190         2013-11-16  11156\n",
       "258         2014-04-07  12259\n",
       "8           2014-04-05  13120\n",
       "338         2013-11-15  13926\n",
       "518         2013-01-01  14033\n",
       "35          2014-04-06  14274\n",
       "92          2013-11-23  14336\n",
       "528         2014-01-01  14741\n",
       "374         2013-11-19  14819\n",
       "153         2013-11-30  14911\n",
       "301         2014-01-11  15040\n",
       "492         2013-11-02  15128\n",
       "\n",
       "[1466 rows x 2 columns]"
      ]
     },
     "execution_count": 35,
     "metadata": {},
     "output_type": "execute_result"
    }
   ],
   "source": [
    "#vemos dónde empieza a haber un volumen de datos más homogéneo\n",
    "vuelos_por_fecha.nsmallest(100, 'count')"
   ]
  },
  {
   "cell_type": "code",
   "execution_count": 36,
   "metadata": {
    "collapsed": false,
    "scrolled": false
   },
   "outputs": [
    {
     "data": {
      "text/html": [
       "<div>\n",
       "<table border=\"1\" class=\"dataframe\">\n",
       "  <thead>\n",
       "    <tr style=\"text-align: right;\">\n",
       "      <th></th>\n",
       "      <th>departure_date_leg</th>\n",
       "      <th>count</th>\n",
       "    </tr>\n",
       "  </thead>\n",
       "  <tbody>\n",
       "    <tr>\n",
       "      <th>253</th>\n",
       "      <td>2013-04-26</td>\n",
       "      <td>26695</td>\n",
       "    </tr>\n",
       "    <tr>\n",
       "      <th>376</th>\n",
       "      <td>2013-06-14</td>\n",
       "      <td>26382</td>\n",
       "    </tr>\n",
       "    <tr>\n",
       "      <th>319</th>\n",
       "      <td>2013-03-22</td>\n",
       "      <td>26259</td>\n",
       "    </tr>\n",
       "    <tr>\n",
       "      <th>222</th>\n",
       "      <td>2013-04-19</td>\n",
       "      <td>25497</td>\n",
       "    </tr>\n",
       "    <tr>\n",
       "      <th>359</th>\n",
       "      <td>2013-10-18</td>\n",
       "      <td>25483</td>\n",
       "    </tr>\n",
       "    <tr>\n",
       "      <th>455</th>\n",
       "      <td>2013-09-20</td>\n",
       "      <td>25385</td>\n",
       "    </tr>\n",
       "    <tr>\n",
       "      <th>208</th>\n",
       "      <td>2014-02-28</td>\n",
       "      <td>25293</td>\n",
       "    </tr>\n",
       "    <tr>\n",
       "      <th>36</th>\n",
       "      <td>2013-04-12</td>\n",
       "      <td>25237</td>\n",
       "    </tr>\n",
       "    <tr>\n",
       "      <th>175</th>\n",
       "      <td>2013-04-25</td>\n",
       "      <td>25123</td>\n",
       "    </tr>\n",
       "    <tr>\n",
       "      <th>502</th>\n",
       "      <td>2014-03-14</td>\n",
       "      <td>25050</td>\n",
       "    </tr>\n",
       "    <tr>\n",
       "      <th>418</th>\n",
       "      <td>2013-09-27</td>\n",
       "      <td>25032</td>\n",
       "    </tr>\n",
       "    <tr>\n",
       "      <th>227</th>\n",
       "      <td>2013-06-30</td>\n",
       "      <td>25010</td>\n",
       "    </tr>\n",
       "    <tr>\n",
       "      <th>494</th>\n",
       "      <td>2013-03-28</td>\n",
       "      <td>25004</td>\n",
       "    </tr>\n",
       "    <tr>\n",
       "      <th>367</th>\n",
       "      <td>2013-06-16</td>\n",
       "      <td>24963</td>\n",
       "    </tr>\n",
       "    <tr>\n",
       "      <th>291</th>\n",
       "      <td>2014-02-21</td>\n",
       "      <td>24954</td>\n",
       "    </tr>\n",
       "    <tr>\n",
       "      <th>398</th>\n",
       "      <td>2013-06-17</td>\n",
       "      <td>24917</td>\n",
       "    </tr>\n",
       "    <tr>\n",
       "      <th>340</th>\n",
       "      <td>2013-03-15</td>\n",
       "      <td>24875</td>\n",
       "    </tr>\n",
       "    <tr>\n",
       "      <th>205</th>\n",
       "      <td>2013-05-24</td>\n",
       "      <td>24869</td>\n",
       "    </tr>\n",
       "    <tr>\n",
       "      <th>169</th>\n",
       "      <td>2013-09-06</td>\n",
       "      <td>24753</td>\n",
       "    </tr>\n",
       "    <tr>\n",
       "      <th>244</th>\n",
       "      <td>2013-10-11</td>\n",
       "      <td>24737</td>\n",
       "    </tr>\n",
       "    <tr>\n",
       "      <th>506</th>\n",
       "      <td>2013-06-07</td>\n",
       "      <td>24680</td>\n",
       "    </tr>\n",
       "    <tr>\n",
       "      <th>544</th>\n",
       "      <td>2013-06-28</td>\n",
       "      <td>24651</td>\n",
       "    </tr>\n",
       "    <tr>\n",
       "      <th>90</th>\n",
       "      <td>2013-06-10</td>\n",
       "      <td>24616</td>\n",
       "    </tr>\n",
       "    <tr>\n",
       "      <th>387</th>\n",
       "      <td>2014-03-21</td>\n",
       "      <td>24563</td>\n",
       "    </tr>\n",
       "    <tr>\n",
       "      <th>531</th>\n",
       "      <td>2013-09-13</td>\n",
       "      <td>24548</td>\n",
       "    </tr>\n",
       "    <tr>\n",
       "      <th>151</th>\n",
       "      <td>2013-03-21</td>\n",
       "      <td>24524</td>\n",
       "    </tr>\n",
       "    <tr>\n",
       "      <th>474</th>\n",
       "      <td>2013-05-17</td>\n",
       "      <td>24496</td>\n",
       "    </tr>\n",
       "    <tr>\n",
       "      <th>179</th>\n",
       "      <td>2013-06-29</td>\n",
       "      <td>24489</td>\n",
       "    </tr>\n",
       "    <tr>\n",
       "      <th>186</th>\n",
       "      <td>2013-10-20</td>\n",
       "      <td>24483</td>\n",
       "    </tr>\n",
       "    <tr>\n",
       "      <th>170</th>\n",
       "      <td>2013-07-14</td>\n",
       "      <td>24468</td>\n",
       "    </tr>\n",
       "    <tr>\n",
       "      <th>...</th>\n",
       "      <td>...</td>\n",
       "      <td>...</td>\n",
       "    </tr>\n",
       "    <tr>\n",
       "      <th>23</th>\n",
       "      <td>2013-07-27</td>\n",
       "      <td>22341</td>\n",
       "    </tr>\n",
       "    <tr>\n",
       "      <th>377</th>\n",
       "      <td>2013-10-16</td>\n",
       "      <td>22279</td>\n",
       "    </tr>\n",
       "    <tr>\n",
       "      <th>543</th>\n",
       "      <td>2014-02-22</td>\n",
       "      <td>22263</td>\n",
       "    </tr>\n",
       "    <tr>\n",
       "      <th>425</th>\n",
       "      <td>2013-09-22</td>\n",
       "      <td>22253</td>\n",
       "    </tr>\n",
       "    <tr>\n",
       "      <th>264</th>\n",
       "      <td>2013-09-16</td>\n",
       "      <td>22246</td>\n",
       "    </tr>\n",
       "    <tr>\n",
       "      <th>467</th>\n",
       "      <td>2013-12-05</td>\n",
       "      <td>22243</td>\n",
       "    </tr>\n",
       "    <tr>\n",
       "      <th>134</th>\n",
       "      <td>2013-12-27</td>\n",
       "      <td>22229</td>\n",
       "    </tr>\n",
       "    <tr>\n",
       "      <th>197</th>\n",
       "      <td>2013-02-17</td>\n",
       "      <td>22225</td>\n",
       "    </tr>\n",
       "    <tr>\n",
       "      <th>462</th>\n",
       "      <td>2014-03-13</td>\n",
       "      <td>22222</td>\n",
       "    </tr>\n",
       "    <tr>\n",
       "      <th>46</th>\n",
       "      <td>2013-08-12</td>\n",
       "      <td>22191</td>\n",
       "    </tr>\n",
       "    <tr>\n",
       "      <th>489</th>\n",
       "      <td>2013-05-05</td>\n",
       "      <td>22176</td>\n",
       "    </tr>\n",
       "    <tr>\n",
       "      <th>345</th>\n",
       "      <td>2013-03-03</td>\n",
       "      <td>22149</td>\n",
       "    </tr>\n",
       "    <tr>\n",
       "      <th>98</th>\n",
       "      <td>2013-05-23</td>\n",
       "      <td>22118</td>\n",
       "    </tr>\n",
       "    <tr>\n",
       "      <th>323</th>\n",
       "      <td>2013-05-06</td>\n",
       "      <td>22115</td>\n",
       "    </tr>\n",
       "    <tr>\n",
       "      <th>11</th>\n",
       "      <td>2014-03-10</td>\n",
       "      <td>22102</td>\n",
       "    </tr>\n",
       "    <tr>\n",
       "      <th>447</th>\n",
       "      <td>2013-02-08</td>\n",
       "      <td>22091</td>\n",
       "    </tr>\n",
       "    <tr>\n",
       "      <th>246</th>\n",
       "      <td>2014-03-27</td>\n",
       "      <td>22086</td>\n",
       "    </tr>\n",
       "    <tr>\n",
       "      <th>463</th>\n",
       "      <td>2013-03-29</td>\n",
       "      <td>22078</td>\n",
       "    </tr>\n",
       "    <tr>\n",
       "      <th>147</th>\n",
       "      <td>2013-11-04</td>\n",
       "      <td>22071</td>\n",
       "    </tr>\n",
       "    <tr>\n",
       "      <th>450</th>\n",
       "      <td>2013-05-20</td>\n",
       "      <td>22057</td>\n",
       "    </tr>\n",
       "    <tr>\n",
       "      <th>470</th>\n",
       "      <td>2013-02-14</td>\n",
       "      <td>22050</td>\n",
       "    </tr>\n",
       "    <tr>\n",
       "      <th>337</th>\n",
       "      <td>2013-02-25</td>\n",
       "      <td>22041</td>\n",
       "    </tr>\n",
       "    <tr>\n",
       "      <th>185</th>\n",
       "      <td>2013-11-08</td>\n",
       "      <td>22036</td>\n",
       "    </tr>\n",
       "    <tr>\n",
       "      <th>60</th>\n",
       "      <td>2013-08-25</td>\n",
       "      <td>22029</td>\n",
       "    </tr>\n",
       "    <tr>\n",
       "      <th>173</th>\n",
       "      <td>2013-06-26</td>\n",
       "      <td>22021</td>\n",
       "    </tr>\n",
       "    <tr>\n",
       "      <th>533</th>\n",
       "      <td>2013-06-08</td>\n",
       "      <td>22021</td>\n",
       "    </tr>\n",
       "    <tr>\n",
       "      <th>173</th>\n",
       "      <td>2013-06-26</td>\n",
       "      <td>22021</td>\n",
       "    </tr>\n",
       "    <tr>\n",
       "      <th>533</th>\n",
       "      <td>2013-06-08</td>\n",
       "      <td>22021</td>\n",
       "    </tr>\n",
       "    <tr>\n",
       "      <th>296</th>\n",
       "      <td>2014-02-27</td>\n",
       "      <td>22003</td>\n",
       "    </tr>\n",
       "    <tr>\n",
       "      <th>515</th>\n",
       "      <td>2014-02-23</td>\n",
       "      <td>21989</td>\n",
       "    </tr>\n",
       "  </tbody>\n",
       "</table>\n",
       "<p>152 rows × 2 columns</p>\n",
       "</div>"
      ],
      "text/plain": [
       "    departure_date_leg  count\n",
       "253         2013-04-26  26695\n",
       "376         2013-06-14  26382\n",
       "319         2013-03-22  26259\n",
       "222         2013-04-19  25497\n",
       "359         2013-10-18  25483\n",
       "455         2013-09-20  25385\n",
       "208         2014-02-28  25293\n",
       "36          2013-04-12  25237\n",
       "175         2013-04-25  25123\n",
       "502         2014-03-14  25050\n",
       "418         2013-09-27  25032\n",
       "227         2013-06-30  25010\n",
       "494         2013-03-28  25004\n",
       "367         2013-06-16  24963\n",
       "291         2014-02-21  24954\n",
       "398         2013-06-17  24917\n",
       "340         2013-03-15  24875\n",
       "205         2013-05-24  24869\n",
       "169         2013-09-06  24753\n",
       "244         2013-10-11  24737\n",
       "506         2013-06-07  24680\n",
       "544         2013-06-28  24651\n",
       "90          2013-06-10  24616\n",
       "387         2014-03-21  24563\n",
       "531         2013-09-13  24548\n",
       "151         2013-03-21  24524\n",
       "474         2013-05-17  24496\n",
       "179         2013-06-29  24489\n",
       "186         2013-10-20  24483\n",
       "170         2013-07-14  24468\n",
       "..                 ...    ...\n",
       "23          2013-07-27  22341\n",
       "377         2013-10-16  22279\n",
       "543         2014-02-22  22263\n",
       "425         2013-09-22  22253\n",
       "264         2013-09-16  22246\n",
       "467         2013-12-05  22243\n",
       "134         2013-12-27  22229\n",
       "197         2013-02-17  22225\n",
       "462         2014-03-13  22222\n",
       "46          2013-08-12  22191\n",
       "489         2013-05-05  22176\n",
       "345         2013-03-03  22149\n",
       "98          2013-05-23  22118\n",
       "323         2013-05-06  22115\n",
       "11          2014-03-10  22102\n",
       "447         2013-02-08  22091\n",
       "246         2014-03-27  22086\n",
       "463         2013-03-29  22078\n",
       "147         2013-11-04  22071\n",
       "450         2013-05-20  22057\n",
       "470         2013-02-14  22050\n",
       "337         2013-02-25  22041\n",
       "185         2013-11-08  22036\n",
       "60          2013-08-25  22029\n",
       "173         2013-06-26  22021\n",
       "533         2013-06-08  22021\n",
       "173         2013-06-26  22021\n",
       "533         2013-06-08  22021\n",
       "296         2014-02-27  22003\n",
       "515         2014-02-23  21989\n",
       "\n",
       "[152 rows x 2 columns]"
      ]
     },
     "execution_count": 36,
     "metadata": {},
     "output_type": "execute_result"
    }
   ],
   "source": [
    "vuelos_por_fecha.nlargest(150, 'count')"
   ]
  },
  {
   "cell_type": "code",
   "execution_count": 37,
   "metadata": {
    "collapsed": false
   },
   "outputs": [],
   "source": [
    "#acotamos los datos al rango de fechas con un volumen homogéneo: 365 días\n",
    "sqlDF2 = sqlContext.sql(sqlQuery=\"select * from vuelos where departure_date_leg between '2013-01-01' and '2014-01-01'\\\n",
    "and document_number is not null \\\n",
    "and booking_status_code='HK'\\\n",
    "and quality_index = 1\")"
   ]
  },
  {
   "cell_type": "code",
   "execution_count": 38,
   "metadata": {
    "collapsed": false
   },
   "outputs": [],
   "source": [
    "sqlDF2.registerTempTable(\"vuelos_clientes\")"
   ]
  },
  {
   "cell_type": "code",
   "execution_count": 39,
   "metadata": {
    "collapsed": false
   },
   "outputs": [
    {
     "data": {
      "text/plain": [
       "526851"
      ]
     },
     "execution_count": 39,
     "metadata": {},
     "output_type": "execute_result"
    }
   ],
   "source": [
    "sqlDF2.count()"
   ]
  },
  {
   "cell_type": "code",
   "execution_count": 40,
   "metadata": {
    "collapsed": false
   },
   "outputs": [
    {
     "name": "stdout",
     "output_type": "stream",
     "text": [
      "+-------------------------------+\n",
      "|count(DISTINCT document_number)|\n",
      "+-------------------------------+\n",
      "|                         175817|\n",
      "+-------------------------------+\n",
      "\n"
     ]
    }
   ],
   "source": [
    "sqlDF2.agg(countDistinct(sqlDF2.document_number)).show()"
   ]
  },
  {
   "cell_type": "code",
   "execution_count": 41,
   "metadata": {
    "collapsed": false
   },
   "outputs": [
    {
     "name": "stdout",
     "output_type": "stream",
     "text": [
      "+---------------+-----+\n",
      "|document_number|count|\n",
      "+---------------+-----+\n",
      "|      66289BS28|    2|\n",
      "|      708061476|    4|\n",
      "|      20571FT30|    3|\n",
      "|       69155025|    2|\n",
      "|      991926414|    2|\n",
      "|       78642406|    4|\n",
      "|      97657BL93|   15|\n",
      "|       41748915|    3|\n",
      "|      31068BM21|    2|\n",
      "|      15064BY96|    2|\n",
      "+---------------+-----+\n",
      "only showing top 10 rows\n",
      "\n"
     ]
    }
   ],
   "source": [
    "sqlDF2.groupBy('document_number').count().show(10)"
   ]
  },
  {
   "cell_type": "code",
   "execution_count": 42,
   "metadata": {
    "collapsed": true
   },
   "outputs": [],
   "source": [
    "#documentos únicos\n",
    "sqlDF3 = sqlContext.sql(sqlQuery=\"select document_number, count(*) \\\n",
    "from (select document_number, gender, date_of_birth, nationality, count(*) as count \\\n",
    "from vuelos_clientes group by document_number, gender, date_of_birth, nationality) as a group by document_number \\\n",
    "having count(*)=1\")\n"
   ]
  },
  {
   "cell_type": "code",
   "execution_count": 43,
   "metadata": {
    "collapsed": false
   },
   "outputs": [
    {
     "name": "stdout",
     "output_type": "stream",
     "text": [
      "+---------------+-----+\n",
      "|document_number|count|\n",
      "+---------------+-----+\n",
      "|       78642406|    1|\n",
      "|       2828Y769|    1|\n",
      "|      XP325ZZ17|    1|\n",
      "|      33772PI56|    1|\n",
      "|      02376W459|    1|\n",
      "|      29318BV96|    1|\n",
      "|      9115254OW|    1|\n",
      "|      770625469|    1|\n",
      "|      71263FW84|    1|\n",
      "|      08869BO31|    1|\n",
      "+---------------+-----+\n",
      "only showing top 10 rows\n",
      "\n"
     ]
    }
   ],
   "source": [
    "#vemos que ya no hay documentos duplicados\n",
    "sqlDF3.groupBy('document_number').count().show(10)"
   ]
  },
  {
   "cell_type": "code",
   "execution_count": 44,
   "metadata": {
    "collapsed": false,
    "scrolled": true
   },
   "outputs": [
    {
     "data": {
      "text/plain": [
       "175333"
      ]
     },
     "execution_count": 44,
     "metadata": {},
     "output_type": "execute_result"
    }
   ],
   "source": [
    "sqlDF3.count()"
   ]
  },
  {
   "cell_type": "code",
   "execution_count": 45,
   "metadata": {
    "collapsed": true
   },
   "outputs": [],
   "source": [
    "sqlDF3.registerTempTable(\"documentos_unicos\")"
   ]
  },
  {
   "cell_type": "code",
   "execution_count": 46,
   "metadata": {
    "collapsed": false
   },
   "outputs": [],
   "source": [
    "sqlDF4 = sqlContext.sql(sqlQuery = \"select a.* from vuelos_clientes \\\n",
    "as a inner join documentos_unicos as b on a.document_number = b.document_number\")"
   ]
  },
  {
   "cell_type": "code",
   "execution_count": 47,
   "metadata": {
    "collapsed": true
   },
   "outputs": [],
   "source": [
    "sqlDF4.registerTempTable(\"clientes_unicos\")"
   ]
  },
  {
   "cell_type": "code",
   "execution_count": 48,
   "metadata": {
    "collapsed": false
   },
   "outputs": [],
   "source": [
    "clientes_unicos = sqlDF4.toPandas()"
   ]
  },
  {
   "cell_type": "code",
   "execution_count": 49,
   "metadata": {
    "collapsed": true
   },
   "outputs": [],
   "source": [
    "clientes_unicos.to_csv('clientes_unicos.csv', sep=',')"
   ]
  },
  {
   "cell_type": "code",
   "execution_count": 50,
   "metadata": {
    "collapsed": false
   },
   "outputs": [
    {
     "data": {
      "text/plain": [
       "523541"
      ]
     },
     "execution_count": 50,
     "metadata": {},
     "output_type": "execute_result"
    }
   ],
   "source": [
    "sqlDF4.count()"
   ]
  },
  {
   "cell_type": "code",
   "execution_count": 51,
   "metadata": {
    "collapsed": false
   },
   "outputs": [
    {
     "name": "stdout",
     "output_type": "stream",
     "text": [
      "+-------------------------------+\n",
      "|count(DISTINCT document_number)|\n",
      "+-------------------------------+\n",
      "|                         175333|\n",
      "+-------------------------------+\n",
      "\n"
     ]
    }
   ],
   "source": [
    "sqlDF4.agg(countDistinct(sqlDF4.document_number)).show()"
   ]
  },
  {
   "cell_type": "code",
   "execution_count": 52,
   "metadata": {
    "collapsed": false
   },
   "outputs": [
    {
     "name": "stdout",
     "output_type": "stream",
     "text": [
      "+---------------+-----+\n",
      "|document_number|count|\n",
      "+---------------+-----+\n",
      "|      000744336|    2|\n",
      "|      00152Y444|    2|\n",
      "|      002946569|    4|\n",
      "|      00453BS41|    1|\n",
      "|      00517BF34|    2|\n",
      "|      00714BO74|    2|\n",
      "|      00908BD78|    2|\n",
      "|      01060BK97|    2|\n",
      "|      013178711|    4|\n",
      "|      01651Y243|    4|\n",
      "+---------------+-----+\n",
      "only showing top 10 rows\n",
      "\n"
     ]
    }
   ],
   "source": [
    "sqlDF4.groupBy('document_number').count().show(10)"
   ]
  },
  {
   "cell_type": "markdown",
   "metadata": {},
   "source": [
    "## Preparing the dataframe for the clustering"
   ]
  },
  {
   "cell_type": "code",
   "execution_count": 53,
   "metadata": {
    "collapsed": false
   },
   "outputs": [],
   "source": [
    "#creamos las columnas que nos interesan\n",
    "sqlDF6 = sqlContext.sql(sqlQuery=\"select document_number,\\\n",
    "count(distinct(concat(document_number, ',', rloc))) as frecuency, \\\n",
    "datediff(to_date('2014-01-01 00:00:00'), to_date(max(departure_date_leg))) as recency, \\\n",
    "sum(revenue_amount_seg) as money \\\n",
    "from clientes_unicos group by document_number\")"
   ]
  },
  {
   "cell_type": "code",
   "execution_count": 54,
   "metadata": {
    "collapsed": false
   },
   "outputs": [],
   "source": [
    "sqlDF6.registerTempTable('rfm_doc_unicos')"
   ]
  },
  {
   "cell_type": "code",
   "execution_count": 55,
   "metadata": {
    "collapsed": false
   },
   "outputs": [
    {
     "name": "stdout",
     "output_type": "stream",
     "text": [
      "+---------+-------+------+---------------+\n",
      "|frecuency|recency| money|document_number|\n",
      "+---------+-------+------+---------------+\n",
      "|        1|     28|221.26|      000744336|\n",
      "|        1|    171| 205.0|      00152Y444|\n",
      "|        1|    282|291.68|      002946569|\n",
      "|        1|     22|250.51|      00453BS41|\n",
      "|        1|     32| 313.0|      00517BF34|\n",
      "+---------+-------+------+---------------+\n",
      "only showing top 5 rows\n",
      "\n"
     ]
    }
   ],
   "source": [
    "sqlDF6.select('frecuency', 'recency', 'money', 'document_number').show(5)"
   ]
  },
  {
   "cell_type": "code",
   "execution_count": 56,
   "metadata": {
    "collapsed": false
   },
   "outputs": [],
   "source": [
    "from pyspark.sql import HiveContext"
   ]
  },
  {
   "cell_type": "code",
   "execution_count": 57,
   "metadata": {
    "collapsed": true
   },
   "outputs": [],
   "source": [
    "sqlContext = HiveContext(sc)"
   ]
  },
  {
   "cell_type": "code",
   "execution_count": 58,
   "metadata": {
    "collapsed": true
   },
   "outputs": [],
   "source": [
    "hive_context = HiveContext(sc)"
   ]
  },
  {
   "cell_type": "markdown",
   "metadata": {},
   "source": [
    "# RFM"
   ]
  },
  {
   "cell_type": "markdown",
   "metadata": {},
   "source": [
    "#### After creating the dataframe with the neccesary columns, we are going to perform an analysis on the data obtained, in order to cluster the potential clients and study their behaviour"
   ]
  },
  {
   "cell_type": "code",
   "execution_count": 59,
   "metadata": {
    "collapsed": true
   },
   "outputs": [],
   "source": [
    "from pyspark.ml.clustering import KMeans"
   ]
  },
  {
   "cell_type": "code",
   "execution_count": 105,
   "metadata": {
    "collapsed": false
   },
   "outputs": [],
   "source": [
    "dataset_rfm = hive_context.table('rfm_doc_unicos')"
   ]
  },
  {
   "cell_type": "code",
   "execution_count": 61,
   "metadata": {
    "collapsed": false
   },
   "outputs": [
    {
     "name": "stdout",
     "output_type": "stream",
     "text": [
      "+---------------+---------+-------+------------------+\n",
      "|document_number|frecuency|recency|             money|\n",
      "+---------------+---------+-------+------------------+\n",
      "|      000744336|        1|     28|            221.26|\n",
      "|      00152Y444|        1|    171|             205.0|\n",
      "|      002946569|        1|    282|            291.68|\n",
      "|      00453BS41|        1|     22|            250.51|\n",
      "|      00517BF34|        1|     32|             313.0|\n",
      "|      00714BO74|        1|     32|             313.0|\n",
      "|      00908BD78|        1|    197|             266.0|\n",
      "|      01060BK97|        1|     35|               0.0|\n",
      "|      013178711|        1|    328|151.03999999999996|\n",
      "|      01651Y243|        1|    113|504.15999999999997|\n",
      "|      017118282|        1|    307|             248.3|\n",
      "|       01795150|        1|     99|             121.0|\n",
      "|      02054BY00|        1|     49|               0.0|\n",
      "|      02240BO12|        1|     52|              82.5|\n",
      "|      02376W459|        1|     26|              2.96|\n",
      "|      0249756MF|        1|    157|            559.78|\n",
      "|      02577FT46|        2|    205|1179.5900000000001|\n",
      "|      02681BT96|        1|     45|             207.3|\n",
      "|      02822Y600|        1|    178|            269.44|\n",
      "|      02900FT67|        1|     79|            432.14|\n",
      "+---------------+---------+-------+------------------+\n",
      "only showing top 20 rows\n",
      "\n"
     ]
    }
   ],
   "source": [
    "dataset_rfm.show()"
   ]
  },
  {
   "cell_type": "code",
   "execution_count": 106,
   "metadata": {
    "collapsed": true
   },
   "outputs": [],
   "source": [
    "cols = dataset_rfm.columns"
   ]
  },
  {
   "cell_type": "code",
   "execution_count": 107,
   "metadata": {
    "collapsed": true
   },
   "outputs": [],
   "source": [
    "from pyspark.sql.types import DoubleType"
   ]
  },
  {
   "cell_type": "code",
   "execution_count": 108,
   "metadata": {
    "collapsed": false
   },
   "outputs": [
    {
     "data": {
      "text/plain": [
       "Column<CAST(frecuency AS INT) AS `frecuencies`>"
      ]
     },
     "execution_count": 108,
     "metadata": {},
     "output_type": "execute_result"
    }
   ],
   "source": [
    "dataset_rfm.frecuency.cast(\"integer\").alias('frecuencies')"
   ]
  },
  {
   "cell_type": "code",
   "execution_count": 109,
   "metadata": {
    "collapsed": false
   },
   "outputs": [
    {
     "data": {
      "text/plain": [
       "[('document_number', 'string'),\n",
       " ('frecuency', 'bigint'),\n",
       " ('recency', 'int'),\n",
       " ('money', 'double')]"
      ]
     },
     "execution_count": 109,
     "metadata": {},
     "output_type": "execute_result"
    }
   ],
   "source": [
    "dataset_rfm.dtypes"
   ]
  },
  {
   "cell_type": "code",
   "execution_count": 66,
   "metadata": {
    "collapsed": false
   },
   "outputs": [
    {
     "data": {
      "text/plain": [
       "Row(document_number=u'000744336', frecuency=1, recency=28, money=221.26)"
      ]
     },
     "execution_count": 66,
     "metadata": {},
     "output_type": "execute_result"
    }
   ],
   "source": [
    "dataset_rfm.head()"
   ]
  },
  {
   "cell_type": "code",
   "execution_count": 67,
   "metadata": {
    "collapsed": false
   },
   "outputs": [
    {
     "data": {
      "text/plain": [
       "175333"
      ]
     },
     "execution_count": 67,
     "metadata": {},
     "output_type": "execute_result"
    }
   ],
   "source": [
    "dataset_rfm.count()"
   ]
  },
  {
   "cell_type": "code",
   "execution_count": 68,
   "metadata": {
    "collapsed": true
   },
   "outputs": [],
   "source": [
    "import pandas as pd\n",
    "import numpy as np"
   ]
  },
  {
   "cell_type": "code",
   "execution_count": 110,
   "metadata": {
    "collapsed": true
   },
   "outputs": [],
   "source": [
    "numericCols = ['frecuency', 'recency', 'money']"
   ]
  },
  {
   "cell_type": "code",
   "execution_count": 111,
   "metadata": {
    "collapsed": false
   },
   "outputs": [],
   "source": [
    "rfm = dataset_rfm[numericCols]"
   ]
  },
  {
   "cell_type": "code",
   "execution_count": 112,
   "metadata": {
    "collapsed": false
   },
   "outputs": [
    {
     "data": {
      "text/plain": [
       "[('frecuency', 'bigint'), ('recency', 'int'), ('money', 'double')]"
      ]
     },
     "execution_count": 112,
     "metadata": {},
     "output_type": "execute_result"
    }
   ],
   "source": [
    "rfm.dtypes"
   ]
  },
  {
   "cell_type": "code",
   "execution_count": 72,
   "metadata": {
    "collapsed": true
   },
   "outputs": [],
   "source": [
    "##rfm_final = rfm.withColumn('avgmoney', rfm.money / rfm.frecuency)"
   ]
  },
  {
   "cell_type": "code",
   "execution_count": 73,
   "metadata": {
    "collapsed": false
   },
   "outputs": [
    {
     "data": {
      "text/plain": [
       "DataFrame[frecuency: bigint, recency: int, money: double]"
      ]
     },
     "execution_count": 73,
     "metadata": {},
     "output_type": "execute_result"
    }
   ],
   "source": [
    "rfm.fillna(0)"
   ]
  },
  {
   "cell_type": "code",
   "execution_count": 74,
   "metadata": {
    "collapsed": false
   },
   "outputs": [
    {
     "name": "stdout",
     "output_type": "stream",
     "text": [
      "+-------+------------------+------------------+-----------------+\n",
      "|summary|         frecuency|           recency|            money|\n",
      "+-------+------------------+------------------+-----------------+\n",
      "|  count|            175333|            175333|           175333|\n",
      "|   mean|1.2120764488145415| 134.6600639925171|540.5984852252573|\n",
      "| stddev|0.7551303980127374|106.08618852812808|938.4173226041892|\n",
      "|    min|                 1|                 1|              0.0|\n",
      "|    max|                22|               365|          38767.9|\n",
      "+-------+------------------+------------------+-----------------+\n",
      "\n"
     ]
    }
   ],
   "source": [
    "rfm.describe().show()"
   ]
  },
  {
   "cell_type": "code",
   "execution_count": 76,
   "metadata": {
    "collapsed": false
   },
   "outputs": [],
   "source": [
    "from pyspark.sql.functions import stddev_pop, avg, broadcast"
   ]
  },
  {
   "cell_type": "code",
   "execution_count": 77,
   "metadata": {
    "collapsed": true
   },
   "outputs": [],
   "source": [
    "cols = rfm.columns"
   ]
  },
  {
   "cell_type": "code",
   "execution_count": 78,
   "metadata": {
    "collapsed": false
   },
   "outputs": [],
   "source": [
    "stats = (rfm.groupBy().agg(*([stddev_pop(x).alias(x + '_stddev') for x in cols] + [avg(x).alias(x + '_avg') for x in cols])))\n",
    "\n",
    "\n"
   ]
  },
  {
   "cell_type": "code",
   "execution_count": 79,
   "metadata": {
    "collapsed": false
   },
   "outputs": [
    {
     "data": {
      "text/plain": [
       "[('frecuency', 'bigint'), ('recency', 'int'), ('money', 'double')]"
      ]
     },
     "execution_count": 79,
     "metadata": {},
     "output_type": "execute_result"
    }
   ],
   "source": [
    "rfm.dtypes"
   ]
  },
  {
   "cell_type": "code",
   "execution_count": 80,
   "metadata": {
    "collapsed": true
   },
   "outputs": [],
   "source": [
    "rfm = rfm.crossJoin(broadcast(stats))"
   ]
  },
  {
   "cell_type": "code",
   "execution_count": 81,
   "metadata": {
    "collapsed": false
   },
   "outputs": [
    {
     "data": {
      "text/plain": [
       "[('frecuency', 'bigint'),\n",
       " ('recency', 'int'),\n",
       " ('money', 'double'),\n",
       " ('frecuency_stddev', 'double'),\n",
       " ('recency_stddev', 'double'),\n",
       " ('money_stddev', 'double'),\n",
       " ('frecuency_avg', 'double'),\n",
       " ('recency_avg', 'double'),\n",
       " ('money_avg', 'double')]"
      ]
     },
     "execution_count": 81,
     "metadata": {},
     "output_type": "execute_result"
    }
   ],
   "source": [
    "rfm.dtypes"
   ]
  },
  {
   "cell_type": "code",
   "execution_count": 82,
   "metadata": {
    "collapsed": false
   },
   "outputs": [],
   "source": [
    "exprs = [(rfm[x] - rfm[x + '_avg']) / rfm[x + '_stddev'] for x in cols]"
   ]
  },
  {
   "cell_type": "code",
   "execution_count": 83,
   "metadata": {
    "collapsed": false
   },
   "outputs": [
    {
     "name": "stdout",
     "output_type": "stream",
     "text": [
      "+------------------------------------------------+------------------------------------------+------------------------------------+\n",
      "|((frecuency - frecuency_avg) / frecuency_stddev)|((recency - recency_avg) / recency_stddev)|((money - money_avg) / money_stddev)|\n",
      "+------------------------------------------------+------------------------------------------+------------------------------------+\n",
      "|                             -0.2808482537018044|                       -1.0054123881526456|                 -0.3402957172676322|\n",
      "|                             -0.2808482537018044|                       0.34255203380677673|                 -0.3576228125560959|\n",
      "|                             -0.2808482537018044|                        1.3888740676354192|                 -0.2652542627649498|\n",
      "|                             -0.2808482537018044|                       -1.0619703359271668|                -0.30912612703469466|\n",
      "|                             -0.2808482537018044|                       -0.9677070896362981|                  -0.242535094772942|\n",
      "|                             -0.2808482537018044|                       -0.9677070896362981|                  -0.242535094772942|\n",
      "|                             -0.2808482537018044|                        0.5876364741630353|                -0.29261956454894417|\n",
      "|                             -0.2808482537018044|                       -0.9394281157490375|                 -0.5760763509407862|\n",
      "|                             -0.2808482537018044|                        1.8224850005734152|                 -0.4151240463670125|\n",
      "|                             -0.2808482537018044|                       -0.2041747946802617|                -0.03882983429675959|\n",
      "|                             -0.2808482537018044|                         1.624532183362591|                -0.31148116274118326|\n",
      "|                             -0.2808482537018044|                       -0.3361433394874779|                 -0.4471354819429934|\n",
      "|                             -0.2808482537018044|                       -0.8074595709418213|                 -0.5760763509407862|\n",
      "|                             -0.2808482537018044|                       -0.7791805970545608|                 -0.4881621220786548|\n",
      "|                             -0.2808482537018044|                       -1.0242650374108193|                 -0.5729220949719146|\n",
      "|                             -0.2808482537018044|                       0.21058348899956056|                 0.02044034036156469|\n",
      "|                              1.0434301151207663|                        0.6630470711957303|                  0.6809266214650522|\n",
      "|                             -0.2808482537018044|                       -0.8451648694581688|                -0.35517187041812137|\n",
      "|                             -0.2808482537018044|                       0.40853630621038484|                -0.28895380761214745|\n",
      "|                             -0.2808482537018044|                       -0.5246698320692152|                -0.11557629202585906|\n",
      "+------------------------------------------------+------------------------------------------+------------------------------------+\n",
      "only showing top 20 rows\n",
      "\n"
     ]
    }
   ],
   "source": [
    "rfm.select(exprs).show()"
   ]
  },
  {
   "cell_type": "code",
   "execution_count": 84,
   "metadata": {
    "collapsed": false
   },
   "outputs": [
    {
     "name": "stdout",
     "output_type": "stream",
     "text": [
      "+---------+-------+------------------+------------------+------------------+-----------------+------------------+-----------------+-----------------+\n",
      "|frecuency|recency|             money|  frecuency_stddev|    recency_stddev|     money_stddev|     frecuency_avg|      recency_avg|        money_avg|\n",
      "+---------+-------+------------------+------------------+------------------+-----------------+------------------+-----------------+-----------------+\n",
      "|        1|     28|            221.26|0.7551282445918905|106.08588599996797|938.4146465002593|1.2120764488145415|134.6600639925171|540.5984852252573|\n",
      "|        1|    171|             205.0|0.7551282445918905|106.08588599996797|938.4146465002593|1.2120764488145415|134.6600639925171|540.5984852252573|\n",
      "|        1|    282|            291.68|0.7551282445918905|106.08588599996797|938.4146465002593|1.2120764488145415|134.6600639925171|540.5984852252573|\n",
      "|        1|     22|            250.51|0.7551282445918905|106.08588599996797|938.4146465002593|1.2120764488145415|134.6600639925171|540.5984852252573|\n",
      "|        1|     32|             313.0|0.7551282445918905|106.08588599996797|938.4146465002593|1.2120764488145415|134.6600639925171|540.5984852252573|\n",
      "|        1|     32|             313.0|0.7551282445918905|106.08588599996797|938.4146465002593|1.2120764488145415|134.6600639925171|540.5984852252573|\n",
      "|        1|    197|             266.0|0.7551282445918905|106.08588599996797|938.4146465002593|1.2120764488145415|134.6600639925171|540.5984852252573|\n",
      "|        1|     35|               0.0|0.7551282445918905|106.08588599996797|938.4146465002593|1.2120764488145415|134.6600639925171|540.5984852252573|\n",
      "|        1|    328|151.03999999999996|0.7551282445918905|106.08588599996797|938.4146465002593|1.2120764488145415|134.6600639925171|540.5984852252573|\n",
      "|        1|    113|504.15999999999997|0.7551282445918905|106.08588599996797|938.4146465002593|1.2120764488145415|134.6600639925171|540.5984852252573|\n",
      "|        1|    307|             248.3|0.7551282445918905|106.08588599996797|938.4146465002593|1.2120764488145415|134.6600639925171|540.5984852252573|\n",
      "|        1|     99|             121.0|0.7551282445918905|106.08588599996797|938.4146465002593|1.2120764488145415|134.6600639925171|540.5984852252573|\n",
      "|        1|     49|               0.0|0.7551282445918905|106.08588599996797|938.4146465002593|1.2120764488145415|134.6600639925171|540.5984852252573|\n",
      "|        1|     52|              82.5|0.7551282445918905|106.08588599996797|938.4146465002593|1.2120764488145415|134.6600639925171|540.5984852252573|\n",
      "|        1|     26|              2.96|0.7551282445918905|106.08588599996797|938.4146465002593|1.2120764488145415|134.6600639925171|540.5984852252573|\n",
      "|        1|    157|            559.78|0.7551282445918905|106.08588599996797|938.4146465002593|1.2120764488145415|134.6600639925171|540.5984852252573|\n",
      "|        2|    205|1179.5900000000001|0.7551282445918905|106.08588599996797|938.4146465002593|1.2120764488145415|134.6600639925171|540.5984852252573|\n",
      "|        1|     45|             207.3|0.7551282445918905|106.08588599996797|938.4146465002593|1.2120764488145415|134.6600639925171|540.5984852252573|\n",
      "|        1|    178|            269.44|0.7551282445918905|106.08588599996797|938.4146465002593|1.2120764488145415|134.6600639925171|540.5984852252573|\n",
      "|        1|     79|            432.14|0.7551282445918905|106.08588599996797|938.4146465002593|1.2120764488145415|134.6600639925171|540.5984852252573|\n",
      "+---------+-------+------------------+------------------+------------------+-----------------+------------------+-----------------+-----------------+\n",
      "only showing top 20 rows\n",
      "\n"
     ]
    }
   ],
   "source": [
    "rfm.show()"
   ]
  },
  {
   "cell_type": "code",
   "execution_count": 85,
   "metadata": {
    "collapsed": false
   },
   "outputs": [],
   "source": [
    "rfm_final = rfm.select(exprs).toPandas()"
   ]
  },
  {
   "cell_type": "code",
   "execution_count": 86,
   "metadata": {
    "collapsed": false
   },
   "outputs": [
    {
     "data": {
      "text/html": [
       "<div>\n",
       "<table border=\"1\" class=\"dataframe\">\n",
       "  <thead>\n",
       "    <tr style=\"text-align: right;\">\n",
       "      <th></th>\n",
       "      <th>((frecuency - frecuency_avg) / frecuency_stddev)</th>\n",
       "      <th>((recency - recency_avg) / recency_stddev)</th>\n",
       "      <th>((money - money_avg) / money_stddev)</th>\n",
       "    </tr>\n",
       "  </thead>\n",
       "  <tbody>\n",
       "    <tr>\n",
       "      <th>0</th>\n",
       "      <td>-0.280848</td>\n",
       "      <td>-1.005412</td>\n",
       "      <td>-0.340296</td>\n",
       "    </tr>\n",
       "    <tr>\n",
       "      <th>1</th>\n",
       "      <td>-0.280848</td>\n",
       "      <td>0.342552</td>\n",
       "      <td>-0.357623</td>\n",
       "    </tr>\n",
       "  </tbody>\n",
       "</table>\n",
       "</div>"
      ],
      "text/plain": [
       "   ((frecuency - frecuency_avg) / frecuency_stddev)  \\\n",
       "0                                         -0.280848   \n",
       "1                                         -0.280848   \n",
       "\n",
       "   ((recency - recency_avg) / recency_stddev)  \\\n",
       "0                                   -1.005412   \n",
       "1                                    0.342552   \n",
       "\n",
       "   ((money - money_avg) / money_stddev)  \n",
       "0                             -0.340296  \n",
       "1                             -0.357623  "
      ]
     },
     "execution_count": 86,
     "metadata": {},
     "output_type": "execute_result"
    }
   ],
   "source": [
    "rfm_final.head(2)"
   ]
  },
  {
   "cell_type": "code",
   "execution_count": 87,
   "metadata": {
    "collapsed": false
   },
   "outputs": [],
   "source": [
    "rfm_final.columns = ['frecuency_scaled', 'recency_scaled', 'money_scaled']"
   ]
  },
  {
   "cell_type": "code",
   "execution_count": 88,
   "metadata": {
    "collapsed": false
   },
   "outputs": [
    {
     "data": {
      "text/html": [
       "<div>\n",
       "<table border=\"1\" class=\"dataframe\">\n",
       "  <thead>\n",
       "    <tr style=\"text-align: right;\">\n",
       "      <th></th>\n",
       "      <th>frecuency_scaled</th>\n",
       "      <th>recency_scaled</th>\n",
       "      <th>money_scaled</th>\n",
       "    </tr>\n",
       "  </thead>\n",
       "  <tbody>\n",
       "    <tr>\n",
       "      <th>0</th>\n",
       "      <td>-0.280848</td>\n",
       "      <td>-1.005412</td>\n",
       "      <td>-0.340296</td>\n",
       "    </tr>\n",
       "    <tr>\n",
       "      <th>1</th>\n",
       "      <td>-0.280848</td>\n",
       "      <td>0.342552</td>\n",
       "      <td>-0.357623</td>\n",
       "    </tr>\n",
       "  </tbody>\n",
       "</table>\n",
       "</div>"
      ],
      "text/plain": [
       "   frecuency_scaled  recency_scaled  money_scaled\n",
       "0         -0.280848       -1.005412     -0.340296\n",
       "1         -0.280848        0.342552     -0.357623"
      ]
     },
     "execution_count": 88,
     "metadata": {},
     "output_type": "execute_result"
    }
   ],
   "source": [
    "rfm_final.head(2)"
   ]
  },
  {
   "cell_type": "code",
   "execution_count": 89,
   "metadata": {
    "collapsed": true
   },
   "outputs": [],
   "source": [
    "from numpy import array\n",
    "from math import sqrt\n",
    "from pyspark.ml.clustering import KMeans, KMeansModel"
   ]
  },
  {
   "cell_type": "code",
   "execution_count": 90,
   "metadata": {
    "collapsed": true
   },
   "outputs": [],
   "source": [
    "import matplotlib.pyplot as plt\n",
    "from sklearn import datasets\n",
    "from sklearn.cluster import KMeans\n",
    "import sklearn.metrics as sm"
   ]
  },
  {
   "cell_type": "code",
   "execution_count": 91,
   "metadata": {
    "collapsed": false
   },
   "outputs": [],
   "source": [
    "kmeans = KMeans(n_clusters= 4)"
   ]
  },
  {
   "cell_type": "code",
   "execution_count": 92,
   "metadata": {
    "collapsed": true
   },
   "outputs": [],
   "source": [
    "clusters = kmeans.fit_predict(rfm_final)"
   ]
  },
  {
   "cell_type": "code",
   "execution_count": 93,
   "metadata": {
    "collapsed": true
   },
   "outputs": [],
   "source": [
    "rfm_final['cluster'] = clusters"
   ]
  },
  {
   "cell_type": "code",
   "execution_count": 94,
   "metadata": {
    "collapsed": false,
    "scrolled": true
   },
   "outputs": [
    {
     "data": {
      "text/html": [
       "<div>\n",
       "<table border=\"1\" class=\"dataframe\">\n",
       "  <thead>\n",
       "    <tr style=\"text-align: right;\">\n",
       "      <th></th>\n",
       "      <th>frecuency_scaled</th>\n",
       "      <th>recency_scaled</th>\n",
       "      <th>money_scaled</th>\n",
       "      <th>cluster</th>\n",
       "    </tr>\n",
       "  </thead>\n",
       "  <tbody>\n",
       "    <tr>\n",
       "      <th>0</th>\n",
       "      <td>-0.280848</td>\n",
       "      <td>-1.005412</td>\n",
       "      <td>-0.340296</td>\n",
       "      <td>1</td>\n",
       "    </tr>\n",
       "    <tr>\n",
       "      <th>1</th>\n",
       "      <td>-0.280848</td>\n",
       "      <td>0.342552</td>\n",
       "      <td>-0.357623</td>\n",
       "      <td>2</td>\n",
       "    </tr>\n",
       "    <tr>\n",
       "      <th>2</th>\n",
       "      <td>-0.280848</td>\n",
       "      <td>1.388874</td>\n",
       "      <td>-0.265254</td>\n",
       "      <td>2</td>\n",
       "    </tr>\n",
       "    <tr>\n",
       "      <th>3</th>\n",
       "      <td>-0.280848</td>\n",
       "      <td>-1.061970</td>\n",
       "      <td>-0.309126</td>\n",
       "      <td>1</td>\n",
       "    </tr>\n",
       "    <tr>\n",
       "      <th>4</th>\n",
       "      <td>-0.280848</td>\n",
       "      <td>-0.967707</td>\n",
       "      <td>-0.242535</td>\n",
       "      <td>1</td>\n",
       "    </tr>\n",
       "  </tbody>\n",
       "</table>\n",
       "</div>"
      ],
      "text/plain": [
       "   frecuency_scaled  recency_scaled  money_scaled  cluster\n",
       "0         -0.280848       -1.005412     -0.340296        1\n",
       "1         -0.280848        0.342552     -0.357623        2\n",
       "2         -0.280848        1.388874     -0.265254        2\n",
       "3         -0.280848       -1.061970     -0.309126        1\n",
       "4         -0.280848       -0.967707     -0.242535        1"
      ]
     },
     "execution_count": 94,
     "metadata": {},
     "output_type": "execute_result"
    }
   ],
   "source": [
    "rfm_final.head(5)"
   ]
  },
  {
   "cell_type": "code",
   "execution_count": 95,
   "metadata": {
    "collapsed": false,
    "scrolled": false
   },
   "outputs": [
    {
     "data": {
      "text/html": [
       "<div>\n",
       "<table border=\"1\" class=\"dataframe\">\n",
       "  <thead>\n",
       "    <tr style=\"text-align: right;\">\n",
       "      <th></th>\n",
       "      <th>frecuency</th>\n",
       "      <th>recency</th>\n",
       "      <th>money</th>\n",
       "      <th>frecuency_stddev</th>\n",
       "      <th>recency_stddev</th>\n",
       "      <th>money_stddev</th>\n",
       "      <th>frecuency_avg</th>\n",
       "      <th>recency_avg</th>\n",
       "      <th>money_avg</th>\n",
       "    </tr>\n",
       "  </thead>\n",
       "  <tbody>\n",
       "    <tr>\n",
       "      <th>0</th>\n",
       "      <td>1</td>\n",
       "      <td>28</td>\n",
       "      <td>221.26</td>\n",
       "      <td>0.755128</td>\n",
       "      <td>106.085886</td>\n",
       "      <td>938.414647</td>\n",
       "      <td>1.212076</td>\n",
       "      <td>134.660064</td>\n",
       "      <td>540.598485</td>\n",
       "    </tr>\n",
       "    <tr>\n",
       "      <th>1</th>\n",
       "      <td>1</td>\n",
       "      <td>171</td>\n",
       "      <td>205.00</td>\n",
       "      <td>0.755128</td>\n",
       "      <td>106.085886</td>\n",
       "      <td>938.414647</td>\n",
       "      <td>1.212076</td>\n",
       "      <td>134.660064</td>\n",
       "      <td>540.598485</td>\n",
       "    </tr>\n",
       "    <tr>\n",
       "      <th>2</th>\n",
       "      <td>1</td>\n",
       "      <td>282</td>\n",
       "      <td>291.68</td>\n",
       "      <td>0.755128</td>\n",
       "      <td>106.085886</td>\n",
       "      <td>938.414647</td>\n",
       "      <td>1.212076</td>\n",
       "      <td>134.660064</td>\n",
       "      <td>540.598485</td>\n",
       "    </tr>\n",
       "    <tr>\n",
       "      <th>3</th>\n",
       "      <td>1</td>\n",
       "      <td>22</td>\n",
       "      <td>250.51</td>\n",
       "      <td>0.755128</td>\n",
       "      <td>106.085886</td>\n",
       "      <td>938.414647</td>\n",
       "      <td>1.212076</td>\n",
       "      <td>134.660064</td>\n",
       "      <td>540.598485</td>\n",
       "    </tr>\n",
       "    <tr>\n",
       "      <th>4</th>\n",
       "      <td>1</td>\n",
       "      <td>32</td>\n",
       "      <td>313.00</td>\n",
       "      <td>0.755128</td>\n",
       "      <td>106.085886</td>\n",
       "      <td>938.414647</td>\n",
       "      <td>1.212076</td>\n",
       "      <td>134.660064</td>\n",
       "      <td>540.598485</td>\n",
       "    </tr>\n",
       "    <tr>\n",
       "      <th>5</th>\n",
       "      <td>1</td>\n",
       "      <td>32</td>\n",
       "      <td>313.00</td>\n",
       "      <td>0.755128</td>\n",
       "      <td>106.085886</td>\n",
       "      <td>938.414647</td>\n",
       "      <td>1.212076</td>\n",
       "      <td>134.660064</td>\n",
       "      <td>540.598485</td>\n",
       "    </tr>\n",
       "    <tr>\n",
       "      <th>6</th>\n",
       "      <td>1</td>\n",
       "      <td>197</td>\n",
       "      <td>266.00</td>\n",
       "      <td>0.755128</td>\n",
       "      <td>106.085886</td>\n",
       "      <td>938.414647</td>\n",
       "      <td>1.212076</td>\n",
       "      <td>134.660064</td>\n",
       "      <td>540.598485</td>\n",
       "    </tr>\n",
       "    <tr>\n",
       "      <th>7</th>\n",
       "      <td>1</td>\n",
       "      <td>35</td>\n",
       "      <td>0.00</td>\n",
       "      <td>0.755128</td>\n",
       "      <td>106.085886</td>\n",
       "      <td>938.414647</td>\n",
       "      <td>1.212076</td>\n",
       "      <td>134.660064</td>\n",
       "      <td>540.598485</td>\n",
       "    </tr>\n",
       "    <tr>\n",
       "      <th>8</th>\n",
       "      <td>1</td>\n",
       "      <td>328</td>\n",
       "      <td>151.04</td>\n",
       "      <td>0.755128</td>\n",
       "      <td>106.085886</td>\n",
       "      <td>938.414647</td>\n",
       "      <td>1.212076</td>\n",
       "      <td>134.660064</td>\n",
       "      <td>540.598485</td>\n",
       "    </tr>\n",
       "    <tr>\n",
       "      <th>9</th>\n",
       "      <td>1</td>\n",
       "      <td>113</td>\n",
       "      <td>504.16</td>\n",
       "      <td>0.755128</td>\n",
       "      <td>106.085886</td>\n",
       "      <td>938.414647</td>\n",
       "      <td>1.212076</td>\n",
       "      <td>134.660064</td>\n",
       "      <td>540.598485</td>\n",
       "    </tr>\n",
       "    <tr>\n",
       "      <th>10</th>\n",
       "      <td>1</td>\n",
       "      <td>307</td>\n",
       "      <td>248.30</td>\n",
       "      <td>0.755128</td>\n",
       "      <td>106.085886</td>\n",
       "      <td>938.414647</td>\n",
       "      <td>1.212076</td>\n",
       "      <td>134.660064</td>\n",
       "      <td>540.598485</td>\n",
       "    </tr>\n",
       "    <tr>\n",
       "      <th>11</th>\n",
       "      <td>1</td>\n",
       "      <td>99</td>\n",
       "      <td>121.00</td>\n",
       "      <td>0.755128</td>\n",
       "      <td>106.085886</td>\n",
       "      <td>938.414647</td>\n",
       "      <td>1.212076</td>\n",
       "      <td>134.660064</td>\n",
       "      <td>540.598485</td>\n",
       "    </tr>\n",
       "    <tr>\n",
       "      <th>12</th>\n",
       "      <td>1</td>\n",
       "      <td>49</td>\n",
       "      <td>0.00</td>\n",
       "      <td>0.755128</td>\n",
       "      <td>106.085886</td>\n",
       "      <td>938.414647</td>\n",
       "      <td>1.212076</td>\n",
       "      <td>134.660064</td>\n",
       "      <td>540.598485</td>\n",
       "    </tr>\n",
       "    <tr>\n",
       "      <th>13</th>\n",
       "      <td>1</td>\n",
       "      <td>52</td>\n",
       "      <td>82.50</td>\n",
       "      <td>0.755128</td>\n",
       "      <td>106.085886</td>\n",
       "      <td>938.414647</td>\n",
       "      <td>1.212076</td>\n",
       "      <td>134.660064</td>\n",
       "      <td>540.598485</td>\n",
       "    </tr>\n",
       "    <tr>\n",
       "      <th>14</th>\n",
       "      <td>1</td>\n",
       "      <td>26</td>\n",
       "      <td>2.96</td>\n",
       "      <td>0.755128</td>\n",
       "      <td>106.085886</td>\n",
       "      <td>938.414647</td>\n",
       "      <td>1.212076</td>\n",
       "      <td>134.660064</td>\n",
       "      <td>540.598485</td>\n",
       "    </tr>\n",
       "    <tr>\n",
       "      <th>15</th>\n",
       "      <td>1</td>\n",
       "      <td>157</td>\n",
       "      <td>559.78</td>\n",
       "      <td>0.755128</td>\n",
       "      <td>106.085886</td>\n",
       "      <td>938.414647</td>\n",
       "      <td>1.212076</td>\n",
       "      <td>134.660064</td>\n",
       "      <td>540.598485</td>\n",
       "    </tr>\n",
       "    <tr>\n",
       "      <th>16</th>\n",
       "      <td>2</td>\n",
       "      <td>205</td>\n",
       "      <td>1179.59</td>\n",
       "      <td>0.755128</td>\n",
       "      <td>106.085886</td>\n",
       "      <td>938.414647</td>\n",
       "      <td>1.212076</td>\n",
       "      <td>134.660064</td>\n",
       "      <td>540.598485</td>\n",
       "    </tr>\n",
       "    <tr>\n",
       "      <th>17</th>\n",
       "      <td>1</td>\n",
       "      <td>45</td>\n",
       "      <td>207.30</td>\n",
       "      <td>0.755128</td>\n",
       "      <td>106.085886</td>\n",
       "      <td>938.414647</td>\n",
       "      <td>1.212076</td>\n",
       "      <td>134.660064</td>\n",
       "      <td>540.598485</td>\n",
       "    </tr>\n",
       "    <tr>\n",
       "      <th>18</th>\n",
       "      <td>1</td>\n",
       "      <td>178</td>\n",
       "      <td>269.44</td>\n",
       "      <td>0.755128</td>\n",
       "      <td>106.085886</td>\n",
       "      <td>938.414647</td>\n",
       "      <td>1.212076</td>\n",
       "      <td>134.660064</td>\n",
       "      <td>540.598485</td>\n",
       "    </tr>\n",
       "    <tr>\n",
       "      <th>19</th>\n",
       "      <td>1</td>\n",
       "      <td>79</td>\n",
       "      <td>432.14</td>\n",
       "      <td>0.755128</td>\n",
       "      <td>106.085886</td>\n",
       "      <td>938.414647</td>\n",
       "      <td>1.212076</td>\n",
       "      <td>134.660064</td>\n",
       "      <td>540.598485</td>\n",
       "    </tr>\n",
       "    <tr>\n",
       "      <th>20</th>\n",
       "      <td>1</td>\n",
       "      <td>150</td>\n",
       "      <td>444.40</td>\n",
       "      <td>0.755128</td>\n",
       "      <td>106.085886</td>\n",
       "      <td>938.414647</td>\n",
       "      <td>1.212076</td>\n",
       "      <td>134.660064</td>\n",
       "      <td>540.598485</td>\n",
       "    </tr>\n",
       "    <tr>\n",
       "      <th>21</th>\n",
       "      <td>1</td>\n",
       "      <td>204</td>\n",
       "      <td>0.00</td>\n",
       "      <td>0.755128</td>\n",
       "      <td>106.085886</td>\n",
       "      <td>938.414647</td>\n",
       "      <td>1.212076</td>\n",
       "      <td>134.660064</td>\n",
       "      <td>540.598485</td>\n",
       "    </tr>\n",
       "    <tr>\n",
       "      <th>22</th>\n",
       "      <td>1</td>\n",
       "      <td>255</td>\n",
       "      <td>180.00</td>\n",
       "      <td>0.755128</td>\n",
       "      <td>106.085886</td>\n",
       "      <td>938.414647</td>\n",
       "      <td>1.212076</td>\n",
       "      <td>134.660064</td>\n",
       "      <td>540.598485</td>\n",
       "    </tr>\n",
       "    <tr>\n",
       "      <th>23</th>\n",
       "      <td>2</td>\n",
       "      <td>59</td>\n",
       "      <td>190.56</td>\n",
       "      <td>0.755128</td>\n",
       "      <td>106.085886</td>\n",
       "      <td>938.414647</td>\n",
       "      <td>1.212076</td>\n",
       "      <td>134.660064</td>\n",
       "      <td>540.598485</td>\n",
       "    </tr>\n",
       "    <tr>\n",
       "      <th>24</th>\n",
       "      <td>2</td>\n",
       "      <td>26</td>\n",
       "      <td>759.00</td>\n",
       "      <td>0.755128</td>\n",
       "      <td>106.085886</td>\n",
       "      <td>938.414647</td>\n",
       "      <td>1.212076</td>\n",
       "      <td>134.660064</td>\n",
       "      <td>540.598485</td>\n",
       "    </tr>\n",
       "    <tr>\n",
       "      <th>25</th>\n",
       "      <td>1</td>\n",
       "      <td>141</td>\n",
       "      <td>1596.81</td>\n",
       "      <td>0.755128</td>\n",
       "      <td>106.085886</td>\n",
       "      <td>938.414647</td>\n",
       "      <td>1.212076</td>\n",
       "      <td>134.660064</td>\n",
       "      <td>540.598485</td>\n",
       "    </tr>\n",
       "    <tr>\n",
       "      <th>26</th>\n",
       "      <td>1</td>\n",
       "      <td>262</td>\n",
       "      <td>0.00</td>\n",
       "      <td>0.755128</td>\n",
       "      <td>106.085886</td>\n",
       "      <td>938.414647</td>\n",
       "      <td>1.212076</td>\n",
       "      <td>134.660064</td>\n",
       "      <td>540.598485</td>\n",
       "    </tr>\n",
       "    <tr>\n",
       "      <th>27</th>\n",
       "      <td>1</td>\n",
       "      <td>106</td>\n",
       "      <td>1819.62</td>\n",
       "      <td>0.755128</td>\n",
       "      <td>106.085886</td>\n",
       "      <td>938.414647</td>\n",
       "      <td>1.212076</td>\n",
       "      <td>134.660064</td>\n",
       "      <td>540.598485</td>\n",
       "    </tr>\n",
       "    <tr>\n",
       "      <th>28</th>\n",
       "      <td>1</td>\n",
       "      <td>175</td>\n",
       "      <td>140.00</td>\n",
       "      <td>0.755128</td>\n",
       "      <td>106.085886</td>\n",
       "      <td>938.414647</td>\n",
       "      <td>1.212076</td>\n",
       "      <td>134.660064</td>\n",
       "      <td>540.598485</td>\n",
       "    </tr>\n",
       "    <tr>\n",
       "      <th>29</th>\n",
       "      <td>1</td>\n",
       "      <td>18</td>\n",
       "      <td>158.00</td>\n",
       "      <td>0.755128</td>\n",
       "      <td>106.085886</td>\n",
       "      <td>938.414647</td>\n",
       "      <td>1.212076</td>\n",
       "      <td>134.660064</td>\n",
       "      <td>540.598485</td>\n",
       "    </tr>\n",
       "    <tr>\n",
       "      <th>...</th>\n",
       "      <td>...</td>\n",
       "      <td>...</td>\n",
       "      <td>...</td>\n",
       "      <td>...</td>\n",
       "      <td>...</td>\n",
       "      <td>...</td>\n",
       "      <td>...</td>\n",
       "      <td>...</td>\n",
       "      <td>...</td>\n",
       "    </tr>\n",
       "    <tr>\n",
       "      <th>175303</th>\n",
       "      <td>1</td>\n",
       "      <td>209</td>\n",
       "      <td>1457.71</td>\n",
       "      <td>0.755128</td>\n",
       "      <td>106.085886</td>\n",
       "      <td>938.414647</td>\n",
       "      <td>1.212076</td>\n",
       "      <td>134.660064</td>\n",
       "      <td>540.598485</td>\n",
       "    </tr>\n",
       "    <tr>\n",
       "      <th>175304</th>\n",
       "      <td>1</td>\n",
       "      <td>143</td>\n",
       "      <td>0.00</td>\n",
       "      <td>0.755128</td>\n",
       "      <td>106.085886</td>\n",
       "      <td>938.414647</td>\n",
       "      <td>1.212076</td>\n",
       "      <td>134.660064</td>\n",
       "      <td>540.598485</td>\n",
       "    </tr>\n",
       "    <tr>\n",
       "      <th>175305</th>\n",
       "      <td>1</td>\n",
       "      <td>89</td>\n",
       "      <td>477.72</td>\n",
       "      <td>0.755128</td>\n",
       "      <td>106.085886</td>\n",
       "      <td>938.414647</td>\n",
       "      <td>1.212076</td>\n",
       "      <td>134.660064</td>\n",
       "      <td>540.598485</td>\n",
       "    </tr>\n",
       "    <tr>\n",
       "      <th>175306</th>\n",
       "      <td>1</td>\n",
       "      <td>3</td>\n",
       "      <td>470.00</td>\n",
       "      <td>0.755128</td>\n",
       "      <td>106.085886</td>\n",
       "      <td>938.414647</td>\n",
       "      <td>1.212076</td>\n",
       "      <td>134.660064</td>\n",
       "      <td>540.598485</td>\n",
       "    </tr>\n",
       "    <tr>\n",
       "      <th>175307</th>\n",
       "      <td>6</td>\n",
       "      <td>17</td>\n",
       "      <td>3948.99</td>\n",
       "      <td>0.755128</td>\n",
       "      <td>106.085886</td>\n",
       "      <td>938.414647</td>\n",
       "      <td>1.212076</td>\n",
       "      <td>134.660064</td>\n",
       "      <td>540.598485</td>\n",
       "    </tr>\n",
       "    <tr>\n",
       "      <th>175308</th>\n",
       "      <td>1</td>\n",
       "      <td>173</td>\n",
       "      <td>518.93</td>\n",
       "      <td>0.755128</td>\n",
       "      <td>106.085886</td>\n",
       "      <td>938.414647</td>\n",
       "      <td>1.212076</td>\n",
       "      <td>134.660064</td>\n",
       "      <td>540.598485</td>\n",
       "    </tr>\n",
       "    <tr>\n",
       "      <th>175309</th>\n",
       "      <td>1</td>\n",
       "      <td>15</td>\n",
       "      <td>305.00</td>\n",
       "      <td>0.755128</td>\n",
       "      <td>106.085886</td>\n",
       "      <td>938.414647</td>\n",
       "      <td>1.212076</td>\n",
       "      <td>134.660064</td>\n",
       "      <td>540.598485</td>\n",
       "    </tr>\n",
       "    <tr>\n",
       "      <th>175310</th>\n",
       "      <td>1</td>\n",
       "      <td>354</td>\n",
       "      <td>672.55</td>\n",
       "      <td>0.755128</td>\n",
       "      <td>106.085886</td>\n",
       "      <td>938.414647</td>\n",
       "      <td>1.212076</td>\n",
       "      <td>134.660064</td>\n",
       "      <td>540.598485</td>\n",
       "    </tr>\n",
       "    <tr>\n",
       "      <th>175311</th>\n",
       "      <td>1</td>\n",
       "      <td>28</td>\n",
       "      <td>640.00</td>\n",
       "      <td>0.755128</td>\n",
       "      <td>106.085886</td>\n",
       "      <td>938.414647</td>\n",
       "      <td>1.212076</td>\n",
       "      <td>134.660064</td>\n",
       "      <td>540.598485</td>\n",
       "    </tr>\n",
       "    <tr>\n",
       "      <th>175312</th>\n",
       "      <td>1</td>\n",
       "      <td>54</td>\n",
       "      <td>0.00</td>\n",
       "      <td>0.755128</td>\n",
       "      <td>106.085886</td>\n",
       "      <td>938.414647</td>\n",
       "      <td>1.212076</td>\n",
       "      <td>134.660064</td>\n",
       "      <td>540.598485</td>\n",
       "    </tr>\n",
       "    <tr>\n",
       "      <th>175313</th>\n",
       "      <td>1</td>\n",
       "      <td>9</td>\n",
       "      <td>70.00</td>\n",
       "      <td>0.755128</td>\n",
       "      <td>106.085886</td>\n",
       "      <td>938.414647</td>\n",
       "      <td>1.212076</td>\n",
       "      <td>134.660064</td>\n",
       "      <td>540.598485</td>\n",
       "    </tr>\n",
       "    <tr>\n",
       "      <th>175314</th>\n",
       "      <td>1</td>\n",
       "      <td>202</td>\n",
       "      <td>0.00</td>\n",
       "      <td>0.755128</td>\n",
       "      <td>106.085886</td>\n",
       "      <td>938.414647</td>\n",
       "      <td>1.212076</td>\n",
       "      <td>134.660064</td>\n",
       "      <td>540.598485</td>\n",
       "    </tr>\n",
       "    <tr>\n",
       "      <th>175315</th>\n",
       "      <td>1</td>\n",
       "      <td>39</td>\n",
       "      <td>410.88</td>\n",
       "      <td>0.755128</td>\n",
       "      <td>106.085886</td>\n",
       "      <td>938.414647</td>\n",
       "      <td>1.212076</td>\n",
       "      <td>134.660064</td>\n",
       "      <td>540.598485</td>\n",
       "    </tr>\n",
       "    <tr>\n",
       "      <th>175316</th>\n",
       "      <td>1</td>\n",
       "      <td>8</td>\n",
       "      <td>220.00</td>\n",
       "      <td>0.755128</td>\n",
       "      <td>106.085886</td>\n",
       "      <td>938.414647</td>\n",
       "      <td>1.212076</td>\n",
       "      <td>134.660064</td>\n",
       "      <td>540.598485</td>\n",
       "    </tr>\n",
       "    <tr>\n",
       "      <th>175317</th>\n",
       "      <td>1</td>\n",
       "      <td>174</td>\n",
       "      <td>0.00</td>\n",
       "      <td>0.755128</td>\n",
       "      <td>106.085886</td>\n",
       "      <td>938.414647</td>\n",
       "      <td>1.212076</td>\n",
       "      <td>134.660064</td>\n",
       "      <td>540.598485</td>\n",
       "    </tr>\n",
       "    <tr>\n",
       "      <th>175318</th>\n",
       "      <td>1</td>\n",
       "      <td>300</td>\n",
       "      <td>0.00</td>\n",
       "      <td>0.755128</td>\n",
       "      <td>106.085886</td>\n",
       "      <td>938.414647</td>\n",
       "      <td>1.212076</td>\n",
       "      <td>134.660064</td>\n",
       "      <td>540.598485</td>\n",
       "    </tr>\n",
       "    <tr>\n",
       "      <th>175319</th>\n",
       "      <td>1</td>\n",
       "      <td>266</td>\n",
       "      <td>0.00</td>\n",
       "      <td>0.755128</td>\n",
       "      <td>106.085886</td>\n",
       "      <td>938.414647</td>\n",
       "      <td>1.212076</td>\n",
       "      <td>134.660064</td>\n",
       "      <td>540.598485</td>\n",
       "    </tr>\n",
       "    <tr>\n",
       "      <th>175320</th>\n",
       "      <td>1</td>\n",
       "      <td>109</td>\n",
       "      <td>300.00</td>\n",
       "      <td>0.755128</td>\n",
       "      <td>106.085886</td>\n",
       "      <td>938.414647</td>\n",
       "      <td>1.212076</td>\n",
       "      <td>134.660064</td>\n",
       "      <td>540.598485</td>\n",
       "    </tr>\n",
       "    <tr>\n",
       "      <th>175321</th>\n",
       "      <td>1</td>\n",
       "      <td>52</td>\n",
       "      <td>2192.23</td>\n",
       "      <td>0.755128</td>\n",
       "      <td>106.085886</td>\n",
       "      <td>938.414647</td>\n",
       "      <td>1.212076</td>\n",
       "      <td>134.660064</td>\n",
       "      <td>540.598485</td>\n",
       "    </tr>\n",
       "    <tr>\n",
       "      <th>175322</th>\n",
       "      <td>1</td>\n",
       "      <td>112</td>\n",
       "      <td>359.00</td>\n",
       "      <td>0.755128</td>\n",
       "      <td>106.085886</td>\n",
       "      <td>938.414647</td>\n",
       "      <td>1.212076</td>\n",
       "      <td>134.660064</td>\n",
       "      <td>540.598485</td>\n",
       "    </tr>\n",
       "    <tr>\n",
       "      <th>175323</th>\n",
       "      <td>1</td>\n",
       "      <td>308</td>\n",
       "      <td>1110.65</td>\n",
       "      <td>0.755128</td>\n",
       "      <td>106.085886</td>\n",
       "      <td>938.414647</td>\n",
       "      <td>1.212076</td>\n",
       "      <td>134.660064</td>\n",
       "      <td>540.598485</td>\n",
       "    </tr>\n",
       "    <tr>\n",
       "      <th>175324</th>\n",
       "      <td>1</td>\n",
       "      <td>26</td>\n",
       "      <td>3535.00</td>\n",
       "      <td>0.755128</td>\n",
       "      <td>106.085886</td>\n",
       "      <td>938.414647</td>\n",
       "      <td>1.212076</td>\n",
       "      <td>134.660064</td>\n",
       "      <td>540.598485</td>\n",
       "    </tr>\n",
       "    <tr>\n",
       "      <th>175325</th>\n",
       "      <td>1</td>\n",
       "      <td>259</td>\n",
       "      <td>297.30</td>\n",
       "      <td>0.755128</td>\n",
       "      <td>106.085886</td>\n",
       "      <td>938.414647</td>\n",
       "      <td>1.212076</td>\n",
       "      <td>134.660064</td>\n",
       "      <td>540.598485</td>\n",
       "    </tr>\n",
       "    <tr>\n",
       "      <th>175326</th>\n",
       "      <td>4</td>\n",
       "      <td>77</td>\n",
       "      <td>3401.27</td>\n",
       "      <td>0.755128</td>\n",
       "      <td>106.085886</td>\n",
       "      <td>938.414647</td>\n",
       "      <td>1.212076</td>\n",
       "      <td>134.660064</td>\n",
       "      <td>540.598485</td>\n",
       "    </tr>\n",
       "    <tr>\n",
       "      <th>175327</th>\n",
       "      <td>2</td>\n",
       "      <td>161</td>\n",
       "      <td>1553.71</td>\n",
       "      <td>0.755128</td>\n",
       "      <td>106.085886</td>\n",
       "      <td>938.414647</td>\n",
       "      <td>1.212076</td>\n",
       "      <td>134.660064</td>\n",
       "      <td>540.598485</td>\n",
       "    </tr>\n",
       "    <tr>\n",
       "      <th>175328</th>\n",
       "      <td>1</td>\n",
       "      <td>52</td>\n",
       "      <td>1963.04</td>\n",
       "      <td>0.755128</td>\n",
       "      <td>106.085886</td>\n",
       "      <td>938.414647</td>\n",
       "      <td>1.212076</td>\n",
       "      <td>134.660064</td>\n",
       "      <td>540.598485</td>\n",
       "    </tr>\n",
       "    <tr>\n",
       "      <th>175329</th>\n",
       "      <td>1</td>\n",
       "      <td>146</td>\n",
       "      <td>520.04</td>\n",
       "      <td>0.755128</td>\n",
       "      <td>106.085886</td>\n",
       "      <td>938.414647</td>\n",
       "      <td>1.212076</td>\n",
       "      <td>134.660064</td>\n",
       "      <td>540.598485</td>\n",
       "    </tr>\n",
       "    <tr>\n",
       "      <th>175330</th>\n",
       "      <td>1</td>\n",
       "      <td>362</td>\n",
       "      <td>0.00</td>\n",
       "      <td>0.755128</td>\n",
       "      <td>106.085886</td>\n",
       "      <td>938.414647</td>\n",
       "      <td>1.212076</td>\n",
       "      <td>134.660064</td>\n",
       "      <td>540.598485</td>\n",
       "    </tr>\n",
       "    <tr>\n",
       "      <th>175331</th>\n",
       "      <td>1</td>\n",
       "      <td>144</td>\n",
       "      <td>235.32</td>\n",
       "      <td>0.755128</td>\n",
       "      <td>106.085886</td>\n",
       "      <td>938.414647</td>\n",
       "      <td>1.212076</td>\n",
       "      <td>134.660064</td>\n",
       "      <td>540.598485</td>\n",
       "    </tr>\n",
       "    <tr>\n",
       "      <th>175332</th>\n",
       "      <td>1</td>\n",
       "      <td>114</td>\n",
       "      <td>165.00</td>\n",
       "      <td>0.755128</td>\n",
       "      <td>106.085886</td>\n",
       "      <td>938.414647</td>\n",
       "      <td>1.212076</td>\n",
       "      <td>134.660064</td>\n",
       "      <td>540.598485</td>\n",
       "    </tr>\n",
       "  </tbody>\n",
       "</table>\n",
       "<p>175333 rows × 9 columns</p>\n",
       "</div>"
      ],
      "text/plain": [
       "        frecuency  recency    money  frecuency_stddev  recency_stddev  \\\n",
       "0               1       28   221.26          0.755128      106.085886   \n",
       "1               1      171   205.00          0.755128      106.085886   \n",
       "2               1      282   291.68          0.755128      106.085886   \n",
       "3               1       22   250.51          0.755128      106.085886   \n",
       "4               1       32   313.00          0.755128      106.085886   \n",
       "5               1       32   313.00          0.755128      106.085886   \n",
       "6               1      197   266.00          0.755128      106.085886   \n",
       "7               1       35     0.00          0.755128      106.085886   \n",
       "8               1      328   151.04          0.755128      106.085886   \n",
       "9               1      113   504.16          0.755128      106.085886   \n",
       "10              1      307   248.30          0.755128      106.085886   \n",
       "11              1       99   121.00          0.755128      106.085886   \n",
       "12              1       49     0.00          0.755128      106.085886   \n",
       "13              1       52    82.50          0.755128      106.085886   \n",
       "14              1       26     2.96          0.755128      106.085886   \n",
       "15              1      157   559.78          0.755128      106.085886   \n",
       "16              2      205  1179.59          0.755128      106.085886   \n",
       "17              1       45   207.30          0.755128      106.085886   \n",
       "18              1      178   269.44          0.755128      106.085886   \n",
       "19              1       79   432.14          0.755128      106.085886   \n",
       "20              1      150   444.40          0.755128      106.085886   \n",
       "21              1      204     0.00          0.755128      106.085886   \n",
       "22              1      255   180.00          0.755128      106.085886   \n",
       "23              2       59   190.56          0.755128      106.085886   \n",
       "24              2       26   759.00          0.755128      106.085886   \n",
       "25              1      141  1596.81          0.755128      106.085886   \n",
       "26              1      262     0.00          0.755128      106.085886   \n",
       "27              1      106  1819.62          0.755128      106.085886   \n",
       "28              1      175   140.00          0.755128      106.085886   \n",
       "29              1       18   158.00          0.755128      106.085886   \n",
       "...           ...      ...      ...               ...             ...   \n",
       "175303          1      209  1457.71          0.755128      106.085886   \n",
       "175304          1      143     0.00          0.755128      106.085886   \n",
       "175305          1       89   477.72          0.755128      106.085886   \n",
       "175306          1        3   470.00          0.755128      106.085886   \n",
       "175307          6       17  3948.99          0.755128      106.085886   \n",
       "175308          1      173   518.93          0.755128      106.085886   \n",
       "175309          1       15   305.00          0.755128      106.085886   \n",
       "175310          1      354   672.55          0.755128      106.085886   \n",
       "175311          1       28   640.00          0.755128      106.085886   \n",
       "175312          1       54     0.00          0.755128      106.085886   \n",
       "175313          1        9    70.00          0.755128      106.085886   \n",
       "175314          1      202     0.00          0.755128      106.085886   \n",
       "175315          1       39   410.88          0.755128      106.085886   \n",
       "175316          1        8   220.00          0.755128      106.085886   \n",
       "175317          1      174     0.00          0.755128      106.085886   \n",
       "175318          1      300     0.00          0.755128      106.085886   \n",
       "175319          1      266     0.00          0.755128      106.085886   \n",
       "175320          1      109   300.00          0.755128      106.085886   \n",
       "175321          1       52  2192.23          0.755128      106.085886   \n",
       "175322          1      112   359.00          0.755128      106.085886   \n",
       "175323          1      308  1110.65          0.755128      106.085886   \n",
       "175324          1       26  3535.00          0.755128      106.085886   \n",
       "175325          1      259   297.30          0.755128      106.085886   \n",
       "175326          4       77  3401.27          0.755128      106.085886   \n",
       "175327          2      161  1553.71          0.755128      106.085886   \n",
       "175328          1       52  1963.04          0.755128      106.085886   \n",
       "175329          1      146   520.04          0.755128      106.085886   \n",
       "175330          1      362     0.00          0.755128      106.085886   \n",
       "175331          1      144   235.32          0.755128      106.085886   \n",
       "175332          1      114   165.00          0.755128      106.085886   \n",
       "\n",
       "        money_stddev  frecuency_avg  recency_avg   money_avg  \n",
       "0         938.414647       1.212076   134.660064  540.598485  \n",
       "1         938.414647       1.212076   134.660064  540.598485  \n",
       "2         938.414647       1.212076   134.660064  540.598485  \n",
       "3         938.414647       1.212076   134.660064  540.598485  \n",
       "4         938.414647       1.212076   134.660064  540.598485  \n",
       "5         938.414647       1.212076   134.660064  540.598485  \n",
       "6         938.414647       1.212076   134.660064  540.598485  \n",
       "7         938.414647       1.212076   134.660064  540.598485  \n",
       "8         938.414647       1.212076   134.660064  540.598485  \n",
       "9         938.414647       1.212076   134.660064  540.598485  \n",
       "10        938.414647       1.212076   134.660064  540.598485  \n",
       "11        938.414647       1.212076   134.660064  540.598485  \n",
       "12        938.414647       1.212076   134.660064  540.598485  \n",
       "13        938.414647       1.212076   134.660064  540.598485  \n",
       "14        938.414647       1.212076   134.660064  540.598485  \n",
       "15        938.414647       1.212076   134.660064  540.598485  \n",
       "16        938.414647       1.212076   134.660064  540.598485  \n",
       "17        938.414647       1.212076   134.660064  540.598485  \n",
       "18        938.414647       1.212076   134.660064  540.598485  \n",
       "19        938.414647       1.212076   134.660064  540.598485  \n",
       "20        938.414647       1.212076   134.660064  540.598485  \n",
       "21        938.414647       1.212076   134.660064  540.598485  \n",
       "22        938.414647       1.212076   134.660064  540.598485  \n",
       "23        938.414647       1.212076   134.660064  540.598485  \n",
       "24        938.414647       1.212076   134.660064  540.598485  \n",
       "25        938.414647       1.212076   134.660064  540.598485  \n",
       "26        938.414647       1.212076   134.660064  540.598485  \n",
       "27        938.414647       1.212076   134.660064  540.598485  \n",
       "28        938.414647       1.212076   134.660064  540.598485  \n",
       "29        938.414647       1.212076   134.660064  540.598485  \n",
       "...              ...            ...          ...         ...  \n",
       "175303    938.414647       1.212076   134.660064  540.598485  \n",
       "175304    938.414647       1.212076   134.660064  540.598485  \n",
       "175305    938.414647       1.212076   134.660064  540.598485  \n",
       "175306    938.414647       1.212076   134.660064  540.598485  \n",
       "175307    938.414647       1.212076   134.660064  540.598485  \n",
       "175308    938.414647       1.212076   134.660064  540.598485  \n",
       "175309    938.414647       1.212076   134.660064  540.598485  \n",
       "175310    938.414647       1.212076   134.660064  540.598485  \n",
       "175311    938.414647       1.212076   134.660064  540.598485  \n",
       "175312    938.414647       1.212076   134.660064  540.598485  \n",
       "175313    938.414647       1.212076   134.660064  540.598485  \n",
       "175314    938.414647       1.212076   134.660064  540.598485  \n",
       "175315    938.414647       1.212076   134.660064  540.598485  \n",
       "175316    938.414647       1.212076   134.660064  540.598485  \n",
       "175317    938.414647       1.212076   134.660064  540.598485  \n",
       "175318    938.414647       1.212076   134.660064  540.598485  \n",
       "175319    938.414647       1.212076   134.660064  540.598485  \n",
       "175320    938.414647       1.212076   134.660064  540.598485  \n",
       "175321    938.414647       1.212076   134.660064  540.598485  \n",
       "175322    938.414647       1.212076   134.660064  540.598485  \n",
       "175323    938.414647       1.212076   134.660064  540.598485  \n",
       "175324    938.414647       1.212076   134.660064  540.598485  \n",
       "175325    938.414647       1.212076   134.660064  540.598485  \n",
       "175326    938.414647       1.212076   134.660064  540.598485  \n",
       "175327    938.414647       1.212076   134.660064  540.598485  \n",
       "175328    938.414647       1.212076   134.660064  540.598485  \n",
       "175329    938.414647       1.212076   134.660064  540.598485  \n",
       "175330    938.414647       1.212076   134.660064  540.598485  \n",
       "175331    938.414647       1.212076   134.660064  540.598485  \n",
       "175332    938.414647       1.212076   134.660064  540.598485  \n",
       "\n",
       "[175333 rows x 9 columns]"
      ]
     },
     "execution_count": 95,
     "metadata": {},
     "output_type": "execute_result"
    }
   ],
   "source": [
    "rfm.toPandas()"
   ]
  },
  {
   "cell_type": "code",
   "execution_count": 113,
   "metadata": {
    "collapsed": false
   },
   "outputs": [],
   "source": [
    "dataset_rfm = dataset_rfm.toPandas()"
   ]
  },
  {
   "cell_type": "code",
   "execution_count": 114,
   "metadata": {
    "collapsed": false,
    "scrolled": true
   },
   "outputs": [],
   "source": [
    "dataset_rfm['cluster'] = rfm_final['cluster']"
   ]
  },
  {
   "cell_type": "code",
   "execution_count": 115,
   "metadata": {
    "collapsed": false
   },
   "outputs": [
    {
     "data": {
      "text/html": [
       "<div>\n",
       "<table border=\"1\" class=\"dataframe\">\n",
       "  <thead>\n",
       "    <tr style=\"text-align: right;\">\n",
       "      <th></th>\n",
       "      <th>document_number</th>\n",
       "      <th>frecuency</th>\n",
       "      <th>recency</th>\n",
       "      <th>money</th>\n",
       "      <th>cluster</th>\n",
       "    </tr>\n",
       "  </thead>\n",
       "  <tbody>\n",
       "    <tr>\n",
       "      <th>0</th>\n",
       "      <td>000744336</td>\n",
       "      <td>1</td>\n",
       "      <td>28</td>\n",
       "      <td>221.26</td>\n",
       "      <td>1</td>\n",
       "    </tr>\n",
       "    <tr>\n",
       "      <th>1</th>\n",
       "      <td>00152Y444</td>\n",
       "      <td>1</td>\n",
       "      <td>171</td>\n",
       "      <td>205.00</td>\n",
       "      <td>2</td>\n",
       "    </tr>\n",
       "  </tbody>\n",
       "</table>\n",
       "</div>"
      ],
      "text/plain": [
       "  document_number  frecuency  recency   money  cluster\n",
       "0       000744336          1       28  221.26        1\n",
       "1       00152Y444          1      171  205.00        2"
      ]
     },
     "execution_count": 115,
     "metadata": {},
     "output_type": "execute_result"
    }
   ],
   "source": [
    "dataset_rfm.head(2)"
   ]
  },
  {
   "cell_type": "code",
   "execution_count": 116,
   "metadata": {
    "collapsed": true
   },
   "outputs": [],
   "source": [
    "%matplotlib inline"
   ]
  },
  {
   "cell_type": "code",
   "execution_count": 117,
   "metadata": {
    "collapsed": false
   },
   "outputs": [
    {
     "data": {
      "text/plain": [
       "True"
      ]
     },
     "execution_count": 117,
     "metadata": {},
     "output_type": "execute_result"
    }
   ],
   "source": [
    "plt.isinteractive()"
   ]
  },
  {
   "cell_type": "code",
   "execution_count": 118,
   "metadata": {
    "collapsed": false
   },
   "outputs": [
    {
     "data": {
      "image/png": "[encoded data removed]",
      "text/plain": [
       "<matplotlib.figure.Figure at 0x120aacf10>"
      ]
     },
     "metadata": {},
     "output_type": "display_data"
    }
   ],
   "source": [
    "plt.figure(figsize=(8, 6), dpi=80)\n",
    "plt.scatter(dataset_rfm['recency'],dataset_rfm['money'],alpha = 0.5,c=dataset_rfm['cluster'],s=100)\n",
    "plt.xlabel('recency')\n",
    "plt.ylabel('money')\n",
    "plt.show()"
   ]
  },
  {
   "cell_type": "code",
   "execution_count": 119,
   "metadata": {
    "collapsed": false
   },
   "outputs": [
    {
     "data": {
      "image/png": "[encoded data removed]",
      "text/plain": [
       "<matplotlib.figure.Figure at 0x121209050>"
      ]
     },
     "metadata": {},
     "output_type": "display_data"
    }
   ],
   "source": [
    "plt.figure(figsize=(8, 6), dpi=80)\n",
    "plt.scatter(dataset_rfm['frecuency'],dataset_rfm['money'],alpha = 0.5,c=dataset_rfm['cluster'],s=100)\n",
    "plt.xlabel('frecuency')\n",
    "plt.ylabel('money')\n",
    "plt.show()"
   ]
  },
  {
   "cell_type": "code",
   "execution_count": 120,
   "metadata": {
    "collapsed": false
   },
   "outputs": [
    {
     "data": {
      "image/png": "[encoded data removed]",
      "text/plain": [
       "<matplotlib.figure.Figure at 0x133ac8790>"
      ]
     },
     "metadata": {},
     "output_type": "display_data"
    }
   ],
   "source": [
    "plt.figure(figsize=(8, 6), dpi=80)\n",
    "plt.scatter(dataset_rfm['frecuency'],dataset_rfm['recency'],alpha = 0.5,c=dataset_rfm['cluster'],s=100)\n",
    "plt.xlabel('frecuency')\n",
    "plt.ylabel('recency')\n",
    "plt.show()"
   ]
  },
  {
   "cell_type": "markdown",
   "metadata": {},
   "source": [
    "El cluster verde tiene una frecuencia de compra de 3 o menos veces y han pasado como mínimo 5 meses desde que se realizó la última compra (clientes desvinculados)\n",
    "El cluster morado tiene frecuencia de compra de 4 o más veces en el año estudiado y la recencia varía desde 0 meses hasta 10 meses (clientes habituales)\n",
    "El cluster azul tiene una frecuencia de entre 1 y 3 veces en el año y recencia de unos 5 meses (clientes vacacionales)\n",
    "El clúster amarillo tiene una frecuencia de compra de entre 1 y 3 veces al año y una recencia que va desde 0 meses hasta casi el año."
   ]
  },
  {
   "cell_type": "code",
   "execution_count": 121,
   "metadata": {
    "collapsed": true
   },
   "outputs": [],
   "source": [
    "rfm_csv = dataset_rfm.to_csv('rfm_with_clusters.csv', sep = ',')"
   ]
  }
 ],
 "metadata": {
  "celltoolbar": "Raw Cell Format",
  "kernelspec": {
   "display_name": "Python 2",
   "language": "python",
   "name": "python2"
  },
  "language_info": {
   "codemirror_mode": {
    "name": "ipython",
    "version": 2
   },
   "file_extension": ".py",
   "mimetype": "text/x-python",
   "name": "python",
   "nbconvert_exporter": "python",
   "pygments_lexer": "ipython2",
   "version": "2.7.13"
  }
 },
 "nbformat": 4,
 "nbformat_minor": 2
}
