{
 "cells": [
  {
   "cell_type": "code",
   "execution_count": 1,
   "metadata": {
    "collapsed": true
   },
   "outputs": [],
   "source": [
    "import findspark"
   ]
  },
  {
   "cell_type": "code",
   "execution_count": 2,
   "metadata": {
    "collapsed": true
   },
   "outputs": [],
   "source": [
    "findspark.init()"
   ]
  },
  {
   "cell_type": "code",
   "execution_count": 3,
   "metadata": {
    "collapsed": true
   },
   "outputs": [],
   "source": [
    "import pyspark\n",
    "sc = pyspark.SparkContext()"
   ]
  },
  {
   "cell_type": "code",
   "execution_count": 4,
   "metadata": {
    "collapsed": false
   },
   "outputs": [
    {
     "data": {
      "text/plain": [
       "<pyspark.context.SparkContext at 0x10dd412d0>"
      ]
     },
     "execution_count": 4,
     "metadata": {},
     "output_type": "execute_result"
    }
   ],
   "source": [
    "sc"
   ]
  },
  {
   "cell_type": "code",
   "execution_count": 5,
   "metadata": {
    "collapsed": false
   },
   "outputs": [
    {
     "data": {
      "text/plain": [
       "u'/Users/Clarita/Desktop/tfm'"
      ]
     },
     "execution_count": 5,
     "metadata": {},
     "output_type": "execute_result"
    }
   ],
   "source": [
    "pwd"
   ]
  },
  {
   "cell_type": "code",
   "execution_count": 6,
   "metadata": {
    "collapsed": true
   },
   "outputs": [],
   "source": [
    "from pyspark.sql import SQLContext\n",
    "from pyspark.sql.types import *"
   ]
  },
  {
   "cell_type": "code",
   "execution_count": 7,
   "metadata": {
    "collapsed": true
   },
   "outputs": [],
   "source": [
    "sqlContext = SQLContext(sc)"
   ]
  },
  {
   "cell_type": "markdown",
   "metadata": {},
   "source": [
    "# Exploring and analysing the dataset"
   ]
  },
  {
   "cell_type": "code",
   "execution_count": 8,
   "metadata": {
    "collapsed": true
   },
   "outputs": [],
   "source": [
    "df = sqlContext.read.csv('marketing_pax.csv', header=True, sep='^', inferSchema=True)"
   ]
  },
  {
   "cell_type": "code",
   "execution_count": 13,
   "metadata": {
    "collapsed": true
   },
   "outputs": [
    {
     "data": {
      "text/plain": [
       "[('rloc', 'string'),\n",
       " ('full_name', 'string'),\n",
       " ('gender', 'string'),\n",
       " ('age', 'int'),\n",
       " ('date_of_birth', 'timestamp'),\n",
       " ('document_type', 'string'),\n",
       " ('document_number', 'string'),\n",
       " ('document_country', 'string'),\n",
       " ('nationality', 'string'),\n",
       " ('fqtv_data', 'string'),\n",
       " ('general_status', 'string'),\n",
       " ('boarding_status', 'string'),\n",
       " ('acceptance_status', 'string'),\n",
       " ('bag_status', 'string'),\n",
       " ('customer_accepted', 'string'),\n",
       " ('checkin_location', 'string'),\n",
       " ('boarded_in_all_legs_flag', 'boolean'),\n",
       " ('cabin_code', 'string'),\n",
       " ('booking_class_code', 'string'),\n",
       " ('airline_code', 'string'),\n",
       " ('flight_number', 'string'),\n",
       " ('departure_date_leg', 'timestamp'),\n",
       " ('quality_index', 'double'),\n",
       " ('creation_date', 'timestamp'),\n",
       " ('advance_purchase', 'int'),\n",
       " ('creator_office_id', 'string'),\n",
       " ('creator_iata_number', 'int'),\n",
       " ('creator_gds_code', 'string'),\n",
       " ('creator_city_code', 'string'),\n",
       " ('creator_lat', 'double'),\n",
       " ('creator_lon', 'double'),\n",
       " ('creator_country_code', 'string'),\n",
       " ('creator_continent_name', 'string'),\n",
       " ('creator_channel_code', 'string'),\n",
       " ('booking_status_code', 'string'),\n",
       " ('cabin_code_seg', 'string'),\n",
       " ('booking_class_code_seg', 'string'),\n",
       " ('pos_office_id', 'string'),\n",
       " ('pos_iata_number', 'int'),\n",
       " ('pos_gds_code', 'string'),\n",
       " ('pos_city_code', 'string'),\n",
       " ('pos_lat', 'double'),\n",
       " ('pos_lon', 'double'),\n",
       " ('pos_country_code', 'string'),\n",
       " ('pos_continent_code', 'string'),\n",
       " ('pos_channel_code', 'string'),\n",
       " ('board_point', 'string'),\n",
       " ('board_lat', 'double'),\n",
       " ('board_lon', 'double'),\n",
       " ('board_country_code', 'string'),\n",
       " ('board_continent_code', 'string'),\n",
       " ('off_point', 'string'),\n",
       " ('off_lat', 'double'),\n",
       " ('off_lon', 'double'),\n",
       " ('off_country_code', 'string'),\n",
       " ('off_continent_code', 'string'),\n",
       " ('distance_seg', 'double'),\n",
       " ('route', 'string'),\n",
       " ('network', 'string'),\n",
       " ('airline_code_seg', 'string'),\n",
       " ('flight_number_seg', 'string'),\n",
       " ('flight_type', 'string'),\n",
       " ('revenue_amount_seg', 'double'),\n",
       " ('emd_count', 'int'),\n",
       " ('emd_amount', 'double'),\n",
       " ('fuel_surcharge_amount_seg', 'double')]"
      ]
     },
     "execution_count": 13,
     "metadata": {},
     "output_type": "execute_result"
    }
   ],
   "source": [
    "df.dtypes"
   ]
  },
  {
   "cell_type": "code",
   "execution_count": 14,
   "metadata": {
    "collapsed": false
   },
   "outputs": [
    {
     "data": {
      "text/plain": [
       "pyspark.sql.dataframe.DataFrame"
      ]
     },
     "execution_count": 14,
     "metadata": {},
     "output_type": "execute_result"
    }
   ],
   "source": [
    "type(df)"
   ]
  },
  {
   "cell_type": "code",
   "execution_count": 15,
   "metadata": {
    "collapsed": false
   },
   "outputs": [
    {
     "data": {
      "text/plain": [
       "9546302"
      ]
     },
     "execution_count": 15,
     "metadata": {},
     "output_type": "execute_result"
    }
   ],
   "source": [
    "df.count()"
   ]
  },
  {
   "cell_type": "code",
   "execution_count": 16,
   "metadata": {
    "collapsed": true
   },
   "outputs": [
    {
     "data": {
      "text/plain": [
       "Row(rloc=u'60Z666', full_name=u'/MUZASDQUE', gender=u'F', age=None, date_of_birth=None, document_type=None, document_number=None, document_country=None, nationality=None, fqtv_data=u'016037921MK/BXGE/', general_status=u'FD', boarding_status=u'CL', acceptance_status=u'FI', bag_status=u'IG', customer_accepted=u'CAC', checkin_location=u'W', boarded_in_all_legs_flag=True, cabin_code=u'Y', booking_class_code=u'W', airline_code=u'XX', flight_number=u'2075', departure_date_leg=datetime.datetime(2013, 6, 23, 0, 0), quality_index=0.5, creation_date=datetime.datetime(2015, 5, 3, 0, 0), advance_purchase=49, creator_office_id=u'LEUXXMM42', creator_iata_number=56495383, creator_gds_code=u'XX', creator_city_code=u'LEU', creator_lat=42.338611, creator_lon=1.409167, creator_country_code=u'ES', creator_continent_name=u'Europe', creator_channel_code=u'E', booking_status_code=u'HK', cabin_code_seg=u'Y', booking_class_code_seg=u'W', pos_office_id=u'LEUXXMM42', pos_iata_number=56495383, pos_gds_code=u'M5', pos_city_code=u'LEU', pos_lat=42.338611, pos_lon=1.409167, pos_country_code=u'ES', pos_continent_code=u'Europe', pos_channel_code=u'E', board_point=u'MRV', board_lat=44.21028, board_lon=43.13528, board_country_code=u'RU', board_continent_code=u'Europe', off_point=u'BRU', off_lat=50.85045, off_lon=4.34878, off_country_code=u'BE', off_continent_code=u'Europe', distance_seg=2967.076044145874, route=u'BRU-MRV', network=u'Europe', airline_code_seg=u'XX', flight_number_seg=u'2075', flight_type=u'I', revenue_amount_seg=0.0, emd_count=None, emd_amount=None, fuel_surcharge_amount_seg=42.0)"
      ]
     },
     "execution_count": 16,
     "metadata": {},
     "output_type": "execute_result"
    }
   ],
   "source": [
    "df.head()"
   ]
  },
  {
   "cell_type": "code",
   "execution_count": 9,
   "metadata": {
    "collapsed": true
   },
   "outputs": [
    {
     "name": "stdout",
     "output_type": "stream",
     "text": [
      "root\n",
      " |-- rloc: string (nullable = true)\n",
      " |-- full_name: string (nullable = true)\n",
      " |-- gender: string (nullable = true)\n",
      " |-- age: integer (nullable = true)\n",
      " |-- date_of_birth: timestamp (nullable = true)\n",
      " |-- document_type: string (nullable = true)\n",
      " |-- document_number: string (nullable = true)\n",
      " |-- document_country: string (nullable = true)\n",
      " |-- nationality: string (nullable = true)\n",
      " |-- fqtv_data: string (nullable = true)\n",
      " |-- general_status: string (nullable = true)\n",
      " |-- boarding_status: string (nullable = true)\n",
      " |-- acceptance_status: string (nullable = true)\n",
      " |-- bag_status: string (nullable = true)\n",
      " |-- customer_accepted: string (nullable = true)\n",
      " |-- checkin_location: string (nullable = true)\n",
      " |-- boarded_in_all_legs_flag: boolean (nullable = true)\n",
      " |-- cabin_code: string (nullable = true)\n",
      " |-- booking_class_code: string (nullable = true)\n",
      " |-- airline_code: string (nullable = true)\n",
      " |-- flight_number: string (nullable = true)\n",
      " |-- departure_date_leg: timestamp (nullable = true)\n",
      " |-- quality_index: double (nullable = true)\n",
      " |-- creation_date: timestamp (nullable = true)\n",
      " |-- advance_purchase: integer (nullable = true)\n",
      " |-- creator_office_id: string (nullable = true)\n",
      " |-- creator_iata_number: integer (nullable = true)\n",
      " |-- creator_gds_code: string (nullable = true)\n",
      " |-- creator_city_code: string (nullable = true)\n",
      " |-- creator_lat: double (nullable = true)\n",
      " |-- creator_lon: double (nullable = true)\n",
      " |-- creator_country_code: string (nullable = true)\n",
      " |-- creator_continent_name: string (nullable = true)\n",
      " |-- creator_channel_code: string (nullable = true)\n",
      " |-- booking_status_code: string (nullable = true)\n",
      " |-- cabin_code_seg: string (nullable = true)\n",
      " |-- booking_class_code_seg: string (nullable = true)\n",
      " |-- pos_office_id: string (nullable = true)\n",
      " |-- pos_iata_number: integer (nullable = true)\n",
      " |-- pos_gds_code: string (nullable = true)\n",
      " |-- pos_city_code: string (nullable = true)\n",
      " |-- pos_lat: double (nullable = true)\n",
      " |-- pos_lon: double (nullable = true)\n",
      " |-- pos_country_code: string (nullable = true)\n",
      " |-- pos_continent_code: string (nullable = true)\n",
      " |-- pos_channel_code: string (nullable = true)\n",
      " |-- board_point: string (nullable = true)\n",
      " |-- board_lat: double (nullable = true)\n",
      " |-- board_lon: double (nullable = true)\n",
      " |-- board_country_code: string (nullable = true)\n",
      " |-- board_continent_code: string (nullable = true)\n",
      " |-- off_point: string (nullable = true)\n",
      " |-- off_lat: double (nullable = true)\n",
      " |-- off_lon: double (nullable = true)\n",
      " |-- off_country_code: string (nullable = true)\n",
      " |-- off_continent_code: string (nullable = true)\n",
      " |-- distance_seg: double (nullable = true)\n",
      " |-- route: string (nullable = true)\n",
      " |-- network: string (nullable = true)\n",
      " |-- airline_code_seg: string (nullable = true)\n",
      " |-- flight_number_seg: string (nullable = true)\n",
      " |-- flight_type: string (nullable = true)\n",
      " |-- revenue_amount_seg: double (nullable = true)\n",
      " |-- emd_count: integer (nullable = true)\n",
      " |-- emd_amount: double (nullable = true)\n",
      " |-- fuel_surcharge_amount_seg: double (nullable = true)\n",
      "\n"
     ]
    }
   ],
   "source": [
    "df.printSchema()"
   ]
  },
  {
   "cell_type": "code",
   "execution_count": 14,
   "metadata": {
    "collapsed": true
   },
   "outputs": [
    {
     "name": "stdout",
     "output_type": "stream",
     "text": [
      "+------+-------------+------+----+-------------+-------------+---------------+----------------+-----------+-----------------+--------------+---------------+-----------------+----------+-----------------+----------------+------------------------+----------+------------------+------------+-------------+--------------------+-------------+--------------------+----------------+-----------------+-------------------+----------------+-----------------+-----------+-----------+--------------------+----------------------+--------------------+-------------------+--------------+----------------------+-------------+---------------+------------+-------------+---------+--------+----------------+------------------+----------------+-----------+---------+---------+------------------+--------------------+---------+--------+--------+----------------+------------------+-----------------+-------+-------+----------------+-----------------+-----------+------------------+---------+----------+-------------------------+\n",
      "|  rloc|    full_name|gender| age|date_of_birth|document_type|document_number|document_country|nationality|        fqtv_data|general_status|boarding_status|acceptance_status|bag_status|customer_accepted|checkin_location|boarded_in_all_legs_flag|cabin_code|booking_class_code|airline_code|flight_number|  departure_date_leg|quality_index|       creation_date|advance_purchase|creator_office_id|creator_iata_number|creator_gds_code|creator_city_code|creator_lat|creator_lon|creator_country_code|creator_continent_name|creator_channel_code|booking_status_code|cabin_code_seg|booking_class_code_seg|pos_office_id|pos_iata_number|pos_gds_code|pos_city_code|  pos_lat| pos_lon|pos_country_code|pos_continent_code|pos_channel_code|board_point|board_lat|board_lon|board_country_code|board_continent_code|off_point| off_lat| off_lon|off_country_code|off_continent_code|     distance_seg|  route|network|airline_code_seg|flight_number_seg|flight_type|revenue_amount_seg|emd_count|emd_amount|fuel_surcharge_amount_seg|\n",
      "+------+-------------+------+----+-------------+-------------+---------------+----------------+-----------+-----------------+--------------+---------------+-----------------+----------+-----------------+----------------+------------------------+----------+------------------+------------+-------------+--------------------+-------------+--------------------+----------------+-----------------+-------------------+----------------+-----------------+-----------+-----------+--------------------+----------------------+--------------------+-------------------+--------------+----------------------+-------------+---------------+------------+-------------+---------+--------+----------------+------------------+----------------+-----------+---------+---------+------------------+--------------------+---------+--------+--------+----------------+------------------+-----------------+-------+-------+----------------+-----------------+-----------+------------------+---------+----------+-------------------------+\n",
      "|60Z666|   /MUZASDQUE|     F|null|         null|         null|           null|            null|       null|016037921MK/BXGE/|            FD|             CL|               FI|        IG|              CAC|               W|                    true|         Y|                 W|          XX|         2075|2013-06-23 00:00:...|          0.5|2015-05-03 00:00:...|              49|        LEUXXMM42|           56495383|              XX|              LEU|  42.338611|   1.409167|                  ES|                Europe|                   E|                 HK|             Y|                     W|    LEUXXMM42|       56495383|          M5|          LEU|42.338611|1.409167|              ES|            Europe|               E|        MRV| 44.21028| 43.13528|                RU|              Europe|      BRU|50.85045| 4.34878|              BE|            Europe|2967.076044145874|BRU-MRV| Europe|              XX|             2075|          I|               0.0|     null|      null|                     42.0|\n",
      "|612666|Z/MZFFUFGDGZQ|     M|null|         null|         null|           null|            null|       null|014452709MK/BXGE/|            FD|             CL|               FI|        IG|              CAC|            null|                    true|         Y|                 O|          XX|         9160|2014-04-01 00:00:...|          0.5|2016-03-23 00:00:...|               6|        LEUXXMM42|           56495383|              XX|              LEU|  42.338611|   1.409167|                  ES|                Europe|                   E|                 HK|             Y|                     O|    LEUXXMM42|       56495383|          44|          LEU|42.338611|1.409167|              ES|            Europe|               E|        BRU| 50.85045|  4.34878|                BE|              Europe|      LNZ|48.30639|14.28611|              AT|            Europe|769.5353415995593|BRU-LNZ| Europe|              XX|             9160|          I|             74.99|     null|      null|                    39.12|\n",
      "+------+-------------+------+----+-------------+-------------+---------------+----------------+-----------+-----------------+--------------+---------------+-----------------+----------+-----------------+----------------+------------------------+----------+------------------+------------+-------------+--------------------+-------------+--------------------+----------------+-----------------+-------------------+----------------+-----------------+-----------+-----------+--------------------+----------------------+--------------------+-------------------+--------------+----------------------+-------------+---------------+------------+-------------+---------+--------+----------------+------------------+----------------+-----------+---------+---------+------------------+--------------------+---------+--------+--------+----------------+------------------+-----------------+-------+-------+----------------+-----------------+-----------+------------------+---------+----------+-------------------------+\n",
      "only showing top 2 rows\n",
      "\n"
     ]
    }
   ],
   "source": [
    "df.show(2, truncate=True)"
   ]
  },
  {
   "cell_type": "code",
   "execution_count": 17,
   "metadata": {
    "collapsed": true
   },
   "outputs": [
    {
     "data": {
      "text/plain": [
       "(66,\n",
       " ['rloc',\n",
       "  'full_name',\n",
       "  'gender',\n",
       "  'age',\n",
       "  'date_of_birth',\n",
       "  'document_type',\n",
       "  'document_number',\n",
       "  'document_country',\n",
       "  'nationality',\n",
       "  'fqtv_data',\n",
       "  'general_status',\n",
       "  'boarding_status',\n",
       "  'acceptance_status',\n",
       "  'bag_status',\n",
       "  'customer_accepted',\n",
       "  'checkin_location',\n",
       "  'boarded_in_all_legs_flag',\n",
       "  'cabin_code',\n",
       "  'booking_class_code',\n",
       "  'airline_code',\n",
       "  'flight_number',\n",
       "  'departure_date_leg',\n",
       "  'quality_index',\n",
       "  'creation_date',\n",
       "  'advance_purchase',\n",
       "  'creator_office_id',\n",
       "  'creator_iata_number',\n",
       "  'creator_gds_code',\n",
       "  'creator_city_code',\n",
       "  'creator_lat',\n",
       "  'creator_lon',\n",
       "  'creator_country_code',\n",
       "  'creator_continent_name',\n",
       "  'creator_channel_code',\n",
       "  'booking_status_code',\n",
       "  'cabin_code_seg',\n",
       "  'booking_class_code_seg',\n",
       "  'pos_office_id',\n",
       "  'pos_iata_number',\n",
       "  'pos_gds_code',\n",
       "  'pos_city_code',\n",
       "  'pos_lat',\n",
       "  'pos_lon',\n",
       "  'pos_country_code',\n",
       "  'pos_continent_code',\n",
       "  'pos_channel_code',\n",
       "  'board_point',\n",
       "  'board_lat',\n",
       "  'board_lon',\n",
       "  'board_country_code',\n",
       "  'board_continent_code',\n",
       "  'off_point',\n",
       "  'off_lat',\n",
       "  'off_lon',\n",
       "  'off_country_code',\n",
       "  'off_continent_code',\n",
       "  'distance_seg',\n",
       "  'route',\n",
       "  'network',\n",
       "  'airline_code_seg',\n",
       "  'flight_number_seg',\n",
       "  'flight_type',\n",
       "  'revenue_amount_seg',\n",
       "  'emd_count',\n",
       "  'emd_amount',\n",
       "  'fuel_surcharge_amount_seg'])"
      ]
     },
     "execution_count": 17,
     "metadata": {},
     "output_type": "execute_result"
    }
   ],
   "source": [
    "len(df.columns), df.columns"
   ]
  },
  {
   "cell_type": "code",
   "execution_count": 12,
   "metadata": {
    "collapsed": false,
    "scrolled": true
   },
   "outputs": [
    {
     "name": "stdout",
     "output_type": "stream",
     "text": [
      "+------+----+\n",
      "|gender| age|\n",
      "+------+----+\n",
      "|     F|null|\n",
      "|     M|null|\n",
      "|     M|  33|\n",
      "|     F|  40|\n",
      "|     F|null|\n",
      "+------+----+\n",
      "only showing top 5 rows\n",
      "\n"
     ]
    }
   ],
   "source": [
    "df.select('gender', 'age').show(5)"
   ]
  },
  {
   "cell_type": "code",
   "execution_count": 18,
   "metadata": {
    "collapsed": false
   },
   "outputs": [
    {
     "name": "stdout",
     "output_type": "stream",
     "text": [
      "+------+\n",
      "|  rloc|\n",
      "+------+\n",
      "|60Z666|\n",
      "|612666|\n",
      "|818666|\n",
      "|827666|\n",
      "|8PD666|\n",
      "+------+\n",
      "only showing top 5 rows\n",
      "\n"
     ]
    }
   ],
   "source": [
    "df.select('rloc').show(5)"
   ]
  },
  {
   "cell_type": "code",
   "execution_count": 13,
   "metadata": {
    "collapsed": false
   },
   "outputs": [
    {
     "name": "stdout",
     "output_type": "stream",
     "text": [
      "+---------------+\n",
      "|Document_number|\n",
      "+---------------+\n",
      "|           null|\n",
      "|           null|\n",
      "|      39939WV44|\n",
      "|       5719T651|\n",
      "|           null|\n",
      "+---------------+\n",
      "only showing top 5 rows\n",
      "\n"
     ]
    }
   ],
   "source": [
    "df.select('Document_number').show(5)"
   ]
  },
  {
   "cell_type": "code",
   "execution_count": 10,
   "metadata": {
    "collapsed": false
   },
   "outputs": [],
   "source": [
    "import pandas as pd\n",
    "import requests"
   ]
  },
  {
   "cell_type": "code",
   "execution_count": 23,
   "metadata": {
    "collapsed": false
   },
   "outputs": [
    {
     "name": "stdout",
     "output_type": "stream",
     "text": [
      "+------+-----+\n",
      "|  rloc|count|\n",
      "+------+-----+\n",
      "|MW0669|    2|\n",
      "|DKA66P|    4|\n",
      "|MIJ66V|    2|\n",
      "|ARB66H|    4|\n",
      "|9KS66J|    2|\n",
      "|NFB66J|    8|\n",
      "|ZJD66K|    8|\n",
      "|JFB676|    4|\n",
      "|JWJ670|    4|\n",
      "|KW3670|    6|\n",
      "+------+-----+\n",
      "only showing top 10 rows\n",
      "\n"
     ]
    }
   ],
   "source": [
    "df.groupBy('rloc').count().show(10)"
   ]
  },
  {
   "cell_type": "code",
   "execution_count": 11,
   "metadata": {
    "collapsed": true
   },
   "outputs": [],
   "source": [
    "from pyspark.sql import *\n",
    "from pyspark.sql.functions import *"
   ]
  },
  {
   "cell_type": "code",
   "execution_count": 28,
   "metadata": {
    "collapsed": false
   },
   "outputs": [
    {
     "name": "stdout",
     "output_type": "stream",
     "text": [
      "+--------------------+\n",
      "|count(DISTINCT rloc)|\n",
      "+--------------------+\n",
      "|             2605835|\n",
      "+--------------------+\n",
      "\n"
     ]
    }
   ],
   "source": [
    "df.agg(countDistinct(df.rloc)).show()"
   ]
  },
  {
   "cell_type": "code",
   "execution_count": 13,
   "metadata": {
    "collapsed": false
   },
   "outputs": [
    {
     "data": {
      "text/plain": [
       "2636677"
      ]
     },
     "execution_count": 13,
     "metadata": {},
     "output_type": "execute_result"
    }
   ],
   "source": [
    "#contamos el número de billetes existente (hay muchos null)\n",
    "df.filter(df.document_number.isNotNull()).count()"
   ]
  },
  {
   "cell_type": "markdown",
   "metadata": {},
   "source": [
    "# Cleansing and preparing the dataset"
   ]
  },
  {
   "cell_type": "code",
   "execution_count": 16,
   "metadata": {
    "collapsed": true
   },
   "outputs": [],
   "source": [
    "#creamos el dataframe vuelos\n",
    "df.createOrReplaceTempView(\"vuelos\")"
   ]
  },
  {
   "cell_type": "code",
   "execution_count": 17,
   "metadata": {
    "collapsed": false
   },
   "outputs": [],
   "source": [
    "#contamos el número de billetes existente (hay muchos null)\n",
    "sqlDF = sqlContext.sql(\"SELECT COUNT(document_number) FROM vuelos WHERE document_number IS NOT NULL\")"
   ]
  },
  {
   "cell_type": "code",
   "execution_count": 34,
   "metadata": {
    "collapsed": false
   },
   "outputs": [
    {
     "name": "stdout",
     "output_type": "stream",
     "text": [
      "+----------------------+\n",
      "|count(document_number)|\n",
      "+----------------------+\n",
      "|               2636677|\n",
      "+----------------------+\n",
      "\n"
     ]
    }
   ],
   "source": [
    "sqlDF.show()"
   ]
  },
  {
   "cell_type": "code",
   "execution_count": 18,
   "metadata": {
    "collapsed": true
   },
   "outputs": [],
   "source": [
    "sqlDF = sqlContext.sql(\"SELECT COUNT(*), COUNT(DISTINCT rloc) FROM vuelos\")"
   ]
  },
  {
   "cell_type": "code",
   "execution_count": 36,
   "metadata": {
    "collapsed": false
   },
   "outputs": [
    {
     "name": "stdout",
     "output_type": "stream",
     "text": [
      "+--------+--------------------+\n",
      "|count(1)|count(DISTINCT rloc)|\n",
      "+--------+--------------------+\n",
      "| 9546302|             2605835|\n",
      "+--------+--------------------+\n",
      "\n"
     ]
    }
   ],
   "source": [
    "sqlDF.show()"
   ]
  },
  {
   "cell_type": "code",
   "execution_count": 19,
   "metadata": {
    "collapsed": true
   },
   "outputs": [],
   "source": [
    "#departure_date_leg count\n",
    "sqlDF = sqlContext.sql(\"SELECT COUNT(departure_date_leg) FROM vuelos\")"
   ]
  },
  {
   "cell_type": "code",
   "execution_count": 38,
   "metadata": {
    "collapsed": false
   },
   "outputs": [
    {
     "name": "stdout",
     "output_type": "stream",
     "text": [
      "+-------------------------+\n",
      "|count(departure_date_leg)|\n",
      "+-------------------------+\n",
      "|                  9546300|\n",
      "+-------------------------+\n",
      "\n"
     ]
    }
   ],
   "source": [
    "sqlDF.show()"
   ]
  },
  {
   "cell_type": "code",
   "execution_count": 20,
   "metadata": {
    "collapsed": false
   },
   "outputs": [],
   "source": [
    "df.createOrReplaceTempView(\"fechas_salida_vuelos\")"
   ]
  },
  {
   "cell_type": "code",
   "execution_count": 21,
   "metadata": {
    "collapsed": false
   },
   "outputs": [],
   "source": [
    "#departure_date_leg count\n",
    "\n",
    "sqlDF = sqlContext.sql(sqlQuery=\"select departure_date_leg, count(*)\\\n",
    "from vuelos group by departure_date_leg order by 1\")"
   ]
  },
  {
   "cell_type": "code",
   "execution_count": 92,
   "metadata": {
    "collapsed": true
   },
   "outputs": [
    {
     "name": "stdout",
     "output_type": "stream",
     "text": [
      "+--------------------+--------+\n",
      "|  departure_date_leg|count(1)|\n",
      "+--------------------+--------+\n",
      "|2014-07-14 00:00:...|       1|\n",
      "|2014-06-04 00:00:...|       1|\n",
      "|2014-05-02 00:00:...|       1|\n",
      "|2014-04-30 00:00:...|       2|\n",
      "|2014-04-29 00:00:...|       1|\n",
      "|2014-04-26 00:00:...|       6|\n",
      "|2014-04-14 00:00:...|       7|\n",
      "|2014-04-13 00:00:...|       1|\n",
      "|2014-04-12 00:00:...|       4|\n",
      "|2014-04-11 00:00:...|       3|\n",
      "|2014-04-10 00:00:...|       3|\n",
      "|2014-04-09 00:00:...|      28|\n",
      "|2014-04-08 00:00:...|    9273|\n",
      "|2014-04-07 00:00:...|   12259|\n",
      "|2014-04-06 00:00:...|   14274|\n",
      "|2014-04-05 00:00:...|   13120|\n",
      "|2014-04-04 00:00:...|   20702|\n",
      "|2014-04-03 00:00:...|   19973|\n",
      "|2014-04-02 00:00:...|   17897|\n",
      "|2014-04-01 00:00:...|   16563|\n",
      "|2014-03-31 00:00:...|   19681|\n",
      "|2014-03-30 00:00:...|   20607|\n",
      "|2014-03-29 00:00:...|   18637|\n",
      "|2014-03-28 00:00:...|   23506|\n",
      "|2014-03-27 00:00:...|   22086|\n",
      "|2014-03-26 00:00:...|   19947|\n",
      "|2014-03-25 00:00:...|   18963|\n",
      "|2014-03-24 00:00:...|   21594|\n",
      "|2014-03-23 00:00:...|   21193|\n",
      "|2014-03-22 00:00:...|   20174|\n",
      "|2014-03-21 00:00:...|   24563|\n",
      "|2014-03-20 00:00:...|   22819|\n",
      "|2014-03-19 00:00:...|   20728|\n",
      "|2014-03-18 00:00:...|   19215|\n",
      "|2014-03-17 00:00:...|   21845|\n",
      "|2014-03-16 00:00:...|   21312|\n",
      "|2014-03-15 00:00:...|   19800|\n",
      "|2014-03-14 00:00:...|   25050|\n",
      "|2014-03-13 00:00:...|   22222|\n",
      "|2014-03-12 00:00:...|   20236|\n",
      "|2014-03-11 00:00:...|   18877|\n",
      "|2014-03-10 00:00:...|   22102|\n",
      "|2014-03-09 00:00:...|   21742|\n",
      "|2014-03-08 00:00:...|   20659|\n",
      "|2014-03-07 00:00:...|   24400|\n",
      "|2014-03-06 00:00:...|   21237|\n",
      "|2014-03-05 00:00:...|   19613|\n",
      "|2014-03-04 00:00:...|   17233|\n",
      "|2014-03-03 00:00:...|   21044|\n",
      "|2014-03-02 00:00:...|   21023|\n",
      "|2014-03-01 00:00:...|   20747|\n",
      "|2014-02-28 00:00:...|   25293|\n",
      "|2014-02-27 00:00:...|   22003|\n",
      "|2014-02-26 00:00:...|   18957|\n",
      "|2014-02-25 00:00:...|   17596|\n",
      "|2014-02-24 00:00:...|   21418|\n",
      "|2014-02-23 00:00:...|   21989|\n",
      "|2014-02-22 00:00:...|   22263|\n",
      "|2014-02-21 00:00:...|   24954|\n",
      "|2014-02-20 00:00:...|   21594|\n",
      "|2014-02-19 00:00:...|   19436|\n",
      "|2014-02-18 00:00:...|   16892|\n",
      "|2014-02-17 00:00:...|   20436|\n",
      "|2014-02-16 00:00:...|   21702|\n",
      "|2014-02-15 00:00:...|   20043|\n",
      "|2014-02-14 00:00:...|   23740|\n",
      "|2014-02-13 00:00:...|   21609|\n",
      "|2014-02-12 00:00:...|   20191|\n",
      "|2014-02-11 00:00:...|   17536|\n",
      "|2014-02-10 00:00:...|   19986|\n",
      "|2014-02-09 00:00:...|   19410|\n",
      "|2014-02-08 00:00:...|   17022|\n",
      "|2014-02-07 00:00:...|   22842|\n",
      "|2014-02-06 00:00:...|   20211|\n",
      "|2014-02-05 00:00:...|   19296|\n",
      "|2014-02-04 00:00:...|   17891|\n",
      "|2014-02-03 00:00:...|   18775|\n",
      "|2014-02-02 00:00:...|   18174|\n",
      "|2014-02-01 00:00:...|   15826|\n",
      "|2014-01-31 00:00:...|   21025|\n",
      "|2014-01-30 00:00:...|   19390|\n",
      "|2014-01-29 00:00:...|   18669|\n",
      "|2014-01-28 00:00:...|   16417|\n",
      "|2014-01-27 00:00:...|   17277|\n",
      "|2014-01-26 00:00:...|   17521|\n",
      "|2014-01-25 00:00:...|   16151|\n",
      "|2014-01-24 00:00:...|   21777|\n",
      "|2014-01-23 00:00:...|   18927|\n",
      "|2014-01-22 00:00:...|   17261|\n",
      "|2014-01-21 00:00:...|   15768|\n",
      "|2014-01-20 00:00:...|   17260|\n",
      "|2014-01-19 00:00:...|   17638|\n",
      "|2014-01-18 00:00:...|   15129|\n",
      "|2014-01-17 00:00:...|   20677|\n",
      "|2014-01-16 00:00:...|   19530|\n",
      "|2014-01-15 00:00:...|   18782|\n",
      "|2014-01-14 00:00:...|   16345|\n",
      "|2014-01-13 00:00:...|   17667|\n",
      "|2014-01-12 00:00:...|   16497|\n",
      "|2014-01-11 00:00:...|   15040|\n",
      "|2014-01-10 00:00:...|   19421|\n",
      "|2014-01-09 00:00:...|   17833|\n",
      "|2014-01-08 00:00:...|   18055|\n",
      "|2014-01-07 00:00:...|   18906|\n",
      "|2014-01-06 00:00:...|   18795|\n",
      "|2014-01-05 00:00:...|   18438|\n",
      "|2014-01-04 00:00:...|   18774|\n",
      "|2014-01-03 00:00:...|   20792|\n",
      "|2014-01-02 00:00:...|   18630|\n",
      "|2014-01-01 00:00:...|   14741|\n",
      "|2013-12-31 00:00:...|   10419|\n",
      "|2013-12-30 00:00:...|   20311|\n",
      "|2013-12-29 00:00:...|   19899|\n",
      "|2013-12-28 00:00:...|   19679|\n",
      "|2013-12-27 00:00:...|   22229|\n",
      "|2013-12-26 00:00:...|   19154|\n",
      "|2013-12-25 00:00:...|    2710|\n",
      "|2013-12-24 00:00:...|    4182|\n",
      "|2013-12-23 00:00:...|   19115|\n",
      "|2013-12-22 00:00:...|   20288|\n",
      "|2013-12-21 00:00:...|   19673|\n",
      "|2013-12-20 00:00:...|   24371|\n",
      "|2013-12-19 00:00:...|   21890|\n",
      "|2013-12-18 00:00:...|   19953|\n",
      "|2013-12-17 00:00:...|   17333|\n",
      "|2013-12-16 00:00:...|   20313|\n",
      "|2013-12-15 00:00:...|   17133|\n",
      "|2013-12-14 00:00:...|   15864|\n",
      "|2013-12-13 00:00:...|   21857|\n",
      "|2013-12-12 00:00:...|   21199|\n",
      "|2013-12-11 00:00:...|   19870|\n",
      "|2013-12-10 00:00:...|   19118|\n",
      "|2013-12-09 00:00:...|   23537|\n",
      "|2013-12-08 00:00:...|   19413|\n",
      "|2013-12-07 00:00:...|   15673|\n",
      "|2013-12-06 00:00:...|   20050|\n",
      "|2013-12-05 00:00:...|   22243|\n",
      "|2013-12-04 00:00:...|   19817|\n",
      "|2013-12-03 00:00:...|   17264|\n",
      "|2013-12-02 00:00:...|   20155|\n",
      "|2013-12-01 00:00:...|   18457|\n",
      "|2013-11-30 00:00:...|   14911|\n",
      "|2013-11-29 00:00:...|   22447|\n",
      "|2013-11-28 00:00:...|   20420|\n",
      "|2013-11-27 00:00:...|   18921|\n",
      "|2013-11-26 00:00:...|   17003|\n",
      "|2013-11-25 00:00:...|   19403|\n",
      "|2013-11-24 00:00:...|   18044|\n",
      "|2013-11-23 00:00:...|   14336|\n",
      "|2013-11-22 00:00:...|   21008|\n",
      "+--------------------+--------+\n",
      "only showing top 150 rows\n",
      "\n"
     ]
    }
   ],
   "source": [
    "sqlDF.orderBy(desc(\"departure_date_leg\")).show(150)\n",
    "#selecciono hasta el 01/01/2014 "
   ]
  },
  {
   "cell_type": "code",
   "execution_count": 83,
   "metadata": {
    "collapsed": true
   },
   "outputs": [
    {
     "name": "stdout",
     "output_type": "stream",
     "text": [
      "+--------------------+--------+\n",
      "|  departure_date_leg|count(1)|\n",
      "+--------------------+--------+\n",
      "|                null|       2|\n",
      "|2012-06-27 00:00:...|       1|\n",
      "|2012-07-05 00:00:...|       2|\n",
      "|2012-07-12 00:00:...|       2|\n",
      "|2012-07-14 00:00:...|       2|\n",
      "|2012-07-15 00:00:...|       2|\n",
      "|2012-07-19 00:00:...|       1|\n",
      "|2012-07-22 00:00:...|       1|\n",
      "|2012-07-23 00:00:...|       2|\n",
      "|2012-08-01 00:00:...|       4|\n",
      "|2012-08-03 00:00:...|       1|\n",
      "|2012-08-06 00:00:...|      32|\n",
      "|2012-08-09 00:00:...|       1|\n",
      "|2012-08-16 00:00:...|       5|\n",
      "|2012-08-20 00:00:...|       4|\n",
      "|2012-08-23 00:00:...|       1|\n",
      "|2012-08-24 00:00:...|       1|\n",
      "|2012-08-30 00:00:...|       2|\n",
      "|2012-09-03 00:00:...|       1|\n",
      "|2012-09-04 00:00:...|       4|\n",
      "|2012-09-10 00:00:...|       2|\n",
      "|2012-09-12 00:00:...|       1|\n",
      "|2012-09-15 00:00:...|       2|\n",
      "|2012-09-16 00:00:...|       2|\n",
      "|2012-09-18 00:00:...|       2|\n",
      "|2012-09-19 00:00:...|       1|\n",
      "|2012-09-20 00:00:...|       3|\n",
      "|2012-09-30 00:00:...|       2|\n",
      "|2012-10-06 00:00:...|       2|\n",
      "|2012-10-30 00:00:...|       2|\n",
      "|2012-10-31 00:00:...|       2|\n",
      "|2012-11-02 00:00:...|       2|\n",
      "|2012-11-03 00:00:...|       2|\n",
      "|2012-11-04 00:00:...|       1|\n",
      "|2012-11-06 00:00:...|       2|\n",
      "|2012-11-08 00:00:...|       2|\n",
      "|2012-11-14 00:00:...|       5|\n",
      "|2012-11-16 00:00:...|       2|\n",
      "|2012-11-18 00:00:...|       2|\n",
      "|2012-11-20 00:00:...|       4|\n",
      "|2012-11-21 00:00:...|       1|\n",
      "|2012-11-23 00:00:...|       2|\n",
      "|2012-11-25 00:00:...|       2|\n",
      "|2012-11-29 00:00:...|       2|\n",
      "|2012-11-30 00:00:...|       2|\n",
      "|2012-12-03 00:00:...|       2|\n",
      "|2012-12-04 00:00:...|      13|\n",
      "|2012-12-05 00:00:...|       1|\n",
      "|2012-12-07 00:00:...|       1|\n",
      "|2012-12-08 00:00:...|       1|\n",
      "|2012-12-09 00:00:...|       2|\n",
      "|2012-12-10 00:00:...|       3|\n",
      "|2012-12-11 00:00:...|       5|\n",
      "|2012-12-13 00:00:...|       8|\n",
      "|2012-12-14 00:00:...|       6|\n",
      "|2012-12-15 00:00:...|      12|\n",
      "|2012-12-16 00:00:...|       1|\n",
      "|2012-12-17 00:00:...|       7|\n",
      "|2012-12-18 00:00:...|       7|\n",
      "|2012-12-19 00:00:...|      32|\n",
      "|2012-12-20 00:00:...|      15|\n",
      "|2012-12-21 00:00:...|       6|\n",
      "|2012-12-22 00:00:...|       5|\n",
      "|2012-12-23 00:00:...|       1|\n",
      "|2012-12-24 00:00:...|       1|\n",
      "|2012-12-25 00:00:...|       1|\n",
      "|2012-12-26 00:00:...|      19|\n",
      "|2012-12-27 00:00:...|      23|\n",
      "|2012-12-28 00:00:...|      11|\n",
      "|2012-12-29 00:00:...|      30|\n",
      "|2012-12-30 00:00:...|    3622|\n",
      "|2012-12-31 00:00:...|    4451|\n",
      "|2013-01-01 00:00:...|   14033|\n",
      "|2013-01-02 00:00:...|   19776|\n",
      "|2013-01-03 00:00:...|   19195|\n",
      "|2013-01-04 00:00:...|   19890|\n",
      "|2013-01-05 00:00:...|   17158|\n",
      "|2013-01-06 00:00:...|   17824|\n",
      "|2013-01-07 00:00:...|   19867|\n",
      "|2013-01-08 00:00:...|   17037|\n",
      "|2013-01-09 00:00:...|   15962|\n",
      "|2013-01-10 00:00:...|   17566|\n",
      "|2013-01-11 00:00:...|   18278|\n",
      "|2013-01-12 00:00:...|   15338|\n",
      "|2013-01-13 00:00:...|   16741|\n",
      "|2013-01-14 00:00:...|   17221|\n",
      "|2013-01-15 00:00:...|   16083|\n",
      "|2013-01-16 00:00:...|   17617|\n",
      "|2013-01-17 00:00:...|   18738|\n",
      "|2013-01-18 00:00:...|   19551|\n",
      "|2013-01-19 00:00:...|   16189|\n",
      "|2013-01-20 00:00:...|   17719|\n",
      "|2013-01-21 00:00:...|   18913|\n",
      "|2013-01-22 00:00:...|   16756|\n",
      "|2013-01-23 00:00:...|   17593|\n",
      "|2013-01-24 00:00:...|   19210|\n",
      "|2013-01-25 00:00:...|   20886|\n",
      "|2013-01-26 00:00:...|   17667|\n",
      "|2013-01-27 00:00:...|   18648|\n",
      "|2013-01-28 00:00:...|   19375|\n",
      "+--------------------+--------+\n",
      "only showing top 100 rows\n",
      "\n"
     ]
    }
   ],
   "source": [
    "sqlDF.orderBy(asc(\"departure_date_leg\")).show(100)\n",
    "#veo que a partir del 01/01/2013 hay más volumen de datos"
   ]
  },
  {
   "cell_type": "code",
   "execution_count": 22,
   "metadata": {
    "collapsed": false
   },
   "outputs": [
    {
     "name": "stdout",
     "output_type": "stream",
     "text": [
      "+------------------------------+\n",
      "|last(departure_date_leg, true)|\n",
      "+------------------------------+\n",
      "|          2014-07-14 00:00:...|\n",
      "+------------------------------+\n",
      "\n"
     ]
    }
   ],
   "source": [
    "sqlDF.select(last('departure_date_leg', ignorenulls=True)).show()"
   ]
  },
  {
   "cell_type": "code",
   "execution_count": 82,
   "metadata": {
    "collapsed": false
   },
   "outputs": [
    {
     "name": "stdout",
     "output_type": "stream",
     "text": [
      "+-------------------------------+\n",
      "|first(departure_date_leg, true)|\n",
      "+-------------------------------+\n",
      "|           2012-06-27 00:00:...|\n",
      "+-------------------------------+\n",
      "\n"
     ]
    }
   ],
   "source": [
    "sqlDF.select(first('departure_date_leg', ignorenulls=True)).show()"
   ]
  },
  {
   "cell_type": "code",
   "execution_count": null,
   "metadata": {
    "collapsed": true
   },
   "outputs": [],
   "source": [
    "fechas_vuelos = df.groupBy(df['departure_date_leg']).count().toPandas().sort_values(by='count', ascending=False)"
   ]
  },
  {
   "cell_type": "code",
   "execution_count": null,
   "metadata": {
    "collapsed": true
   },
   "outputs": [],
   "source": [
    "vuelos_por_fecha = pd.DataFrame(fechas_vuelos)"
   ]
  },
  {
   "cell_type": "code",
   "execution_count": 23,
   "metadata": {
    "collapsed": false
   },
   "outputs": [],
   "source": [
    "vuelos_por_fecha.sort_values('count')"
   ]
  },
  {
   "cell_type": "code",
   "execution_count": null,
   "metadata": {
    "collapsed": true
   },
   "outputs": [],
   "source": [
    "#vemos dónde empieza a haber un volumen de datos más homogéneo\n",
    "vuelos_por_fecha.nsmallest(100, 'count')"
   ]
  },
  {
   "cell_type": "code",
   "execution_count": null,
   "metadata": {
    "collapsed": true
   },
   "outputs": [],
   "source": [
    "vuelos_por_fecha.nlargest(150, 'count')"
   ]
  },
  {
   "cell_type": "code",
   "execution_count": 104,
   "metadata": {
    "collapsed": false
   },
   "outputs": [],
   "source": [
    "#acotamos los datos al rango de fechas con un volumen homogéneo\n",
    "sqlDF2 = sqlContext.sql(sqlQuery=\"select * from vuelos where departure_date_leg between '2013-01-01' and '2014-01-01'\\\n",
    "and document_number is not null \\\n",
    "and booking_status_code='HK'\\\n",
    "and quality_index = 1\")"
   ]
  },
  {
   "cell_type": "code",
   "execution_count": 115,
   "metadata": {
    "collapsed": false
   },
   "outputs": [],
   "source": [
    "sqlDF2.registerTempTable(\"vuelos_clientes\")"
   ]
  },
  {
   "cell_type": "code",
   "execution_count": 111,
   "metadata": {
    "collapsed": false
   },
   "outputs": [
    {
     "data": {
      "text/plain": [
       "526851"
      ]
     },
     "execution_count": 111,
     "metadata": {},
     "output_type": "execute_result"
    }
   ],
   "source": [
    "sqlDF2.count()"
   ]
  },
  {
   "cell_type": "code",
   "execution_count": 113,
   "metadata": {
    "collapsed": false
   },
   "outputs": [
    {
     "name": "stdout",
     "output_type": "stream",
     "text": [
      "+-------------------------------+\n",
      "|count(DISTINCT document_number)|\n",
      "+-------------------------------+\n",
      "|                         175817|\n",
      "+-------------------------------+\n",
      "\n"
     ]
    }
   ],
   "source": [
    "sqlDF2.agg(countDistinct(sqlDF2.document_number)).show()"
   ]
  },
  {
   "cell_type": "code",
   "execution_count": 114,
   "metadata": {
    "collapsed": false
   },
   "outputs": [
    {
     "name": "stdout",
     "output_type": "stream",
     "text": [
      "+---------------+-----+\n",
      "|document_number|count|\n",
      "+---------------+-----+\n",
      "|      66289BS28|    2|\n",
      "|      708061476|    4|\n",
      "|      20571FT30|    3|\n",
      "|       69155025|    2|\n",
      "|      991926414|    2|\n",
      "|       78642406|    4|\n",
      "|      97657BL93|   15|\n",
      "|       41748915|    3|\n",
      "|      31068BM21|    2|\n",
      "|      15064BY96|    2|\n",
      "+---------------+-----+\n",
      "only showing top 10 rows\n",
      "\n"
     ]
    }
   ],
   "source": [
    "sqlDF2.groupBy('document_number').count().show(10)"
   ]
  },
  {
   "cell_type": "code",
   "execution_count": 116,
   "metadata": {
    "collapsed": true
   },
   "outputs": [],
   "source": [
    "#documentos únicos\n",
    "sqlDF3 = sqlContext.sql(sqlQuery=\"select document_number, count(*) \\\n",
    "from (select document_number, gender, date_of_birth, nationality, count(*) as count \\\n",
    "from vuelos_clientes group by document_number, gender, date_of_birth, nationality) as a group by document_number \\\n",
    "having count(*)=1\")\n"
   ]
  },
  {
   "cell_type": "code",
   "execution_count": 117,
   "metadata": {
    "collapsed": false
   },
   "outputs": [
    {
     "name": "stdout",
     "output_type": "stream",
     "text": [
      "+---------------+-----+\n",
      "|document_number|count|\n",
      "+---------------+-----+\n",
      "|       78642406|    1|\n",
      "|       2828Y769|    1|\n",
      "|      XP325ZZ17|    1|\n",
      "|      33772PI56|    1|\n",
      "|      02376W459|    1|\n",
      "|      29318BV96|    1|\n",
      "|      9115254OW|    1|\n",
      "|      770625469|    1|\n",
      "|      71263FW84|    1|\n",
      "|      08869BO31|    1|\n",
      "+---------------+-----+\n",
      "only showing top 10 rows\n",
      "\n"
     ]
    }
   ],
   "source": [
    "#vemos que ya no hay documentos duplicados\n",
    "sqlDF3.groupBy('document_number').count().show(10)"
   ]
  },
  {
   "cell_type": "code",
   "execution_count": 118,
   "metadata": {
    "collapsed": false,
    "scrolled": true
   },
   "outputs": [
    {
     "data": {
      "text/plain": [
       "175333"
      ]
     },
     "execution_count": 118,
     "metadata": {},
     "output_type": "execute_result"
    }
   ],
   "source": [
    "sqlDF3.count()"
   ]
  },
  {
   "cell_type": "code",
   "execution_count": 119,
   "metadata": {
    "collapsed": true
   },
   "outputs": [],
   "source": [
    "sqlDF3.registerTempTable(\"documentos_unicos\")"
   ]
  },
  {
   "cell_type": "code",
   "execution_count": 159,
   "metadata": {
    "collapsed": false
   },
   "outputs": [],
   "source": [
    "sqlDF4 = sqlContext.sql(sqlQuery = \"select a.* from vuelos_clientes \\\n",
    "as a inner join documentos_unicos as b on a.document_number = b.document_number\")"
   ]
  },
  {
   "cell_type": "code",
   "execution_count": 214,
   "metadata": {
    "collapsed": true
   },
   "outputs": [],
   "source": [
    "sqlDF4.registerTempTable(\"clientes_unicos\")"
   ]
  },
  {
   "cell_type": "code",
   "execution_count": 124,
   "metadata": {
    "collapsed": false
   },
   "outputs": [
    {
     "data": {
      "text/plain": [
       "523541"
      ]
     },
     "execution_count": 124,
     "metadata": {},
     "output_type": "execute_result"
    }
   ],
   "source": [
    "sqlDF4.count()"
   ]
  },
  {
   "cell_type": "code",
   "execution_count": 125,
   "metadata": {
    "collapsed": false
   },
   "outputs": [
    {
     "name": "stdout",
     "output_type": "stream",
     "text": [
      "+-------------------------------+\n",
      "|count(DISTINCT document_number)|\n",
      "+-------------------------------+\n",
      "|                         175333|\n",
      "+-------------------------------+\n",
      "\n"
     ]
    }
   ],
   "source": [
    "sqlDF4.agg(countDistinct(sqlDF4.document_number)).show()"
   ]
  },
  {
   "cell_type": "code",
   "execution_count": 126,
   "metadata": {
    "collapsed": false
   },
   "outputs": [
    {
     "name": "stdout",
     "output_type": "stream",
     "text": [
      "+---------------+-----+\n",
      "|document_number|count|\n",
      "+---------------+-----+\n",
      "|      000744336|    2|\n",
      "|      00152Y444|    2|\n",
      "|      002946569|    4|\n",
      "|      00453BS41|    1|\n",
      "|      00517BF34|    2|\n",
      "|      00714BO74|    2|\n",
      "|      00908BD78|    2|\n",
      "|      01060BK97|    2|\n",
      "|      013178711|    4|\n",
      "|      01651Y243|    4|\n",
      "+---------------+-----+\n",
      "only showing top 10 rows\n",
      "\n"
     ]
    }
   ],
   "source": [
    "sqlDF4.groupBy('document_number').count().show(10)"
   ]
  },
  {
   "cell_type": "markdown",
   "metadata": {},
   "source": [
    "## Preparing the dataframe for the clustering"
   ]
  },
  {
   "cell_type": "code",
   "execution_count": 236,
   "metadata": {
    "collapsed": false
   },
   "outputs": [],
   "source": [
    "#creamos las columnas que nos interesan\n",
    "sqlDF6 = sqlContext.sql(sqlQuery=\"select document_number,\\\n",
    "count(distinct(concat(document_number, ',', rloc))) as frecuency, \\\n",
    "sum(revenue_amount_seg) as money, \\\n",
    "datediff(to_date('2014-01-01 00:00:00'), to_date(max(departure_date_leg))) as recency \\\n",
    "from clientes_unicos group by document_number\")\n",
    "\n"
   ]
  },
  {
   "cell_type": "code",
   "execution_count": 247,
   "metadata": {
    "collapsed": false
   },
   "outputs": [],
   "source": [
    "sqlDF6.registerTempTable('rfm_doc_unicos')"
   ]
  },
  {
   "cell_type": "code",
   "execution_count": 248,
   "metadata": {
    "collapsed": true
   },
   "outputs": [
    {
     "ename": "KeyboardInterrupt",
     "evalue": "",
     "output_type": "error",
     "traceback": [
      "\u001b[0;31m---------------------------------------------------------------------------\u001b[0m",
      "\u001b[0;31mKeyboardInterrupt\u001b[0m                         Traceback (most recent call last)",
      "\u001b[0;32m<ipython-input-248-83b1d45e7b8f>\u001b[0m in \u001b[0;36m<module>\u001b[0;34m()\u001b[0m\n\u001b[0;32m----> 1\u001b[0;31m \u001b[0msqlDF6\u001b[0m\u001b[0;34m.\u001b[0m\u001b[0mselect\u001b[0m\u001b[0;34m(\u001b[0m\u001b[0;34m'frecuency'\u001b[0m\u001b[0;34m,\u001b[0m \u001b[0;34m'recency'\u001b[0m\u001b[0;34m,\u001b[0m \u001b[0;34m'money'\u001b[0m\u001b[0;34m,\u001b[0m \u001b[0;34m'document_number'\u001b[0m\u001b[0;34m)\u001b[0m\u001b[0;34m.\u001b[0m\u001b[0mshow\u001b[0m\u001b[0;34m(\u001b[0m\u001b[0;36m5\u001b[0m\u001b[0;34m)\u001b[0m\u001b[0;34m\u001b[0m\u001b[0m\n\u001b[0m",
      "\u001b[0;32m/Users/Clarita/spark-2.1.0-bin-hadoop2.7/python/pyspark/sql/dataframe.pyc\u001b[0m in \u001b[0;36mshow\u001b[0;34m(self, n, truncate)\u001b[0m\n\u001b[1;32m    316\u001b[0m         \"\"\"\n\u001b[1;32m    317\u001b[0m         \u001b[0;32mif\u001b[0m \u001b[0misinstance\u001b[0m\u001b[0;34m(\u001b[0m\u001b[0mtruncate\u001b[0m\u001b[0;34m,\u001b[0m \u001b[0mbool\u001b[0m\u001b[0;34m)\u001b[0m \u001b[0;32mand\u001b[0m \u001b[0mtruncate\u001b[0m\u001b[0;34m:\u001b[0m\u001b[0;34m\u001b[0m\u001b[0m\n\u001b[0;32m--> 318\u001b[0;31m             \u001b[0;32mprint\u001b[0m\u001b[0;34m(\u001b[0m\u001b[0mself\u001b[0m\u001b[0;34m.\u001b[0m\u001b[0m_jdf\u001b[0m\u001b[0;34m.\u001b[0m\u001b[0mshowString\u001b[0m\u001b[0;34m(\u001b[0m\u001b[0mn\u001b[0m\u001b[0;34m,\u001b[0m \u001b[0;36m20\u001b[0m\u001b[0;34m)\u001b[0m\u001b[0;34m)\u001b[0m\u001b[0;34m\u001b[0m\u001b[0m\n\u001b[0m\u001b[1;32m    319\u001b[0m         \u001b[0;32melse\u001b[0m\u001b[0;34m:\u001b[0m\u001b[0;34m\u001b[0m\u001b[0m\n\u001b[1;32m    320\u001b[0m             \u001b[0;32mprint\u001b[0m\u001b[0;34m(\u001b[0m\u001b[0mself\u001b[0m\u001b[0;34m.\u001b[0m\u001b[0m_jdf\u001b[0m\u001b[0;34m.\u001b[0m\u001b[0mshowString\u001b[0m\u001b[0;34m(\u001b[0m\u001b[0mn\u001b[0m\u001b[0;34m,\u001b[0m \u001b[0mint\u001b[0m\u001b[0;34m(\u001b[0m\u001b[0mtruncate\u001b[0m\u001b[0;34m)\u001b[0m\u001b[0;34m)\u001b[0m\u001b[0;34m)\u001b[0m\u001b[0;34m\u001b[0m\u001b[0m\n",
      "\u001b[0;32m/Users/Clarita/spark-2.1.0-bin-hadoop2.7/python/lib/py4j-0.10.4-src.zip/py4j/java_gateway.py\u001b[0m in \u001b[0;36m__call__\u001b[0;34m(self, *args)\u001b[0m\n\u001b[1;32m   1129\u001b[0m             \u001b[0mproto\u001b[0m\u001b[0;34m.\u001b[0m\u001b[0mEND_COMMAND_PART\u001b[0m\u001b[0;34m\u001b[0m\u001b[0m\n\u001b[1;32m   1130\u001b[0m \u001b[0;34m\u001b[0m\u001b[0m\n\u001b[0;32m-> 1131\u001b[0;31m         \u001b[0manswer\u001b[0m \u001b[0;34m=\u001b[0m \u001b[0mself\u001b[0m\u001b[0;34m.\u001b[0m\u001b[0mgateway_client\u001b[0m\u001b[0;34m.\u001b[0m\u001b[0msend_command\u001b[0m\u001b[0;34m(\u001b[0m\u001b[0mcommand\u001b[0m\u001b[0;34m)\u001b[0m\u001b[0;34m\u001b[0m\u001b[0m\n\u001b[0m\u001b[1;32m   1132\u001b[0m         return_value = get_return_value(\n\u001b[1;32m   1133\u001b[0m             answer, self.gateway_client, self.target_id, self.name)\n",
      "\u001b[0;32m/Users/Clarita/spark-2.1.0-bin-hadoop2.7/python/lib/py4j-0.10.4-src.zip/py4j/java_gateway.py\u001b[0m in \u001b[0;36msend_command\u001b[0;34m(self, command, retry, binary)\u001b[0m\n\u001b[1;32m    881\u001b[0m         \u001b[0mconnection\u001b[0m \u001b[0;34m=\u001b[0m \u001b[0mself\u001b[0m\u001b[0;34m.\u001b[0m\u001b[0m_get_connection\u001b[0m\u001b[0;34m(\u001b[0m\u001b[0;34m)\u001b[0m\u001b[0;34m\u001b[0m\u001b[0m\n\u001b[1;32m    882\u001b[0m         \u001b[0;32mtry\u001b[0m\u001b[0;34m:\u001b[0m\u001b[0;34m\u001b[0m\u001b[0m\n\u001b[0;32m--> 883\u001b[0;31m             \u001b[0mresponse\u001b[0m \u001b[0;34m=\u001b[0m \u001b[0mconnection\u001b[0m\u001b[0;34m.\u001b[0m\u001b[0msend_command\u001b[0m\u001b[0;34m(\u001b[0m\u001b[0mcommand\u001b[0m\u001b[0;34m)\u001b[0m\u001b[0;34m\u001b[0m\u001b[0m\n\u001b[0m\u001b[1;32m    884\u001b[0m             \u001b[0;32mif\u001b[0m \u001b[0mbinary\u001b[0m\u001b[0;34m:\u001b[0m\u001b[0;34m\u001b[0m\u001b[0m\n\u001b[1;32m    885\u001b[0m                 \u001b[0;32mreturn\u001b[0m \u001b[0mresponse\u001b[0m\u001b[0;34m,\u001b[0m \u001b[0mself\u001b[0m\u001b[0;34m.\u001b[0m\u001b[0m_create_connection_guard\u001b[0m\u001b[0;34m(\u001b[0m\u001b[0mconnection\u001b[0m\u001b[0;34m)\u001b[0m\u001b[0;34m\u001b[0m\u001b[0m\n",
      "\u001b[0;32m/Users/Clarita/spark-2.1.0-bin-hadoop2.7/python/lib/py4j-0.10.4-src.zip/py4j/java_gateway.py\u001b[0m in \u001b[0;36msend_command\u001b[0;34m(self, command)\u001b[0m\n\u001b[1;32m   1026\u001b[0m \u001b[0;34m\u001b[0m\u001b[0m\n\u001b[1;32m   1027\u001b[0m         \u001b[0;32mtry\u001b[0m\u001b[0;34m:\u001b[0m\u001b[0;34m\u001b[0m\u001b[0m\n\u001b[0;32m-> 1028\u001b[0;31m             \u001b[0manswer\u001b[0m \u001b[0;34m=\u001b[0m \u001b[0msmart_decode\u001b[0m\u001b[0;34m(\u001b[0m\u001b[0mself\u001b[0m\u001b[0;34m.\u001b[0m\u001b[0mstream\u001b[0m\u001b[0;34m.\u001b[0m\u001b[0mreadline\u001b[0m\u001b[0;34m(\u001b[0m\u001b[0;34m)\u001b[0m\u001b[0;34m[\u001b[0m\u001b[0;34m:\u001b[0m\u001b[0;34m-\u001b[0m\u001b[0;36m1\u001b[0m\u001b[0;34m]\u001b[0m\u001b[0;34m)\u001b[0m\u001b[0;34m\u001b[0m\u001b[0m\n\u001b[0m\u001b[1;32m   1029\u001b[0m             \u001b[0mlogger\u001b[0m\u001b[0;34m.\u001b[0m\u001b[0mdebug\u001b[0m\u001b[0;34m(\u001b[0m\u001b[0;34m\"Answer received: {0}\"\u001b[0m\u001b[0;34m.\u001b[0m\u001b[0mformat\u001b[0m\u001b[0;34m(\u001b[0m\u001b[0manswer\u001b[0m\u001b[0;34m)\u001b[0m\u001b[0;34m)\u001b[0m\u001b[0;34m\u001b[0m\u001b[0m\n\u001b[1;32m   1030\u001b[0m             \u001b[0;32mif\u001b[0m \u001b[0manswer\u001b[0m\u001b[0;34m.\u001b[0m\u001b[0mstartswith\u001b[0m\u001b[0;34m(\u001b[0m\u001b[0mproto\u001b[0m\u001b[0;34m.\u001b[0m\u001b[0mRETURN_MESSAGE\u001b[0m\u001b[0;34m)\u001b[0m\u001b[0;34m:\u001b[0m\u001b[0;34m\u001b[0m\u001b[0m\n",
      "\u001b[0;32m//anaconda/lib/python2.7/socket.pyc\u001b[0m in \u001b[0;36mreadline\u001b[0;34m(self, size)\u001b[0m\n\u001b[1;32m    449\u001b[0m             \u001b[0;32mwhile\u001b[0m \u001b[0mTrue\u001b[0m\u001b[0;34m:\u001b[0m\u001b[0;34m\u001b[0m\u001b[0m\n\u001b[1;32m    450\u001b[0m                 \u001b[0;32mtry\u001b[0m\u001b[0;34m:\u001b[0m\u001b[0;34m\u001b[0m\u001b[0m\n\u001b[0;32m--> 451\u001b[0;31m                     \u001b[0mdata\u001b[0m \u001b[0;34m=\u001b[0m \u001b[0mself\u001b[0m\u001b[0;34m.\u001b[0m\u001b[0m_sock\u001b[0m\u001b[0;34m.\u001b[0m\u001b[0mrecv\u001b[0m\u001b[0;34m(\u001b[0m\u001b[0mself\u001b[0m\u001b[0;34m.\u001b[0m\u001b[0m_rbufsize\u001b[0m\u001b[0;34m)\u001b[0m\u001b[0;34m\u001b[0m\u001b[0m\n\u001b[0m\u001b[1;32m    452\u001b[0m                 \u001b[0;32mexcept\u001b[0m \u001b[0merror\u001b[0m\u001b[0;34m,\u001b[0m \u001b[0me\u001b[0m\u001b[0;34m:\u001b[0m\u001b[0;34m\u001b[0m\u001b[0m\n\u001b[1;32m    453\u001b[0m                     \u001b[0;32mif\u001b[0m \u001b[0me\u001b[0m\u001b[0;34m.\u001b[0m\u001b[0margs\u001b[0m\u001b[0;34m[\u001b[0m\u001b[0;36m0\u001b[0m\u001b[0;34m]\u001b[0m \u001b[0;34m==\u001b[0m \u001b[0mEINTR\u001b[0m\u001b[0;34m:\u001b[0m\u001b[0;34m\u001b[0m\u001b[0m\n",
      "\u001b[0;31mKeyboardInterrupt\u001b[0m: "
     ]
    }
   ],
   "source": [
    "sqlDF6.select('frecuency', 'recency', 'money', 'document_number').show(5)\n"
   ]
  },
  {
   "cell_type": "code",
   "execution_count": 252,
   "metadata": {
    "collapsed": false
   },
   "outputs": [],
   "source": [
    "from pyspark.sql import HiveContext"
   ]
  },
  {
   "cell_type": "code",
   "execution_count": 253,
   "metadata": {
    "collapsed": true
   },
   "outputs": [],
   "source": [
    "sqlContext = HiveContext(sc)"
   ]
  },
  {
   "cell_type": "code",
   "execution_count": 255,
   "metadata": {
    "collapsed": true
   },
   "outputs": [],
   "source": [
    "hive_context = HiveContext(sc)"
   ]
  },
  {
   "cell_type": "markdown",
   "metadata": {},
   "source": [
    "# RFM with MLlib"
   ]
  },
  {
   "cell_type": "markdown",
   "metadata": {},
   "source": [
    "#### After creating the dataframe with the neccesary columns, we are going to perform an analysis on the data obtained, in order to cluster the potential clients and study their behaviour"
   ]
  },
  {
   "cell_type": "code",
   "execution_count": 244,
   "metadata": {
    "collapsed": true
   },
   "outputs": [],
   "source": [
    "from pyspark.ml.clustering import KMeans"
   ]
  },
  {
   "cell_type": "code",
   "execution_count": 246,
   "metadata": {
    "collapsed": false
   },
   "outputs": [
    {
     "data": {
      "text/plain": [
       "str"
      ]
     },
     "execution_count": 246,
     "metadata": {},
     "output_type": "execute_result"
    }
   ],
   "source": [
    "type('recency')"
   ]
  },
  {
   "cell_type": "code",
   "execution_count": 256,
   "metadata": {
    "collapsed": false
   },
   "outputs": [],
   "source": [
    "dataset_rfm = hive_context.table('rfm_doc_unicos')"
   ]
  },
  {
   "cell_type": "code",
   "execution_count": 257,
   "metadata": {
    "collapsed": false
   },
   "outputs": [
    {
     "name": "stdout",
     "output_type": "stream",
     "text": [
      "+---------------+---------+------------------+-------+\n",
      "|document_number|frecuency|             money|recency|\n",
      "+---------------+---------+------------------+-------+\n",
      "|      000744336|        1|            221.26|     28|\n",
      "|      00152Y444|        1|             205.0|    171|\n",
      "|      002946569|        1|            291.68|    282|\n",
      "|      00453BS41|        1|            250.51|     22|\n",
      "|      00517BF34|        1|             313.0|     32|\n",
      "|      00714BO74|        1|             313.0|     32|\n",
      "|      00908BD78|        1|             266.0|    197|\n",
      "|      01060BK97|        1|               0.0|     35|\n",
      "|      013178711|        1|151.03999999999996|    328|\n",
      "|      01651Y243|        1|504.15999999999997|    113|\n",
      "|      017118282|        1|             248.3|    307|\n",
      "|       01795150|        1|             121.0|     99|\n",
      "|      02054BY00|        1|               0.0|     49|\n",
      "|      02240BO12|        1|              82.5|     52|\n",
      "|      02376W459|        1|              2.96|     26|\n",
      "|      0249756MF|        1|            559.78|    157|\n",
      "|      02577FT46|        2|1179.5900000000001|    205|\n",
      "|      02681BT96|        1|             207.3|     45|\n",
      "|      02822Y600|        1|            269.44|    178|\n",
      "|      02900FT67|        1|            432.14|     79|\n",
      "+---------------+---------+------------------+-------+\n",
      "only showing top 20 rows\n",
      "\n"
     ]
    }
   ],
   "source": [
    "dataset_rfm.show()"
   ]
  },
  {
   "cell_type": "code",
   "execution_count": 259,
   "metadata": {
    "collapsed": false
   },
   "outputs": [
    {
     "data": {
      "text/plain": [
       "pyspark.sql.dataframe.DataFrame"
      ]
     },
     "execution_count": 259,
     "metadata": {},
     "output_type": "execute_result"
    }
   ],
   "source": [
    "type(dataset_rfm)"
   ]
  },
  {
   "cell_type": "code",
   "execution_count": 260,
   "metadata": {
    "collapsed": true
   },
   "outputs": [],
   "source": [
    "cols = dataset_rfm.columns"
   ]
  },
  {
   "cell_type": "code",
   "execution_count": 263,
   "metadata": {
    "collapsed": true
   },
   "outputs": [],
   "source": [
    "from pyspark.sql.types import DoubleType"
   ]
  },
  {
   "cell_type": "code",
   "execution_count": 265,
   "metadata": {
    "collapsed": false
   },
   "outputs": [
    {
     "data": {
      "text/plain": [
       "Column<CAST(frecuency AS INT) AS `frecuencies`>"
      ]
     },
     "execution_count": 265,
     "metadata": {},
     "output_type": "execute_result"
    }
   ],
   "source": [
    "dataset_rfm.frecuency.cast(\"integer\").alias('frecuencies')"
   ]
  },
  {
   "cell_type": "code",
   "execution_count": 269,
   "metadata": {
    "collapsed": false
   },
   "outputs": [
    {
     "data": {
      "text/plain": [
       "[('document_number', 'string'),\n",
       " ('frecuency', 'bigint'),\n",
       " ('money', 'double'),\n",
       " ('recency', 'int')]"
      ]
     },
     "execution_count": 269,
     "metadata": {},
     "output_type": "execute_result"
    }
   ],
   "source": [
    "dataset_rfm.dtypes"
   ]
  },
  {
   "cell_type": "code",
   "execution_count": 270,
   "metadata": {
    "collapsed": false
   },
   "outputs": [
    {
     "data": {
      "text/plain": [
       "Row(document_number=u'000744336', frecuency=1, money=221.26, recency=28)"
      ]
     },
     "execution_count": 270,
     "metadata": {},
     "output_type": "execute_result"
    }
   ],
   "source": [
    "dataset_rfm.head()"
   ]
  },
  {
   "cell_type": "code",
   "execution_count": 271,
   "metadata": {
    "collapsed": false
   },
   "outputs": [
    {
     "data": {
      "text/plain": [
       "175333"
      ]
     },
     "execution_count": 271,
     "metadata": {},
     "output_type": "execute_result"
    }
   ],
   "source": [
    "dataset_rfm.count()"
   ]
  },
  {
   "cell_type": "code",
   "execution_count": 277,
   "metadata": {
    "collapsed": true
   },
   "outputs": [],
   "source": [
    "import pandas as pd\n",
    "import numpy as np"
   ]
  },
  {
   "cell_type": "code",
   "execution_count": 272,
   "metadata": {
    "collapsed": true
   },
   "outputs": [],
   "source": [
    "numericCols = ['frecuency', 'recency', 'money']"
   ]
  },
  {
   "cell_type": "code",
   "execution_count": 275,
   "metadata": {
    "collapsed": false
   },
   "outputs": [],
   "source": [
    "rfm = dataset_rfm[numericCols]"
   ]
  },
  {
   "cell_type": "code",
   "execution_count": 278,
   "metadata": {
    "collapsed": false
   },
   "outputs": [
    {
     "ename": "TypeError",
     "evalue": "'DataFrame' object does not support item assignment",
     "output_type": "error",
     "traceback": [
      "\u001b[0;31m---------------------------------------------------------------------------\u001b[0m",
      "\u001b[0;31mTypeError\u001b[0m                                 Traceback (most recent call last)",
      "\u001b[0;32m<ipython-input-278-119b19f4fa8a>\u001b[0m in \u001b[0;36m<module>\u001b[0;34m()\u001b[0m\n\u001b[0;32m----> 1\u001b[0;31m \u001b[0mrfm\u001b[0m\u001b[0;34m[\u001b[0m\u001b[0;34m'money_avg'\u001b[0m\u001b[0;34m]\u001b[0m \u001b[0;34m=\u001b[0m \u001b[0mrfm\u001b[0m\u001b[0;34m.\u001b[0m\u001b[0mmoney\u001b[0m \u001b[0;34m/\u001b[0m \u001b[0mrfm\u001b[0m\u001b[0;34m.\u001b[0m\u001b[0mfrecuency\u001b[0m\u001b[0;34m\u001b[0m\u001b[0m\n\u001b[0m",
      "\u001b[0;31mTypeError\u001b[0m: 'DataFrame' object does not support item assignment"
     ]
    }
   ],
   "source": [
    "rfm['money_avg'] = rfm.money / rfm.frecuency"
   ]
  },
  {
   "cell_type": "code",
   "execution_count": 280,
   "metadata": {
    "collapsed": false,
    "scrolled": true
   },
   "outputs": [
    {
     "name": "stdout",
     "output_type": "stream",
     "text": [
      "+------------------+------------------+\n",
      "|             money|         money_avg|\n",
      "+------------------+------------------+\n",
      "|            221.26|            221.26|\n",
      "|             205.0|             205.0|\n",
      "|            291.68|            291.68|\n",
      "|            250.51|            250.51|\n",
      "|             313.0|             313.0|\n",
      "|             313.0|             313.0|\n",
      "|             266.0|             266.0|\n",
      "|               0.0|               0.0|\n",
      "|151.03999999999996|151.03999999999996|\n",
      "|504.15999999999997|504.15999999999997|\n",
      "|             248.3|             248.3|\n",
      "|             121.0|             121.0|\n",
      "|               0.0|               0.0|\n",
      "|              82.5|              82.5|\n",
      "|              2.96|              2.96|\n",
      "|            559.78|            559.78|\n",
      "|1179.5900000000001| 589.7950000000001|\n",
      "|             207.3|             207.3|\n",
      "|            269.44|            269.44|\n",
      "|            432.14|            432.14|\n",
      "+------------------+------------------+\n",
      "only showing top 20 rows\n",
      "\n"
     ]
    }
   ],
   "source": [
    "rfm.withColumn('money_avg', rfm.money / rfm.frecuency).select('money','money_avg').show()"
   ]
  },
  {
   "cell_type": "code",
   "execution_count": 290,
   "metadata": {
    "collapsed": true
   },
   "outputs": [],
   "source": [
    "rfm_final = rfm.withColumn('money_avg', rfm.money / rfm.frecuency)"
   ]
  },
  {
   "cell_type": "code",
   "execution_count": 291,
   "metadata": {
    "collapsed": false
   },
   "outputs": [
    {
     "data": {
      "text/plain": [
       "DataFrame[frecuency: bigint, recency: int, money: double, money_avg: double]"
      ]
     },
     "execution_count": 291,
     "metadata": {},
     "output_type": "execute_result"
    }
   ],
   "source": [
    "rfm_final.fillna(0)"
   ]
  },
  {
   "cell_type": "code",
   "execution_count": 292,
   "metadata": {
    "collapsed": false,
    "scrolled": true
   },
   "outputs": [
    {
     "name": "stdout",
     "output_type": "stream",
     "text": [
      "+-------+------------------+------------------+-----------------+-----------------+\n",
      "|summary|         frecuency|           recency|            money|        money_avg|\n",
      "+-------+------------------+------------------+-----------------+-----------------+\n",
      "|  count|            175333|            175333|           175333|           175333|\n",
      "|   mean|1.2120764488145415| 134.6600639925171|540.5984852252573| 436.910261555405|\n",
      "| stddev|0.7551303980127374|106.08618852812808|938.4173226041892|641.4966340047448|\n",
      "|    min|                 1|                 1|              0.0|              0.0|\n",
      "|    max|                22|               365|          38767.9|          13327.0|\n",
      "+-------+------------------+------------------+-----------------+-----------------+\n",
      "\n"
     ]
    }
   ],
   "source": [
    "rfm_final.describe().show()"
   ]
  },
  {
   "cell_type": "code",
   "execution_count": 295,
   "metadata": {
    "collapsed": false
   },
   "outputs": [
    {
     "ename": "AttributeError",
     "evalue": "'function' object has no attribute 'sort_values'",
     "output_type": "error",
     "traceback": [
      "\u001b[0;31m---------------------------------------------------------------------------\u001b[0m",
      "\u001b[0;31mAttributeError\u001b[0m                            Traceback (most recent call last)",
      "\u001b[0;32m<ipython-input-295-d1abf3188c22>\u001b[0m in \u001b[0;36m<module>\u001b[0;34m()\u001b[0m\n\u001b[0;32m----> 1\u001b[0;31m \u001b[0mrfm_ordenado\u001b[0m \u001b[0;34m=\u001b[0m \u001b[0mdf\u001b[0m\u001b[0;34m.\u001b[0m\u001b[0mtoPandas\u001b[0m\u001b[0;34m.\u001b[0m\u001b[0msort_values\u001b[0m\u001b[0;34m(\u001b[0m\u001b[0mby\u001b[0m\u001b[0;34m=\u001b[0m\u001b[0;34m'money'\u001b[0m\u001b[0;34m,\u001b[0m \u001b[0mascending\u001b[0m\u001b[0;34m=\u001b[0m\u001b[0mFalse\u001b[0m\u001b[0;34m)\u001b[0m\u001b[0;34m\u001b[0m\u001b[0m\n\u001b[0m\u001b[1;32m      2\u001b[0m \u001b[0;31m#fechas_vuelos = df.groupBy(df['departure_date_leg']).count().toPandas().sort_values(by='count', ascending=False)\u001b[0m\u001b[0;34m\u001b[0m\u001b[0;34m\u001b[0m\u001b[0m\n",
      "\u001b[0;31mAttributeError\u001b[0m: 'function' object has no attribute 'sort_values'"
     ]
    }
   ],
   "source": [
    "rfm_ordenado = df.toPandas.sort_values(by='money', ascending=False)\n",
    "#fechas_vuelos = df.groupBy(df['departure_date_leg']).count().toPandas().sort_values(by='count', ascending=False)"
   ]
  },
  {
   "cell_type": "code",
   "execution_count": 296,
   "metadata": {
    "collapsed": false
   },
   "outputs": [
    {
     "data": {
      "text/plain": [
       "[Row(max(money)=38767.9)]"
      ]
     },
     "execution_count": 296,
     "metadata": {},
     "output_type": "execute_result"
    }
   ],
   "source": [
    "rfm_final.groupby().('money').collect()"
   ]
  },
  {
   "cell_type": "code",
   "execution_count": 297,
   "metadata": {
    "collapsed": false
   },
   "outputs": [
    {
     "data": {
      "text/plain": [
       "1216"
      ]
     },
     "execution_count": 297,
     "metadata": {},
     "output_type": "execute_result"
    }
   ],
   "source": [
    "rfm_final.filter(rfm_final.money > 5000).count()"
   ]
  },
  {
   "cell_type": "code",
   "execution_count": 298,
   "metadata": {
    "collapsed": false
   },
   "outputs": [
    {
     "name": "stdout",
     "output_type": "stream",
     "text": [
      "+---------+-------+------------------+------------------+\n",
      "|frecuency|recency|             money|         money_avg|\n",
      "+---------+-------+------------------+------------------+\n",
      "|        9|     41|           38767.9| 4307.544444444445|\n",
      "|        7|     13|           29200.0| 4171.428571428572|\n",
      "|        9|     51|          28753.01|3194.7788888888886|\n",
      "|        8|     19|24386.489999999998|3048.3112499999997|\n",
      "|        3|     74|          24326.03| 8108.676666666666|\n",
      "|        4|     30|24285.129999999997| 6071.282499999999|\n",
      "|        5|     29|           22896.0|            4579.2|\n",
      "|        7|     39|          21056.29|3008.0414285714287|\n",
      "|       10|     27|           19919.6|1991.9599999999998|\n",
      "|       12|     23|          19126.41|         1593.8675|\n",
      "+---------+-------+------------------+------------------+\n",
      "only showing top 10 rows\n",
      "\n"
     ]
    }
   ],
   "source": [
    "rfm_final.orderBy(rfm_final.money.desc()).show(10)"
   ]
  },
  {
   "cell_type": "code",
   "execution_count": null,
   "metadata": {
    "collapsed": true
   },
   "outputs": [],
   "source": []
  }
 ],
 "metadata": {
  "celltoolbar": "Raw Cell Format",
  "kernelspec": {
   "display_name": "Python 2",
   "language": "python",
   "name": "python2"
  },
  "language_info": {
   "codemirror_mode": {
    "name": "ipython",
    "version": 2
   },
   "file_extension": ".py",
   "mimetype": "text/x-python",
   "name": "python",
   "nbconvert_exporter": "python",
   "pygments_lexer": "ipython2",
   "version": "2.7.13"
  }
 },
 "nbformat": 4,
 "nbformat_minor": 2
}
