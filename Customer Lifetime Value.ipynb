{
 "cells": [
  {
   "cell_type": "markdown",
   "metadata": {},
   "source": [
    "## Customer Lifetime Value\n",
    "#### The purporse of the customer lifetime value metric is to asses the financial value of each customer and predict repeat purchases from a customer. We asume that when a customer is Alive, is actively purchasing and wen Dies, became disinterested with your product)\n"
   ]
  },
  {
   "cell_type": "code",
   "execution_count": 1,
   "metadata": {
    "collapsed": false,
    "scrolled": true
   },
   "outputs": [],
   "source": [
    "import pandas as pd\n",
    "import lifetimes\n",
    "import numpy as np\n",
    "import datetime as dt\n",
    "import matplotlib\n",
    "%matplotlib inline"
   ]
  },
  {
   "cell_type": "markdown",
   "metadata": {},
   "source": [
    "We will convert the string columns to datetime objects to perform the different calculations and present the necessary variables for the prediction"
   ]
  },
  {
   "cell_type": "code",
   "execution_count": 2,
   "metadata": {
    "collapsed": true
   },
   "outputs": [],
   "source": [
    "dateparse = lambda x: pd.datetime.strptime(x, '%Y-%m-%d')"
   ]
  },
  {
   "cell_type": "code",
   "execution_count": 3,
   "metadata": {
    "collapsed": false
   },
   "outputs": [],
   "source": [
    "#we parse the columns with the function to convert them to a datetime object\n",
    "data_raw = pd.read_csv(\"clientes_unicos.csv\", sep=\",\", parse_dates= ['date_of_birth', 'departure_date_leg'],date_parser= dateparse)\n"
   ]
  },
  {
   "cell_type": "code",
   "execution_count": 4,
   "metadata": {
    "collapsed": false
   },
   "outputs": [
    {
     "data": {
      "text/html": [
       "<div>\n",
       "<table border=\"1\" class=\"dataframe\">\n",
       "  <thead>\n",
       "    <tr style=\"text-align: right;\">\n",
       "      <th></th>\n",
       "      <th>Unnamed: 0</th>\n",
       "      <th>rloc</th>\n",
       "      <th>full_name</th>\n",
       "      <th>gender</th>\n",
       "      <th>age</th>\n",
       "      <th>date_of_birth</th>\n",
       "      <th>document_type</th>\n",
       "      <th>document_number</th>\n",
       "      <th>document_country</th>\n",
       "      <th>nationality</th>\n",
       "      <th>...</th>\n",
       "      <th>distance_seg</th>\n",
       "      <th>route</th>\n",
       "      <th>network</th>\n",
       "      <th>airline_code_seg</th>\n",
       "      <th>flight_number_seg</th>\n",
       "      <th>flight_type</th>\n",
       "      <th>revenue_amount_seg</th>\n",
       "      <th>emd_count</th>\n",
       "      <th>emd_amount</th>\n",
       "      <th>fuel_surcharge_amount_seg</th>\n",
       "    </tr>\n",
       "  </thead>\n",
       "  <tbody>\n",
       "    <tr>\n",
       "      <th>523531</th>\n",
       "      <td>523531</td>\n",
       "      <td>RLKKS2</td>\n",
       "      <td>QZ/QXWQVAZMEE</td>\n",
       "      <td>F</td>\n",
       "      <td>52</td>\n",
       "      <td>1964-05-07</td>\n",
       "      <td>P</td>\n",
       "      <td>WK950O8VS</td>\n",
       "      <td>QGP</td>\n",
       "      <td>QGP</td>\n",
       "      <td>...</td>\n",
       "      <td>1125.102847</td>\n",
       "      <td>BRU-RGS</td>\n",
       "      <td>Europe</td>\n",
       "      <td>XX</td>\n",
       "      <td>5163</td>\n",
       "      <td>I</td>\n",
       "      <td>37.72</td>\n",
       "      <td>NaN</td>\n",
       "      <td>NaN</td>\n",
       "      <td>25.56</td>\n",
       "    </tr>\n",
       "    <tr>\n",
       "      <th>523532</th>\n",
       "      <td>523532</td>\n",
       "      <td>I7Y7LT</td>\n",
       "      <td>QFDM OXMUDQTQDNQDFL/B</td>\n",
       "      <td>F</td>\n",
       "      <td>49</td>\n",
       "      <td>1967-03-11</td>\n",
       "      <td>P</td>\n",
       "      <td>X5TX9O8VT</td>\n",
       "      <td>NaN</td>\n",
       "      <td>QGP</td>\n",
       "      <td>...</td>\n",
       "      <td>7402.762966</td>\n",
       "      <td>BRU-RLK</td>\n",
       "      <td>World</td>\n",
       "      <td>XX</td>\n",
       "      <td>19</td>\n",
       "      <td>I</td>\n",
       "      <td>0.00</td>\n",
       "      <td>NaN</td>\n",
       "      <td>NaN</td>\n",
       "      <td>355.06</td>\n",
       "    </tr>\n",
       "    <tr>\n",
       "      <th>523533</th>\n",
       "      <td>523533</td>\n",
       "      <td>6V88Q9</td>\n",
       "      <td>IUXTQXY BMGXNXAU/TQDNQDF</td>\n",
       "      <td>M</td>\n",
       "      <td>77</td>\n",
       "      <td>1939-10-01</td>\n",
       "      <td>P</td>\n",
       "      <td>XR3YJOOV6</td>\n",
       "      <td>QGP</td>\n",
       "      <td>QGP</td>\n",
       "      <td>...</td>\n",
       "      <td>1318.093095</td>\n",
       "      <td>BRU-SCQ</td>\n",
       "      <td>Europe</td>\n",
       "      <td>XX</td>\n",
       "      <td>591</td>\n",
       "      <td>I</td>\n",
       "      <td>19.35</td>\n",
       "      <td>NaN</td>\n",
       "      <td>NaN</td>\n",
       "      <td>22.43</td>\n",
       "    </tr>\n",
       "    <tr>\n",
       "      <th>523534</th>\n",
       "      <td>523534</td>\n",
       "      <td>6V88Q9</td>\n",
       "      <td>IUXTQXY BMGXNXAU/TQDNQDF</td>\n",
       "      <td>M</td>\n",
       "      <td>77</td>\n",
       "      <td>1939-10-01</td>\n",
       "      <td>P</td>\n",
       "      <td>XR3YJOOV6</td>\n",
       "      <td>QGP</td>\n",
       "      <td>QGP</td>\n",
       "      <td>...</td>\n",
       "      <td>1318.093095</td>\n",
       "      <td>BRU-SCQ</td>\n",
       "      <td>Europe</td>\n",
       "      <td>XX</td>\n",
       "      <td>501</td>\n",
       "      <td>I</td>\n",
       "      <td>19.35</td>\n",
       "      <td>NaN</td>\n",
       "      <td>NaN</td>\n",
       "      <td>22.43</td>\n",
       "    </tr>\n",
       "    <tr>\n",
       "      <th>523535</th>\n",
       "      <td>523535</td>\n",
       "      <td>6V88Q9</td>\n",
       "      <td>IUXTQXY BMGXNXAU/TQDNQDF</td>\n",
       "      <td>M</td>\n",
       "      <td>77</td>\n",
       "      <td>1939-10-01</td>\n",
       "      <td>P</td>\n",
       "      <td>XR3YJOOV6</td>\n",
       "      <td>QGP</td>\n",
       "      <td>QGP</td>\n",
       "      <td>...</td>\n",
       "      <td>6610.159533</td>\n",
       "      <td>BRU-DAY</td>\n",
       "      <td>World</td>\n",
       "      <td>XX</td>\n",
       "      <td>0</td>\n",
       "      <td>I</td>\n",
       "      <td>98.31</td>\n",
       "      <td>NaN</td>\n",
       "      <td>NaN</td>\n",
       "      <td>113.97</td>\n",
       "    </tr>\n",
       "    <tr>\n",
       "      <th>523536</th>\n",
       "      <td>523536</td>\n",
       "      <td>6V88Q9</td>\n",
       "      <td>IUXTQXY BMGXNXAU/TQDNQDF</td>\n",
       "      <td>M</td>\n",
       "      <td>77</td>\n",
       "      <td>1939-10-01</td>\n",
       "      <td>P</td>\n",
       "      <td>XR3YJOOV6</td>\n",
       "      <td>QGP</td>\n",
       "      <td>QGP</td>\n",
       "      <td>...</td>\n",
       "      <td>6610.159533</td>\n",
       "      <td>BRU-DAY</td>\n",
       "      <td>World</td>\n",
       "      <td>XX</td>\n",
       "      <td>9</td>\n",
       "      <td>I</td>\n",
       "      <td>98.31</td>\n",
       "      <td>NaN</td>\n",
       "      <td>NaN</td>\n",
       "      <td>113.97</td>\n",
       "    </tr>\n",
       "    <tr>\n",
       "      <th>523537</th>\n",
       "      <td>523537</td>\n",
       "      <td>D2870B</td>\n",
       "      <td>QZ/PMZMBQFQDE</td>\n",
       "      <td>F</td>\n",
       "      <td>36</td>\n",
       "      <td>1980-04-27</td>\n",
       "      <td>P</td>\n",
       "      <td>ZWLH8OR34</td>\n",
       "      <td>QGP</td>\n",
       "      <td>QGP</td>\n",
       "      <td>...</td>\n",
       "      <td>1571.058104</td>\n",
       "      <td>ALG-BRU</td>\n",
       "      <td>World</td>\n",
       "      <td>XX</td>\n",
       "      <td>4762</td>\n",
       "      <td>I</td>\n",
       "      <td>13.84</td>\n",
       "      <td>NaN</td>\n",
       "      <td>NaN</td>\n",
       "      <td>23.81</td>\n",
       "    </tr>\n",
       "    <tr>\n",
       "      <th>523538</th>\n",
       "      <td>523538</td>\n",
       "      <td>D2870B</td>\n",
       "      <td>QZ/PMZMBQFQDE</td>\n",
       "      <td>F</td>\n",
       "      <td>36</td>\n",
       "      <td>1980-04-27</td>\n",
       "      <td>P</td>\n",
       "      <td>ZWLH8OR34</td>\n",
       "      <td>QGP</td>\n",
       "      <td>QGP</td>\n",
       "      <td>...</td>\n",
       "      <td>7894.805996</td>\n",
       "      <td>BRU-TYR</td>\n",
       "      <td>World</td>\n",
       "      <td>XX</td>\n",
       "      <td>43</td>\n",
       "      <td>I</td>\n",
       "      <td>68.66</td>\n",
       "      <td>NaN</td>\n",
       "      <td>NaN</td>\n",
       "      <td>118.19</td>\n",
       "    </tr>\n",
       "    <tr>\n",
       "      <th>523539</th>\n",
       "      <td>523539</td>\n",
       "      <td>D2870B</td>\n",
       "      <td>QZ/PMZMBQFQDE</td>\n",
       "      <td>F</td>\n",
       "      <td>36</td>\n",
       "      <td>1980-04-27</td>\n",
       "      <td>P</td>\n",
       "      <td>ZWLH8OR34</td>\n",
       "      <td>QGP</td>\n",
       "      <td>QGP</td>\n",
       "      <td>...</td>\n",
       "      <td>1571.058104</td>\n",
       "      <td>ALG-BRU</td>\n",
       "      <td>World</td>\n",
       "      <td>XX</td>\n",
       "      <td>422</td>\n",
       "      <td>I</td>\n",
       "      <td>13.84</td>\n",
       "      <td>NaN</td>\n",
       "      <td>NaN</td>\n",
       "      <td>23.81</td>\n",
       "    </tr>\n",
       "    <tr>\n",
       "      <th>523540</th>\n",
       "      <td>523540</td>\n",
       "      <td>D2870B</td>\n",
       "      <td>QZ/PMZMBQFQDE</td>\n",
       "      <td>F</td>\n",
       "      <td>36</td>\n",
       "      <td>1980-04-27</td>\n",
       "      <td>P</td>\n",
       "      <td>ZWLH8OR34</td>\n",
       "      <td>QGP</td>\n",
       "      <td>QGP</td>\n",
       "      <td>...</td>\n",
       "      <td>7894.805996</td>\n",
       "      <td>BRU-TYR</td>\n",
       "      <td>World</td>\n",
       "      <td>XX</td>\n",
       "      <td>32</td>\n",
       "      <td>I</td>\n",
       "      <td>68.66</td>\n",
       "      <td>NaN</td>\n",
       "      <td>NaN</td>\n",
       "      <td>118.19</td>\n",
       "    </tr>\n",
       "  </tbody>\n",
       "</table>\n",
       "<p>10 rows × 67 columns</p>\n",
       "</div>"
      ],
      "text/plain": [
       "        Unnamed: 0    rloc                  full_name gender  age  \\\n",
       "523531      523531  RLKKS2              QZ/QXWQVAZMEE      F   52   \n",
       "523532      523532  I7Y7LT      QFDM OXMUDQTQDNQDFL/B      F   49   \n",
       "523533      523533  6V88Q9   IUXTQXY BMGXNXAU/TQDNQDF      M   77   \n",
       "523534      523534  6V88Q9   IUXTQXY BMGXNXAU/TQDNQDF      M   77   \n",
       "523535      523535  6V88Q9   IUXTQXY BMGXNXAU/TQDNQDF      M   77   \n",
       "523536      523536  6V88Q9   IUXTQXY BMGXNXAU/TQDNQDF      M   77   \n",
       "523537      523537  D2870B              QZ/PMZMBQFQDE      F   36   \n",
       "523538      523538  D2870B              QZ/PMZMBQFQDE      F   36   \n",
       "523539      523539  D2870B              QZ/PMZMBQFQDE      F   36   \n",
       "523540      523540  D2870B              QZ/PMZMBQFQDE      F   36   \n",
       "\n",
       "       date_of_birth document_type document_number document_country  \\\n",
       "523531    1964-05-07             P       WK950O8VS              QGP   \n",
       "523532    1967-03-11             P       X5TX9O8VT              NaN   \n",
       "523533    1939-10-01             P       XR3YJOOV6              QGP   \n",
       "523534    1939-10-01             P       XR3YJOOV6              QGP   \n",
       "523535    1939-10-01             P       XR3YJOOV6              QGP   \n",
       "523536    1939-10-01             P       XR3YJOOV6              QGP   \n",
       "523537    1980-04-27             P       ZWLH8OR34              QGP   \n",
       "523538    1980-04-27             P       ZWLH8OR34              QGP   \n",
       "523539    1980-04-27             P       ZWLH8OR34              QGP   \n",
       "523540    1980-04-27             P       ZWLH8OR34              QGP   \n",
       "\n",
       "       nationality            ...            distance_seg    route network  \\\n",
       "523531         QGP            ...             1125.102847  BRU-RGS  Europe   \n",
       "523532         QGP            ...             7402.762966  BRU-RLK   World   \n",
       "523533         QGP            ...             1318.093095  BRU-SCQ  Europe   \n",
       "523534         QGP            ...             1318.093095  BRU-SCQ  Europe   \n",
       "523535         QGP            ...             6610.159533  BRU-DAY   World   \n",
       "523536         QGP            ...             6610.159533  BRU-DAY   World   \n",
       "523537         QGP            ...             1571.058104  ALG-BRU   World   \n",
       "523538         QGP            ...             7894.805996  BRU-TYR   World   \n",
       "523539         QGP            ...             1571.058104  ALG-BRU   World   \n",
       "523540         QGP            ...             7894.805996  BRU-TYR   World   \n",
       "\n",
       "       airline_code_seg flight_number_seg flight_type revenue_amount_seg  \\\n",
       "523531               XX              5163           I              37.72   \n",
       "523532               XX                19           I               0.00   \n",
       "523533               XX               591           I              19.35   \n",
       "523534               XX               501           I              19.35   \n",
       "523535               XX                 0           I              98.31   \n",
       "523536               XX                 9           I              98.31   \n",
       "523537               XX              4762           I              13.84   \n",
       "523538               XX                43           I              68.66   \n",
       "523539               XX               422           I              13.84   \n",
       "523540               XX                32           I              68.66   \n",
       "\n",
       "       emd_count emd_amount fuel_surcharge_amount_seg  \n",
       "523531       NaN        NaN                     25.56  \n",
       "523532       NaN        NaN                    355.06  \n",
       "523533       NaN        NaN                     22.43  \n",
       "523534       NaN        NaN                     22.43  \n",
       "523535       NaN        NaN                    113.97  \n",
       "523536       NaN        NaN                    113.97  \n",
       "523537       NaN        NaN                     23.81  \n",
       "523538       NaN        NaN                    118.19  \n",
       "523539       NaN        NaN                     23.81  \n",
       "523540       NaN        NaN                    118.19  \n",
       "\n",
       "[10 rows x 67 columns]"
      ]
     },
     "execution_count": 4,
     "metadata": {},
     "output_type": "execute_result"
    }
   ],
   "source": [
    "data_raw.tail(10)"
   ]
  },
  {
   "cell_type": "markdown",
   "metadata": {},
   "source": [
    "## Residual Lifetime Value¶\n",
    "We will use the beta-geometric/NBD model, an alternative to the Pareto/NBD model developed to describe repeat-buying behaviors in a setting where customers buy at a steady rate (or in a stochastic manner) for a period of time, and then become inactive (die). \n",
    "More specifically, the churn rate is modelled using the Pareto (exponential-gamma mixture) timing model but while the customer is still active, his repeat-buying behavior is modelled using the negative binomial (Poisson-gamma) counting mode. Thus, this model yields the expressions required for making individual-level statements about future buying behavior."
   ]
  },
  {
   "cell_type": "code",
   "execution_count": 5,
   "metadata": {
    "collapsed": false
   },
   "outputs": [],
   "source": [
    "#we select the different columns we'll use for the calculations\n",
    "data = data_raw[['document_number', 'age', 'date_of_birth', 'departure_date_leg', 'route', 'revenue_amount_seg']]"
   ]
  },
  {
   "cell_type": "markdown",
   "metadata": {},
   "source": [
    "We create the input variables of the model taking into account the dates of the flight purchase. For estimating the probability of a new purchase, the BG/NBD model needs three variables: recency, number of repeat purchases (frequency) and the duration between a customer's first purchase and the end of the period under study (or time being customer in the selected period).\n",
    "\n",
    "We'll firstly set the \"Now\" variable like the most recent date of the database. Recency is the duration between a customer's first purchase and their latest purchase. First is the difference between date of birth of the customer and his/her first purchase"
   ]
  },
  {
   "cell_type": "code",
   "execution_count": 6,
   "metadata": {
    "collapsed": false,
    "scrolled": true
   },
   "outputs": [],
   "source": [
    "#our period of study ends 2014-01-01\n",
    "data['NOW'] = dt.datetime(2014,1,1)"
   ]
  },
  {
   "cell_type": "code",
   "execution_count": 7,
   "metadata": {
    "collapsed": false
   },
   "outputs": [],
   "source": [
    "data['Recency'] = data['departure_date_leg']\n",
    "data['First'] = data['departure_date_leg'] - data['date_of_birth']\n",
    "data['age'] = data['NOW'] - data['departure_date_leg']\n",
    "#the output will be timedelta64"
   ]
  },
  {
   "cell_type": "code",
   "execution_count": 8,
   "metadata": {
    "collapsed": false
   },
   "outputs": [],
   "source": [
    "#we transform timedelta64 into an integer in days\n",
    "fun = lambda x : x.days\n",
    "\n",
    "data['First'] = data['First'].apply(fun)\n",
    "data['age'] = data['age'].apply(fun)"
   ]
  },
  {
   "cell_type": "code",
   "execution_count": 11,
   "metadata": {
    "collapsed": false
   },
   "outputs": [
    {
     "data": {
      "text/plain": [
       "0    21315\n",
       "1    21316\n",
       "Name: First, dtype: int64"
      ]
     },
     "execution_count": 11,
     "metadata": {},
     "output_type": "execute_result"
    }
   ],
   "source": [
    "data['First'].head(2)"
   ]
  },
  {
   "cell_type": "code",
   "execution_count": 12,
   "metadata": {
    "collapsed": false
   },
   "outputs": [],
   "source": [
    "rfmTable = data.groupby(['document_number']).agg({'Recency': lambda x: (x.max() - x.min()), \n",
    "                                                   'route': lambda x: len(x),  \n",
    "                                                    'age': lambda x:  x.max(),\n",
    "                                                  'revenue_amount_seg': lambda x: x.sum()\n",
    "                                                                                               })"
   ]
  },
  {
   "cell_type": "code",
   "execution_count": 13,
   "metadata": {
    "collapsed": true
   },
   "outputs": [],
   "source": [
    "#change the names of the columns to adapt them to the lifetimes model\n",
    "rfmTable.rename(columns={'Recency': 'R',\n",
    "                         'route': 'F', \n",
    "                         'age': 'T', \n",
    "                         'revenue_amount_seg': 'M'}, inplace=True)"
   ]
  },
  {
   "cell_type": "code",
   "execution_count": 14,
   "metadata": {
    "collapsed": false
   },
   "outputs": [
    {
     "data": {
      "text/html": [
       "<div>\n",
       "<table border=\"1\" class=\"dataframe\">\n",
       "  <thead>\n",
       "    <tr style=\"text-align: right;\">\n",
       "      <th></th>\n",
       "      <th>F</th>\n",
       "      <th>R</th>\n",
       "      <th>T</th>\n",
       "      <th>M</th>\n",
       "    </tr>\n",
       "    <tr>\n",
       "      <th>document_number</th>\n",
       "      <th></th>\n",
       "      <th></th>\n",
       "      <th></th>\n",
       "      <th></th>\n",
       "    </tr>\n",
       "  </thead>\n",
       "  <tbody>\n",
       "    <tr>\n",
       "      <th>000005678</th>\n",
       "      <td>4</td>\n",
       "      <td>8 days</td>\n",
       "      <td>92</td>\n",
       "      <td>2900.00</td>\n",
       "    </tr>\n",
       "    <tr>\n",
       "      <th>00000S942</th>\n",
       "      <td>4</td>\n",
       "      <td>60 days</td>\n",
       "      <td>181</td>\n",
       "      <td>212.96</td>\n",
       "    </tr>\n",
       "    <tr>\n",
       "      <th>00002BO36</th>\n",
       "      <td>19</td>\n",
       "      <td>313 days</td>\n",
       "      <td>348</td>\n",
       "      <td>7090.58</td>\n",
       "    </tr>\n",
       "    <tr>\n",
       "      <th>00003BJ30</th>\n",
       "      <td>1</td>\n",
       "      <td>0 days</td>\n",
       "      <td>11</td>\n",
       "      <td>210.64</td>\n",
       "    </tr>\n",
       "    <tr>\n",
       "      <th>00003BO60</th>\n",
       "      <td>2</td>\n",
       "      <td>3 days</td>\n",
       "      <td>211</td>\n",
       "      <td>55.00</td>\n",
       "    </tr>\n",
       "    <tr>\n",
       "      <th>00004BQ89</th>\n",
       "      <td>2</td>\n",
       "      <td>2 days</td>\n",
       "      <td>266</td>\n",
       "      <td>0.00</td>\n",
       "    </tr>\n",
       "    <tr>\n",
       "      <th>00005BH10</th>\n",
       "      <td>12</td>\n",
       "      <td>89 days</td>\n",
       "      <td>352</td>\n",
       "      <td>2363.00</td>\n",
       "    </tr>\n",
       "    <tr>\n",
       "      <th>00005Y755</th>\n",
       "      <td>4</td>\n",
       "      <td>15 days</td>\n",
       "      <td>188</td>\n",
       "      <td>1076.40</td>\n",
       "    </tr>\n",
       "    <tr>\n",
       "      <th>00007BP32</th>\n",
       "      <td>3</td>\n",
       "      <td>12 days</td>\n",
       "      <td>83</td>\n",
       "      <td>624.35</td>\n",
       "    </tr>\n",
       "    <tr>\n",
       "      <th>00008BI10</th>\n",
       "      <td>2</td>\n",
       "      <td>7 days</td>\n",
       "      <td>113</td>\n",
       "      <td>71.00</td>\n",
       "    </tr>\n",
       "  </tbody>\n",
       "</table>\n",
       "</div>"
      ],
      "text/plain": [
       "                  F        R    T        M\n",
       "document_number                           \n",
       "000005678         4   8 days   92  2900.00\n",
       "00000S942         4  60 days  181   212.96\n",
       "00002BO36        19 313 days  348  7090.58\n",
       "00003BJ30         1   0 days   11   210.64\n",
       "00003BO60         2   3 days  211    55.00\n",
       "00004BQ89         2   2 days  266     0.00\n",
       "00005BH10        12  89 days  352  2363.00\n",
       "00005Y755         4  15 days  188  1076.40\n",
       "00007BP32         3  12 days   83   624.35\n",
       "00008BI10         2   7 days  113    71.00"
      ]
     },
     "execution_count": 14,
     "metadata": {},
     "output_type": "execute_result"
    }
   ],
   "source": [
    "rfmTable.head(10)"
   ]
  },
  {
   "cell_type": "markdown",
   "metadata": {},
   "source": [
    "R stands for recency.\n",
    "\n",
    "F is the number of repeat purchases on an specific route that the customer has made (commonly called frequency). \n",
    "\n",
    "T is the duration between a customer's first purchase and the end of the period under study.\n",
    "\n",
    "M is the economic value of each transaction that will be used in a second model for estimating the customer's lifetime value."
   ]
  },
  {
   "cell_type": "code",
   "execution_count": 17,
   "metadata": {
    "collapsed": false,
    "scrolled": true
   },
   "outputs": [
    {
     "data": {
      "text/html": [
       "<div>\n",
       "<table border=\"1\" class=\"dataframe\">\n",
       "  <thead>\n",
       "    <tr style=\"text-align: right;\">\n",
       "      <th></th>\n",
       "      <th>F</th>\n",
       "      <th>R</th>\n",
       "      <th>T</th>\n",
       "      <th>M</th>\n",
       "    </tr>\n",
       "    <tr>\n",
       "      <th>document_number</th>\n",
       "      <th></th>\n",
       "      <th></th>\n",
       "      <th></th>\n",
       "      <th></th>\n",
       "    </tr>\n",
       "  </thead>\n",
       "  <tbody>\n",
       "    <tr>\n",
       "      <th>000005678</th>\n",
       "      <td>4</td>\n",
       "      <td>8</td>\n",
       "      <td>92</td>\n",
       "      <td>2900.00</td>\n",
       "    </tr>\n",
       "    <tr>\n",
       "      <th>00000S942</th>\n",
       "      <td>4</td>\n",
       "      <td>60</td>\n",
       "      <td>181</td>\n",
       "      <td>212.96</td>\n",
       "    </tr>\n",
       "    <tr>\n",
       "      <th>00002BO36</th>\n",
       "      <td>19</td>\n",
       "      <td>313</td>\n",
       "      <td>348</td>\n",
       "      <td>7090.58</td>\n",
       "    </tr>\n",
       "    <tr>\n",
       "      <th>00003BJ30</th>\n",
       "      <td>1</td>\n",
       "      <td>0</td>\n",
       "      <td>11</td>\n",
       "      <td>210.64</td>\n",
       "    </tr>\n",
       "    <tr>\n",
       "      <th>00003BO60</th>\n",
       "      <td>2</td>\n",
       "      <td>3</td>\n",
       "      <td>211</td>\n",
       "      <td>55.00</td>\n",
       "    </tr>\n",
       "    <tr>\n",
       "      <th>00004BQ89</th>\n",
       "      <td>2</td>\n",
       "      <td>2</td>\n",
       "      <td>266</td>\n",
       "      <td>0.00</td>\n",
       "    </tr>\n",
       "    <tr>\n",
       "      <th>00005BH10</th>\n",
       "      <td>12</td>\n",
       "      <td>89</td>\n",
       "      <td>352</td>\n",
       "      <td>2363.00</td>\n",
       "    </tr>\n",
       "    <tr>\n",
       "      <th>00005Y755</th>\n",
       "      <td>4</td>\n",
       "      <td>15</td>\n",
       "      <td>188</td>\n",
       "      <td>1076.40</td>\n",
       "    </tr>\n",
       "    <tr>\n",
       "      <th>00007BP32</th>\n",
       "      <td>3</td>\n",
       "      <td>12</td>\n",
       "      <td>83</td>\n",
       "      <td>624.35</td>\n",
       "    </tr>\n",
       "    <tr>\n",
       "      <th>00008BI10</th>\n",
       "      <td>2</td>\n",
       "      <td>7</td>\n",
       "      <td>113</td>\n",
       "      <td>71.00</td>\n",
       "    </tr>\n",
       "  </tbody>\n",
       "</table>\n",
       "</div>"
      ],
      "text/plain": [
       "                  F    R    T        M\n",
       "document_number                       \n",
       "000005678         4    8   92  2900.00\n",
       "00000S942         4   60  181   212.96\n",
       "00002BO36        19  313  348  7090.58\n",
       "00003BJ30         1    0   11   210.64\n",
       "00003BO60         2    3  211    55.00\n",
       "00004BQ89         2    2  266     0.00\n",
       "00005BH10        12   89  352  2363.00\n",
       "00005Y755         4   15  188  1076.40\n",
       "00007BP32         3   12   83   624.35\n",
       "00008BI10         2    7  113    71.00"
      ]
     },
     "execution_count": 17,
     "metadata": {},
     "output_type": "execute_result"
    }
   ],
   "source": [
    "rfmTable.head(10)"
   ]
  },
  {
   "cell_type": "markdown",
   "metadata": {},
   "source": [
    "We introduce the variables into the BetaGeoFitter model to predict the next purchase"
   ]
  },
  {
   "cell_type": "code",
   "execution_count": 18,
   "metadata": {
    "collapsed": false
   },
   "outputs": [
    {
     "name": "stdout",
     "output_type": "stream",
     "text": [
      "<lifetimes.BetaGeoFitter: fitted with 175333 subjects, a: 1.61, alpha: 0.00, b: 3.97, r: 0.08>\n"
     ]
    }
   ],
   "source": [
    "from lifetimes import BetaGeoFitter \n",
    "bgf = BetaGeoFitter()\n",
    "bgf.fit(rfmTable['F'], rfmTable['R'], rfmTable['T'])\n",
    "print bgf"
   ]
  },
  {
   "cell_type": "code",
   "execution_count": 15,
   "metadata": {
    "collapsed": false
   },
   "outputs": [
    {
     "name": "stderr",
     "output_type": "stream",
     "text": [
      "//anaconda/lib/python2.7/site-packages/lifetimes/estimation.py:685: RuntimeWarning: overflow encountered in double_scalars\n",
      "  denominator = 1 + (x > 0) * (a / (b + x - 1)) * ((alpha + T) / (alpha + recency)) ** (r + x)\n"
     ]
    },
    {
     "data": {
      "text/plain": [
       "<matplotlib.axes._subplots.AxesSubplot at 0x11567db50>"
      ]
     },
     "execution_count": 15,
     "metadata": {},
     "output_type": "execute_result"
    },
    {
     "data": {
      "image/png": "[encoded data removed]",
      "text/plain": [
       "<matplotlib.figure.Figure at 0x117c58310>"
      ]
     },
     "metadata": {},
     "output_type": "display_data"
    }
   ],
   "source": [
    "from lifetimes.plotting import plot_frequency_recency_matrix\n",
    "plot_frequency_recency_matrix(bgf)"
   ]
  },
  {
   "cell_type": "markdown",
   "metadata": {},
   "source": [
    "We can see above the Frecuency-Recency Matrix. \n",
    "The results show that that if an airline customer has bought flights more than 50 times from you, and his latest purchase was when he was 355 days old, then he is your best customer (bottom-right, yellow area): they are about to make a purchase. \n",
    "Our coldest airline customers are those that are in the top-right corner, because they bought a lot quickly but they haven't bought again in the period (if they have made only 1 purchase, the value for recency is 0)"
   ]
  },
  {
   "cell_type": "markdown",
   "metadata": {},
   "source": [
    "This matrix shows the probability of still being alive:"
   ]
  },
  {
   "cell_type": "code",
   "execution_count": 20,
   "metadata": {
    "collapsed": false
   },
   "outputs": [
    {
     "data": {
      "text/plain": [
       "<matplotlib.axes._subplots.AxesSubplot at 0x119458f50>"
      ]
     },
     "execution_count": 20,
     "metadata": {},
     "output_type": "execute_result"
    },
    {
     "data": {
      "image/png": "[encoded data removed]",
      "text/plain": [
       "<matplotlib.figure.Figure at 0x11c1f0d90>"
      ]
     },
     "metadata": {},
     "output_type": "display_data"
    }
   ],
   "source": [
    "from lifetimes.plotting import plot_probability_alive_matrix\n",
    "\n",
    "plot_probability_alive_matrix(bgf)"
   ]
  },
  {
   "cell_type": "markdown",
   "metadata": {},
   "source": [
    "The next table shows a rank from the highest expected purchases in the next period to the lowest. Models expose a method that will predict a customer's expected purchases in the next period using their history.\n",
    "\n"
   ]
  },
  {
   "cell_type": "code",
   "execution_count": 21,
   "metadata": {
    "collapsed": false
   },
   "outputs": [
    {
     "name": "stderr",
     "output_type": "stream",
     "text": [
      "//anaconda/lib/python2.7/site-packages/lifetimes/estimation.py:685: RuntimeWarning: overflow encountered in double_scalars\n",
      "  denominator = 1 + (x > 0) * (a / (b + x - 1)) * ((alpha + T) / (alpha + recency)) ** (r + x)\n",
      "/anaconda/lib/python2.7/site-packages/ipykernel/__main__.py:3: FutureWarning: sort(columns=....) is deprecated, use sort_values(by=.....)\n",
      "  app.launch_new_instance()\n"
     ]
    },
    {
     "data": {
      "text/html": [
       "<div>\n",
       "<table border=\"1\" class=\"dataframe\">\n",
       "  <thead>\n",
       "    <tr style=\"text-align: right;\">\n",
       "      <th></th>\n",
       "      <th>F</th>\n",
       "      <th>R</th>\n",
       "      <th>T</th>\n",
       "      <th>M</th>\n",
       "      <th>predicted_purchases</th>\n",
       "    </tr>\n",
       "    <tr>\n",
       "      <th>document_number</th>\n",
       "      <th></th>\n",
       "      <th></th>\n",
       "      <th></th>\n",
       "      <th></th>\n",
       "      <th></th>\n",
       "    </tr>\n",
       "  </thead>\n",
       "  <tbody>\n",
       "    <tr>\n",
       "      <th>79289FW64</th>\n",
       "      <td>4</td>\n",
       "      <td>4</td>\n",
       "      <td>5</td>\n",
       "      <td>771.69</td>\n",
       "      <td>0.478816</td>\n",
       "    </tr>\n",
       "    <tr>\n",
       "      <th>67123FT17</th>\n",
       "      <td>4</td>\n",
       "      <td>4</td>\n",
       "      <td>5</td>\n",
       "      <td>1028.91</td>\n",
       "      <td>0.478816</td>\n",
       "    </tr>\n",
       "    <tr>\n",
       "      <th>79280FW64</th>\n",
       "      <td>4</td>\n",
       "      <td>4</td>\n",
       "      <td>5</td>\n",
       "      <td>771.69</td>\n",
       "      <td>0.478816</td>\n",
       "    </tr>\n",
       "    <tr>\n",
       "      <th>48365148</th>\n",
       "      <td>4</td>\n",
       "      <td>2</td>\n",
       "      <td>3</td>\n",
       "      <td>33.00</td>\n",
       "      <td>0.541439</td>\n",
       "    </tr>\n",
       "    <tr>\n",
       "      <th>45625BJ17</th>\n",
       "      <td>5</td>\n",
       "      <td>2</td>\n",
       "      <td>3</td>\n",
       "      <td>600.00</td>\n",
       "      <td>0.569968</td>\n",
       "    </tr>\n",
       "  </tbody>\n",
       "</table>\n",
       "</div>"
      ],
      "text/plain": [
       "                 F  R  T        M  predicted_purchases\n",
       "document_number                                       \n",
       "79289FW64        4  4  5   771.69             0.478816\n",
       "67123FT17        4  4  5  1028.91             0.478816\n",
       "79280FW64        4  4  5   771.69             0.478816\n",
       "48365148         4  2  3    33.00             0.541439\n",
       "45625BJ17        5  2  3   600.00             0.569968"
      ]
     },
     "execution_count": 21,
     "metadata": {},
     "output_type": "execute_result"
    }
   ],
   "source": [
    "t = 1\n",
    "rfmTable['predicted_purchases'] = rfmTable.apply(lambda r: bgf.conditional_expected_number_of_purchases_up_to_time(t, r['F'], r['R'], r['T']), axis=1)\n",
    "rfmTable.sort('predicted_purchases').tail(5)"
   ]
  },
  {
   "cell_type": "markdown",
   "metadata": {},
   "source": [
    "Finally, the grafic below compares our data against artifical data simulated with our fitted model's parameters.\n",
    "We can see that our actual data and the simulated data didnt line up well. Our model is not as good as we expected."
   ]
  },
  {
   "cell_type": "code",
   "execution_count": 23,
   "metadata": {
    "collapsed": false
   },
   "outputs": [
    {
     "data": {
      "text/plain": [
       "<matplotlib.axes._subplots.AxesSubplot at 0x11b4fb390>"
      ]
     },
     "execution_count": 23,
     "metadata": {},
     "output_type": "execute_result"
    },
    {
     "data": {
      "image/png": "[encoded data removed]",
      "text/plain": [
       "<matplotlib.figure.Figure at 0x117c90d50>"
      ]
     },
     "metadata": {},
     "output_type": "display_data"
    }
   ],
   "source": [
    "from lifetimes.plotting import plot_period_transactions\n",
    "plot_period_transactions(bgf)"
   ]
  },
  {
   "cell_type": "markdown",
   "metadata": {},
   "source": [
    "Based on customer history, we can predict what an individuals future purchases might look like:"
   ]
  },
  {
   "cell_type": "code",
   "execution_count": 24,
   "metadata": {
    "collapsed": false,
    "scrolled": true
   },
   "outputs": [
    {
     "data": {
      "text/plain": [
       "document_number\n",
       "000005678     8.583218e-05\n",
       "00000S942     1.005127e-02\n",
       "00002BO36     3.466812e-01\n",
       "00003BJ30    2.067995e-149\n",
       "00003BO60     4.261204e-05\n",
       "dtype: float64"
      ]
     },
     "execution_count": 24,
     "metadata": {},
     "output_type": "execute_result"
    }
   ],
   "source": [
    "t = 10 #predict purchases in 10 periods\n",
    "# The below function is an alias to `bfg.conditional_expected_number_of_purchases_up_to_time`\n",
    "bgf.predict(t, rfmTable['F'], rfmTable['R'], rfmTable['T']).head()"
   ]
  },
  {
   "cell_type": "code",
   "execution_count": 25,
   "metadata": {
    "collapsed": true
   },
   "outputs": [],
   "source": [
    "from lifetimes.datasets import load_cdnow_summary_data_with_monetary_value"
   ]
  },
  {
   "cell_type": "markdown",
   "metadata": {},
   "source": [
    "## Estimating Customers' Lifetime Value"
   ]
  },
  {
   "cell_type": "markdown",
   "metadata": {},
   "source": [
    "Until now we haven't taken into account the economic value of each transaction and we focused mainly on transactions' occurrences. \n",
    "\n",
    "To estimate the economic value of each transaction we can use the Gamma-Gamma submodel. "
   ]
  },
  {
   "cell_type": "code",
   "execution_count": 26,
   "metadata": {
    "collapsed": false
   },
   "outputs": [
    {
     "name": "stdout",
     "output_type": "stream",
     "text": [
      "             frequency  recency      T  monetary_value\n",
      "customer_id                                           \n",
      "1                    2    30.43  38.86           22.35\n",
      "2                    1     1.71  38.86           11.77\n",
      "6                    7    29.43  38.86           73.74\n",
      "7                    1     5.00  38.86           11.77\n",
      "9                    2    35.71  38.86           25.55\n"
     ]
    }
   ],
   "source": [
    "#First we need to create summary data from transactional data also containing economic values for each transaction.\n",
    "summary_with_money_value = load_cdnow_summary_data_with_monetary_value()\n",
    "summary_with_money_value.head()\n",
    "returning_customers_summary = summary_with_money_value[summary_with_money_value['frequency']>0]\n",
    "\n",
    "print(returning_customers_summary.head())"
   ]
  },
  {
   "cell_type": "markdown",
   "metadata": {},
   "source": [
    "The Gamma-Gamma submodel assumes that there is no relationship between the monetary value and the purchase frequency. In practice we need to check whether the Pearson correlation between the two vectors is close to 0 in order to use this model."
   ]
  },
  {
   "cell_type": "code",
   "execution_count": 27,
   "metadata": {
    "collapsed": false,
    "scrolled": true
   },
   "outputs": [
    {
     "data": {
      "text/html": [
       "<div>\n",
       "<table border=\"1\" class=\"dataframe\">\n",
       "  <thead>\n",
       "    <tr style=\"text-align: right;\">\n",
       "      <th></th>\n",
       "      <th>monetary_value</th>\n",
       "      <th>frequency</th>\n",
       "    </tr>\n",
       "  </thead>\n",
       "  <tbody>\n",
       "    <tr>\n",
       "      <th>monetary_value</th>\n",
       "      <td>1.000000</td>\n",
       "      <td>0.113884</td>\n",
       "    </tr>\n",
       "    <tr>\n",
       "      <th>frequency</th>\n",
       "      <td>0.113884</td>\n",
       "      <td>1.000000</td>\n",
       "    </tr>\n",
       "  </tbody>\n",
       "</table>\n",
       "</div>"
      ],
      "text/plain": [
       "                monetary_value  frequency\n",
       "monetary_value        1.000000   0.113884\n",
       "frequency             0.113884   1.000000"
      ]
     },
     "execution_count": 27,
     "metadata": {},
     "output_type": "execute_result"
    }
   ],
   "source": [
    "returning_customers_summary[['monetary_value', 'frequency']].corr()"
   ]
  },
  {
   "cell_type": "markdown",
   "metadata": {},
   "source": [
    "We can train our Gamma-Gamma submodel and predict the conditional, expected average lifetime value of our customers."
   ]
  },
  {
   "cell_type": "code",
   "execution_count": 28,
   "metadata": {
    "collapsed": false
   },
   "outputs": [
    {
     "name": "stdout",
     "output_type": "stream",
     "text": [
      "<lifetimes.GammaGammaFitter: fitted with 946 subjects, p: 6.25, q: 3.74, v: 15.45>\n"
     ]
    }
   ],
   "source": [
    "from lifetimes import GammaGammaFitter\n",
    "\n",
    "ggf = GammaGammaFitter(penalizer_coef = 0)\n",
    "ggf.fit(returning_customers_summary['frequency'],\n",
    "        returning_customers_summary['monetary_value'])\n",
    "print(ggf)"
   ]
  },
  {
   "cell_type": "markdown",
   "metadata": {},
   "source": [
    "We can now estimate the average transaction value:"
   ]
  },
  {
   "cell_type": "code",
   "execution_count": 30,
   "metadata": {
    "collapsed": false
   },
   "outputs": [
    {
     "name": "stdout",
     "output_type": "stream",
     "text": [
      "customer_id\n",
      "1     24.658622\n",
      "2     18.911496\n",
      "3     35.170995\n",
      "4     35.170995\n",
      "5     35.170995\n",
      "6     71.462842\n",
      "7     18.911496\n",
      "8     35.170995\n",
      "9     27.282412\n",
      "10    35.170995\n",
      "dtype: float64\n"
     ]
    }
   ],
   "source": [
    "print(ggf.conditional_expected_average_profit(\n",
    "        summary_with_money_value['frequency'],\n",
    "        summary_with_money_value['monetary_value']).head(10))"
   ]
  },
  {
   "cell_type": "code",
   "execution_count": 31,
   "metadata": {
    "collapsed": false
   },
   "outputs": [
    {
     "name": "stdout",
     "output_type": "stream",
     "text": [
      "Expected conditional average profit: 35.2529536057, Average profit: 35.078551797\n"
     ]
    }
   ],
   "source": [
    "print(\"Expected conditional average profit: %s, Average profit: %s\" % (\n",
    "    ggf.conditional_expected_average_profit(\n",
    "        summary_with_money_value['frequency'],\n",
    "        summary_with_money_value['monetary_value']\n",
    "    ).mean(),\n",
    "    summary_with_money_value[summary_with_money_value['frequency']>0]['monetary_value'].mean()))"
   ]
  }
 ],
 "metadata": {
  "kernelspec": {
   "display_name": "Python 2",
   "language": "python",
   "name": "python2"
  },
  "language_info": {
   "codemirror_mode": {
    "name": "ipython",
    "version": 2
   },
   "file_extension": ".py",
   "mimetype": "text/x-python",
   "name": "python",
   "nbconvert_exporter": "python",
   "pygments_lexer": "ipython2",
   "version": "2.7.13"
  }
 },
 "nbformat": 4,
 "nbformat_minor": 2
}
