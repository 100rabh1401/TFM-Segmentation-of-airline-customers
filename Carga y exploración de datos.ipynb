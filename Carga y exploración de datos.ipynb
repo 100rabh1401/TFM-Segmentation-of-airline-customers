{
 "cells": [
  {
   "cell_type": "code",
   "execution_count": 1,
   "metadata": {
    "collapsed": false
   },
   "outputs": [
    {
     "data": {
      "text/plain": [
       "u'/home/dsc/TFM'"
      ]
     },
     "execution_count": 1,
     "metadata": {},
     "output_type": "execute_result"
    }
   ],
   "source": [
    "pwd"
   ]
  },
  {
   "cell_type": "code",
   "execution_count": 2,
   "metadata": {
    "collapsed": false
   },
   "outputs": [
    {
     "data": {
      "text/plain": [
       "<pyspark.context.SparkContext at 0x7f9bf7c0fd50>"
      ]
     },
     "execution_count": 2,
     "metadata": {},
     "output_type": "execute_result"
    }
   ],
   "source": [
    "sc"
   ]
  },
  {
   "cell_type": "code",
   "execution_count": 3,
   "metadata": {
    "collapsed": true
   },
   "outputs": [],
   "source": [
    "dataRaw = sc.textFile('marketing_pax.csv')"
   ]
  },
  {
   "cell_type": "code",
   "execution_count": 5,
   "metadata": {
    "collapsed": true
   },
   "outputs": [
    {
     "data": {
      "text/plain": [
       "[u'rloc^full_name^gender^age^date_of_birth^document_type^document_number^document_country^nationality^fqtv_data^general_status^boarding_status^acceptance_status^bag_status^customer_accepted^checkin_location^boarded_in_all_legs_flag^cabin_code^booking_class_code^airline_code^flight_number^departure_date_leg^quality_index^creation_date^advance_purchase^creator_office_id^creator_iata_number^creator_gds_code^creator_city_code^creator_lat^creator_lon^creator_country_code^creator_continent_name^creator_channel_code^booking_status_code^cabin_code_seg^booking_class_code_seg^pos_office_id^pos_iata_number^pos_gds_code^pos_city_code^pos_lat^pos_lon^pos_country_code^pos_continent_code^pos_channel_code^board_point^board_lat^board_lon^board_country_code^board_continent_code^off_point^off_lat^off_lon^off_country_code^off_continent_code^distance_seg^route^network^airline_code_seg^flight_number_seg^flight_type^revenue_amount_seg^emd_count^emd_amount^fuel_surcharge_amount_seg',\n",
       " u'60Z666^/MUZASDQUE^F^^^^^^^016037921MK/BXGE/^FD^CL^FI^IG^CAC^W^true^Y^W^XX^2075^2013-06-23^0.50^2015-05-03^49^LEUXXMM42^56495383^XX^LEU^42.338611^1.409167^ES^Europe^E^HK^Y^W^LEUXXMM42^56495383^M5^LEU^42.338611^1.409167^ES^Europe^E^MRV^44.21028^43.13528^RU^Europe^BRU^50.85045^4.34878^BE^Europe^2967.076044145874^BRU-MRV^Europe^XX^2075^I^0.00^^^42.00']"
      ]
     },
     "execution_count": 5,
     "metadata": {},
     "output_type": "execute_result"
    }
   ],
   "source": [
    "dataRaw.take(2)"
   ]
  },
  {
   "cell_type": "code",
   "execution_count": 6,
   "metadata": {
    "collapsed": true
   },
   "outputs": [],
   "source": [
    "from pyspark.sql import *"
   ]
  },
  {
   "cell_type": "code",
   "execution_count": 7,
   "metadata": {
    "collapsed": true
   },
   "outputs": [],
   "source": [
    "df = sqlContext.read.csv('marketing_pax.csv', header=True, sep='^', inferSchema=True)"
   ]
  },
  {
   "cell_type": "code",
   "execution_count": 8,
   "metadata": {
    "collapsed": true
   },
   "outputs": [
    {
     "data": {
      "text/plain": [
       "[('rloc', 'string'),\n",
       " ('full_name', 'string'),\n",
       " ('gender', 'string'),\n",
       " ('age', 'int'),\n",
       " ('date_of_birth', 'timestamp'),\n",
       " ('document_type', 'string'),\n",
       " ('document_number', 'string'),\n",
       " ('document_country', 'string'),\n",
       " ('nationality', 'string'),\n",
       " ('fqtv_data', 'string'),\n",
       " ('general_status', 'string'),\n",
       " ('boarding_status', 'string'),\n",
       " ('acceptance_status', 'string'),\n",
       " ('bag_status', 'string'),\n",
       " ('customer_accepted', 'string'),\n",
       " ('checkin_location', 'string'),\n",
       " ('boarded_in_all_legs_flag', 'boolean'),\n",
       " ('cabin_code', 'string'),\n",
       " ('booking_class_code', 'string'),\n",
       " ('airline_code', 'string'),\n",
       " ('flight_number', 'string'),\n",
       " ('departure_date_leg', 'timestamp'),\n",
       " ('quality_index', 'double'),\n",
       " ('creation_date', 'timestamp'),\n",
       " ('advance_purchase', 'int'),\n",
       " ('creator_office_id', 'string'),\n",
       " ('creator_iata_number', 'int'),\n",
       " ('creator_gds_code', 'string'),\n",
       " ('creator_city_code', 'string'),\n",
       " ('creator_lat', 'double'),\n",
       " ('creator_lon', 'double'),\n",
       " ('creator_country_code', 'string'),\n",
       " ('creator_continent_name', 'string'),\n",
       " ('creator_channel_code', 'string'),\n",
       " ('booking_status_code', 'string'),\n",
       " ('cabin_code_seg', 'string'),\n",
       " ('booking_class_code_seg', 'string'),\n",
       " ('pos_office_id', 'string'),\n",
       " ('pos_iata_number', 'int'),\n",
       " ('pos_gds_code', 'string'),\n",
       " ('pos_city_code', 'string'),\n",
       " ('pos_lat', 'double'),\n",
       " ('pos_lon', 'double'),\n",
       " ('pos_country_code', 'string'),\n",
       " ('pos_continent_code', 'string'),\n",
       " ('pos_channel_code', 'string'),\n",
       " ('board_point', 'string'),\n",
       " ('board_lat', 'double'),\n",
       " ('board_lon', 'double'),\n",
       " ('board_country_code', 'string'),\n",
       " ('board_continent_code', 'string'),\n",
       " ('off_point', 'string'),\n",
       " ('off_lat', 'double'),\n",
       " ('off_lon', 'double'),\n",
       " ('off_country_code', 'string'),\n",
       " ('off_continent_code', 'string'),\n",
       " ('distance_seg', 'double'),\n",
       " ('route', 'string'),\n",
       " ('network', 'string'),\n",
       " ('airline_code_seg', 'string'),\n",
       " ('flight_number_seg', 'string'),\n",
       " ('flight_type', 'string'),\n",
       " ('revenue_amount_seg', 'double'),\n",
       " ('emd_count', 'int'),\n",
       " ('emd_amount', 'double'),\n",
       " ('fuel_surcharge_amount_seg', 'double')]"
      ]
     },
     "execution_count": 8,
     "metadata": {},
     "output_type": "execute_result"
    }
   ],
   "source": [
    "df.dtypes"
   ]
  },
  {
   "cell_type": "code",
   "execution_count": 9,
   "metadata": {
    "collapsed": false
   },
   "outputs": [
    {
     "data": {
      "text/plain": [
       "pyspark.sql.dataframe.DataFrame"
      ]
     },
     "execution_count": 9,
     "metadata": {},
     "output_type": "execute_result"
    }
   ],
   "source": [
    "type(df)"
   ]
  },
  {
   "cell_type": "code",
   "execution_count": 10,
   "metadata": {
    "collapsed": false
   },
   "outputs": [
    {
     "data": {
      "text/plain": [
       "9546302"
      ]
     },
     "execution_count": 10,
     "metadata": {},
     "output_type": "execute_result"
    }
   ],
   "source": [
    "df.count()"
   ]
  },
  {
   "cell_type": "code",
   "execution_count": 11,
   "metadata": {
    "collapsed": true
   },
   "outputs": [],
   "source": [
    "header = df.first()"
   ]
  },
  {
   "cell_type": "code",
   "execution_count": 12,
   "metadata": {
    "collapsed": true
   },
   "outputs": [
    {
     "name": "stdout",
     "output_type": "stream",
     "text": [
      "root\n",
      " |-- rloc: string (nullable = true)\n",
      " |-- full_name: string (nullable = true)\n",
      " |-- gender: string (nullable = true)\n",
      " |-- age: integer (nullable = true)\n",
      " |-- date_of_birth: timestamp (nullable = true)\n",
      " |-- document_type: string (nullable = true)\n",
      " |-- document_number: string (nullable = true)\n",
      " |-- document_country: string (nullable = true)\n",
      " |-- nationality: string (nullable = true)\n",
      " |-- fqtv_data: string (nullable = true)\n",
      " |-- general_status: string (nullable = true)\n",
      " |-- boarding_status: string (nullable = true)\n",
      " |-- acceptance_status: string (nullable = true)\n",
      " |-- bag_status: string (nullable = true)\n",
      " |-- customer_accepted: string (nullable = true)\n",
      " |-- checkin_location: string (nullable = true)\n",
      " |-- boarded_in_all_legs_flag: boolean (nullable = true)\n",
      " |-- cabin_code: string (nullable = true)\n",
      " |-- booking_class_code: string (nullable = true)\n",
      " |-- airline_code: string (nullable = true)\n",
      " |-- flight_number: string (nullable = true)\n",
      " |-- departure_date_leg: timestamp (nullable = true)\n",
      " |-- quality_index: double (nullable = true)\n",
      " |-- creation_date: timestamp (nullable = true)\n",
      " |-- advance_purchase: integer (nullable = true)\n",
      " |-- creator_office_id: string (nullable = true)\n",
      " |-- creator_iata_number: integer (nullable = true)\n",
      " |-- creator_gds_code: string (nullable = true)\n",
      " |-- creator_city_code: string (nullable = true)\n",
      " |-- creator_lat: double (nullable = true)\n",
      " |-- creator_lon: double (nullable = true)\n",
      " |-- creator_country_code: string (nullable = true)\n",
      " |-- creator_continent_name: string (nullable = true)\n",
      " |-- creator_channel_code: string (nullable = true)\n",
      " |-- booking_status_code: string (nullable = true)\n",
      " |-- cabin_code_seg: string (nullable = true)\n",
      " |-- booking_class_code_seg: string (nullable = true)\n",
      " |-- pos_office_id: string (nullable = true)\n",
      " |-- pos_iata_number: integer (nullable = true)\n",
      " |-- pos_gds_code: string (nullable = true)\n",
      " |-- pos_city_code: string (nullable = true)\n",
      " |-- pos_lat: double (nullable = true)\n",
      " |-- pos_lon: double (nullable = true)\n",
      " |-- pos_country_code: string (nullable = true)\n",
      " |-- pos_continent_code: string (nullable = true)\n",
      " |-- pos_channel_code: string (nullable = true)\n",
      " |-- board_point: string (nullable = true)\n",
      " |-- board_lat: double (nullable = true)\n",
      " |-- board_lon: double (nullable = true)\n",
      " |-- board_country_code: string (nullable = true)\n",
      " |-- board_continent_code: string (nullable = true)\n",
      " |-- off_point: string (nullable = true)\n",
      " |-- off_lat: double (nullable = true)\n",
      " |-- off_lon: double (nullable = true)\n",
      " |-- off_country_code: string (nullable = true)\n",
      " |-- off_continent_code: string (nullable = true)\n",
      " |-- distance_seg: double (nullable = true)\n",
      " |-- route: string (nullable = true)\n",
      " |-- network: string (nullable = true)\n",
      " |-- airline_code_seg: string (nullable = true)\n",
      " |-- flight_number_seg: string (nullable = true)\n",
      " |-- flight_type: string (nullable = true)\n",
      " |-- revenue_amount_seg: double (nullable = true)\n",
      " |-- emd_count: integer (nullable = true)\n",
      " |-- emd_amount: double (nullable = true)\n",
      " |-- fuel_surcharge_amount_seg: double (nullable = true)\n",
      "\n"
     ]
    }
   ],
   "source": [
    "df.printSchema()"
   ]
  },
  {
   "cell_type": "code",
   "execution_count": 13,
   "metadata": {
    "collapsed": true
   },
   "outputs": [
    {
     "name": "stdout",
     "output_type": "stream",
     "text": [
      "+------+-------------+------+----+-------------+-------------+---------------+----------------+-----------+-----------------+--------------+---------------+-----------------+----------+-----------------+----------------+------------------------+----------+------------------+------------+-------------+--------------------+-------------+--------------------+----------------+-----------------+-------------------+----------------+-----------------+-----------+-----------+--------------------+----------------------+--------------------+-------------------+--------------+----------------------+-------------+---------------+------------+-------------+---------+--------+----------------+------------------+----------------+-----------+---------+---------+------------------+--------------------+---------+--------+--------+----------------+------------------+-----------------+-------+-------+----------------+-----------------+-----------+------------------+---------+----------+-------------------------+\n",
      "|  rloc|    full_name|gender| age|date_of_birth|document_type|document_number|document_country|nationality|        fqtv_data|general_status|boarding_status|acceptance_status|bag_status|customer_accepted|checkin_location|boarded_in_all_legs_flag|cabin_code|booking_class_code|airline_code|flight_number|  departure_date_leg|quality_index|       creation_date|advance_purchase|creator_office_id|creator_iata_number|creator_gds_code|creator_city_code|creator_lat|creator_lon|creator_country_code|creator_continent_name|creator_channel_code|booking_status_code|cabin_code_seg|booking_class_code_seg|pos_office_id|pos_iata_number|pos_gds_code|pos_city_code|  pos_lat| pos_lon|pos_country_code|pos_continent_code|pos_channel_code|board_point|board_lat|board_lon|board_country_code|board_continent_code|off_point| off_lat| off_lon|off_country_code|off_continent_code|     distance_seg|  route|network|airline_code_seg|flight_number_seg|flight_type|revenue_amount_seg|emd_count|emd_amount|fuel_surcharge_amount_seg|\n",
      "+------+-------------+------+----+-------------+-------------+---------------+----------------+-----------+-----------------+--------------+---------------+-----------------+----------+-----------------+----------------+------------------------+----------+------------------+------------+-------------+--------------------+-------------+--------------------+----------------+-----------------+-------------------+----------------+-----------------+-----------+-----------+--------------------+----------------------+--------------------+-------------------+--------------+----------------------+-------------+---------------+------------+-------------+---------+--------+----------------+------------------+----------------+-----------+---------+---------+------------------+--------------------+---------+--------+--------+----------------+------------------+-----------------+-------+-------+----------------+-----------------+-----------+------------------+---------+----------+-------------------------+\n",
      "|60Z666|   /MUZASDQUE|     F|null|         null|         null|           null|            null|       null|016037921MK/BXGE/|            FD|             CL|               FI|        IG|              CAC|               W|                    true|         Y|                 W|          XX|         2075|2013-06-23 00:00:...|          0.5|2015-05-03 00:00:...|              49|        LEUXXMM42|           56495383|              XX|              LEU|  42.338611|   1.409167|                  ES|                Europe|                   E|                 HK|             Y|                     W|    LEUXXMM42|       56495383|          M5|          LEU|42.338611|1.409167|              ES|            Europe|               E|        MRV| 44.21028| 43.13528|                RU|              Europe|      BRU|50.85045| 4.34878|              BE|            Europe|2967.076044145874|BRU-MRV| Europe|              XX|             2075|          I|               0.0|     null|      null|                     42.0|\n",
      "|612666|Z/MZFFUFGDGZQ|     M|null|         null|         null|           null|            null|       null|014452709MK/BXGE/|            FD|             CL|               FI|        IG|              CAC|            null|                    true|         Y|                 O|          XX|         9160|2014-04-01 00:00:...|          0.5|2016-03-23 00:00:...|               6|        LEUXXMM42|           56495383|              XX|              LEU|  42.338611|   1.409167|                  ES|                Europe|                   E|                 HK|             Y|                     O|    LEUXXMM42|       56495383|          44|          LEU|42.338611|1.409167|              ES|            Europe|               E|        BRU| 50.85045|  4.34878|                BE|              Europe|      LNZ|48.30639|14.28611|              AT|            Europe|769.5353415995593|BRU-LNZ| Europe|              XX|             9160|          I|             74.99|     null|      null|                    39.12|\n",
      "+------+-------------+------+----+-------------+-------------+---------------+----------------+-----------+-----------------+--------------+---------------+-----------------+----------+-----------------+----------------+------------------------+----------+------------------+------------+-------------+--------------------+-------------+--------------------+----------------+-----------------+-------------------+----------------+-----------------+-----------+-----------+--------------------+----------------------+--------------------+-------------------+--------------+----------------------+-------------+---------------+------------+-------------+---------+--------+----------------+------------------+----------------+-----------+---------+---------+------------------+--------------------+---------+--------+--------+----------------+------------------+-----------------+-------+-------+----------------+-----------------+-----------+------------------+---------+----------+-------------------------+\n",
      "only showing top 2 rows\n",
      "\n"
     ]
    }
   ],
   "source": [
    "df.show(2, truncate=True)"
   ]
  },
  {
   "cell_type": "code",
   "execution_count": 14,
   "metadata": {
    "collapsed": true
   },
   "outputs": [
    {
     "data": {
      "text/plain": [
       "(66,\n",
       " ['rloc',\n",
       "  'full_name',\n",
       "  'gender',\n",
       "  'age',\n",
       "  'date_of_birth',\n",
       "  'document_type',\n",
       "  'document_number',\n",
       "  'document_country',\n",
       "  'nationality',\n",
       "  'fqtv_data',\n",
       "  'general_status',\n",
       "  'boarding_status',\n",
       "  'acceptance_status',\n",
       "  'bag_status',\n",
       "  'customer_accepted',\n",
       "  'checkin_location',\n",
       "  'boarded_in_all_legs_flag',\n",
       "  'cabin_code',\n",
       "  'booking_class_code',\n",
       "  'airline_code',\n",
       "  'flight_number',\n",
       "  'departure_date_leg',\n",
       "  'quality_index',\n",
       "  'creation_date',\n",
       "  'advance_purchase',\n",
       "  'creator_office_id',\n",
       "  'creator_iata_number',\n",
       "  'creator_gds_code',\n",
       "  'creator_city_code',\n",
       "  'creator_lat',\n",
       "  'creator_lon',\n",
       "  'creator_country_code',\n",
       "  'creator_continent_name',\n",
       "  'creator_channel_code',\n",
       "  'booking_status_code',\n",
       "  'cabin_code_seg',\n",
       "  'booking_class_code_seg',\n",
       "  'pos_office_id',\n",
       "  'pos_iata_number',\n",
       "  'pos_gds_code',\n",
       "  'pos_city_code',\n",
       "  'pos_lat',\n",
       "  'pos_lon',\n",
       "  'pos_country_code',\n",
       "  'pos_continent_code',\n",
       "  'pos_channel_code',\n",
       "  'board_point',\n",
       "  'board_lat',\n",
       "  'board_lon',\n",
       "  'board_country_code',\n",
       "  'board_continent_code',\n",
       "  'off_point',\n",
       "  'off_lat',\n",
       "  'off_lon',\n",
       "  'off_country_code',\n",
       "  'off_continent_code',\n",
       "  'distance_seg',\n",
       "  'route',\n",
       "  'network',\n",
       "  'airline_code_seg',\n",
       "  'flight_number_seg',\n",
       "  'flight_type',\n",
       "  'revenue_amount_seg',\n",
       "  'emd_count',\n",
       "  'emd_amount',\n",
       "  'fuel_surcharge_amount_seg'])"
      ]
     },
     "execution_count": 14,
     "metadata": {},
     "output_type": "execute_result"
    }
   ],
   "source": [
    "len(df.columns), df.columns"
   ]
  },
  {
   "cell_type": "code",
   "execution_count": 15,
   "metadata": {
    "collapsed": false
   },
   "outputs": [
    {
     "name": "stdout",
     "output_type": "stream",
     "text": [
      "+-------+------------------+------------------+-----------------+--------------------+-----------------+------------------+--------------------+------------------+------------------+------------------+------------------+-----------------+------------------+------------------+------------------+------------------+------------------+-------------------------+\n",
      "|summary|               age|     quality_index| advance_purchase| creator_iata_number|      creator_lat|       creator_lon|     pos_iata_number|           pos_lat|           pos_lon|         board_lat|         board_lon|          off_lat|           off_lon|      distance_seg|revenue_amount_seg|         emd_count|        emd_amount|fuel_surcharge_amount_seg|\n",
      "+-------+------------------+------------------+-----------------+--------------------+-----------------+------------------+--------------------+------------------+------------------+------------------+------------------+-----------------+------------------+------------------+------------------+------------------+------------------+-------------------------+\n",
      "|  count|           3335052|           9546302|          9546302|             9249136|          9525262|           9525262|             9264331|           9264327|           9264327|           9546302|           9546302|          9546302|           9546302|           9546302|           9546302|            177751|            177751|                  9546302|\n",
      "|   mean| 42.07697631101404|0.5169295922127751|68.63792314552798| 5.406343615295137E7|44.59018355303139|16.263497789667024| 5.241787366254844E7|44.529521546440776|16.291648311900747|48.723756743255144|3.6247899363288476|48.97927558369365|3.8193380093163567|2414.7145095319834| 79.06644566345848|1.0384189118485971|27.530711782212382|        49.84016124674081|\n",
      "| stddev|18.453540328617056|0.2555025640891243| 72.3627782171629|2.1679453409615453E7|9.324865653355598| 38.27285830742958|2.3233347207665544E7| 9.232594428647936| 38.48504391786559| 9.355862482271744| 34.16707974053136|8.746335237940588| 32.07858563937365| 2520.835962367195|165.30218859970213|0.2268184804455995| 38.25303167729024|        65.70430557987943|\n",
      "|    min|                 2|               0.0|             -285|                   4|            -46.4|        -178.12511|                   4|             -46.4|        -178.12511|        -22.018431|           -135.33|       -22.018431|           -135.33|  93.9504865327442|               0.0|                 1|               0.0|                      0.0|\n",
      "|    max|               153|               1.0|             1055|            99999999|         78.22334|         176.24516|            99999999|          78.22334|         176.24516|          70.48385|         129.87361|          71.0357|         129.87361| 9299.449949999413|          61959.28|                10|            1763.0|                  56300.0|\n",
      "+-------+------------------+------------------+-----------------+--------------------+-----------------+------------------+--------------------+------------------+------------------+------------------+------------------+-----------------+------------------+------------------+------------------+------------------+------------------+-------------------------+\n",
      "\n"
     ]
    }
   ],
   "source": [
    "df.describe().show()"
   ]
  },
  {
   "cell_type": "code",
   "execution_count": null,
   "metadata": {
    "collapsed": true
   },
   "outputs": [],
   "source": [
    "df.select('gender','age').show(15)"
   ]
  }
 ],
 "metadata": {
  "kernelspec": {
   "display_name": "Python 2",
   "language": "python",
   "name": "python2"
  },
  "language_info": {
   "codemirror_mode": {
    "name": "ipython",
    "version": 2
   },
   "file_extension": ".py",
   "mimetype": "text/x-python",
   "name": "python",
   "nbconvert_exporter": "python",
   "pygments_lexer": "ipython2",
   "version": "2.7.11"
  }
 },
 "nbformat": 4,
 "nbformat_minor": 0
}
